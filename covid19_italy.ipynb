{
 "cells": [
  {
   "cell_type": "markdown",
   "metadata": {},
   "source": [
    "# Country Analysis - Italy"
   ]
  },
  {
   "cell_type": "markdown",
   "metadata": {},
   "source": [
    "The main goal of this analysis is to provide a visual and updated overview of the Covid-19 outbreak in Italy including:\n",
    "- Time trend overview on national level.\n",
    "- Overall numbers in a nutshell.\n",
    "- Analysis on regional level including insights on the four regios with the most active cases.\n",
    "- Time trend overview on Lombardy: the main hotbed of the Italian outbreak.\n",
    "\n",
    "The data is updated on daily basis."
   ]
  },
  {
   "cell_type": "code",
   "execution_count": 2,
   "metadata": {},
   "outputs": [],
   "source": [
    "import pandas as pd\n",
    "import matplotlib.pyplot as plt\n",
    "import matplotlib.dates as mdate\n",
    "%matplotlib inline\n",
    "import seaborn as sns\n",
    "import plotly.express as px\n",
    "from plotly.subplots import make_subplots\n",
    "import plotly.graph_objects as go\n",
    "import chart_studio.plotly as py\n",
    "import numpy as np\n",
    "import datetime as datetime\n",
    "from datetime import date, timedelta\n",
    "import requests\n",
    "import io\n",
    "import warnings"
   ]
  },
  {
   "cell_type": "markdown",
   "metadata": {},
   "source": [
    "## Data cleaning and formatting"
   ]
  },
  {
   "cell_type": "markdown",
   "metadata": {},
   "source": [
    "We define a function to get the raw data from the corresponding url and retruning it as a dataframe.\n",
    "<br>This function allows us to get the latest updates."
   ]
  },
  {
   "cell_type": "code",
   "execution_count": 3,
   "metadata": {},
   "outputs": [],
   "source": [
    "def get_raw_data(url):\n",
    "    req = requests.get(url).content\n",
    "    return pd.read_csv(io.StringIO(req.decode('utf-8')))"
   ]
  },
  {
   "cell_type": "markdown",
   "metadata": {},
   "source": [
    "Import the latest reports from the Presidenza del Consiglio dei Ministri - Dipartimento della Protezione Civile. \n",
    "<br>There are four datasets:\n",
    "1. da_national: National data (time series).\n",
    "2. da_region: Regional data (time series).\n",
    "3. da_daily_region: Latest daily data on regional level.\n",
    "4. da_province: Province data.\n",
    "\n",
    "<br>Date of the latest data to be gathered is yesterday to ensure the data is available as the files are updated daily at midnight. \n",
    "<br>We use the date variable \"ieri\" to build the urls dynamically. The date format used in the Italian repository differs from the one used by the CSSE at Johns Hopkins University, this is why we need to build it."
   ]
  },
  {
   "cell_type": "code",
   "execution_count": 4,
   "metadata": {},
   "outputs": [],
   "source": [
    "print_time = date.today() - timedelta(days=1)\n",
    "ieri = print_time.strftime(\"%Y%m%d\")\n",
    "print_time = print_time.strftime(\"%m/%d/%Y\")"
   ]
  },
  {
   "cell_type": "code",
   "execution_count": 5,
   "metadata": {},
   "outputs": [],
   "source": [
    "nat_url = \"https://raw.githubusercontent.com/pcm-dpc/COVID-19/master/dati-andamento-nazionale/dpc-covid19-ita-andamento-nazionale.csv\"\n",
    "reg_url = \"https://raw.githubusercontent.com/pcm-dpc/COVID-19/master/dati-regioni/dpc-covid19-ita-regioni.csv\"\n",
    "reg_daily_url = \"https://raw.githubusercontent.com/pcm-dpc/COVID-19/master/dati-regioni/dpc-covid19-ita-regioni-{}.csv\".format(ieri)\n",
    "prov_url = \"https://raw.githubusercontent.com/pcm-dpc/COVID-19/master/dati-province/dpc-covid19-ita-province.csv\" \n",
    "da_national = get_raw_data(nat_url)\n",
    "da_region = get_raw_data(reg_url)\n",
    "da_daily_region = get_raw_data(reg_daily_url)\n",
    "da_province = get_raw_data(prov_url)"
   ]
  },
  {
   "cell_type": "markdown",
   "metadata": {},
   "source": [
    "We rename the columns to translate them to English."
   ]
  },
  {
   "cell_type": "code",
   "execution_count": 6,
   "metadata": {},
   "outputs": [],
   "source": [
    "#da_national.columns"
   ]
  },
  {
   "cell_type": "code",
   "execution_count": 7,
   "metadata": {},
   "outputs": [
    {
     "data": {
      "text/html": [
       "<style  type=\"text/css\" >\n",
       "</style><table id=\"T_c0d13cc2_8160_11ea_968e_a45e60b8672d\" ><thead>    <tr>        <th class=\"col_heading level0 col0\" >timestamp</th>        <th class=\"col_heading level0 col1\" >state</th>        <th class=\"col_heading level0 col2\" >hospitalized with symptoms</th>        <th class=\"col_heading level0 col3\" >intensive care</th>        <th class=\"col_heading level0 col4\" >total hospitalized</th>        <th class=\"col_heading level0 col5\" >self-isolation</th>        <th class=\"col_heading level0 col6\" >total currently positive</th>        <th class=\"col_heading level0 col7\" >variation of total positive</th>        <th class=\"col_heading level0 col8\" >new positive</th>        <th class=\"col_heading level0 col9\" >recovered</th>        <th class=\"col_heading level0 col10\" >fatalities</th>        <th class=\"col_heading level0 col11\" >total positive</th>        <th class=\"col_heading level0 col12\" >total tested</th>        <th class=\"col_heading level0 col13\" >note_it</th>        <th class=\"col_heading level0 col14\" >note_en</th>    </tr></thead><tbody>\n",
       "                <tr>\n",
       "                                <td id=\"T_c0d13cc2_8160_11ea_968e_a45e60b8672drow0_col0\" class=\"data row0 col0\" >2020-02-24T18:00:00</td>\n",
       "                        <td id=\"T_c0d13cc2_8160_11ea_968e_a45e60b8672drow0_col1\" class=\"data row0 col1\" >ITA</td>\n",
       "                        <td id=\"T_c0d13cc2_8160_11ea_968e_a45e60b8672drow0_col2\" class=\"data row0 col2\" >101</td>\n",
       "                        <td id=\"T_c0d13cc2_8160_11ea_968e_a45e60b8672drow0_col3\" class=\"data row0 col3\" >26</td>\n",
       "                        <td id=\"T_c0d13cc2_8160_11ea_968e_a45e60b8672drow0_col4\" class=\"data row0 col4\" >127</td>\n",
       "                        <td id=\"T_c0d13cc2_8160_11ea_968e_a45e60b8672drow0_col5\" class=\"data row0 col5\" >94</td>\n",
       "                        <td id=\"T_c0d13cc2_8160_11ea_968e_a45e60b8672drow0_col6\" class=\"data row0 col6\" >221</td>\n",
       "                        <td id=\"T_c0d13cc2_8160_11ea_968e_a45e60b8672drow0_col7\" class=\"data row0 col7\" >0</td>\n",
       "                        <td id=\"T_c0d13cc2_8160_11ea_968e_a45e60b8672drow0_col8\" class=\"data row0 col8\" >221</td>\n",
       "                        <td id=\"T_c0d13cc2_8160_11ea_968e_a45e60b8672drow0_col9\" class=\"data row0 col9\" >1</td>\n",
       "                        <td id=\"T_c0d13cc2_8160_11ea_968e_a45e60b8672drow0_col10\" class=\"data row0 col10\" >7</td>\n",
       "                        <td id=\"T_c0d13cc2_8160_11ea_968e_a45e60b8672drow0_col11\" class=\"data row0 col11\" >229</td>\n",
       "                        <td id=\"T_c0d13cc2_8160_11ea_968e_a45e60b8672drow0_col12\" class=\"data row0 col12\" >4324</td>\n",
       "                        <td id=\"T_c0d13cc2_8160_11ea_968e_a45e60b8672drow0_col13\" class=\"data row0 col13\" >nan</td>\n",
       "                        <td id=\"T_c0d13cc2_8160_11ea_968e_a45e60b8672drow0_col14\" class=\"data row0 col14\" >nan</td>\n",
       "            </tr>\n",
       "            <tr>\n",
       "                                <td id=\"T_c0d13cc2_8160_11ea_968e_a45e60b8672drow1_col0\" class=\"data row1 col0\" >2020-02-25T18:00:00</td>\n",
       "                        <td id=\"T_c0d13cc2_8160_11ea_968e_a45e60b8672drow1_col1\" class=\"data row1 col1\" >ITA</td>\n",
       "                        <td id=\"T_c0d13cc2_8160_11ea_968e_a45e60b8672drow1_col2\" class=\"data row1 col2\" >114</td>\n",
       "                        <td id=\"T_c0d13cc2_8160_11ea_968e_a45e60b8672drow1_col3\" class=\"data row1 col3\" >35</td>\n",
       "                        <td id=\"T_c0d13cc2_8160_11ea_968e_a45e60b8672drow1_col4\" class=\"data row1 col4\" >150</td>\n",
       "                        <td id=\"T_c0d13cc2_8160_11ea_968e_a45e60b8672drow1_col5\" class=\"data row1 col5\" >162</td>\n",
       "                        <td id=\"T_c0d13cc2_8160_11ea_968e_a45e60b8672drow1_col6\" class=\"data row1 col6\" >311</td>\n",
       "                        <td id=\"T_c0d13cc2_8160_11ea_968e_a45e60b8672drow1_col7\" class=\"data row1 col7\" >90</td>\n",
       "                        <td id=\"T_c0d13cc2_8160_11ea_968e_a45e60b8672drow1_col8\" class=\"data row1 col8\" >93</td>\n",
       "                        <td id=\"T_c0d13cc2_8160_11ea_968e_a45e60b8672drow1_col9\" class=\"data row1 col9\" >1</td>\n",
       "                        <td id=\"T_c0d13cc2_8160_11ea_968e_a45e60b8672drow1_col10\" class=\"data row1 col10\" >10</td>\n",
       "                        <td id=\"T_c0d13cc2_8160_11ea_968e_a45e60b8672drow1_col11\" class=\"data row1 col11\" >322</td>\n",
       "                        <td id=\"T_c0d13cc2_8160_11ea_968e_a45e60b8672drow1_col12\" class=\"data row1 col12\" >8623</td>\n",
       "                        <td id=\"T_c0d13cc2_8160_11ea_968e_a45e60b8672drow1_col13\" class=\"data row1 col13\" >nan</td>\n",
       "                        <td id=\"T_c0d13cc2_8160_11ea_968e_a45e60b8672drow1_col14\" class=\"data row1 col14\" >nan</td>\n",
       "            </tr>\n",
       "    </tbody></table>"
      ],
      "text/plain": [
       "<pandas.io.formats.style.Styler at 0x1034484c0>"
      ]
     },
     "execution_count": 7,
     "metadata": {},
     "output_type": "execute_result"
    }
   ],
   "source": [
    "da_national = da_national.rename(columns={'data':\"timestamp\", 'stato':\"state\", \n",
    "                            'ricoverati_con_sintomi':\"hospitalized with symptoms\", \n",
    "                            'terapia_intensiva':\"intensive care\",\n",
    "                            'totale_ospedalizzati':\"total hospitalized\",\n",
    "                            'isolamento_domiciliare':\"self-isolation\",\n",
    "                            'totale_positivi':\"total currently positive\", \n",
    "                            'variazione_totale_positivi':\"variation of total positive\",\n",
    "                            'nuovi_positivi':\"new positive\",\n",
    "                            'dimessi_guariti':\"recovered\", \n",
    "                            'deceduti':\"fatalities\", \n",
    "                            'totale_casi':\"total positive\", \n",
    "                            'tamponi':\"total tested\"})\n",
    "da_national.head(2).style.hide_index()"
   ]
  },
  {
   "cell_type": "code",
   "execution_count": 8,
   "metadata": {},
   "outputs": [],
   "source": [
    "#da_region.columns"
   ]
  },
  {
   "cell_type": "code",
   "execution_count": 9,
   "metadata": {},
   "outputs": [
    {
     "data": {
      "text/html": [
       "<style  type=\"text/css\" >\n",
       "</style><table id=\"T_c0d526ca_8160_11ea_968e_a45e60b8672d\" ><thead>    <tr>        <th class=\"col_heading level0 col0\" >date</th>        <th class=\"col_heading level0 col1\" >state</th>        <th class=\"col_heading level0 col2\" >regional code</th>        <th class=\"col_heading level0 col3\" >region</th>        <th class=\"col_heading level0 col4\" >lat</th>        <th class=\"col_heading level0 col5\" >long</th>        <th class=\"col_heading level0 col6\" >hospitalized with symptoms</th>        <th class=\"col_heading level0 col7\" >intensive care</th>        <th class=\"col_heading level0 col8\" >total hospitalized</th>        <th class=\"col_heading level0 col9\" >self-isolation</th>        <th class=\"col_heading level0 col10\" >total currently positive</th>        <th class=\"col_heading level0 col11\" >variation of total positive</th>        <th class=\"col_heading level0 col12\" >new positive</th>        <th class=\"col_heading level0 col13\" >recovered</th>        <th class=\"col_heading level0 col14\" >fatalities</th>        <th class=\"col_heading level0 col15\" >total positive</th>        <th class=\"col_heading level0 col16\" >total tested</th>        <th class=\"col_heading level0 col17\" >note_it</th>        <th class=\"col_heading level0 col18\" >note_en</th>    </tr></thead><tbody>\n",
       "                <tr>\n",
       "                                <td id=\"T_c0d526ca_8160_11ea_968e_a45e60b8672drow0_col0\" class=\"data row0 col0\" >2020-04-17T17:00:00</td>\n",
       "                        <td id=\"T_c0d526ca_8160_11ea_968e_a45e60b8672drow0_col1\" class=\"data row0 col1\" >ITA</td>\n",
       "                        <td id=\"T_c0d526ca_8160_11ea_968e_a45e60b8672drow0_col2\" class=\"data row0 col2\" >2</td>\n",
       "                        <td id=\"T_c0d526ca_8160_11ea_968e_a45e60b8672drow0_col3\" class=\"data row0 col3\" >Valle d'Aosta</td>\n",
       "                        <td id=\"T_c0d526ca_8160_11ea_968e_a45e60b8672drow0_col4\" class=\"data row0 col4\" >45.737503</td>\n",
       "                        <td id=\"T_c0d526ca_8160_11ea_968e_a45e60b8672drow0_col5\" class=\"data row0 col5\" >7.320149</td>\n",
       "                        <td id=\"T_c0d526ca_8160_11ea_968e_a45e60b8672drow0_col6\" class=\"data row0 col6\" >108</td>\n",
       "                        <td id=\"T_c0d526ca_8160_11ea_968e_a45e60b8672drow0_col7\" class=\"data row0 col7\" >9</td>\n",
       "                        <td id=\"T_c0d526ca_8160_11ea_968e_a45e60b8672drow0_col8\" class=\"data row0 col8\" >117</td>\n",
       "                        <td id=\"T_c0d526ca_8160_11ea_968e_a45e60b8672drow0_col9\" class=\"data row0 col9\" >374</td>\n",
       "                        <td id=\"T_c0d526ca_8160_11ea_968e_a45e60b8672drow0_col10\" class=\"data row0 col10\" >491</td>\n",
       "                        <td id=\"T_c0d526ca_8160_11ea_968e_a45e60b8672drow0_col11\" class=\"data row0 col11\" >-27</td>\n",
       "                        <td id=\"T_c0d526ca_8160_11ea_968e_a45e60b8672drow0_col12\" class=\"data row0 col12\" >22</td>\n",
       "                        <td id=\"T_c0d526ca_8160_11ea_968e_a45e60b8672drow0_col13\" class=\"data row0 col13\" >379</td>\n",
       "                        <td id=\"T_c0d526ca_8160_11ea_968e_a45e60b8672drow0_col14\" class=\"data row0 col14\" >123</td>\n",
       "                        <td id=\"T_c0d526ca_8160_11ea_968e_a45e60b8672drow0_col15\" class=\"data row0 col15\" >993</td>\n",
       "                        <td id=\"T_c0d526ca_8160_11ea_968e_a45e60b8672drow0_col16\" class=\"data row0 col16\" >4366</td>\n",
       "                        <td id=\"T_c0d526ca_8160_11ea_968e_a45e60b8672drow0_col17\" class=\"data row0 col17\" >nan</td>\n",
       "                        <td id=\"T_c0d526ca_8160_11ea_968e_a45e60b8672drow0_col18\" class=\"data row0 col18\" >nan</td>\n",
       "            </tr>\n",
       "            <tr>\n",
       "                                <td id=\"T_c0d526ca_8160_11ea_968e_a45e60b8672drow1_col0\" class=\"data row1 col0\" >2020-04-17T17:00:00</td>\n",
       "                        <td id=\"T_c0d526ca_8160_11ea_968e_a45e60b8672drow1_col1\" class=\"data row1 col1\" >ITA</td>\n",
       "                        <td id=\"T_c0d526ca_8160_11ea_968e_a45e60b8672drow1_col2\" class=\"data row1 col2\" >5</td>\n",
       "                        <td id=\"T_c0d526ca_8160_11ea_968e_a45e60b8672drow1_col3\" class=\"data row1 col3\" >Veneto</td>\n",
       "                        <td id=\"T_c0d526ca_8160_11ea_968e_a45e60b8672drow1_col4\" class=\"data row1 col4\" >45.434905</td>\n",
       "                        <td id=\"T_c0d526ca_8160_11ea_968e_a45e60b8672drow1_col5\" class=\"data row1 col5\" >12.338452</td>\n",
       "                        <td id=\"T_c0d526ca_8160_11ea_968e_a45e60b8672drow1_col6\" class=\"data row1 col6\" >1359</td>\n",
       "                        <td id=\"T_c0d526ca_8160_11ea_968e_a45e60b8672drow1_col7\" class=\"data row1 col7\" >197</td>\n",
       "                        <td id=\"T_c0d526ca_8160_11ea_968e_a45e60b8672drow1_col8\" class=\"data row1 col8\" >1556</td>\n",
       "                        <td id=\"T_c0d526ca_8160_11ea_968e_a45e60b8672drow1_col9\" class=\"data row1 col9\" >9062</td>\n",
       "                        <td id=\"T_c0d526ca_8160_11ea_968e_a45e60b8672drow1_col10\" class=\"data row1 col10\" >10618</td>\n",
       "                        <td id=\"T_c0d526ca_8160_11ea_968e_a45e60b8672drow1_col11\" class=\"data row1 col11\" >-182</td>\n",
       "                        <td id=\"T_c0d526ca_8160_11ea_968e_a45e60b8672drow1_col12\" class=\"data row1 col12\" >384</td>\n",
       "                        <td id=\"T_c0d526ca_8160_11ea_968e_a45e60b8672drow1_col13\" class=\"data row1 col13\" >3730</td>\n",
       "                        <td id=\"T_c0d526ca_8160_11ea_968e_a45e60b8672drow1_col14\" class=\"data row1 col14\" >1026</td>\n",
       "                        <td id=\"T_c0d526ca_8160_11ea_968e_a45e60b8672drow1_col15\" class=\"data row1 col15\" >15374</td>\n",
       "                        <td id=\"T_c0d526ca_8160_11ea_968e_a45e60b8672drow1_col16\" class=\"data row1 col16\" >236722</td>\n",
       "                        <td id=\"T_c0d526ca_8160_11ea_968e_a45e60b8672drow1_col17\" class=\"data row1 col17\" >nan</td>\n",
       "                        <td id=\"T_c0d526ca_8160_11ea_968e_a45e60b8672drow1_col18\" class=\"data row1 col18\" >nan</td>\n",
       "            </tr>\n",
       "    </tbody></table>"
      ],
      "text/plain": [
       "<pandas.io.formats.style.Styler at 0x1034489a0>"
      ]
     },
     "execution_count": 9,
     "metadata": {},
     "output_type": "execute_result"
    }
   ],
   "source": [
    "da_region = da_region.rename(columns={'data':\"date\", 'stato':\"state\", 'codice_regione':\"regional code\", \n",
    "                          'denominazione_regione':\"region\", 'ricoverati_con_sintomi':\"hospitalized with symptoms\", \n",
    "                          'terapia_intensiva':\"intensive care\",'totale_ospedalizzati':\"total hospitalized\", \n",
    "                          'isolamento_domiciliare':\"self-isolation\", \n",
    "                          'totale_positivi':\"total currently positive\", \n",
    "                          'variazione_totale_positivi':\"variation of total positive\",\n",
    "                          'nuovi_positivi':\"new positive\",'dimessi_guariti':\"recovered\", \n",
    "                          'deceduti':\"fatalities\", 'totale_casi':\"total positive\", 'tamponi':\"total tested\"})\n",
    "da_region.tail(2).style.hide_index()"
   ]
  },
  {
   "cell_type": "code",
   "execution_count": 10,
   "metadata": {},
   "outputs": [],
   "source": [
    "#da_daily_region.columns"
   ]
  },
  {
   "cell_type": "code",
   "execution_count": 11,
   "metadata": {},
   "outputs": [
    {
     "data": {
      "text/html": [
       "<style  type=\"text/css\" >\n",
       "</style><table id=\"T_c0d954ac_8160_11ea_968e_a45e60b8672d\" ><thead>    <tr>        <th class=\"col_heading level0 col0\" >date</th>        <th class=\"col_heading level0 col1\" >state</th>        <th class=\"col_heading level0 col2\" >regional code</th>        <th class=\"col_heading level0 col3\" >region</th>        <th class=\"col_heading level0 col4\" >lat</th>        <th class=\"col_heading level0 col5\" >long</th>        <th class=\"col_heading level0 col6\" >hospitalized with symptoms</th>        <th class=\"col_heading level0 col7\" >intensive care</th>        <th class=\"col_heading level0 col8\" >total hospitalized</th>        <th class=\"col_heading level0 col9\" >self-isolation</th>        <th class=\"col_heading level0 col10\" >total currently positive</th>        <th class=\"col_heading level0 col11\" >variation of total positive</th>        <th class=\"col_heading level0 col12\" >new positive</th>        <th class=\"col_heading level0 col13\" >recovered</th>        <th class=\"col_heading level0 col14\" >fatalities</th>        <th class=\"col_heading level0 col15\" >total positive</th>        <th class=\"col_heading level0 col16\" >total tested</th>        <th class=\"col_heading level0 col17\" >note_it</th>        <th class=\"col_heading level0 col18\" >note_en</th>    </tr></thead><tbody>\n",
       "                <tr>\n",
       "                                <td id=\"T_c0d954ac_8160_11ea_968e_a45e60b8672drow0_col0\" class=\"data row0 col0\" >2020-04-17T17:00:00</td>\n",
       "                        <td id=\"T_c0d954ac_8160_11ea_968e_a45e60b8672drow0_col1\" class=\"data row0 col1\" >ITA</td>\n",
       "                        <td id=\"T_c0d954ac_8160_11ea_968e_a45e60b8672drow0_col2\" class=\"data row0 col2\" >13</td>\n",
       "                        <td id=\"T_c0d954ac_8160_11ea_968e_a45e60b8672drow0_col3\" class=\"data row0 col3\" >Abruzzo</td>\n",
       "                        <td id=\"T_c0d954ac_8160_11ea_968e_a45e60b8672drow0_col4\" class=\"data row0 col4\" >42.351222</td>\n",
       "                        <td id=\"T_c0d954ac_8160_11ea_968e_a45e60b8672drow0_col5\" class=\"data row0 col5\" >13.398438</td>\n",
       "                        <td id=\"T_c0d954ac_8160_11ea_968e_a45e60b8672drow0_col6\" class=\"data row0 col6\" >319</td>\n",
       "                        <td id=\"T_c0d954ac_8160_11ea_968e_a45e60b8672drow0_col7\" class=\"data row0 col7\" >43</td>\n",
       "                        <td id=\"T_c0d954ac_8160_11ea_968e_a45e60b8672drow0_col8\" class=\"data row0 col8\" >362</td>\n",
       "                        <td id=\"T_c0d954ac_8160_11ea_968e_a45e60b8672drow0_col9\" class=\"data row0 col9\" >1580</td>\n",
       "                        <td id=\"T_c0d954ac_8160_11ea_968e_a45e60b8672drow0_col10\" class=\"data row0 col10\" >1942</td>\n",
       "                        <td id=\"T_c0d954ac_8160_11ea_968e_a45e60b8672drow0_col11\" class=\"data row0 col11\" >92</td>\n",
       "                        <td id=\"T_c0d954ac_8160_11ea_968e_a45e60b8672drow0_col12\" class=\"data row0 col12\" >97</td>\n",
       "                        <td id=\"T_c0d954ac_8160_11ea_968e_a45e60b8672drow0_col13\" class=\"data row0 col13\" >255</td>\n",
       "                        <td id=\"T_c0d954ac_8160_11ea_968e_a45e60b8672drow0_col14\" class=\"data row0 col14\" >246</td>\n",
       "                        <td id=\"T_c0d954ac_8160_11ea_968e_a45e60b8672drow0_col15\" class=\"data row0 col15\" >2443</td>\n",
       "                        <td id=\"T_c0d954ac_8160_11ea_968e_a45e60b8672drow0_col16\" class=\"data row0 col16\" >25436</td>\n",
       "                        <td id=\"T_c0d954ac_8160_11ea_968e_a45e60b8672drow0_col17\" class=\"data row0 col17\" >nan</td>\n",
       "                        <td id=\"T_c0d954ac_8160_11ea_968e_a45e60b8672drow0_col18\" class=\"data row0 col18\" >nan</td>\n",
       "            </tr>\n",
       "            <tr>\n",
       "                                <td id=\"T_c0d954ac_8160_11ea_968e_a45e60b8672drow1_col0\" class=\"data row1 col0\" >2020-04-17T17:00:00</td>\n",
       "                        <td id=\"T_c0d954ac_8160_11ea_968e_a45e60b8672drow1_col1\" class=\"data row1 col1\" >ITA</td>\n",
       "                        <td id=\"T_c0d954ac_8160_11ea_968e_a45e60b8672drow1_col2\" class=\"data row1 col2\" >17</td>\n",
       "                        <td id=\"T_c0d954ac_8160_11ea_968e_a45e60b8672drow1_col3\" class=\"data row1 col3\" >Basilicata</td>\n",
       "                        <td id=\"T_c0d954ac_8160_11ea_968e_a45e60b8672drow1_col4\" class=\"data row1 col4\" >40.639471</td>\n",
       "                        <td id=\"T_c0d954ac_8160_11ea_968e_a45e60b8672drow1_col5\" class=\"data row1 col5\" >15.805148</td>\n",
       "                        <td id=\"T_c0d954ac_8160_11ea_968e_a45e60b8672drow1_col6\" class=\"data row1 col6\" >59</td>\n",
       "                        <td id=\"T_c0d954ac_8160_11ea_968e_a45e60b8672drow1_col7\" class=\"data row1 col7\" >9</td>\n",
       "                        <td id=\"T_c0d954ac_8160_11ea_968e_a45e60b8672drow1_col8\" class=\"data row1 col8\" >68</td>\n",
       "                        <td id=\"T_c0d954ac_8160_11ea_968e_a45e60b8672drow1_col9\" class=\"data row1 col9\" >198</td>\n",
       "                        <td id=\"T_c0d954ac_8160_11ea_968e_a45e60b8672drow1_col10\" class=\"data row1 col10\" >266</td>\n",
       "                        <td id=\"T_c0d954ac_8160_11ea_968e_a45e60b8672drow1_col11\" class=\"data row1 col11\" >-7</td>\n",
       "                        <td id=\"T_c0d954ac_8160_11ea_968e_a45e60b8672drow1_col12\" class=\"data row1 col12\" >1</td>\n",
       "                        <td id=\"T_c0d954ac_8160_11ea_968e_a45e60b8672drow1_col13\" class=\"data row1 col13\" >49</td>\n",
       "                        <td id=\"T_c0d954ac_8160_11ea_968e_a45e60b8672drow1_col14\" class=\"data row1 col14\" >22</td>\n",
       "                        <td id=\"T_c0d954ac_8160_11ea_968e_a45e60b8672drow1_col15\" class=\"data row1 col15\" >337</td>\n",
       "                        <td id=\"T_c0d954ac_8160_11ea_968e_a45e60b8672drow1_col16\" class=\"data row1 col16\" >5710</td>\n",
       "                        <td id=\"T_c0d954ac_8160_11ea_968e_a45e60b8672drow1_col17\" class=\"data row1 col17\" >nan</td>\n",
       "                        <td id=\"T_c0d954ac_8160_11ea_968e_a45e60b8672drow1_col18\" class=\"data row1 col18\" >nan</td>\n",
       "            </tr>\n",
       "    </tbody></table>"
      ],
      "text/plain": [
       "<pandas.io.formats.style.Styler at 0x115aadfa0>"
      ]
     },
     "execution_count": 11,
     "metadata": {},
     "output_type": "execute_result"
    }
   ],
   "source": [
    "da_daily_region = da_daily_region.rename(columns={'data':\"date\", 'stato':\"state\", 'codice_regione':\"regional code\", \n",
    "                          'denominazione_regione':\"region\", 'ricoverati_con_sintomi':\"hospitalized with symptoms\", \n",
    "                          'terapia_intensiva':\"intensive care\",'totale_ospedalizzati':\"total hospitalized\", \n",
    "                          'isolamento_domiciliare':\"self-isolation\", \n",
    "                          'totale_positivi':\"total currently positive\", \n",
    "                          'variazione_totale_positivi':\"variation of total positive\",\n",
    "                          'nuovi_positivi':\"new positive\",'dimessi_guariti':\"recovered\", \n",
    "                          'deceduti':\"fatalities\", 'totale_casi':\"total positive\", 'tamponi':\"total tested\"})\n",
    "da_daily_region.head(2).style.hide_index()"
   ]
  },
  {
   "cell_type": "markdown",
   "metadata": {},
   "source": [
    "## Time trends on national level "
   ]
  },
  {
   "cell_type": "code",
   "execution_count": 12,
   "metadata": {},
   "outputs": [],
   "source": [
    "rng = da_national[\"timestamp\"]\n",
    "rng = [datetime.datetime.strptime(x,'%Y-%m-%dT%H:%M:%S').strftime(\"%m/%d\") for x in rng]"
   ]
  },
  {
   "cell_type": "code",
   "execution_count": 13,
   "metadata": {},
   "outputs": [
    {
     "data": {
      "text/plain": [
       "<function matplotlib.pyplot.show(*args, **kw)>"
      ]
     },
     "execution_count": 13,
     "metadata": {},
     "output_type": "execute_result"
    },
    {
     "data": {
      "image/png": "[encoded data removed]",
      "text/plain": [
       "<Figure size 1152x576 with 1 Axes>"
      ]
     },
     "metadata": {
      "needs_background": "light"
     },
     "output_type": "display_data"
    }
   ],
   "source": [
    "plt.figure(figsize=(16,8))\n",
    "plt.title(\"Cumulative numbers at national level\", size=\"x-large\")\n",
    "da_national[\"date\"] = rng\n",
    "sns.lineplot(x=da_national[\"date\"], y=da_national[\"total positive\"], \n",
    "             label = \"Total positive\", marker = \"o\")\n",
    "sns.lineplot(x=da_national[\"date\"], y=da_national[\"total currently positive\"], \n",
    "             label = \"Total currently positive\", marker = \"o\")\n",
    "sns.lineplot(x=da_national[\"date\"], y=da_national[\"fatalities\"], \n",
    "             label = \"Total fatalities\", marker = \"o\", color = \"red\")\n",
    "sns.lineplot(x=da_national[\"date\"], y=da_national[\"total hospitalized\"], \n",
    "             label = \"Total hospitalized\", marker = \"o\", color=\"violet\")\n",
    "sns.lineplot(x=da_national[\"date\"], y=da_national[\"intensive care\"], \n",
    "             label = \"Total in ICU\", marker = \"o\", color=\"blue\").set(xlabel = \"Date\", ylabel = \"Count\")\n",
    "plt.xticks(\n",
    "    rotation=45, \n",
    "    horizontalalignment='right',\n",
    "    fontweight='light'  \n",
    ")\n",
    "plt.axvline(x=\"03/09\", ls=\"-.\", c=\"red\", label = \"Countrywide lockdown date\")\n",
    "plt.legend(fontsize=\"medium\")\n",
    "plt.show"
   ]
  },
  {
   "cell_type": "markdown",
   "metadata": {},
   "source": [
    "Active cases keep growing on national level, however the growth of new cases has been slowing down since the beginning of April. If the currently positive curve continues to follow the trends from [China and Korea](covid-19_analysis.html), the growth could be expected until at least one month since the countrywide lockdown started."
   ]
  },
  {
   "cell_type": "markdown",
   "metadata": {},
   "source": [
    "## Country numbers in a nutshell"
   ]
  },
  {
   "cell_type": "code",
   "execution_count": 14,
   "metadata": {},
   "outputs": [
    {
     "name": "stdout",
     "output_type": "stream",
     "text": [
      "Overall status as on 04/17:\n"
     ]
    }
   ],
   "source": [
    "print(\"Overall status as on {}:\".format(rng[-1])) "
   ]
  },
  {
   "cell_type": "code",
   "execution_count": 15,
   "metadata": {},
   "outputs": [
    {
     "data": {
      "text/html": [
       "<style  type=\"text/css\" >\n",
       "</style><table id=\"T_c25961dc_8160_11ea_968e_a45e60b8672d\" ><thead>    <tr>        <th class=\"col_heading level0 col0\" >total tested</th>        <th class=\"col_heading level0 col1\" >total positive</th>        <th class=\"col_heading level0 col2\" >total currently positive</th>        <th class=\"col_heading level0 col3\" >recovered</th>        <th class=\"col_heading level0 col4\" >self-isolation</th>        <th class=\"col_heading level0 col5\" >total hospitalized</th>        <th class=\"col_heading level0 col6\" >intensive care</th>        <th class=\"col_heading level0 col7\" >fatalities</th>        <th class=\"col_heading level0 col8\" >death rate [%]</th>    </tr></thead><tbody>\n",
       "                <tr>\n",
       "                                <td id=\"T_c25961dc_8160_11ea_968e_a45e60b8672drow0_col0\" class=\"data row0 col0\" >1244108</td>\n",
       "                        <td id=\"T_c25961dc_8160_11ea_968e_a45e60b8672drow0_col1\" class=\"data row0 col1\" >172434</td>\n",
       "                        <td id=\"T_c25961dc_8160_11ea_968e_a45e60b8672drow0_col2\" class=\"data row0 col2\" >106962</td>\n",
       "                        <td id=\"T_c25961dc_8160_11ea_968e_a45e60b8672drow0_col3\" class=\"data row0 col3\" >42727</td>\n",
       "                        <td id=\"T_c25961dc_8160_11ea_968e_a45e60b8672drow0_col4\" class=\"data row0 col4\" >78364</td>\n",
       "                        <td id=\"T_c25961dc_8160_11ea_968e_a45e60b8672drow0_col5\" class=\"data row0 col5\" >28598</td>\n",
       "                        <td id=\"T_c25961dc_8160_11ea_968e_a45e60b8672drow0_col6\" class=\"data row0 col6\" >2812</td>\n",
       "                        <td id=\"T_c25961dc_8160_11ea_968e_a45e60b8672drow0_col7\" class=\"data row0 col7\" >22745</td>\n",
       "                        <td id=\"T_c25961dc_8160_11ea_968e_a45e60b8672drow0_col8\" class=\"data row0 col8\" >13.190554</td>\n",
       "            </tr>\n",
       "    </tbody></table>"
      ],
      "text/plain": [
       "<pandas.io.formats.style.Styler at 0x117012b50>"
      ]
     },
     "execution_count": 15,
     "metadata": {},
     "output_type": "execute_result"
    }
   ],
   "source": [
    "latest = da_national.loc[:,['total tested','total positive', 'total currently positive',\n",
    "                            'recovered','self-isolation','total hospitalized',\n",
    "                            'intensive care','fatalities']].tail(1)\n",
    "latest[\"death rate [%]\"] = 100*latest[\"fatalities\"]/latest[\"total positive\"]\n",
    "latest.head().style.hide_index()"
   ]
  },
  {
   "cell_type": "code",
   "execution_count": 16,
   "metadata": {},
   "outputs": [],
   "source": [
    "ind = len(da_national) -1\n",
    "perc = latest.drop([\"total tested\",\"death rate [%]\"], axis=1)\n",
    "perc = 100*perc/latest.loc[ind,\"total tested\"]"
   ]
  },
  {
   "cell_type": "markdown",
   "metadata": {},
   "source": [
    "#### From all tested population we have the following figures in terms of percentage:"
   ]
  },
  {
   "cell_type": "code",
   "execution_count": 17,
   "metadata": {},
   "outputs": [
    {
     "data": {
      "text/html": [
       "<style  type=\"text/css\" >\n",
       "</style><table id=\"T_c344da54_8160_11ea_968e_a45e60b8672d\" ><thead>    <tr>        <th class=\"col_heading level0 col0\" >total positive</th>        <th class=\"col_heading level0 col1\" >total currently positive</th>        <th class=\"col_heading level0 col2\" >recovered</th>        <th class=\"col_heading level0 col3\" >self-isolation</th>        <th class=\"col_heading level0 col4\" >total hospitalized</th>        <th class=\"col_heading level0 col5\" >intensive care</th>        <th class=\"col_heading level0 col6\" >fatalities</th>    </tr></thead><tbody>\n",
       "                <tr>\n",
       "                                <td id=\"T_c344da54_8160_11ea_968e_a45e60b8672drow0_col0\" class=\"data row0 col0\" >13.860000</td>\n",
       "                        <td id=\"T_c344da54_8160_11ea_968e_a45e60b8672drow0_col1\" class=\"data row0 col1\" >8.600000</td>\n",
       "                        <td id=\"T_c344da54_8160_11ea_968e_a45e60b8672drow0_col2\" class=\"data row0 col2\" >3.430000</td>\n",
       "                        <td id=\"T_c344da54_8160_11ea_968e_a45e60b8672drow0_col3\" class=\"data row0 col3\" >6.300000</td>\n",
       "                        <td id=\"T_c344da54_8160_11ea_968e_a45e60b8672drow0_col4\" class=\"data row0 col4\" >2.300000</td>\n",
       "                        <td id=\"T_c344da54_8160_11ea_968e_a45e60b8672drow0_col5\" class=\"data row0 col5\" >0.230000</td>\n",
       "                        <td id=\"T_c344da54_8160_11ea_968e_a45e60b8672drow0_col6\" class=\"data row0 col6\" >1.830000</td>\n",
       "            </tr>\n",
       "    </tbody></table>"
      ],
      "text/plain": [
       "<pandas.io.formats.style.Styler at 0x116d221f0>"
      ]
     },
     "execution_count": 17,
     "metadata": {},
     "output_type": "execute_result"
    }
   ],
   "source": [
    "round(perc,2).style.hide_index()"
   ]
  },
  {
   "cell_type": "code",
   "execution_count": 18,
   "metadata": {},
   "outputs": [
    {
     "data": {
      "image/png": "[encoded data removed]",
      "text/plain": [
       "<Figure size 720x360 with 1 Axes>"
      ]
     },
     "metadata": {
      "needs_background": "light"
     },
     "output_type": "display_data"
    }
   ],
   "source": [
    "fig, ax = plt.subplots(figsize=(10,5))\n",
    "plt.title(\"Percentage of categories vs total number of tested ({} people)\".format(latest.loc[ind,\"total tested\"]), \n",
    "          size=\"large\")\n",
    "ax = sns.barplot(data=perc, \n",
    "     orient=\"h\",\n",
    "     palette = 'hls').set(xlabel = \"Percentage [%]\")"
   ]
  },
  {
   "cell_type": "markdown",
   "metadata": {},
   "source": [
    "## Analysis on regional level"
   ]
  },
  {
   "cell_type": "code",
   "execution_count": 19,
   "metadata": {
    "scrolled": false
   },
   "outputs": [],
   "source": [
    "da_daily_region[\"percentage of active [%]\"] = round(100*da_daily_region[\n",
    "                                    \"total currently positive\"]/latest.loc[ind,\"total currently positive\"],2)\n",
    "da_daily_region[\"percentage of total positive [%]\"] = round(\n",
    "                                    100*da_daily_region[\"total positive\"]/latest.loc[ind,\"total positive\"],2)"
   ]
  },
  {
   "cell_type": "code",
   "execution_count": 20,
   "metadata": {},
   "outputs": [],
   "source": [
    "summary_daily_region = da_daily_region[[\"region\",\"total tested\",\"total positive\",\"total currently positive\",\n",
    "                 \"percentage of active [%]\",\n",
    "                 \"percentage of total positive [%]\"]].sort_values(\n",
    "                 by=\"total currently positive\", ascending=False).head(4)"
   ]
  },
  {
   "cell_type": "code",
   "execution_count": 22,
   "metadata": {},
   "outputs": [
    {
     "data": {
      "application/vnd.plotly.v1+json": {
       "config": {
        "plotlyServerURL": "https://plot.ly"
       },
       "data": [
        {
         "branchvalues": "total",
         "customdata": [
          [
           2443,
           1942,
           255,
           246
          ],
          [
           337,
           266,
           49,
           22
          ],
          [
           991,
           819,
           99,
           73
          ],
          [
           3951,
           3027,
           631,
           293
          ],
          [
           21834,
           13585,
           5346,
           2903
          ],
          [
           2675,
           1428,
           1027,
           220
          ],
          [
           5524,
           4214,
           978,
           332
          ],
          [
           6188,
           3459,
           1863,
           866
          ],
          [
           64135,
           33434,
           18850,
           11851
          ],
          [
           5668,
           3157,
           1726,
           785
          ],
          [
           269,
           208,
           45,
           16
          ],
          [
           2296,
           1582,
           480,
           234
          ],
          [
           3376,
           1990,
           1044,
           342
          ],
          [
           19803,
           13998,
           3634,
           2171
          ],
          [
           3327,
           2656,
           364,
           307
          ],
          [
           1178,
           872,
           220,
           86
          ],
          [
           2625,
           2139,
           296,
           190
          ],
          [
           8110,
           6583,
           925,
           602
          ],
          [
           1337,
           494,
           786,
           57
          ],
          [
           993,
           491,
           379,
           123
          ],
          [
           15374,
           10618,
           3730,
           1026
          ]
         ],
         "domain": {
          "x": [
           0,
           1
          ],
          "y": [
           0,
           1
          ]
         },
         "hoverlabel": {
          "namelength": 0
         },
         "hovertemplate": "total positive=%{value}<br>total currently positive=%{customdata[1]}<br>recovered=%{customdata[2]}<br>fatalities=%{customdata[3]}<br>labels=%{label}<br>parent=%{parent}<br>id=%{id}",
         "ids": [
          "Abruzzo",
          "Basilicata",
          "Calabria",
          "Campania",
          "Emilia-Romagna",
          "Friuli Venezia Giulia",
          "Lazio",
          "Liguria",
          "Lombardia",
          "Marche",
          "Molise",
          "P.A. Bolzano",
          "P.A. Trento",
          "Piemonte",
          "Puglia",
          "Sardegna",
          "Sicilia",
          "Toscana",
          "Umbria",
          "Valle d'Aosta",
          "Veneto"
         ],
         "labels": [
          "Abruzzo",
          "Basilicata",
          "Calabria",
          "Campania",
          "Emilia-Romagna",
          "Friuli Venezia Giulia",
          "Lazio",
          "Liguria",
          "Lombardia",
          "Marche",
          "Molise",
          "P.A. Bolzano",
          "P.A. Trento",
          "Piemonte",
          "Puglia",
          "Sardegna",
          "Sicilia",
          "Toscana",
          "Umbria",
          "Valle d'Aosta",
          "Veneto"
         ],
         "name": "",
         "parents": [
          "",
          "",
          "",
          "",
          "",
          "",
          "",
          "",
          "",
          "",
          "",
          "",
          "",
          "",
          "",
          "",
          "",
          "",
          "",
          "",
          ""
         ],
         "type": "treemap",
         "values": [
          2443,
          337,
          991,
          3951,
          21834,
          2675,
          5524,
          6188,
          64135,
          5668,
          269,
          2296,
          3376,
          19803,
          3327,
          1178,
          2625,
          8110,
          1337,
          993,
          15374
         ]
        }
       ],
       "layout": {
        "legend": {
         "tracegroupgap": 0
        },
        "template": {
         "data": {
          "bar": [
           {
            "error_x": {
             "color": "#2a3f5f"
            },
            "error_y": {
             "color": "#2a3f5f"
            },
            "marker": {
             "line": {
              "color": "#E5ECF6",
              "width": 0.5
             }
            },
            "type": "bar"
           }
          ],
          "barpolar": [
           {
            "marker": {
             "line": {
              "color": "#E5ECF6",
              "width": 0.5
             }
            },
            "type": "barpolar"
           }
          ],
          "carpet": [
           {
            "aaxis": {
             "endlinecolor": "#2a3f5f",
             "gridcolor": "white",
             "linecolor": "white",
             "minorgridcolor": "white",
             "startlinecolor": "#2a3f5f"
            },
            "baxis": {
             "endlinecolor": "#2a3f5f",
             "gridcolor": "white",
             "linecolor": "white",
             "minorgridcolor": "white",
             "startlinecolor": "#2a3f5f"
            },
            "type": "carpet"
           }
          ],
          "choropleth": [
           {
            "colorbar": {
             "outlinewidth": 0,
             "ticks": ""
            },
            "type": "choropleth"
           }
          ],
          "contour": [
           {
            "colorbar": {
             "outlinewidth": 0,
             "ticks": ""
            },
            "colorscale": [
             [
              0,
              "#0d0887"
             ],
             [
              0.1111111111111111,
              "#46039f"
             ],
             [
              0.2222222222222222,
              "#7201a8"
             ],
             [
              0.3333333333333333,
              "#9c179e"
             ],
             [
              0.4444444444444444,
              "#bd3786"
             ],
             [
              0.5555555555555556,
              "#d8576b"
             ],
             [
              0.6666666666666666,
              "#ed7953"
             ],
             [
              0.7777777777777778,
              "#fb9f3a"
             ],
             [
              0.8888888888888888,
              "#fdca26"
             ],
             [
              1,
              "#f0f921"
             ]
            ],
            "type": "contour"
           }
          ],
          "contourcarpet": [
           {
            "colorbar": {
             "outlinewidth": 0,
             "ticks": ""
            },
            "type": "contourcarpet"
           }
          ],
          "heatmap": [
           {
            "colorbar": {
             "outlinewidth": 0,
             "ticks": ""
            },
            "colorscale": [
             [
              0,
              "#0d0887"
             ],
             [
              0.1111111111111111,
              "#46039f"
             ],
             [
              0.2222222222222222,
              "#7201a8"
             ],
             [
              0.3333333333333333,
              "#9c179e"
             ],
             [
              0.4444444444444444,
              "#bd3786"
             ],
             [
              0.5555555555555556,
              "#d8576b"
             ],
             [
              0.6666666666666666,
              "#ed7953"
             ],
             [
              0.7777777777777778,
              "#fb9f3a"
             ],
             [
              0.8888888888888888,
              "#fdca26"
             ],
             [
              1,
              "#f0f921"
             ]
            ],
            "type": "heatmap"
           }
          ],
          "heatmapgl": [
           {
            "colorbar": {
             "outlinewidth": 0,
             "ticks": ""
            },
            "colorscale": [
             [
              0,
              "#0d0887"
             ],
             [
              0.1111111111111111,
              "#46039f"
             ],
             [
              0.2222222222222222,
              "#7201a8"
             ],
             [
              0.3333333333333333,
              "#9c179e"
             ],
             [
              0.4444444444444444,
              "#bd3786"
             ],
             [
              0.5555555555555556,
              "#d8576b"
             ],
             [
              0.6666666666666666,
              "#ed7953"
             ],
             [
              0.7777777777777778,
              "#fb9f3a"
             ],
             [
              0.8888888888888888,
              "#fdca26"
             ],
             [
              1,
              "#f0f921"
             ]
            ],
            "type": "heatmapgl"
           }
          ],
          "histogram": [
           {
            "marker": {
             "colorbar": {
              "outlinewidth": 0,
              "ticks": ""
             }
            },
            "type": "histogram"
           }
          ],
          "histogram2d": [
           {
            "colorbar": {
             "outlinewidth": 0,
             "ticks": ""
            },
            "colorscale": [
             [
              0,
              "#0d0887"
             ],
             [
              0.1111111111111111,
              "#46039f"
             ],
             [
              0.2222222222222222,
              "#7201a8"
             ],
             [
              0.3333333333333333,
              "#9c179e"
             ],
             [
              0.4444444444444444,
              "#bd3786"
             ],
             [
              0.5555555555555556,
              "#d8576b"
             ],
             [
              0.6666666666666666,
              "#ed7953"
             ],
             [
              0.7777777777777778,
              "#fb9f3a"
             ],
             [
              0.8888888888888888,
              "#fdca26"
             ],
             [
              1,
              "#f0f921"
             ]
            ],
            "type": "histogram2d"
           }
          ],
          "histogram2dcontour": [
           {
            "colorbar": {
             "outlinewidth": 0,
             "ticks": ""
            },
            "colorscale": [
             [
              0,
              "#0d0887"
             ],
             [
              0.1111111111111111,
              "#46039f"
             ],
             [
              0.2222222222222222,
              "#7201a8"
             ],
             [
              0.3333333333333333,
              "#9c179e"
             ],
             [
              0.4444444444444444,
              "#bd3786"
             ],
             [
              0.5555555555555556,
              "#d8576b"
             ],
             [
              0.6666666666666666,
              "#ed7953"
             ],
             [
              0.7777777777777778,
              "#fb9f3a"
             ],
             [
              0.8888888888888888,
              "#fdca26"
             ],
             [
              1,
              "#f0f921"
             ]
            ],
            "type": "histogram2dcontour"
           }
          ],
          "mesh3d": [
           {
            "colorbar": {
             "outlinewidth": 0,
             "ticks": ""
            },
            "type": "mesh3d"
           }
          ],
          "parcoords": [
           {
            "line": {
             "colorbar": {
              "outlinewidth": 0,
              "ticks": ""
             }
            },
            "type": "parcoords"
           }
          ],
          "pie": [
           {
            "automargin": true,
            "type": "pie"
           }
          ],
          "scatter": [
           {
            "marker": {
             "colorbar": {
              "outlinewidth": 0,
              "ticks": ""
             }
            },
            "type": "scatter"
           }
          ],
          "scatter3d": [
           {
            "line": {
             "colorbar": {
              "outlinewidth": 0,
              "ticks": ""
             }
            },
            "marker": {
             "colorbar": {
              "outlinewidth": 0,
              "ticks": ""
             }
            },
            "type": "scatter3d"
           }
          ],
          "scattercarpet": [
           {
            "marker": {
             "colorbar": {
              "outlinewidth": 0,
              "ticks": ""
             }
            },
            "type": "scattercarpet"
           }
          ],
          "scattergeo": [
           {
            "marker": {
             "colorbar": {
              "outlinewidth": 0,
              "ticks": ""
             }
            },
            "type": "scattergeo"
           }
          ],
          "scattergl": [
           {
            "marker": {
             "colorbar": {
              "outlinewidth": 0,
              "ticks": ""
             }
            },
            "type": "scattergl"
           }
          ],
          "scattermapbox": [
           {
            "marker": {
             "colorbar": {
              "outlinewidth": 0,
              "ticks": ""
             }
            },
            "type": "scattermapbox"
           }
          ],
          "scatterpolar": [
           {
            "marker": {
             "colorbar": {
              "outlinewidth": 0,
              "ticks": ""
             }
            },
            "type": "scatterpolar"
           }
          ],
          "scatterpolargl": [
           {
            "marker": {
             "colorbar": {
              "outlinewidth": 0,
              "ticks": ""
             }
            },
            "type": "scatterpolargl"
           }
          ],
          "scatterternary": [
           {
            "marker": {
             "colorbar": {
              "outlinewidth": 0,
              "ticks": ""
             }
            },
            "type": "scatterternary"
           }
          ],
          "surface": [
           {
            "colorbar": {
             "outlinewidth": 0,
             "ticks": ""
            },
            "colorscale": [
             [
              0,
              "#0d0887"
             ],
             [
              0.1111111111111111,
              "#46039f"
             ],
             [
              0.2222222222222222,
              "#7201a8"
             ],
             [
              0.3333333333333333,
              "#9c179e"
             ],
             [
              0.4444444444444444,
              "#bd3786"
             ],
             [
              0.5555555555555556,
              "#d8576b"
             ],
             [
              0.6666666666666666,
              "#ed7953"
             ],
             [
              0.7777777777777778,
              "#fb9f3a"
             ],
             [
              0.8888888888888888,
              "#fdca26"
             ],
             [
              1,
              "#f0f921"
             ]
            ],
            "type": "surface"
           }
          ],
          "table": [
           {
            "cells": {
             "fill": {
              "color": "#EBF0F8"
             },
             "line": {
              "color": "white"
             }
            },
            "header": {
             "fill": {
              "color": "#C8D4E3"
             },
             "line": {
              "color": "white"
             }
            },
            "type": "table"
           }
          ]
         },
         "layout": {
          "annotationdefaults": {
           "arrowcolor": "#2a3f5f",
           "arrowhead": 0,
           "arrowwidth": 1
          },
          "coloraxis": {
           "colorbar": {
            "outlinewidth": 0,
            "ticks": ""
           }
          },
          "colorscale": {
           "diverging": [
            [
             0,
             "#8e0152"
            ],
            [
             0.1,
             "#c51b7d"
            ],
            [
             0.2,
             "#de77ae"
            ],
            [
             0.3,
             "#f1b6da"
            ],
            [
             0.4,
             "#fde0ef"
            ],
            [
             0.5,
             "#f7f7f7"
            ],
            [
             0.6,
             "#e6f5d0"
            ],
            [
             0.7,
             "#b8e186"
            ],
            [
             0.8,
             "#7fbc41"
            ],
            [
             0.9,
             "#4d9221"
            ],
            [
             1,
             "#276419"
            ]
           ],
           "sequential": [
            [
             0,
             "#0d0887"
            ],
            [
             0.1111111111111111,
             "#46039f"
            ],
            [
             0.2222222222222222,
             "#7201a8"
            ],
            [
             0.3333333333333333,
             "#9c179e"
            ],
            [
             0.4444444444444444,
             "#bd3786"
            ],
            [
             0.5555555555555556,
             "#d8576b"
            ],
            [
             0.6666666666666666,
             "#ed7953"
            ],
            [
             0.7777777777777778,
             "#fb9f3a"
            ],
            [
             0.8888888888888888,
             "#fdca26"
            ],
            [
             1,
             "#f0f921"
            ]
           ],
           "sequentialminus": [
            [
             0,
             "#0d0887"
            ],
            [
             0.1111111111111111,
             "#46039f"
            ],
            [
             0.2222222222222222,
             "#7201a8"
            ],
            [
             0.3333333333333333,
             "#9c179e"
            ],
            [
             0.4444444444444444,
             "#bd3786"
            ],
            [
             0.5555555555555556,
             "#d8576b"
            ],
            [
             0.6666666666666666,
             "#ed7953"
            ],
            [
             0.7777777777777778,
             "#fb9f3a"
            ],
            [
             0.8888888888888888,
             "#fdca26"
            ],
            [
             1,
             "#f0f921"
            ]
           ]
          },
          "colorway": [
           "#636efa",
           "#EF553B",
           "#00cc96",
           "#ab63fa",
           "#FFA15A",
           "#19d3f3",
           "#FF6692",
           "#B6E880",
           "#FF97FF",
           "#FECB52"
          ],
          "font": {
           "color": "#2a3f5f"
          },
          "geo": {
           "bgcolor": "white",
           "lakecolor": "white",
           "landcolor": "#E5ECF6",
           "showlakes": true,
           "showland": true,
           "subunitcolor": "white"
          },
          "hoverlabel": {
           "align": "left"
          },
          "hovermode": "closest",
          "mapbox": {
           "style": "light"
          },
          "paper_bgcolor": "white",
          "plot_bgcolor": "#E5ECF6",
          "polar": {
           "angularaxis": {
            "gridcolor": "white",
            "linecolor": "white",
            "ticks": ""
           },
           "bgcolor": "#E5ECF6",
           "radialaxis": {
            "gridcolor": "white",
            "linecolor": "white",
            "ticks": ""
           }
          },
          "scene": {
           "xaxis": {
            "backgroundcolor": "#E5ECF6",
            "gridcolor": "white",
            "gridwidth": 2,
            "linecolor": "white",
            "showbackground": true,
            "ticks": "",
            "zerolinecolor": "white"
           },
           "yaxis": {
            "backgroundcolor": "#E5ECF6",
            "gridcolor": "white",
            "gridwidth": 2,
            "linecolor": "white",
            "showbackground": true,
            "ticks": "",
            "zerolinecolor": "white"
           },
           "zaxis": {
            "backgroundcolor": "#E5ECF6",
            "gridcolor": "white",
            "gridwidth": 2,
            "linecolor": "white",
            "showbackground": true,
            "ticks": "",
            "zerolinecolor": "white"
           }
          },
          "shapedefaults": {
           "line": {
            "color": "#2a3f5f"
           }
          },
          "ternary": {
           "aaxis": {
            "gridcolor": "white",
            "linecolor": "white",
            "ticks": ""
           },
           "baxis": {
            "gridcolor": "white",
            "linecolor": "white",
            "ticks": ""
           },
           "bgcolor": "#E5ECF6",
           "caxis": {
            "gridcolor": "white",
            "linecolor": "white",
            "ticks": ""
           }
          },
          "title": {
           "x": 0.05
          },
          "xaxis": {
           "automargin": true,
           "gridcolor": "white",
           "linecolor": "white",
           "ticks": "",
           "title": {
            "standoff": 15
           },
           "zerolinecolor": "white",
           "zerolinewidth": 2
          },
          "yaxis": {
           "automargin": true,
           "gridcolor": "white",
           "linecolor": "white",
           "ticks": "",
           "title": {
            "standoff": 15
           },
           "zerolinecolor": "white",
           "zerolinewidth": 2
          }
         }
        },
        "title": {
         "text": "Regions with Active Cases in Italy: Status on 04/17/2020"
        },
        "treemapcolorway": [
         "rgb(95, 70, 144)",
         "rgb(29, 105, 150)",
         "rgb(56, 166, 165)",
         "rgb(15, 133, 84)",
         "rgb(115, 175, 72)",
         "rgb(237, 173, 8)",
         "rgb(225, 124, 5)",
         "rgb(204, 80, 62)",
         "rgb(148, 52, 110)",
         "rgb(111, 64, 112)",
         "rgb(102, 102, 102)"
        ]
       }
      },
      "text/html": [
       "<div>\n",
       "        \n",
       "        \n",
       "            <div id=\"c6c1ea9f-7021-42aa-ae50-f292ef6e695b\" class=\"plotly-graph-div\" style=\"height:525px; width:100%;\"></div>\n",
       "            <script type=\"text/javascript\">\n",
       "                require([\"plotly\"], function(Plotly) {\n",
       "                    window.PLOTLYENV=window.PLOTLYENV || {};\n",
       "                    \n",
       "                if (document.getElementById(\"c6c1ea9f-7021-42aa-ae50-f292ef6e695b\")) {\n",
       "                    Plotly.newPlot(\n",
       "                        'c6c1ea9f-7021-42aa-ae50-f292ef6e695b',\n",
       "                        [{\"branchvalues\": \"total\", \"customdata\": [[2443, 1942, 255, 246], [337, 266, 49, 22], [991, 819, 99, 73], [3951, 3027, 631, 293], [21834, 13585, 5346, 2903], [2675, 1428, 1027, 220], [5524, 4214, 978, 332], [6188, 3459, 1863, 866], [64135, 33434, 18850, 11851], [5668, 3157, 1726, 785], [269, 208, 45, 16], [2296, 1582, 480, 234], [3376, 1990, 1044, 342], [19803, 13998, 3634, 2171], [3327, 2656, 364, 307], [1178, 872, 220, 86], [2625, 2139, 296, 190], [8110, 6583, 925, 602], [1337, 494, 786, 57], [993, 491, 379, 123], [15374, 10618, 3730, 1026]], \"domain\": {\"x\": [0.0, 1.0], \"y\": [0.0, 1.0]}, \"hoverlabel\": {\"namelength\": 0}, \"hovertemplate\": \"total positive=%{value}<br>total currently positive=%{customdata[1]}<br>recovered=%{customdata[2]}<br>fatalities=%{customdata[3]}<br>labels=%{label}<br>parent=%{parent}<br>id=%{id}\", \"ids\": [\"Abruzzo\", \"Basilicata\", \"Calabria\", \"Campania\", \"Emilia-Romagna\", \"Friuli Venezia Giulia\", \"Lazio\", \"Liguria\", \"Lombardia\", \"Marche\", \"Molise\", \"P.A. Bolzano\", \"P.A. Trento\", \"Piemonte\", \"Puglia\", \"Sardegna\", \"Sicilia\", \"Toscana\", \"Umbria\", \"Valle d'Aosta\", \"Veneto\"], \"labels\": [\"Abruzzo\", \"Basilicata\", \"Calabria\", \"Campania\", \"Emilia-Romagna\", \"Friuli Venezia Giulia\", \"Lazio\", \"Liguria\", \"Lombardia\", \"Marche\", \"Molise\", \"P.A. Bolzano\", \"P.A. Trento\", \"Piemonte\", \"Puglia\", \"Sardegna\", \"Sicilia\", \"Toscana\", \"Umbria\", \"Valle d'Aosta\", \"Veneto\"], \"name\": \"\", \"parents\": [\"\", \"\", \"\", \"\", \"\", \"\", \"\", \"\", \"\", \"\", \"\", \"\", \"\", \"\", \"\", \"\", \"\", \"\", \"\", \"\", \"\"], \"type\": \"treemap\", \"values\": [2443, 337, 991, 3951, 21834, 2675, 5524, 6188, 64135, 5668, 269, 2296, 3376, 19803, 3327, 1178, 2625, 8110, 1337, 993, 15374]}],\n",
       "                        {\"legend\": {\"tracegroupgap\": 0}, \"template\": {\"data\": {\"bar\": [{\"error_x\": {\"color\": \"#2a3f5f\"}, \"error_y\": {\"color\": \"#2a3f5f\"}, \"marker\": {\"line\": {\"color\": \"#E5ECF6\", \"width\": 0.5}}, \"type\": \"bar\"}], \"barpolar\": [{\"marker\": {\"line\": {\"color\": \"#E5ECF6\", \"width\": 0.5}}, \"type\": \"barpolar\"}], \"carpet\": [{\"aaxis\": {\"endlinecolor\": \"#2a3f5f\", \"gridcolor\": \"white\", \"linecolor\": \"white\", \"minorgridcolor\": \"white\", \"startlinecolor\": \"#2a3f5f\"}, \"baxis\": {\"endlinecolor\": \"#2a3f5f\", \"gridcolor\": \"white\", \"linecolor\": \"white\", \"minorgridcolor\": \"white\", \"startlinecolor\": \"#2a3f5f\"}, \"type\": \"carpet\"}], \"choropleth\": [{\"colorbar\": {\"outlinewidth\": 0, \"ticks\": \"\"}, \"type\": \"choropleth\"}], \"contour\": [{\"colorbar\": {\"outlinewidth\": 0, \"ticks\": \"\"}, \"colorscale\": [[0.0, \"#0d0887\"], [0.1111111111111111, \"#46039f\"], [0.2222222222222222, \"#7201a8\"], [0.3333333333333333, \"#9c179e\"], [0.4444444444444444, \"#bd3786\"], [0.5555555555555556, \"#d8576b\"], [0.6666666666666666, \"#ed7953\"], [0.7777777777777778, \"#fb9f3a\"], [0.8888888888888888, \"#fdca26\"], [1.0, \"#f0f921\"]], \"type\": \"contour\"}], \"contourcarpet\": [{\"colorbar\": {\"outlinewidth\": 0, \"ticks\": \"\"}, \"type\": \"contourcarpet\"}], \"heatmap\": [{\"colorbar\": {\"outlinewidth\": 0, \"ticks\": \"\"}, \"colorscale\": [[0.0, \"#0d0887\"], [0.1111111111111111, \"#46039f\"], [0.2222222222222222, \"#7201a8\"], [0.3333333333333333, \"#9c179e\"], [0.4444444444444444, \"#bd3786\"], [0.5555555555555556, \"#d8576b\"], [0.6666666666666666, \"#ed7953\"], [0.7777777777777778, \"#fb9f3a\"], [0.8888888888888888, \"#fdca26\"], [1.0, \"#f0f921\"]], \"type\": \"heatmap\"}], \"heatmapgl\": [{\"colorbar\": {\"outlinewidth\": 0, \"ticks\": \"\"}, \"colorscale\": [[0.0, \"#0d0887\"], [0.1111111111111111, \"#46039f\"], [0.2222222222222222, \"#7201a8\"], [0.3333333333333333, \"#9c179e\"], [0.4444444444444444, \"#bd3786\"], [0.5555555555555556, \"#d8576b\"], [0.6666666666666666, \"#ed7953\"], [0.7777777777777778, \"#fb9f3a\"], [0.8888888888888888, \"#fdca26\"], [1.0, \"#f0f921\"]], \"type\": \"heatmapgl\"}], \"histogram\": [{\"marker\": {\"colorbar\": {\"outlinewidth\": 0, \"ticks\": \"\"}}, \"type\": \"histogram\"}], \"histogram2d\": [{\"colorbar\": {\"outlinewidth\": 0, \"ticks\": \"\"}, \"colorscale\": [[0.0, \"#0d0887\"], [0.1111111111111111, \"#46039f\"], [0.2222222222222222, \"#7201a8\"], [0.3333333333333333, \"#9c179e\"], [0.4444444444444444, \"#bd3786\"], [0.5555555555555556, \"#d8576b\"], [0.6666666666666666, \"#ed7953\"], [0.7777777777777778, \"#fb9f3a\"], [0.8888888888888888, \"#fdca26\"], [1.0, \"#f0f921\"]], \"type\": \"histogram2d\"}], \"histogram2dcontour\": [{\"colorbar\": {\"outlinewidth\": 0, \"ticks\": \"\"}, \"colorscale\": [[0.0, \"#0d0887\"], [0.1111111111111111, \"#46039f\"], [0.2222222222222222, \"#7201a8\"], [0.3333333333333333, \"#9c179e\"], [0.4444444444444444, \"#bd3786\"], [0.5555555555555556, \"#d8576b\"], [0.6666666666666666, \"#ed7953\"], [0.7777777777777778, \"#fb9f3a\"], [0.8888888888888888, \"#fdca26\"], [1.0, \"#f0f921\"]], \"type\": \"histogram2dcontour\"}], \"mesh3d\": [{\"colorbar\": {\"outlinewidth\": 0, \"ticks\": \"\"}, \"type\": \"mesh3d\"}], \"parcoords\": [{\"line\": {\"colorbar\": {\"outlinewidth\": 0, \"ticks\": \"\"}}, \"type\": \"parcoords\"}], \"pie\": [{\"automargin\": true, \"type\": \"pie\"}], \"scatter\": [{\"marker\": {\"colorbar\": {\"outlinewidth\": 0, \"ticks\": \"\"}}, \"type\": \"scatter\"}], \"scatter3d\": [{\"line\": {\"colorbar\": {\"outlinewidth\": 0, \"ticks\": \"\"}}, \"marker\": {\"colorbar\": {\"outlinewidth\": 0, \"ticks\": \"\"}}, \"type\": \"scatter3d\"}], \"scattercarpet\": [{\"marker\": {\"colorbar\": {\"outlinewidth\": 0, \"ticks\": \"\"}}, \"type\": \"scattercarpet\"}], \"scattergeo\": [{\"marker\": {\"colorbar\": {\"outlinewidth\": 0, \"ticks\": \"\"}}, \"type\": \"scattergeo\"}], \"scattergl\": [{\"marker\": {\"colorbar\": {\"outlinewidth\": 0, \"ticks\": \"\"}}, \"type\": \"scattergl\"}], \"scattermapbox\": [{\"marker\": {\"colorbar\": {\"outlinewidth\": 0, \"ticks\": \"\"}}, \"type\": \"scattermapbox\"}], \"scatterpolar\": [{\"marker\": {\"colorbar\": {\"outlinewidth\": 0, \"ticks\": \"\"}}, \"type\": \"scatterpolar\"}], \"scatterpolargl\": [{\"marker\": {\"colorbar\": {\"outlinewidth\": 0, \"ticks\": \"\"}}, \"type\": \"scatterpolargl\"}], \"scatterternary\": [{\"marker\": {\"colorbar\": {\"outlinewidth\": 0, \"ticks\": \"\"}}, \"type\": \"scatterternary\"}], \"surface\": [{\"colorbar\": {\"outlinewidth\": 0, \"ticks\": \"\"}, \"colorscale\": [[0.0, \"#0d0887\"], [0.1111111111111111, \"#46039f\"], [0.2222222222222222, \"#7201a8\"], [0.3333333333333333, \"#9c179e\"], [0.4444444444444444, \"#bd3786\"], [0.5555555555555556, \"#d8576b\"], [0.6666666666666666, \"#ed7953\"], [0.7777777777777778, \"#fb9f3a\"], [0.8888888888888888, \"#fdca26\"], [1.0, \"#f0f921\"]], \"type\": \"surface\"}], \"table\": [{\"cells\": {\"fill\": {\"color\": \"#EBF0F8\"}, \"line\": {\"color\": \"white\"}}, \"header\": {\"fill\": {\"color\": \"#C8D4E3\"}, \"line\": {\"color\": \"white\"}}, \"type\": \"table\"}]}, \"layout\": {\"annotationdefaults\": {\"arrowcolor\": \"#2a3f5f\", \"arrowhead\": 0, \"arrowwidth\": 1}, \"coloraxis\": {\"colorbar\": {\"outlinewidth\": 0, \"ticks\": \"\"}}, \"colorscale\": {\"diverging\": [[0, \"#8e0152\"], [0.1, \"#c51b7d\"], [0.2, \"#de77ae\"], [0.3, \"#f1b6da\"], [0.4, \"#fde0ef\"], [0.5, \"#f7f7f7\"], [0.6, \"#e6f5d0\"], [0.7, \"#b8e186\"], [0.8, \"#7fbc41\"], [0.9, \"#4d9221\"], [1, \"#276419\"]], \"sequential\": [[0.0, \"#0d0887\"], [0.1111111111111111, \"#46039f\"], [0.2222222222222222, \"#7201a8\"], [0.3333333333333333, \"#9c179e\"], [0.4444444444444444, \"#bd3786\"], [0.5555555555555556, \"#d8576b\"], [0.6666666666666666, \"#ed7953\"], [0.7777777777777778, \"#fb9f3a\"], [0.8888888888888888, \"#fdca26\"], [1.0, \"#f0f921\"]], \"sequentialminus\": [[0.0, \"#0d0887\"], [0.1111111111111111, \"#46039f\"], [0.2222222222222222, \"#7201a8\"], [0.3333333333333333, \"#9c179e\"], [0.4444444444444444, \"#bd3786\"], [0.5555555555555556, \"#d8576b\"], [0.6666666666666666, \"#ed7953\"], [0.7777777777777778, \"#fb9f3a\"], [0.8888888888888888, \"#fdca26\"], [1.0, \"#f0f921\"]]}, \"colorway\": [\"#636efa\", \"#EF553B\", \"#00cc96\", \"#ab63fa\", \"#FFA15A\", \"#19d3f3\", \"#FF6692\", \"#B6E880\", \"#FF97FF\", \"#FECB52\"], \"font\": {\"color\": \"#2a3f5f\"}, \"geo\": {\"bgcolor\": \"white\", \"lakecolor\": \"white\", \"landcolor\": \"#E5ECF6\", \"showlakes\": true, \"showland\": true, \"subunitcolor\": \"white\"}, \"hoverlabel\": {\"align\": \"left\"}, \"hovermode\": \"closest\", \"mapbox\": {\"style\": \"light\"}, \"paper_bgcolor\": \"white\", \"plot_bgcolor\": \"#E5ECF6\", \"polar\": {\"angularaxis\": {\"gridcolor\": \"white\", \"linecolor\": \"white\", \"ticks\": \"\"}, \"bgcolor\": \"#E5ECF6\", \"radialaxis\": {\"gridcolor\": \"white\", \"linecolor\": \"white\", \"ticks\": \"\"}}, \"scene\": {\"xaxis\": {\"backgroundcolor\": \"#E5ECF6\", \"gridcolor\": \"white\", \"gridwidth\": 2, \"linecolor\": \"white\", \"showbackground\": true, \"ticks\": \"\", \"zerolinecolor\": \"white\"}, \"yaxis\": {\"backgroundcolor\": \"#E5ECF6\", \"gridcolor\": \"white\", \"gridwidth\": 2, \"linecolor\": \"white\", \"showbackground\": true, \"ticks\": \"\", \"zerolinecolor\": \"white\"}, \"zaxis\": {\"backgroundcolor\": \"#E5ECF6\", \"gridcolor\": \"white\", \"gridwidth\": 2, \"linecolor\": \"white\", \"showbackground\": true, \"ticks\": \"\", \"zerolinecolor\": \"white\"}}, \"shapedefaults\": {\"line\": {\"color\": \"#2a3f5f\"}}, \"ternary\": {\"aaxis\": {\"gridcolor\": \"white\", \"linecolor\": \"white\", \"ticks\": \"\"}, \"baxis\": {\"gridcolor\": \"white\", \"linecolor\": \"white\", \"ticks\": \"\"}, \"bgcolor\": \"#E5ECF6\", \"caxis\": {\"gridcolor\": \"white\", \"linecolor\": \"white\", \"ticks\": \"\"}}, \"title\": {\"x\": 0.05}, \"xaxis\": {\"automargin\": true, \"gridcolor\": \"white\", \"linecolor\": \"white\", \"ticks\": \"\", \"title\": {\"standoff\": 15}, \"zerolinecolor\": \"white\", \"zerolinewidth\": 2}, \"yaxis\": {\"automargin\": true, \"gridcolor\": \"white\", \"linecolor\": \"white\", \"ticks\": \"\", \"title\": {\"standoff\": 15}, \"zerolinecolor\": \"white\", \"zerolinewidth\": 2}}}, \"title\": {\"text\": \"Regions with Active Cases in Italy: Status on 04/17/2020\"}, \"treemapcolorway\": [\"rgb(95, 70, 144)\", \"rgb(29, 105, 150)\", \"rgb(56, 166, 165)\", \"rgb(15, 133, 84)\", \"rgb(115, 175, 72)\", \"rgb(237, 173, 8)\", \"rgb(225, 124, 5)\", \"rgb(204, 80, 62)\", \"rgb(148, 52, 110)\", \"rgb(111, 64, 112)\", \"rgb(102, 102, 102)\"]},\n",
       "                        {\"responsive\": true}\n",
       "                    ).then(function(){\n",
       "                            \n",
       "var gd = document.getElementById('c6c1ea9f-7021-42aa-ae50-f292ef6e695b');\n",
       "var x = new MutationObserver(function (mutations, observer) {{\n",
       "        var display = window.getComputedStyle(gd).display;\n",
       "        if (!display || display === 'none') {{\n",
       "            console.log([gd, 'removed!']);\n",
       "            Plotly.purge(gd);\n",
       "            observer.disconnect();\n",
       "        }}\n",
       "}});\n",
       "\n",
       "// Listen for the removal of the full notebook cells\n",
       "var notebookContainer = gd.closest('#notebook-container');\n",
       "if (notebookContainer) {{\n",
       "    x.observe(notebookContainer, {childList: true});\n",
       "}}\n",
       "\n",
       "// Listen for the clearing of the current output cell\n",
       "var outputEl = gd.closest('.output');\n",
       "if (outputEl) {{\n",
       "    x.observe(outputEl, {childList: true});\n",
       "}}\n",
       "\n",
       "                        })\n",
       "                };\n",
       "                });\n",
       "            </script>\n",
       "        </div>"
      ]
     },
     "metadata": {},
     "output_type": "display_data"
    },
    {
     "data": {
      "text/plain": [
       "<Figure size 432x288 with 0 Axes>"
      ]
     },
     "metadata": {},
     "output_type": "display_data"
    }
   ],
   "source": [
    "fig = px.treemap(da_daily_region,\n",
    "                 path=['region'],\n",
    "                 values= da_daily_region['total positive'],\n",
    "                 title='Regions with Active Cases in Italy: Status on {}'.format(print_time),\n",
    "                 hover_data=['total positive', 'total currently positive', 'recovered','fatalities'],\n",
    "                 color_discrete_sequence=px.colors.qualitative.Prism)\n",
    "fig.show()\n",
    "plt.savefig('Italy_reg.png', dpi=300)"
   ]
  },
  {
   "cell_type": "raw",
   "metadata": {},
   "source": [
    "Summary data per country is shown if you point on each country's block."
   ]
  },
  {
   "cell_type": "markdown",
   "metadata": {},
   "source": [
    "### Top four regions with most active cases"
   ]
  },
  {
   "cell_type": "markdown",
   "metadata": {},
   "source": [
    "Lombardia is the region with the bigest share of cases of those currently active. \n",
    "<br>As the outbreak hit Lombardia first, the number of fatalities and recovered cases are higher, explaining the lower number of currently cases in comparison to the total of cases. As of 30.03 the number of active cases in the region is slowing down.\n",
    "<br>In the other regions, the outbreak started more recently, therefore the actual positive and total positive in those regions are very close to each other and the curve of active cases keeps growing."
   ]
  },
  {
   "cell_type": "code",
   "execution_count": 23,
   "metadata": {},
   "outputs": [
    {
     "data": {
      "text/html": [
       "<style  type=\"text/css\" >\n",
       "</style><table id=\"T_db66ec9e_8160_11ea_968e_a45e60b8672d\" ><thead>    <tr>        <th class=\"col_heading level0 col0\" >region</th>        <th class=\"col_heading level0 col1\" >total tested</th>        <th class=\"col_heading level0 col2\" >total positive</th>        <th class=\"col_heading level0 col3\" >total currently positive</th>        <th class=\"col_heading level0 col4\" >percentage of active [%]</th>        <th class=\"col_heading level0 col5\" >percentage of total positive [%]</th>    </tr></thead><tbody>\n",
       "                <tr>\n",
       "                                <td id=\"T_db66ec9e_8160_11ea_968e_a45e60b8672drow0_col0\" class=\"data row0 col0\" >Lombardia</td>\n",
       "                        <td id=\"T_db66ec9e_8160_11ea_968e_a45e60b8672drow0_col1\" class=\"data row0 col1\" >243513</td>\n",
       "                        <td id=\"T_db66ec9e_8160_11ea_968e_a45e60b8672drow0_col2\" class=\"data row0 col2\" >64135</td>\n",
       "                        <td id=\"T_db66ec9e_8160_11ea_968e_a45e60b8672drow0_col3\" class=\"data row0 col3\" >33434</td>\n",
       "                        <td id=\"T_db66ec9e_8160_11ea_968e_a45e60b8672drow0_col4\" class=\"data row0 col4\" >31.260000</td>\n",
       "                        <td id=\"T_db66ec9e_8160_11ea_968e_a45e60b8672drow0_col5\" class=\"data row0 col5\" >37.190000</td>\n",
       "            </tr>\n",
       "            <tr>\n",
       "                                <td id=\"T_db66ec9e_8160_11ea_968e_a45e60b8672drow1_col0\" class=\"data row1 col0\" >Piemonte</td>\n",
       "                        <td id=\"T_db66ec9e_8160_11ea_968e_a45e60b8672drow1_col1\" class=\"data row1 col1\" >86714</td>\n",
       "                        <td id=\"T_db66ec9e_8160_11ea_968e_a45e60b8672drow1_col2\" class=\"data row1 col2\" >19803</td>\n",
       "                        <td id=\"T_db66ec9e_8160_11ea_968e_a45e60b8672drow1_col3\" class=\"data row1 col3\" >13998</td>\n",
       "                        <td id=\"T_db66ec9e_8160_11ea_968e_a45e60b8672drow1_col4\" class=\"data row1 col4\" >13.090000</td>\n",
       "                        <td id=\"T_db66ec9e_8160_11ea_968e_a45e60b8672drow1_col5\" class=\"data row1 col5\" >11.480000</td>\n",
       "            </tr>\n",
       "            <tr>\n",
       "                                <td id=\"T_db66ec9e_8160_11ea_968e_a45e60b8672drow2_col0\" class=\"data row2 col0\" >Emilia-Romagna</td>\n",
       "                        <td id=\"T_db66ec9e_8160_11ea_968e_a45e60b8672drow2_col1\" class=\"data row2 col1\" >116826</td>\n",
       "                        <td id=\"T_db66ec9e_8160_11ea_968e_a45e60b8672drow2_col2\" class=\"data row2 col2\" >21834</td>\n",
       "                        <td id=\"T_db66ec9e_8160_11ea_968e_a45e60b8672drow2_col3\" class=\"data row2 col3\" >13585</td>\n",
       "                        <td id=\"T_db66ec9e_8160_11ea_968e_a45e60b8672drow2_col4\" class=\"data row2 col4\" >12.700000</td>\n",
       "                        <td id=\"T_db66ec9e_8160_11ea_968e_a45e60b8672drow2_col5\" class=\"data row2 col5\" >12.660000</td>\n",
       "            </tr>\n",
       "            <tr>\n",
       "                                <td id=\"T_db66ec9e_8160_11ea_968e_a45e60b8672drow3_col0\" class=\"data row3 col0\" >Veneto</td>\n",
       "                        <td id=\"T_db66ec9e_8160_11ea_968e_a45e60b8672drow3_col1\" class=\"data row3 col1\" >236722</td>\n",
       "                        <td id=\"T_db66ec9e_8160_11ea_968e_a45e60b8672drow3_col2\" class=\"data row3 col2\" >15374</td>\n",
       "                        <td id=\"T_db66ec9e_8160_11ea_968e_a45e60b8672drow3_col3\" class=\"data row3 col3\" >10618</td>\n",
       "                        <td id=\"T_db66ec9e_8160_11ea_968e_a45e60b8672drow3_col4\" class=\"data row3 col4\" >9.930000</td>\n",
       "                        <td id=\"T_db66ec9e_8160_11ea_968e_a45e60b8672drow3_col5\" class=\"data row3 col5\" >8.920000</td>\n",
       "            </tr>\n",
       "    </tbody></table>"
      ],
      "text/plain": [
       "<pandas.io.formats.style.Styler at 0x1172b38e0>"
      ]
     },
     "execution_count": 23,
     "metadata": {},
     "output_type": "execute_result"
    }
   ],
   "source": [
    "summary_daily_region.style.hide_index()"
   ]
  },
  {
   "cell_type": "code",
   "execution_count": 24,
   "metadata": {},
   "outputs": [],
   "source": [
    "top_four_italy = summary_daily_region[\"region\"]"
   ]
  },
  {
   "cell_type": "code",
   "execution_count": 25,
   "metadata": {},
   "outputs": [],
   "source": [
    "top_four_italy = top_four_italy.reset_index(drop=True)"
   ]
  },
  {
   "cell_type": "code",
   "execution_count": 26,
   "metadata": {},
   "outputs": [],
   "source": [
    "#top_four_italy[1]"
   ]
  },
  {
   "cell_type": "code",
   "execution_count": 27,
   "metadata": {},
   "outputs": [],
   "source": [
    "reg_1 = da_region[da_region[\"region\"] == top_four_italy[0]]\n",
    "reg_2 = da_region[da_region[\"region\"] == top_four_italy[1]]\n",
    "reg_3 = da_region[da_region[\"region\"] == top_four_italy[2]]\n",
    "reg_4 = da_region[da_region[\"region\"] == top_four_italy[3]]"
   ]
  },
  {
   "cell_type": "code",
   "execution_count": 28,
   "metadata": {},
   "outputs": [],
   "source": [
    "#reg_4[[\"date\",\"total currently positive\"]].head()"
   ]
  },
  {
   "cell_type": "code",
   "execution_count": 29,
   "metadata": {},
   "outputs": [],
   "source": [
    "def time_formatter(da):\n",
    "    rng = da[\"date\"]\n",
    "    rng = [datetime.datetime.strptime(x,'%Y-%m-%dT%H:%M:%S').strftime(\"%b %d\") for x in rng]\n",
    "    da[\"date\"] = rng\n",
    "    return da"
   ]
  },
  {
   "cell_type": "code",
   "execution_count": 30,
   "metadata": {},
   "outputs": [],
   "source": [
    "warnings.filterwarnings(\"ignore\")\n",
    "reg_1 = time_formatter(reg_1)\n",
    "reg_2 = time_formatter(reg_2)\n",
    "reg_3 = time_formatter(reg_3)\n",
    "reg_4 = time_formatter(reg_4)"
   ]
  },
  {
   "cell_type": "code",
   "execution_count": 31,
   "metadata": {},
   "outputs": [
    {
     "data": {
      "image/png": "[encoded data removed]",
      "text/plain": [
       "<Figure size 1152x720 with 4 Axes>"
      ]
     },
     "metadata": {
      "needs_background": "light"
     },
     "output_type": "display_data"
    }
   ],
   "source": [
    "fig, ax = plt.subplots(2, 2, figsize=(16,10), sharey=True)\n",
    "\n",
    "\n",
    "def plot_top4_it(da,num,xcol, ycol, title):\n",
    "    ax[num].plot(da[xcol],da[ycol], lw=3)\n",
    "    ax[num].set_title(title)\n",
    "    ax[num].xaxis.set_major_locator(plt.MaxNLocator(10))\n",
    "    ax[num].grid(True)\n",
    "    \n",
    "plot_top4_it(reg_1, (0,0), \"date\", \"total currently positive\", 'Active cases in {}'.format(top_four_italy[0]))\n",
    "plot_top4_it(reg_2, (0,1), \"date\", \"total currently positive\", 'Active cases in {}'.format(top_four_italy[1]))\n",
    "plot_top4_it(reg_3, (1,0), \"date\", \"total currently positive\", 'Active cases in {}'.format(top_four_italy[2]))\n",
    "plot_top4_it(reg_4, (1,1), \"date\", \"total currently positive\", 'Active cases in {}'.format(top_four_italy[3]))\n",
    "fig.suptitle('Active cases over time in the top four Italian regions by numbers', fontsize=16)\n",
    "\n",
    "plt.show()"
   ]
  },
  {
   "cell_type": "code",
   "execution_count": 32,
   "metadata": {},
   "outputs": [],
   "source": [
    "top_italy = da_daily_region.sort_values(by=\"total currently positive\", ascending=False)[\"region\"].head(4)"
   ]
  },
  {
   "cell_type": "markdown",
   "metadata": {},
   "source": [
    "## Time trend in Lombardia"
   ]
  },
  {
   "cell_type": "code",
   "execution_count": 33,
   "metadata": {},
   "outputs": [],
   "source": [
    "lomb_active_time = da_region[da_region[\"region\"]==\"Lombardia\"][[\"date\",\"total currently positive\",\"fatalities\",\"recovered\"]]"
   ]
  },
  {
   "cell_type": "code",
   "execution_count": 34,
   "metadata": {
    "scrolled": false
   },
   "outputs": [
    {
     "data": {
      "text/plain": [
       "<function matplotlib.pyplot.show(*args, **kw)>"
      ]
     },
     "execution_count": 34,
     "metadata": {},
     "output_type": "execute_result"
    },
    {
     "data": {
      "image/png": "[encoded data removed]",
      "text/plain": [
       "<Figure size 1152x576 with 1 Axes>"
      ]
     },
     "metadata": {
      "needs_background": "light"
     },
     "output_type": "display_data"
    }
   ],
   "source": [
    "plt.figure(figsize=(16,8))\n",
    "plt.title(\"Active numbers in Lombardia\", size=\"x-large\")\n",
    "rng = lomb_active_time[\"date\"]\n",
    "rng = [datetime.datetime.strptime(x,'%Y-%m-%dT%H:%M:%S').strftime(\"%m/%d\") for x in rng]\n",
    "lomb_active_time[\"date\"] = rng\n",
    "sns.lineplot(x=lomb_active_time[\"date\"], y=lomb_active_time[\"total currently positive\"], \n",
    "             label = \"Total active\", marker = \"o\")\n",
    "sns.lineplot(x=lomb_active_time[\"date\"], y=lomb_active_time[\"fatalities\"], \n",
    "             label = \"Fatalities\", marker = \"o\")\n",
    "sns.lineplot(x=lomb_active_time[\"date\"], y=lomb_active_time[\"recovered\"], \n",
    "             label = \"Recovered\", marker = \"o\")\n",
    "plt.xticks(\n",
    "    rotation=45, \n",
    "    horizontalalignment='right',\n",
    "    fontweight='light'  \n",
    ")\n",
    "plt.axvline(x=\"03/09\", ls=\"-.\", c=\"red\", label = \"Countrywide lockdown date\")\n",
    "plt.legend(fontsize=\"medium\")\n",
    "plt.show"
   ]
  },
  {
   "cell_type": "markdown",
   "metadata": {},
   "source": [
    "As of 31.03, the peak of active cases is registered on 29.03. However, the number of active cases started to grow again in the first week of April, so the peak of cases hasn't been reached yet.\n",
    "<br> Looking at the trends in [China and Korea](covid-19_analysis.html), for the former the trend flattened for about five days after the peak before starting to go down; for the latter, there were 5 days of oscillations after the peak value until the curve started to go down steadily.  "
   ]
  }
 ],
 "metadata": {
  "hide_input": false,
  "kernelspec": {
   "display_name": "Python 3",
   "language": "python",
   "name": "python3"
  },
  "language_info": {
   "codemirror_mode": {
    "name": "ipython",
    "version": 3
   },
   "file_extension": ".py",
   "mimetype": "text/x-python",
   "name": "python",
   "nbconvert_exporter": "python",
   "pygments_lexer": "ipython3",
   "version": "3.8.2"
  }
 },
 "nbformat": 4,
 "nbformat_minor": 4
}
