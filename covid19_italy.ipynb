{
 "cells": [
  {
   "cell_type": "markdown",
   "metadata": {},
   "source": [
    "# Country Analysis - Italy"
   ]
  },
  {
   "cell_type": "markdown",
   "metadata": {},
   "source": [
    "The main goal of this analysis is to provide a visual and updated overview of the Covid-19 outbreak in Italy including:\n",
    "- Time trend overview on national level.\n",
    "- Overall numbers in a nutshell.\n",
    "- Analysis on regional level including insights on the four regios with the most active cases.\n",
    "- Time trend overview on Lombardy: the main hotbed of the Italian outbreak.\n",
    "\n",
    "The data is updated on daily basis."
   ]
  },
  {
   "cell_type": "code",
   "execution_count": 1,
   "metadata": {},
   "outputs": [],
   "source": [
    "import pandas as pd\n",
    "import matplotlib.pyplot as plt\n",
    "import matplotlib.dates as mdate\n",
    "import matplotlib.ticker as ticker\n",
    "%matplotlib inline\n",
    "import seaborn as sns\n",
    "import plotly.express as px\n",
    "from plotly.subplots import make_subplots\n",
    "import plotly.graph_objects as go\n",
    "import chart_studio.plotly as py\n",
    "import numpy as np\n",
    "import datetime as datetime\n",
    "from datetime import date, timedelta\n",
    "import requests\n",
    "import io\n",
    "import warnings"
   ]
  },
  {
   "cell_type": "markdown",
   "metadata": {},
   "source": [
    "## Data cleaning and formatting"
   ]
  },
  {
   "cell_type": "markdown",
   "metadata": {},
   "source": [
    "We define a function to get the raw data from the corresponding url and retruning it as a dataframe.\n",
    "<br>This function allows us to get the latest updates."
   ]
  },
  {
   "cell_type": "code",
   "execution_count": 2,
   "metadata": {},
   "outputs": [],
   "source": [
    "def get_raw_data(url):\n",
    "    req = requests.get(url).content\n",
    "    return pd.read_csv(io.StringIO(req.decode('utf-8')))"
   ]
  },
  {
   "cell_type": "markdown",
   "metadata": {},
   "source": [
    "Import the latest reports from the Presidenza del Consiglio dei Ministri - Dipartimento della Protezione Civile. \n",
    "<br>There are four datasets:\n",
    "1. da_national: National data (time series).\n",
    "2. da_region: Regional data (time series).\n",
    "3. da_daily_region: Latest daily data on regional level.\n",
    "4. da_province: Province data.\n",
    "\n",
    "<br>Date of the latest data to be gathered is yesterday to ensure the data is available as the files are updated daily at midnight. \n",
    "<br>We use the date variable \"ieri\" to build the urls dynamically. The date format used in the Italian repository differs from the one used by the CSSE at Johns Hopkins University, this is why we need to build it."
   ]
  },
  {
   "cell_type": "code",
   "execution_count": 3,
   "metadata": {},
   "outputs": [],
   "source": [
    "print_time = date.today() - timedelta(days=1)\n",
    "ieri = print_time.strftime(\"%Y%m%d\")\n",
    "print_time = print_time.strftime(\"%m/%d/%Y\")"
   ]
  },
  {
   "cell_type": "code",
   "execution_count": 4,
   "metadata": {},
   "outputs": [],
   "source": [
    "nat_url = \"https://raw.githubusercontent.com/pcm-dpc/COVID-19/master/dati-andamento-nazionale/dpc-covid19-ita-andamento-nazionale.csv\"\n",
    "reg_url = \"https://raw.githubusercontent.com/pcm-dpc/COVID-19/master/dati-regioni/dpc-covid19-ita-regioni.csv\"\n",
    "reg_daily_url = \"https://raw.githubusercontent.com/pcm-dpc/COVID-19/master/dati-regioni/dpc-covid19-ita-regioni-{}.csv\".format(ieri)\n",
    "prov_url = \"https://raw.githubusercontent.com/pcm-dpc/COVID-19/master/dati-province/dpc-covid19-ita-province.csv\" \n",
    "da_national = get_raw_data(nat_url)\n",
    "da_region = get_raw_data(reg_url)\n",
    "da_daily_region = get_raw_data(reg_daily_url)\n",
    "da_province = get_raw_data(prov_url)"
   ]
  },
  {
   "cell_type": "markdown",
   "metadata": {},
   "source": [
    "We rename the columns to translate them to English."
   ]
  },
  {
   "cell_type": "code",
   "execution_count": 5,
   "metadata": {},
   "outputs": [],
   "source": [
    "#da_national.columns"
   ]
  },
  {
   "cell_type": "code",
   "execution_count": 6,
   "metadata": {},
   "outputs": [
    {
     "data": {
      "text/html": [
       "<style  type=\"text/css\" >\n",
       "</style><table id=\"T_68fc1296_947f_11eb_ab70_a45e60b8672d\" ><thead>    <tr>        <th class=\"col_heading level0 col0\" >timestamp</th>        <th class=\"col_heading level0 col1\" >state</th>        <th class=\"col_heading level0 col2\" >hospitalized with symptoms</th>        <th class=\"col_heading level0 col3\" >intensive care</th>        <th class=\"col_heading level0 col4\" >total hospitalized</th>        <th class=\"col_heading level0 col5\" >self-isolation</th>        <th class=\"col_heading level0 col6\" >total currently positive</th>        <th class=\"col_heading level0 col7\" >variation of total positive</th>        <th class=\"col_heading level0 col8\" >new positive</th>        <th class=\"col_heading level0 col9\" >recovered</th>        <th class=\"col_heading level0 col10\" >fatalities</th>        <th class=\"col_heading level0 col11\" >casi_da_sospetto_diagnostico</th>        <th class=\"col_heading level0 col12\" >casi_da_screening</th>        <th class=\"col_heading level0 col13\" >total positive</th>        <th class=\"col_heading level0 col14\" >total tested</th>        <th class=\"col_heading level0 col15\" >casi_testati</th>        <th class=\"col_heading level0 col16\" >note</th>        <th class=\"col_heading level0 col17\" >ingressi_terapia_intensiva</th>        <th class=\"col_heading level0 col18\" >note_test</th>        <th class=\"col_heading level0 col19\" >note_casi</th>        <th class=\"col_heading level0 col20\" >totale_positivi_test_molecolare</th>        <th class=\"col_heading level0 col21\" >totale_positivi_test_antigenico_rapido</th>        <th class=\"col_heading level0 col22\" >tamponi_test_molecolare</th>        <th class=\"col_heading level0 col23\" >tamponi_test_antigenico_rapido</th>    </tr></thead><tbody>\n",
       "                <tr>\n",
       "                                <td id=\"T_68fc1296_947f_11eb_ab70_a45e60b8672drow0_col0\" class=\"data row0 col0\" >2020-02-24T18:00:00</td>\n",
       "                        <td id=\"T_68fc1296_947f_11eb_ab70_a45e60b8672drow0_col1\" class=\"data row0 col1\" >ITA</td>\n",
       "                        <td id=\"T_68fc1296_947f_11eb_ab70_a45e60b8672drow0_col2\" class=\"data row0 col2\" >101</td>\n",
       "                        <td id=\"T_68fc1296_947f_11eb_ab70_a45e60b8672drow0_col3\" class=\"data row0 col3\" >26</td>\n",
       "                        <td id=\"T_68fc1296_947f_11eb_ab70_a45e60b8672drow0_col4\" class=\"data row0 col4\" >127</td>\n",
       "                        <td id=\"T_68fc1296_947f_11eb_ab70_a45e60b8672drow0_col5\" class=\"data row0 col5\" >94</td>\n",
       "                        <td id=\"T_68fc1296_947f_11eb_ab70_a45e60b8672drow0_col6\" class=\"data row0 col6\" >221</td>\n",
       "                        <td id=\"T_68fc1296_947f_11eb_ab70_a45e60b8672drow0_col7\" class=\"data row0 col7\" >0</td>\n",
       "                        <td id=\"T_68fc1296_947f_11eb_ab70_a45e60b8672drow0_col8\" class=\"data row0 col8\" >221</td>\n",
       "                        <td id=\"T_68fc1296_947f_11eb_ab70_a45e60b8672drow0_col9\" class=\"data row0 col9\" >1</td>\n",
       "                        <td id=\"T_68fc1296_947f_11eb_ab70_a45e60b8672drow0_col10\" class=\"data row0 col10\" >7</td>\n",
       "                        <td id=\"T_68fc1296_947f_11eb_ab70_a45e60b8672drow0_col11\" class=\"data row0 col11\" >nan</td>\n",
       "                        <td id=\"T_68fc1296_947f_11eb_ab70_a45e60b8672drow0_col12\" class=\"data row0 col12\" >nan</td>\n",
       "                        <td id=\"T_68fc1296_947f_11eb_ab70_a45e60b8672drow0_col13\" class=\"data row0 col13\" >229</td>\n",
       "                        <td id=\"T_68fc1296_947f_11eb_ab70_a45e60b8672drow0_col14\" class=\"data row0 col14\" >4324</td>\n",
       "                        <td id=\"T_68fc1296_947f_11eb_ab70_a45e60b8672drow0_col15\" class=\"data row0 col15\" >nan</td>\n",
       "                        <td id=\"T_68fc1296_947f_11eb_ab70_a45e60b8672drow0_col16\" class=\"data row0 col16\" >nan</td>\n",
       "                        <td id=\"T_68fc1296_947f_11eb_ab70_a45e60b8672drow0_col17\" class=\"data row0 col17\" >nan</td>\n",
       "                        <td id=\"T_68fc1296_947f_11eb_ab70_a45e60b8672drow0_col18\" class=\"data row0 col18\" >nan</td>\n",
       "                        <td id=\"T_68fc1296_947f_11eb_ab70_a45e60b8672drow0_col19\" class=\"data row0 col19\" >nan</td>\n",
       "                        <td id=\"T_68fc1296_947f_11eb_ab70_a45e60b8672drow0_col20\" class=\"data row0 col20\" >nan</td>\n",
       "                        <td id=\"T_68fc1296_947f_11eb_ab70_a45e60b8672drow0_col21\" class=\"data row0 col21\" >nan</td>\n",
       "                        <td id=\"T_68fc1296_947f_11eb_ab70_a45e60b8672drow0_col22\" class=\"data row0 col22\" >nan</td>\n",
       "                        <td id=\"T_68fc1296_947f_11eb_ab70_a45e60b8672drow0_col23\" class=\"data row0 col23\" >nan</td>\n",
       "            </tr>\n",
       "            <tr>\n",
       "                                <td id=\"T_68fc1296_947f_11eb_ab70_a45e60b8672drow1_col0\" class=\"data row1 col0\" >2020-02-25T18:00:00</td>\n",
       "                        <td id=\"T_68fc1296_947f_11eb_ab70_a45e60b8672drow1_col1\" class=\"data row1 col1\" >ITA</td>\n",
       "                        <td id=\"T_68fc1296_947f_11eb_ab70_a45e60b8672drow1_col2\" class=\"data row1 col2\" >114</td>\n",
       "                        <td id=\"T_68fc1296_947f_11eb_ab70_a45e60b8672drow1_col3\" class=\"data row1 col3\" >35</td>\n",
       "                        <td id=\"T_68fc1296_947f_11eb_ab70_a45e60b8672drow1_col4\" class=\"data row1 col4\" >150</td>\n",
       "                        <td id=\"T_68fc1296_947f_11eb_ab70_a45e60b8672drow1_col5\" class=\"data row1 col5\" >162</td>\n",
       "                        <td id=\"T_68fc1296_947f_11eb_ab70_a45e60b8672drow1_col6\" class=\"data row1 col6\" >311</td>\n",
       "                        <td id=\"T_68fc1296_947f_11eb_ab70_a45e60b8672drow1_col7\" class=\"data row1 col7\" >90</td>\n",
       "                        <td id=\"T_68fc1296_947f_11eb_ab70_a45e60b8672drow1_col8\" class=\"data row1 col8\" >93</td>\n",
       "                        <td id=\"T_68fc1296_947f_11eb_ab70_a45e60b8672drow1_col9\" class=\"data row1 col9\" >1</td>\n",
       "                        <td id=\"T_68fc1296_947f_11eb_ab70_a45e60b8672drow1_col10\" class=\"data row1 col10\" >10</td>\n",
       "                        <td id=\"T_68fc1296_947f_11eb_ab70_a45e60b8672drow1_col11\" class=\"data row1 col11\" >nan</td>\n",
       "                        <td id=\"T_68fc1296_947f_11eb_ab70_a45e60b8672drow1_col12\" class=\"data row1 col12\" >nan</td>\n",
       "                        <td id=\"T_68fc1296_947f_11eb_ab70_a45e60b8672drow1_col13\" class=\"data row1 col13\" >322</td>\n",
       "                        <td id=\"T_68fc1296_947f_11eb_ab70_a45e60b8672drow1_col14\" class=\"data row1 col14\" >8623</td>\n",
       "                        <td id=\"T_68fc1296_947f_11eb_ab70_a45e60b8672drow1_col15\" class=\"data row1 col15\" >nan</td>\n",
       "                        <td id=\"T_68fc1296_947f_11eb_ab70_a45e60b8672drow1_col16\" class=\"data row1 col16\" >nan</td>\n",
       "                        <td id=\"T_68fc1296_947f_11eb_ab70_a45e60b8672drow1_col17\" class=\"data row1 col17\" >nan</td>\n",
       "                        <td id=\"T_68fc1296_947f_11eb_ab70_a45e60b8672drow1_col18\" class=\"data row1 col18\" >nan</td>\n",
       "                        <td id=\"T_68fc1296_947f_11eb_ab70_a45e60b8672drow1_col19\" class=\"data row1 col19\" >nan</td>\n",
       "                        <td id=\"T_68fc1296_947f_11eb_ab70_a45e60b8672drow1_col20\" class=\"data row1 col20\" >nan</td>\n",
       "                        <td id=\"T_68fc1296_947f_11eb_ab70_a45e60b8672drow1_col21\" class=\"data row1 col21\" >nan</td>\n",
       "                        <td id=\"T_68fc1296_947f_11eb_ab70_a45e60b8672drow1_col22\" class=\"data row1 col22\" >nan</td>\n",
       "                        <td id=\"T_68fc1296_947f_11eb_ab70_a45e60b8672drow1_col23\" class=\"data row1 col23\" >nan</td>\n",
       "            </tr>\n",
       "    </tbody></table>"
      ],
      "text/plain": [
       "<pandas.io.formats.style.Styler at 0x10548bfd0>"
      ]
     },
     "execution_count": 6,
     "metadata": {},
     "output_type": "execute_result"
    }
   ],
   "source": [
    "da_national = da_national.rename(columns={'data':\"timestamp\", 'stato':\"state\", \n",
    "                            'ricoverati_con_sintomi':\"hospitalized with symptoms\", \n",
    "                            'terapia_intensiva':\"intensive care\",\n",
    "                            'totale_ospedalizzati':\"total hospitalized\",\n",
    "                            'isolamento_domiciliare':\"self-isolation\",\n",
    "                            'totale_positivi':\"total currently positive\", \n",
    "                            'variazione_totale_positivi':\"variation of total positive\",\n",
    "                            'nuovi_positivi':\"new positive\",\n",
    "                            'dimessi_guariti':\"recovered\", \n",
    "                            'deceduti':\"fatalities\", \n",
    "                            'totale_casi':\"total positive\", \n",
    "                            'tamponi':\"total tested\"})\n",
    "da_national.head(2).style.hide_index()"
   ]
  },
  {
   "cell_type": "code",
   "execution_count": 7,
   "metadata": {},
   "outputs": [],
   "source": [
    "#da_region.columns"
   ]
  },
  {
   "cell_type": "code",
   "execution_count": 8,
   "metadata": {},
   "outputs": [
    {
     "data": {
      "text/html": [
       "<style  type=\"text/css\" >\n",
       "</style><table id=\"T_6921bb5e_947f_11eb_ab70_a45e60b8672d\" ><thead>    <tr>        <th class=\"col_heading level0 col0\" >date</th>        <th class=\"col_heading level0 col1\" >state</th>        <th class=\"col_heading level0 col2\" >regional code</th>        <th class=\"col_heading level0 col3\" >region</th>        <th class=\"col_heading level0 col4\" >lat</th>        <th class=\"col_heading level0 col5\" >long</th>        <th class=\"col_heading level0 col6\" >hospitalized with symptoms</th>        <th class=\"col_heading level0 col7\" >intensive care</th>        <th class=\"col_heading level0 col8\" >total hospitalized</th>        <th class=\"col_heading level0 col9\" >self-isolation</th>        <th class=\"col_heading level0 col10\" >total currently positive</th>        <th class=\"col_heading level0 col11\" >variation of total positive</th>        <th class=\"col_heading level0 col12\" >new positive</th>        <th class=\"col_heading level0 col13\" >recovered</th>        <th class=\"col_heading level0 col14\" >fatalities</th>        <th class=\"col_heading level0 col15\" >casi_da_sospetto_diagnostico</th>        <th class=\"col_heading level0 col16\" >casi_da_screening</th>        <th class=\"col_heading level0 col17\" >total positive</th>        <th class=\"col_heading level0 col18\" >total tested</th>        <th class=\"col_heading level0 col19\" >casi_testati</th>        <th class=\"col_heading level0 col20\" >note</th>        <th class=\"col_heading level0 col21\" >ingressi_terapia_intensiva</th>        <th class=\"col_heading level0 col22\" >note_test</th>        <th class=\"col_heading level0 col23\" >note_casi</th>        <th class=\"col_heading level0 col24\" >totale_positivi_test_molecolare</th>        <th class=\"col_heading level0 col25\" >totale_positivi_test_antigenico_rapido</th>        <th class=\"col_heading level0 col26\" >tamponi_test_molecolare</th>        <th class=\"col_heading level0 col27\" >tamponi_test_antigenico_rapido</th>        <th class=\"col_heading level0 col28\" >codice_nuts_1</th>        <th class=\"col_heading level0 col29\" >codice_nuts_2</th>    </tr></thead><tbody>\n",
       "                <tr>\n",
       "                                <td id=\"T_6921bb5e_947f_11eb_ab70_a45e60b8672drow0_col0\" class=\"data row0 col0\" >2021-04-02T17:00:00</td>\n",
       "                        <td id=\"T_6921bb5e_947f_11eb_ab70_a45e60b8672drow0_col1\" class=\"data row0 col1\" >ITA</td>\n",
       "                        <td id=\"T_6921bb5e_947f_11eb_ab70_a45e60b8672drow0_col2\" class=\"data row0 col2\" >2</td>\n",
       "                        <td id=\"T_6921bb5e_947f_11eb_ab70_a45e60b8672drow0_col3\" class=\"data row0 col3\" >Valle d'Aosta</td>\n",
       "                        <td id=\"T_6921bb5e_947f_11eb_ab70_a45e60b8672drow0_col4\" class=\"data row0 col4\" >45.737503</td>\n",
       "                        <td id=\"T_6921bb5e_947f_11eb_ab70_a45e60b8672drow0_col5\" class=\"data row0 col5\" >7.320149</td>\n",
       "                        <td id=\"T_6921bb5e_947f_11eb_ab70_a45e60b8672drow0_col6\" class=\"data row0 col6\" >56</td>\n",
       "                        <td id=\"T_6921bb5e_947f_11eb_ab70_a45e60b8672drow0_col7\" class=\"data row0 col7\" >10</td>\n",
       "                        <td id=\"T_6921bb5e_947f_11eb_ab70_a45e60b8672drow0_col8\" class=\"data row0 col8\" >66</td>\n",
       "                        <td id=\"T_6921bb5e_947f_11eb_ab70_a45e60b8672drow0_col9\" class=\"data row0 col9\" >932</td>\n",
       "                        <td id=\"T_6921bb5e_947f_11eb_ab70_a45e60b8672drow0_col10\" class=\"data row0 col10\" >998</td>\n",
       "                        <td id=\"T_6921bb5e_947f_11eb_ab70_a45e60b8672drow0_col11\" class=\"data row0 col11\" >69</td>\n",
       "                        <td id=\"T_6921bb5e_947f_11eb_ab70_a45e60b8672drow0_col12\" class=\"data row0 col12\" >115</td>\n",
       "                        <td id=\"T_6921bb5e_947f_11eb_ab70_a45e60b8672drow0_col13\" class=\"data row0 col13\" >8041</td>\n",
       "                        <td id=\"T_6921bb5e_947f_11eb_ab70_a45e60b8672drow0_col14\" class=\"data row0 col14\" >426</td>\n",
       "                        <td id=\"T_6921bb5e_947f_11eb_ab70_a45e60b8672drow0_col15\" class=\"data row0 col15\" >nan</td>\n",
       "                        <td id=\"T_6921bb5e_947f_11eb_ab70_a45e60b8672drow0_col16\" class=\"data row0 col16\" >nan</td>\n",
       "                        <td id=\"T_6921bb5e_947f_11eb_ab70_a45e60b8672drow0_col17\" class=\"data row0 col17\" >9465</td>\n",
       "                        <td id=\"T_6921bb5e_947f_11eb_ab70_a45e60b8672drow0_col18\" class=\"data row0 col18\" >97294</td>\n",
       "                        <td id=\"T_6921bb5e_947f_11eb_ab70_a45e60b8672drow0_col19\" class=\"data row0 col19\" >52455.000000</td>\n",
       "                        <td id=\"T_6921bb5e_947f_11eb_ab70_a45e60b8672drow0_col20\" class=\"data row0 col20\" >nan</td>\n",
       "                        <td id=\"T_6921bb5e_947f_11eb_ab70_a45e60b8672drow0_col21\" class=\"data row0 col21\" >2.000000</td>\n",
       "                        <td id=\"T_6921bb5e_947f_11eb_ab70_a45e60b8672drow0_col22\" class=\"data row0 col22\" >nan</td>\n",
       "                        <td id=\"T_6921bb5e_947f_11eb_ab70_a45e60b8672drow0_col23\" class=\"data row0 col23\" >nan</td>\n",
       "                        <td id=\"T_6921bb5e_947f_11eb_ab70_a45e60b8672drow0_col24\" class=\"data row0 col24\" >9235.000000</td>\n",
       "                        <td id=\"T_6921bb5e_947f_11eb_ab70_a45e60b8672drow0_col25\" class=\"data row0 col25\" >230.000000</td>\n",
       "                        <td id=\"T_6921bb5e_947f_11eb_ab70_a45e60b8672drow0_col26\" class=\"data row0 col26\" >81855.000000</td>\n",
       "                        <td id=\"T_6921bb5e_947f_11eb_ab70_a45e60b8672drow0_col27\" class=\"data row0 col27\" >15439.000000</td>\n",
       "                        <td id=\"T_6921bb5e_947f_11eb_ab70_a45e60b8672drow0_col28\" class=\"data row0 col28\" >ITC</td>\n",
       "                        <td id=\"T_6921bb5e_947f_11eb_ab70_a45e60b8672drow0_col29\" class=\"data row0 col29\" >ITC2</td>\n",
       "            </tr>\n",
       "            <tr>\n",
       "                                <td id=\"T_6921bb5e_947f_11eb_ab70_a45e60b8672drow1_col0\" class=\"data row1 col0\" >2021-04-02T17:00:00</td>\n",
       "                        <td id=\"T_6921bb5e_947f_11eb_ab70_a45e60b8672drow1_col1\" class=\"data row1 col1\" >ITA</td>\n",
       "                        <td id=\"T_6921bb5e_947f_11eb_ab70_a45e60b8672drow1_col2\" class=\"data row1 col2\" >5</td>\n",
       "                        <td id=\"T_6921bb5e_947f_11eb_ab70_a45e60b8672drow1_col3\" class=\"data row1 col3\" >Veneto</td>\n",
       "                        <td id=\"T_6921bb5e_947f_11eb_ab70_a45e60b8672drow1_col4\" class=\"data row1 col4\" >45.434905</td>\n",
       "                        <td id=\"T_6921bb5e_947f_11eb_ab70_a45e60b8672drow1_col5\" class=\"data row1 col5\" >12.338452</td>\n",
       "                        <td id=\"T_6921bb5e_947f_11eb_ab70_a45e60b8672drow1_col6\" class=\"data row1 col6\" >1666</td>\n",
       "                        <td id=\"T_6921bb5e_947f_11eb_ab70_a45e60b8672drow1_col7\" class=\"data row1 col7\" >284</td>\n",
       "                        <td id=\"T_6921bb5e_947f_11eb_ab70_a45e60b8672drow1_col8\" class=\"data row1 col8\" >1950</td>\n",
       "                        <td id=\"T_6921bb5e_947f_11eb_ab70_a45e60b8672drow1_col9\" class=\"data row1 col9\" >36049</td>\n",
       "                        <td id=\"T_6921bb5e_947f_11eb_ab70_a45e60b8672drow1_col10\" class=\"data row1 col10\" >37999</td>\n",
       "                        <td id=\"T_6921bb5e_947f_11eb_ab70_a45e60b8672drow1_col11\" class=\"data row1 col11\" >-619</td>\n",
       "                        <td id=\"T_6921bb5e_947f_11eb_ab70_a45e60b8672drow1_col12\" class=\"data row1 col12\" >1567</td>\n",
       "                        <td id=\"T_6921bb5e_947f_11eb_ab70_a45e60b8672drow1_col13\" class=\"data row1 col13\" >337357</td>\n",
       "                        <td id=\"T_6921bb5e_947f_11eb_ab70_a45e60b8672drow1_col14\" class=\"data row1 col14\" >10682</td>\n",
       "                        <td id=\"T_6921bb5e_947f_11eb_ab70_a45e60b8672drow1_col15\" class=\"data row1 col15\" >nan</td>\n",
       "                        <td id=\"T_6921bb5e_947f_11eb_ab70_a45e60b8672drow1_col16\" class=\"data row1 col16\" >nan</td>\n",
       "                        <td id=\"T_6921bb5e_947f_11eb_ab70_a45e60b8672drow1_col17\" class=\"data row1 col17\" >386038</td>\n",
       "                        <td id=\"T_6921bb5e_947f_11eb_ab70_a45e60b8672drow1_col18\" class=\"data row1 col18\" >6266877</td>\n",
       "                        <td id=\"T_6921bb5e_947f_11eb_ab70_a45e60b8672drow1_col19\" class=\"data row1 col19\" >1566736.000000</td>\n",
       "                        <td id=\"T_6921bb5e_947f_11eb_ab70_a45e60b8672drow1_col20\" class=\"data row1 col20\" >Nei valori riportati per le terapie intensive si è verificato un disallineamento temporale del flusso informativo pertanto per convenzione è stato riportato 17 dimessi da TI  invece del n. 20   effettivo che include anche i negativizzati. Nella giornata di ieri si è verificato un mancato completamento dell'aggiornamento dei dati e il dato sulla popolazione testata con test molecolare non era corretto. Pertanto il dato di oggi è da considerarsi cumulativo dei dati dei giorni 1 e 2 aprile. </td>\n",
       "                        <td id=\"T_6921bb5e_947f_11eb_ab70_a45e60b8672drow1_col21\" class=\"data row1 col21\" >23.000000</td>\n",
       "                        <td id=\"T_6921bb5e_947f_11eb_ab70_a45e60b8672drow1_col22\" class=\"data row1 col22\" >nan</td>\n",
       "                        <td id=\"T_6921bb5e_947f_11eb_ab70_a45e60b8672drow1_col23\" class=\"data row1 col23\" >nan</td>\n",
       "                        <td id=\"T_6921bb5e_947f_11eb_ab70_a45e60b8672drow1_col24\" class=\"data row1 col24\" >376711.000000</td>\n",
       "                        <td id=\"T_6921bb5e_947f_11eb_ab70_a45e60b8672drow1_col25\" class=\"data row1 col25\" >9327.000000</td>\n",
       "                        <td id=\"T_6921bb5e_947f_11eb_ab70_a45e60b8672drow1_col26\" class=\"data row1 col26\" >4587934.000000</td>\n",
       "                        <td id=\"T_6921bb5e_947f_11eb_ab70_a45e60b8672drow1_col27\" class=\"data row1 col27\" >1678943.000000</td>\n",
       "                        <td id=\"T_6921bb5e_947f_11eb_ab70_a45e60b8672drow1_col28\" class=\"data row1 col28\" >ITH</td>\n",
       "                        <td id=\"T_6921bb5e_947f_11eb_ab70_a45e60b8672drow1_col29\" class=\"data row1 col29\" >ITH3</td>\n",
       "            </tr>\n",
       "    </tbody></table>"
      ],
      "text/plain": [
       "<pandas.io.formats.style.Styler at 0x117aebcd0>"
      ]
     },
     "execution_count": 8,
     "metadata": {},
     "output_type": "execute_result"
    }
   ],
   "source": [
    "da_region = da_region.rename(columns={'data':\"date\", 'stato':\"state\", 'codice_regione':\"regional code\", \n",
    "                          'denominazione_regione':\"region\", 'ricoverati_con_sintomi':\"hospitalized with symptoms\", \n",
    "                          'terapia_intensiva':\"intensive care\",'totale_ospedalizzati':\"total hospitalized\", \n",
    "                          'isolamento_domiciliare':\"self-isolation\", \n",
    "                          'totale_positivi':\"total currently positive\", \n",
    "                          'variazione_totale_positivi':\"variation of total positive\",\n",
    "                          'nuovi_positivi':\"new positive\",'dimessi_guariti':\"recovered\", \n",
    "                          'deceduti':\"fatalities\", 'totale_casi':\"total positive\", 'tamponi':\"total tested\"})\n",
    "da_region.tail(2).style.hide_index()"
   ]
  },
  {
   "cell_type": "code",
   "execution_count": 9,
   "metadata": {},
   "outputs": [],
   "source": [
    "#da_daily_region.columns"
   ]
  },
  {
   "cell_type": "code",
   "execution_count": 10,
   "metadata": {},
   "outputs": [
    {
     "data": {
      "text/html": [
       "<style  type=\"text/css\" >\n",
       "</style><table id=\"T_693bd5b6_947f_11eb_ab70_a45e60b8672d\" ><thead>    <tr>        <th class=\"col_heading level0 col0\" >date</th>        <th class=\"col_heading level0 col1\" >state</th>        <th class=\"col_heading level0 col2\" >regional code</th>        <th class=\"col_heading level0 col3\" >region</th>        <th class=\"col_heading level0 col4\" >lat</th>        <th class=\"col_heading level0 col5\" >long</th>        <th class=\"col_heading level0 col6\" >hospitalized with symptoms</th>        <th class=\"col_heading level0 col7\" >intensive care</th>        <th class=\"col_heading level0 col8\" >total hospitalized</th>        <th class=\"col_heading level0 col9\" >self-isolation</th>        <th class=\"col_heading level0 col10\" >total currently positive</th>        <th class=\"col_heading level0 col11\" >variation of total positive</th>        <th class=\"col_heading level0 col12\" >new positive</th>        <th class=\"col_heading level0 col13\" >recovered</th>        <th class=\"col_heading level0 col14\" >fatalities</th>        <th class=\"col_heading level0 col15\" >casi_da_sospetto_diagnostico</th>        <th class=\"col_heading level0 col16\" >casi_da_screening</th>        <th class=\"col_heading level0 col17\" >total positive</th>        <th class=\"col_heading level0 col18\" >total tested</th>        <th class=\"col_heading level0 col19\" >casi_testati</th>        <th class=\"col_heading level0 col20\" >note</th>        <th class=\"col_heading level0 col21\" >ingressi_terapia_intensiva</th>        <th class=\"col_heading level0 col22\" >note_test</th>        <th class=\"col_heading level0 col23\" >note_casi</th>        <th class=\"col_heading level0 col24\" >totale_positivi_test_molecolare</th>        <th class=\"col_heading level0 col25\" >totale_positivi_test_antigenico_rapido</th>        <th class=\"col_heading level0 col26\" >tamponi_test_molecolare</th>        <th class=\"col_heading level0 col27\" >tamponi_test_antigenico_rapido</th>        <th class=\"col_heading level0 col28\" >codice_nuts_1</th>        <th class=\"col_heading level0 col29\" >codice_nuts_2</th>    </tr></thead><tbody>\n",
       "                <tr>\n",
       "                                <td id=\"T_693bd5b6_947f_11eb_ab70_a45e60b8672drow0_col0\" class=\"data row0 col0\" >2021-04-02T17:00:00</td>\n",
       "                        <td id=\"T_693bd5b6_947f_11eb_ab70_a45e60b8672drow0_col1\" class=\"data row0 col1\" >ITA</td>\n",
       "                        <td id=\"T_693bd5b6_947f_11eb_ab70_a45e60b8672drow0_col2\" class=\"data row0 col2\" >13</td>\n",
       "                        <td id=\"T_693bd5b6_947f_11eb_ab70_a45e60b8672drow0_col3\" class=\"data row0 col3\" >Abruzzo</td>\n",
       "                        <td id=\"T_693bd5b6_947f_11eb_ab70_a45e60b8672drow0_col4\" class=\"data row0 col4\" >42.351222</td>\n",
       "                        <td id=\"T_693bd5b6_947f_11eb_ab70_a45e60b8672drow0_col5\" class=\"data row0 col5\" >13.398438</td>\n",
       "                        <td id=\"T_693bd5b6_947f_11eb_ab70_a45e60b8672drow0_col6\" class=\"data row0 col6\" >577</td>\n",
       "                        <td id=\"T_693bd5b6_947f_11eb_ab70_a45e60b8672drow0_col7\" class=\"data row0 col7\" >69</td>\n",
       "                        <td id=\"T_693bd5b6_947f_11eb_ab70_a45e60b8672drow0_col8\" class=\"data row0 col8\" >646</td>\n",
       "                        <td id=\"T_693bd5b6_947f_11eb_ab70_a45e60b8672drow0_col9\" class=\"data row0 col9\" >9694</td>\n",
       "                        <td id=\"T_693bd5b6_947f_11eb_ab70_a45e60b8672drow0_col10\" class=\"data row0 col10\" >10340</td>\n",
       "                        <td id=\"T_693bd5b6_947f_11eb_ab70_a45e60b8672drow0_col11\" class=\"data row0 col11\" >199</td>\n",
       "                        <td id=\"T_693bd5b6_947f_11eb_ab70_a45e60b8672drow0_col12\" class=\"data row0 col12\" >424</td>\n",
       "                        <td id=\"T_693bd5b6_947f_11eb_ab70_a45e60b8672drow0_col13\" class=\"data row0 col13\" >53440</td>\n",
       "                        <td id=\"T_693bd5b6_947f_11eb_ab70_a45e60b8672drow0_col14\" class=\"data row0 col14\" >2151</td>\n",
       "                        <td id=\"T_693bd5b6_947f_11eb_ab70_a45e60b8672drow0_col15\" class=\"data row0 col15\" >nan</td>\n",
       "                        <td id=\"T_693bd5b6_947f_11eb_ab70_a45e60b8672drow0_col16\" class=\"data row0 col16\" >nan</td>\n",
       "                        <td id=\"T_693bd5b6_947f_11eb_ab70_a45e60b8672drow0_col17\" class=\"data row0 col17\" >65931</td>\n",
       "                        <td id=\"T_693bd5b6_947f_11eb_ab70_a45e60b8672drow0_col18\" class=\"data row0 col18\" >1257775</td>\n",
       "                        <td id=\"T_693bd5b6_947f_11eb_ab70_a45e60b8672drow0_col19\" class=\"data row0 col19\" >579809</td>\n",
       "                        <td id=\"T_693bd5b6_947f_11eb_ab70_a45e60b8672drow0_col20\" class=\"data row0 col20\" >Dal totale dei positivi è stato eliminato un caso in quanto già segnalato da altra regione.</td>\n",
       "                        <td id=\"T_693bd5b6_947f_11eb_ab70_a45e60b8672drow0_col21\" class=\"data row0 col21\" >4</td>\n",
       "                        <td id=\"T_693bd5b6_947f_11eb_ab70_a45e60b8672drow0_col22\" class=\"data row0 col22\" >nan</td>\n",
       "                        <td id=\"T_693bd5b6_947f_11eb_ab70_a45e60b8672drow0_col23\" class=\"data row0 col23\" >nan</td>\n",
       "                        <td id=\"T_693bd5b6_947f_11eb_ab70_a45e60b8672drow0_col24\" class=\"data row0 col24\" >65931</td>\n",
       "                        <td id=\"T_693bd5b6_947f_11eb_ab70_a45e60b8672drow0_col25\" class=\"data row0 col25\" >0</td>\n",
       "                        <td id=\"T_693bd5b6_947f_11eb_ab70_a45e60b8672drow0_col26\" class=\"data row0 col26\" >900504</td>\n",
       "                        <td id=\"T_693bd5b6_947f_11eb_ab70_a45e60b8672drow0_col27\" class=\"data row0 col27\" >357271</td>\n",
       "                        <td id=\"T_693bd5b6_947f_11eb_ab70_a45e60b8672drow0_col28\" class=\"data row0 col28\" >ITF</td>\n",
       "                        <td id=\"T_693bd5b6_947f_11eb_ab70_a45e60b8672drow0_col29\" class=\"data row0 col29\" >ITF1</td>\n",
       "            </tr>\n",
       "            <tr>\n",
       "                                <td id=\"T_693bd5b6_947f_11eb_ab70_a45e60b8672drow1_col0\" class=\"data row1 col0\" >2021-04-02T17:00:00</td>\n",
       "                        <td id=\"T_693bd5b6_947f_11eb_ab70_a45e60b8672drow1_col1\" class=\"data row1 col1\" >ITA</td>\n",
       "                        <td id=\"T_693bd5b6_947f_11eb_ab70_a45e60b8672drow1_col2\" class=\"data row1 col2\" >17</td>\n",
       "                        <td id=\"T_693bd5b6_947f_11eb_ab70_a45e60b8672drow1_col3\" class=\"data row1 col3\" >Basilicata</td>\n",
       "                        <td id=\"T_693bd5b6_947f_11eb_ab70_a45e60b8672drow1_col4\" class=\"data row1 col4\" >40.639471</td>\n",
       "                        <td id=\"T_693bd5b6_947f_11eb_ab70_a45e60b8672drow1_col5\" class=\"data row1 col5\" >15.805148</td>\n",
       "                        <td id=\"T_693bd5b6_947f_11eb_ab70_a45e60b8672drow1_col6\" class=\"data row1 col6\" >178</td>\n",
       "                        <td id=\"T_693bd5b6_947f_11eb_ab70_a45e60b8672drow1_col7\" class=\"data row1 col7\" >12</td>\n",
       "                        <td id=\"T_693bd5b6_947f_11eb_ab70_a45e60b8672drow1_col8\" class=\"data row1 col8\" >190</td>\n",
       "                        <td id=\"T_693bd5b6_947f_11eb_ab70_a45e60b8672drow1_col9\" class=\"data row1 col9\" >4766</td>\n",
       "                        <td id=\"T_693bd5b6_947f_11eb_ab70_a45e60b8672drow1_col10\" class=\"data row1 col10\" >4956</td>\n",
       "                        <td id=\"T_693bd5b6_947f_11eb_ab70_a45e60b8672drow1_col11\" class=\"data row1 col11\" >94</td>\n",
       "                        <td id=\"T_693bd5b6_947f_11eb_ab70_a45e60b8672drow1_col12\" class=\"data row1 col12\" >166</td>\n",
       "                        <td id=\"T_693bd5b6_947f_11eb_ab70_a45e60b8672drow1_col13\" class=\"data row1 col13\" >14401</td>\n",
       "                        <td id=\"T_693bd5b6_947f_11eb_ab70_a45e60b8672drow1_col14\" class=\"data row1 col14\" >448</td>\n",
       "                        <td id=\"T_693bd5b6_947f_11eb_ab70_a45e60b8672drow1_col15\" class=\"data row1 col15\" >nan</td>\n",
       "                        <td id=\"T_693bd5b6_947f_11eb_ab70_a45e60b8672drow1_col16\" class=\"data row1 col16\" >nan</td>\n",
       "                        <td id=\"T_693bd5b6_947f_11eb_ab70_a45e60b8672drow1_col17\" class=\"data row1 col17\" >19805</td>\n",
       "                        <td id=\"T_693bd5b6_947f_11eb_ab70_a45e60b8672drow1_col18\" class=\"data row1 col18\" >296138</td>\n",
       "                        <td id=\"T_693bd5b6_947f_11eb_ab70_a45e60b8672drow1_col19\" class=\"data row1 col19\" >169502</td>\n",
       "                        <td id=\"T_693bd5b6_947f_11eb_ab70_a45e60b8672drow1_col20\" class=\"data row1 col20\" >IL NUMERO TOTALE DEI DECESSI COMPRENDE 14 PAZIENTI NON RESIDENTI, DECEDUTI  IN STRUTTURE OSPEDALIERE DELLA REGIONE BASILICATA. </td>\n",
       "                        <td id=\"T_693bd5b6_947f_11eb_ab70_a45e60b8672drow1_col21\" class=\"data row1 col21\" >0</td>\n",
       "                        <td id=\"T_693bd5b6_947f_11eb_ab70_a45e60b8672drow1_col22\" class=\"data row1 col22\" >nan</td>\n",
       "                        <td id=\"T_693bd5b6_947f_11eb_ab70_a45e60b8672drow1_col23\" class=\"data row1 col23\" >nan</td>\n",
       "                        <td id=\"T_693bd5b6_947f_11eb_ab70_a45e60b8672drow1_col24\" class=\"data row1 col24\" >19805</td>\n",
       "                        <td id=\"T_693bd5b6_947f_11eb_ab70_a45e60b8672drow1_col25\" class=\"data row1 col25\" >0</td>\n",
       "                        <td id=\"T_693bd5b6_947f_11eb_ab70_a45e60b8672drow1_col26\" class=\"data row1 col26\" >283731</td>\n",
       "                        <td id=\"T_693bd5b6_947f_11eb_ab70_a45e60b8672drow1_col27\" class=\"data row1 col27\" >12407</td>\n",
       "                        <td id=\"T_693bd5b6_947f_11eb_ab70_a45e60b8672drow1_col28\" class=\"data row1 col28\" >ITF</td>\n",
       "                        <td id=\"T_693bd5b6_947f_11eb_ab70_a45e60b8672drow1_col29\" class=\"data row1 col29\" >ITF5</td>\n",
       "            </tr>\n",
       "    </tbody></table>"
      ],
      "text/plain": [
       "<pandas.io.formats.style.Styler at 0x119048b20>"
      ]
     },
     "execution_count": 10,
     "metadata": {},
     "output_type": "execute_result"
    }
   ],
   "source": [
    "da_daily_region = da_daily_region.rename(columns={'data':\"date\", 'stato':\"state\", 'codice_regione':\"regional code\", \n",
    "                          'denominazione_regione':\"region\", 'ricoverati_con_sintomi':\"hospitalized with symptoms\", \n",
    "                          'terapia_intensiva':\"intensive care\",'totale_ospedalizzati':\"total hospitalized\", \n",
    "                          'isolamento_domiciliare':\"self-isolation\", \n",
    "                          'totale_positivi':\"total currently positive\", \n",
    "                          'variazione_totale_positivi':\"variation of total positive\",\n",
    "                          'nuovi_positivi':\"new positive\",'dimessi_guariti':\"recovered\", \n",
    "                          'deceduti':\"fatalities\", 'totale_casi':\"total positive\", 'tamponi':\"total tested\"})\n",
    "da_daily_region.head(2).style.hide_index()"
   ]
  },
  {
   "cell_type": "markdown",
   "metadata": {},
   "source": [
    "## Time trends on national level "
   ]
  },
  {
   "cell_type": "code",
   "execution_count": 11,
   "metadata": {},
   "outputs": [],
   "source": [
    "rng = da_national[\"timestamp\"]\n",
    "rng = [datetime.datetime.strptime(x,'%Y-%m-%dT%H:%M:%S').strftime(\"%m/%d/%Y\") for x in rng]"
   ]
  },
  {
   "cell_type": "code",
   "execution_count": 12,
   "metadata": {},
   "outputs": [
    {
     "data": {
      "text/plain": [
       "<function matplotlib.pyplot.show(*args, **kw)>"
      ]
     },
     "execution_count": 12,
     "metadata": {},
     "output_type": "execute_result"
    },
    {
     "data": {
      "image/png": "[encoded data removed]",
      "text/plain": [
       "<Figure size 1152x576 with 1 Axes>"
      ]
     },
     "metadata": {
      "needs_background": "light"
     },
     "output_type": "display_data"
    }
   ],
   "source": [
    "plt.figure(figsize=(16,8))\n",
    "plt.title(\"Cumulative numbers at national level\", size=\"x-large\")\n",
    "da_national[\"date\"] = rng\n",
    "sns.lineplot(x=da_national[\"date\"], y=da_national[\"total positive\"], \n",
    "             label = \"Total positive\", marker = \"o\", sort=False)\n",
    "sns.lineplot(x=da_national[\"date\"], y=da_national[\"total currently positive\"], \n",
    "             label = \"Total currently positive\", marker = \"o\", sort=False)\n",
    "sns.lineplot(x=da_national[\"date\"], y=da_national[\"fatalities\"], \n",
    "             label = \"Total fatalities\", marker = \"o\", color = \"red\", sort=False)\n",
    "sns.lineplot(x=da_national[\"date\"], y=da_national[\"total hospitalized\"], \n",
    "             label = \"Total hospitalized\", marker = \"o\", color=\"violet\", sort=False)\n",
    "ax = sns.lineplot(x=da_national[\"date\"], y=da_national[\"intensive care\"], \n",
    "             label = \"Total in ICU\", marker = \"o\", color=\"blue\", sort=False)\n",
    "ax.xaxis.set_major_locator(plt.MaxNLocator(30))\n",
    "ax.set(xlabel = \"Date\", ylabel = \"Count\")\n",
    "plt.xticks(\n",
    "    rotation=45, \n",
    "    horizontalalignment='right',\n",
    "    fontweight='light'  \n",
    ")\n",
    "plt.axvline(x=\"03/09/2020\", ls=\"-.\", c=\"red\", label = \"First countrywide lockdown date\")\n",
    "plt.legend(fontsize=\"medium\")\n",
    "plt.show"
   ]
  },
  {
   "cell_type": "markdown",
   "metadata": {},
   "source": [
    "Active cases keep growing on national level, however the growth of new cases has been slowing down since the beginning of April. If the currently positive curve continues to follow the trends from [China and Korea](covid-19_analysis.html), the growth could be expected until at least one month since the countrywide lockdown started."
   ]
  },
  {
   "cell_type": "markdown",
   "metadata": {},
   "source": [
    "## Country numbers in a nutshell"
   ]
  },
  {
   "cell_type": "code",
   "execution_count": 13,
   "metadata": {},
   "outputs": [
    {
     "name": "stdout",
     "output_type": "stream",
     "text": [
      "Overall status as on 04/02/2021:\n"
     ]
    }
   ],
   "source": [
    "print(\"Overall status as on {}:\".format(rng[-1])) "
   ]
  },
  {
   "cell_type": "code",
   "execution_count": 14,
   "metadata": {},
   "outputs": [
    {
     "data": {
      "text/html": [
       "<style  type=\"text/css\" >\n",
       "</style><table id=\"T_757b5310_947f_11eb_ab70_a45e60b8672d\" ><thead>    <tr>        <th class=\"col_heading level0 col0\" >total tested</th>        <th class=\"col_heading level0 col1\" >total positive</th>        <th class=\"col_heading level0 col2\" >total currently positive</th>        <th class=\"col_heading level0 col3\" >recovered</th>        <th class=\"col_heading level0 col4\" >self-isolation</th>        <th class=\"col_heading level0 col5\" >total hospitalized</th>        <th class=\"col_heading level0 col6\" >intensive care</th>        <th class=\"col_heading level0 col7\" >fatalities</th>        <th class=\"col_heading level0 col8\" >death rate [%]</th>    </tr></thead><tbody>\n",
       "                <tr>\n",
       "                                <td id=\"T_757b5310_947f_11eb_ab70_a45e60b8672drow0_col0\" class=\"data row0 col0\" >50589896</td>\n",
       "                        <td id=\"T_757b5310_947f_11eb_ab70_a45e60b8672drow0_col1\" class=\"data row0 col1\" >3629000</td>\n",
       "                        <td id=\"T_757b5310_947f_11eb_ab70_a45e60b8672drow0_col2\" class=\"data row0 col2\" >565295</td>\n",
       "                        <td id=\"T_757b5310_947f_11eb_ab70_a45e60b8672drow0_col3\" class=\"data row0 col3\" >2953377</td>\n",
       "                        <td id=\"T_757b5310_947f_11eb_ab70_a45e60b8672drow0_col4\" class=\"data row0 col4\" >532887</td>\n",
       "                        <td id=\"T_757b5310_947f_11eb_ab70_a45e60b8672drow0_col5\" class=\"data row0 col5\" >32408</td>\n",
       "                        <td id=\"T_757b5310_947f_11eb_ab70_a45e60b8672drow0_col6\" class=\"data row0 col6\" >3704</td>\n",
       "                        <td id=\"T_757b5310_947f_11eb_ab70_a45e60b8672drow0_col7\" class=\"data row0 col7\" >110328</td>\n",
       "                        <td id=\"T_757b5310_947f_11eb_ab70_a45e60b8672drow0_col8\" class=\"data row0 col8\" >3.040176</td>\n",
       "            </tr>\n",
       "    </tbody></table>"
      ],
      "text/plain": [
       "<pandas.io.formats.style.Styler at 0x11920cd60>"
      ]
     },
     "execution_count": 14,
     "metadata": {},
     "output_type": "execute_result"
    }
   ],
   "source": [
    "latest = da_national.loc[:,['total tested','total positive', 'total currently positive',\n",
    "                            'recovered','self-isolation','total hospitalized',\n",
    "                            'intensive care','fatalities']].tail(1)\n",
    "latest[\"death rate [%]\"] = 100*latest[\"fatalities\"]/latest[\"total positive\"]\n",
    "latest.head().style.hide_index()"
   ]
  },
  {
   "cell_type": "code",
   "execution_count": 15,
   "metadata": {},
   "outputs": [],
   "source": [
    "ind = len(da_national) -1\n",
    "perc = latest.drop([\"total tested\",\"death rate [%]\"], axis=1)\n",
    "perc = 100*perc/latest.loc[ind,\"total tested\"]"
   ]
  },
  {
   "cell_type": "markdown",
   "metadata": {},
   "source": [
    "#### From all tested population we have the following figures in terms of percentage:"
   ]
  },
  {
   "cell_type": "code",
   "execution_count": 16,
   "metadata": {},
   "outputs": [
    {
     "data": {
      "text/html": [
       "<style  type=\"text/css\" >\n",
       "</style><table id=\"T_75a396ea_947f_11eb_ab70_a45e60b8672d\" ><thead>    <tr>        <th class=\"col_heading level0 col0\" >total positive</th>        <th class=\"col_heading level0 col1\" >total currently positive</th>        <th class=\"col_heading level0 col2\" >recovered</th>        <th class=\"col_heading level0 col3\" >self-isolation</th>        <th class=\"col_heading level0 col4\" >total hospitalized</th>        <th class=\"col_heading level0 col5\" >intensive care</th>        <th class=\"col_heading level0 col6\" >fatalities</th>    </tr></thead><tbody>\n",
       "                <tr>\n",
       "                                <td id=\"T_75a396ea_947f_11eb_ab70_a45e60b8672drow0_col0\" class=\"data row0 col0\" >7.170000</td>\n",
       "                        <td id=\"T_75a396ea_947f_11eb_ab70_a45e60b8672drow0_col1\" class=\"data row0 col1\" >1.120000</td>\n",
       "                        <td id=\"T_75a396ea_947f_11eb_ab70_a45e60b8672drow0_col2\" class=\"data row0 col2\" >5.840000</td>\n",
       "                        <td id=\"T_75a396ea_947f_11eb_ab70_a45e60b8672drow0_col3\" class=\"data row0 col3\" >1.050000</td>\n",
       "                        <td id=\"T_75a396ea_947f_11eb_ab70_a45e60b8672drow0_col4\" class=\"data row0 col4\" >0.060000</td>\n",
       "                        <td id=\"T_75a396ea_947f_11eb_ab70_a45e60b8672drow0_col5\" class=\"data row0 col5\" >0.010000</td>\n",
       "                        <td id=\"T_75a396ea_947f_11eb_ab70_a45e60b8672drow0_col6\" class=\"data row0 col6\" >0.220000</td>\n",
       "            </tr>\n",
       "    </tbody></table>"
      ],
      "text/plain": [
       "<pandas.io.formats.style.Styler at 0x1184d9400>"
      ]
     },
     "execution_count": 16,
     "metadata": {},
     "output_type": "execute_result"
    }
   ],
   "source": [
    "round(perc,2).style.hide_index()"
   ]
  },
  {
   "cell_type": "code",
   "execution_count": 17,
   "metadata": {},
   "outputs": [
    {
     "data": {
      "image/png": "[encoded data removed]",
      "text/plain": [
       "<Figure size 720x360 with 1 Axes>"
      ]
     },
     "metadata": {
      "needs_background": "light"
     },
     "output_type": "display_data"
    }
   ],
   "source": [
    "fig, ax = plt.subplots(figsize=(10,5))\n",
    "plt.title(\"Percentage of categories vs total number of tested ({} people)\".format(latest.loc[ind,\"total tested\"]), \n",
    "          size=\"large\")\n",
    "ax = sns.barplot(data=perc, \n",
    "     orient=\"h\",\n",
    "     palette = 'hls').set(xlabel = \"Percentage [%]\")"
   ]
  },
  {
   "cell_type": "markdown",
   "metadata": {},
   "source": [
    "## Analysis on regional level"
   ]
  },
  {
   "cell_type": "code",
   "execution_count": 18,
   "metadata": {
    "scrolled": false
   },
   "outputs": [],
   "source": [
    "da_daily_region[\"percentage of active [%]\"] = round(100*da_daily_region[\n",
    "                                    \"total currently positive\"]/latest.loc[ind,\"total currently positive\"],2)\n",
    "da_daily_region[\"percentage of total positive [%]\"] = round(\n",
    "                                    100*da_daily_region[\"total positive\"]/latest.loc[ind,\"total positive\"],2)"
   ]
  },
  {
   "cell_type": "code",
   "execution_count": 19,
   "metadata": {},
   "outputs": [],
   "source": [
    "summary_daily_region = da_daily_region[[\"region\",\"total tested\",\"total positive\",\"total currently positive\",\n",
    "                 \"percentage of active [%]\",\n",
    "                 \"percentage of total positive [%]\"]].sort_values(\n",
    "                 by=\"total currently positive\", ascending=False).head(4)"
   ]
  },
  {
   "cell_type": "code",
   "execution_count": null,
   "metadata": {},
   "outputs": [],
   "source": [
    "fig = px.treemap(da_daily_region,\n",
    "                 path=['region'],\n",
    "                 values= da_daily_region['total positive'],\n",
    "                 title='Regions with Active Cases in Italy: Status on {}'.format(print_time),\n",
    "                 hover_data=['total positive', 'total currently positive', 'recovered','fatalities'],\n",
    "                 color_discrete_sequence=px.colors.qualitative.Prism)\n",
    "fig.write_image(\"Italy_reg.png\")\n",
    "fig.show()"
   ]
  },
  {
   "cell_type": "raw",
   "metadata": {},
   "source": [
    "Summary data per country is shown if you point on each country's block."
   ]
  },
  {
   "cell_type": "markdown",
   "metadata": {},
   "source": [
    "### Top four regions with most active cases"
   ]
  },
  {
   "cell_type": "markdown",
   "metadata": {},
   "source": [
    "Lombardia is the region with the bigest share of cases of those currently active. \n",
    "<br>As the outbreak hit Lombardia first, the number of fatalities and recovered cases are higher, explaining the lower number of currently cases in comparison to the total of cases. As of 30.03 the number of active cases in the region is slowing down.\n",
    "<br>In the other regions, the outbreak started more recently, therefore the actual positive and total positive in those regions are very close to each other and the curve of active cases keeps growing."
   ]
  },
  {
   "cell_type": "code",
   "execution_count": null,
   "metadata": {},
   "outputs": [],
   "source": [
    "summary_daily_region.style.hide_index()"
   ]
  },
  {
   "cell_type": "code",
   "execution_count": null,
   "metadata": {},
   "outputs": [],
   "source": [
    "top_four_italy = summary_daily_region[\"region\"]"
   ]
  },
  {
   "cell_type": "code",
   "execution_count": null,
   "metadata": {},
   "outputs": [],
   "source": [
    "top_four_italy = top_four_italy.reset_index(drop=True)"
   ]
  },
  {
   "cell_type": "code",
   "execution_count": null,
   "metadata": {},
   "outputs": [],
   "source": [
    "#top_four_italy[1]"
   ]
  },
  {
   "cell_type": "code",
   "execution_count": null,
   "metadata": {},
   "outputs": [],
   "source": [
    "reg_1 = da_region[da_region[\"region\"] == top_four_italy[0]]\n",
    "reg_2 = da_region[da_region[\"region\"] == top_four_italy[1]]\n",
    "reg_3 = da_region[da_region[\"region\"] == top_four_italy[2]]\n",
    "reg_4 = da_region[da_region[\"region\"] == top_four_italy[3]]"
   ]
  },
  {
   "cell_type": "code",
   "execution_count": null,
   "metadata": {},
   "outputs": [],
   "source": [
    "#reg_4[[\"date\",\"total currently positive\"]].head()"
   ]
  },
  {
   "cell_type": "code",
   "execution_count": null,
   "metadata": {},
   "outputs": [],
   "source": [
    "def time_formatter(da):\n",
    "    rng = da[\"date\"]\n",
    "    rng = [datetime.datetime.strptime(x,'%Y-%m-%dT%H:%M:%S').strftime(\"%m/%d/%Y\") for x in rng]\n",
    "    da[\"date\"] = rng\n",
    "    return da"
   ]
  },
  {
   "cell_type": "code",
   "execution_count": null,
   "metadata": {},
   "outputs": [],
   "source": [
    "warnings.filterwarnings(\"ignore\")\n",
    "reg_1 = time_formatter(reg_1)\n",
    "reg_2 = time_formatter(reg_2)\n",
    "reg_3 = time_formatter(reg_3)\n",
    "reg_4 = time_formatter(reg_4)"
   ]
  },
  {
   "cell_type": "code",
   "execution_count": null,
   "metadata": {},
   "outputs": [],
   "source": [
    "fig, ax = plt.subplots(2, 2, figsize=(16,10), sharey=True)\n",
    "\n",
    "\n",
    "def plot_top4_it(da,num,xcol, ycol, title):\n",
    "    ax[num].plot(da[xcol],da[ycol], lw=3)\n",
    "    ax[num].set_title(title)\n",
    "    ax[num].xaxis.set_major_locator(plt.MaxNLocator(20))\n",
    "    ax[num].xaxis.set_tick_params(rotation=45)\n",
    "    ax[num].grid(True)\n",
    "    \n",
    "plot_top4_it(reg_1, (0,0), \"date\", \"total currently positive\", 'Active cases in {}'.format(top_four_italy[0]))\n",
    "plot_top4_it(reg_2, (0,1), \"date\", \"total currently positive\", 'Active cases in {}'.format(top_four_italy[1]))\n",
    "plot_top4_it(reg_3, (1,0), \"date\", \"total currently positive\", 'Active cases in {}'.format(top_four_italy[2]))\n",
    "plot_top4_it(reg_4, (1,1), \"date\", \"total currently positive\", 'Active cases in {}'.format(top_four_italy[3]))\n",
    "fig.suptitle('Active cases over time in the top four Italian regions by numbers', fontsize=16)\n",
    "fig.tight_layout()\n",
    "plt.show()"
   ]
  },
  {
   "cell_type": "code",
   "execution_count": null,
   "metadata": {},
   "outputs": [],
   "source": [
    "top_italy = da_daily_region.sort_values(by=\"total currently positive\", ascending=False)[\"region\"].head(4)"
   ]
  },
  {
   "cell_type": "markdown",
   "metadata": {},
   "source": [
    "## Time trend in Lombardia"
   ]
  },
  {
   "cell_type": "code",
   "execution_count": null,
   "metadata": {},
   "outputs": [],
   "source": [
    "lomb_active_time = da_region[da_region[\"region\"]==\"Lombardia\"][[\"date\",\"total currently positive\",\"fatalities\",\"recovered\"]]"
   ]
  },
  {
   "cell_type": "code",
   "execution_count": null,
   "metadata": {
    "scrolled": false
   },
   "outputs": [],
   "source": [
    "plt.figure(figsize=(16,8))\n",
    "plt.title(\"Active numbers in Lombardia\", size=\"x-large\")\n",
    "rng = lomb_active_time[\"date\"]\n",
    "rng = [datetime.datetime.strptime(x,'%Y-%m-%dT%H:%M:%S').strftime(\"%m/%d/%Y\") for x in rng]\n",
    "lomb_active_time[\"date\"] = rng\n",
    "sns.lineplot(x=lomb_active_time[\"date\"], y=lomb_active_time[\"total currently positive\"], \n",
    "             label = \"Total active\", marker = \"o\", sort=False)\n",
    "sns.lineplot(x=lomb_active_time[\"date\"], y=lomb_active_time[\"fatalities\"], \n",
    "             label = \"Fatalities\", marker = \"o\", sort=False)\n",
    "ax = sns.lineplot(x=lomb_active_time[\"date\"], y=lomb_active_time[\"recovered\"], \n",
    "             label = \"Recovered\", marker = \"o\", sort=False)\n",
    "ax.xaxis.set_major_locator(plt.MaxNLocator(30))\n",
    "ax.set(xlabel = \"Date\", ylabel = \"Count\")\n",
    "plt.xticks(\n",
    "    rotation=45, \n",
    "    horizontalalignment='right',\n",
    "    fontweight='light'  \n",
    ")\n",
    "plt.axvline(x=\"03/09/2020\", ls=\"-.\", c=\"red\", label = \"First countrywide lockdown date\")\n",
    "plt.legend(fontsize=\"medium\")\n",
    "plt.show"
   ]
  },
  {
   "cell_type": "markdown",
   "metadata": {},
   "source": [
    "As of 31.03.20, the peak of active cases is registered on 29.03.20. However, the number of active cases started to grow again in the first week of April, so the peak of cases hasn't been reached yet.\n",
    "<br> Looking at the trends in [China and Korea](covid-19_analysis.html), for the former the trend flattened for about five days after the peak before starting to go down; for the latter, there were 5 days of oscillations after the peak value until the curve started to go down steadily.  "
   ]
  }
 ],
 "metadata": {
  "hide_input": false,
  "kernelspec": {
   "display_name": "Python 3",
   "language": "python",
   "name": "python3"
  },
  "language_info": {
   "codemirror_mode": {
    "name": "ipython",
    "version": 3
   },
   "file_extension": ".py",
   "mimetype": "text/x-python",
   "name": "python",
   "nbconvert_exporter": "python",
   "pygments_lexer": "ipython3",
   "version": "3.8.2"
  }
 },
 "nbformat": 4,
 "nbformat_minor": 4
}
