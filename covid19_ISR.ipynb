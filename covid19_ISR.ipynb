{
 "cells": [
  {
   "cell_type": "markdown",
   "metadata": {},
   "source": [
    "# SIR Model of Covid-19 spread"
   ]
  },
  {
   "cell_type": "markdown",
   "metadata": {},
   "source": [
    "The SIR model is one of the simplest compartmental models, and many models are derivatives of this basic form. The model consists of three compartments: S for the number of susceptible, I for the number of infectious, and R for the number of recovered or deceased (or immune) individuals.[1](https://en.wikipedia.org/wiki/Compartmental_models_in_epidemiology)\n",
    "\n",
    "This is an extended model of the SIR basic model presented by Ben Sparks and John Sandall in the PyData Bristol Masterclass [\"Building an interactive coronavirus model in Jupyter\"](https://www.crowdcast.io/e/pydata1).\n",
    "The extension includes:\n",
    "* Adding the deceased variable (D) as it was assumed to be part of the Recovered (R) variable in the basic model, which would make it a SIRD model.\n",
    "* Use of the lastest updated data from [NHS UK]() to plot the model and finetune the parameters."
   ]
  },
  {
   "cell_type": "code",
   "execution_count": 13,
   "metadata": {},
   "outputs": [
    {
     "name": "stdout",
     "output_type": "stream",
     "text": [
      "Libraries imported\n"
     ]
    }
   ],
   "source": [
    "import matplotlib.image as mpimg\n",
    "import numpy as np\n",
    "import pandas as pd\n",
    "import seaborn as sns\n",
    "from IPython.display import Video\n",
    "from ipywidgets import interact, interact_manual\n",
    "from matplotlib import pyplot as plt\n",
    "from matplotlib.animation import FuncAnimation\n",
    "from scipy.integrate import solve_ivp\n",
    "%matplotlib inline\n",
    "print(\"Libraries imported\")"
   ]
  },
  {
   "cell_type": "markdown",
   "metadata": {},
   "source": [
    "## SIRD Model of disease outbreak\n",
    "\n",
    "The four variables we'll use:\n",
    "\n",
    "S = Susceptible (people who are possibly able to get the disease)\n",
    "<br>I = Infected (people who have got the disease)\n",
    "<br>R = Recovered (people who are not infected any more, may be recovered)\n",
    "<br>D = Deceased (people deceased with covid-19 )\n",
    "<br>Goal: build up some simple naïve assumptions of how diseases spread & follow the mathematical consequences to make a prediction."
   ]
  },
  {
   "cell_type": "markdown",
   "metadata": {},
   "source": [
    "### Initial conditions and assumptions:"
   ]
  },
  {
   "cell_type": "code",
   "execution_count": 14,
   "metadata": {},
   "outputs": [
    {
     "name": "stdout",
     "output_type": "stream",
     "text": [
      "Starting conditions: N = 1, S = 0.99, I = 0.01, R = 0, D = 0\n"
     ]
    }
   ],
   "source": [
    "# Population of size 1, i.e. 100% (N is between 0 and 1)\n",
    "N = 1\n",
    "\n",
    "# Assume percentage of Infected people (1% are Infected)\n",
    "Istart = 0.01\n",
    "\n",
    "# Assume initial Susceptible peaople\n",
    "Sstart = N - Istart\n",
    "\n",
    "# Nobody yet has Recovered\n",
    "Rstart = 0\n",
    "\n",
    "# Nobody yes has Deceased\n",
    "Dstart = 0\n",
    "\n",
    "print(f\"Starting conditions: N = {N}, S = {Sstart}, I = {Istart}, R = {Rstart}, D = {Dstart}\")"
   ]
  },
  {
   "cell_type": "code",
   "execution_count": 15,
   "metadata": {},
   "outputs": [],
   "source": [
    "## For now, fix these \"rate\" variables\n",
    "\n",
    "# transm = Transmission/infection rate, how quickly the disease gets transmitted.\n",
    "transm = 3.2\n",
    "\n",
    "# recov = Recovery rate, how quickly people recover, this should be\n",
    "# smaller as it takes people longer to recover from a disease.\n",
    "recov = 0.23\n",
    "\n",
    "# dec = Deceased rate. \n",
    "# Initial value is small as it r=takes a while since the beginning of the outbreak to start increasing.\n",
    "dec = 0.001\n",
    "\n",
    "# maxT = How long we're going to let the model run for.\n",
    "maxT = 1"
   ]
  },
  {
   "cell_type": "markdown",
   "metadata": {},
   "source": [
    "The four equations that form the SIR Model are described (using mathematical notation) as follows:\n",
    "\n",
    "$\\frac{dS}{dT} = - TransmissionRate * S * I$\n",
    "\n",
    "$\\frac{dI}{dT} = TransmissionRate * S * I - RecoveryRate * I - DeceaseRate * I$ \n",
    "\n",
    "$\\frac{dR}{dt} = RecoveryRate * I$\n",
    "\n",
    "$\\frac{dD}{dt} = DeceasedRate * I$\n",
    "\n",
    "$\\frac\n",
    "\n",
    "The rate of change of Susceptibles, $\\frac{dS}{dT}$, is negative because the rate will go down as more Susceptible people get Infected.\n",
    "<br>The rate of change of Infected, $\\frac{dI}{dT}$, is the number who will become Infected next (those who are Susceptible) less those who Recover or Deceased(the more people become Infected, the more people can Recover or can die).\n",
    "<br>The rate of change of Recovery, $\\frac{dR}{dt}$, is decided by how many people are Infected. \n",
    "<br>Same applies for the rate of change of Deceased, $\\frac{dD}{dt}$.\n",
    "<br>Assumption: Infection can only happen once to a person."
   ]
  },
  {
   "cell_type": "code",
   "execution_count": 16,
   "metadata": {},
   "outputs": [],
   "source": [
    "def dS_dT(S, I, transm):\n",
    "    \"\"\"The rate of change of Susceptibles over time.\n",
    "    \n",
    "    Args:\n",
    "        S (float): Total who are Susceptible.\n",
    "        I (float): Total who are Infected.\n",
    "        transm (float): transmission rate.\n",
    "    \n",
    "    Returns:\n",
    "        float: rate of change of Suscpetibles.\n",
    "    \n",
    "    Examples:\n",
    "        \n",
    "        >> dS_dT(S=0.99, I=0.01, transm=3.2)\n",
    "        -0.03168\n",
    "    \"\"\"\n",
    "    # Negative because rate will go down as more Susceptible people get Infected.\n",
    "    return -transm * S * I\n",
    "\n",
    "def dI_dT(S, I, transm, recov, dec):\n",
    "    \"\"\"The rate of change of Infected people over time.\n",
    "    \n",
    "    Args:\n",
    "        S (float): Total who are Susceptible.\n",
    "        I (float): Total who are Infected.\n",
    "        transm (float): transmission rate.\n",
    "        recov (float): recovery rate.\n",
    "        dec (float): deceased rate.\n",
    "    \n",
    "    Returns:\n",
    "        float: rate of change of Infected.\n",
    "    \n",
    "    Examples:\n",
    "    \n",
    "        >> dI_dT(S=0.99, I=0.01, transm=3.2, recov=0.23, dec=0.01)\n",
    "        0.02928\n",
    "    \"\"\"\n",
    "    return (\n",
    "        transm * S * I  # If people were Susceptible, they'll become Infected next.\n",
    "        - recov * I  # The more people become Infected, the more people can Recover.\n",
    "        - dec*I # The more people become Infected, the more people may die.\n",
    "    )\n",
    "\n",
    "\n",
    "def dR_dT(I, recov):\n",
    "    \"\"\"The rate of change of Recovered people over time.\n",
    "    \n",
    "    Args:\n",
    "        I (float): Total who are Infected.\n",
    "        recov (float): recovery rate.\n",
    "    \n",
    "    Returns:\n",
    "        float: rate of change of Recovered.\n",
    "    \n",
    "    Examples:\n",
    "    \n",
    "        >> dR_dT(I=0.01, recov=0.23)\n",
    "        0.0023\n",
    "    \"\"\"\n",
    "    return recov * I  # Anyone who's Infected can Recover.\n",
    "\n",
    "def dD_dT(I, dec):\n",
    "    \"\"\"The rate of change of Deceased people over time.\n",
    "    \n",
    "    Args:\n",
    "        I (float): Total who are Infected.\n",
    "        dec (float): decease rate.\n",
    "    \n",
    "    Returns:\n",
    "        float: rate of change of Deceased.\n",
    "    \n",
    "    Examples:\n",
    "    \n",
    "        >> dD_dT(I=0.01, dec = 0.01)\n",
    "        0.0001\n",
    "    \"\"\"\n",
    "    return dec * I  # Anyone who's Infected may die.\n"
   ]
  },
  {
   "cell_type": "markdown",
   "metadata": {},
   "source": [
    "Solve the system of differential equations!\n",
    "First we create a single function to hold all four rate equations, because Python's solver function wants to be given a single input function, not four."
   ]
  },
  {
   "cell_type": "code",
   "execution_count": 17,
   "metadata": {},
   "outputs": [
    {
     "data": {
      "text/plain": [
       "[-0.03168, 0.02937, 0.0023, 1e-05]"
      ]
     },
     "execution_count": 17,
     "metadata": {},
     "output_type": "execute_result"
    }
   ],
   "source": [
    "def SIRD(t, y):\n",
    "    \"\"\"\n",
    "    This function specifies a system of differential equations to be solved,\n",
    "    and their parameters. We will pass this to the solve_ivp [1]_ function\n",
    "    from the scipy library.\n",
    "    \n",
    "    Args:\n",
    "        t (float): time step.\n",
    "        y (list):  parameters, in this case a list containing [S, I, R, D, transm, recov, dec].\n",
    "        \n",
    "    Returns:\n",
    "        list: Calculated values [S, I, R, D, transm, recov, dec]\n",
    "    \n",
    "    Examples:\n",
    "        \n",
    "        >>> SIR(t=0, y=[0.99, 0.01, 0.0, 0.0, 3.2, 0.23, 0.01])\n",
    "        [-0.03168, 0.02938, 0.0023]\n",
    "    \n",
    "    .. [1] https://docs.scipy.org/doc/scipy/reference/generated/scipy.integrate.solve_ivp.html\n",
    "    \"\"\"\n",
    "    S, I, R, D = y\n",
    "    return [\n",
    "        dS_dT(S, I, transm),\n",
    "        dI_dT(S, I, transm, recov, dec),\n",
    "        dR_dT(I, recov),\n",
    "        dD_dT(I, dec),\n",
    "    ]\n",
    "\n",
    "\n",
    "# Let's take it for a spin\n",
    "SIRD(t=0, y=[0.99, 0.01, 0.0, 0.0])"
   ]
  },
  {
   "cell_type": "code",
   "execution_count": 18,
   "metadata": {},
   "outputs": [
    {
     "data": {
      "text/plain": [
       "  message: 'The solver successfully reached the end of the integration interval.'\n",
       "     nfev: 26\n",
       "     njev: 0\n",
       "      nlu: 0\n",
       "      sol: None\n",
       "   status: 0\n",
       "  success: True\n",
       "        t: array([0. , 0.1, 0.2, 0.3, 0.4, 0.5, 0.6, 0.7, 0.8, 0.9])\n",
       " t_events: None\n",
       "        y: array([[9.90000000e-01, 9.86325240e-01, 9.81424941e-01, 9.74907905e-01,\n",
       "        9.66271444e-01, 9.54911223e-01, 9.40077904e-01, 9.20785558e-01,\n",
       "        8.96042778e-01, 8.64875901e-01],\n",
       "       [1.00000000e-02, 1.34062917e-02, 1.79469647e-02, 2.39831809e-02,\n",
       "        3.19773924e-02, 4.24830279e-02, 5.61842191e-02, 7.39816927e-02,\n",
       "        9.67620641e-02, 1.25374724e-01],\n",
       "       [0.00000000e+00, 2.67306154e-04, 6.25374981e-04, 1.10411393e-03,\n",
       "        1.74358285e-03, 2.59446925e-03, 3.72169536e-03, 5.21009629e-03,\n",
       "        7.16400966e-03, 9.70717007e-03],\n",
       "       [0.00000000e+00, 1.16220067e-06, 2.71902166e-06, 4.80049536e-06,\n",
       "        7.58079500e-06, 1.12803011e-05, 1.61812842e-05, 2.26525926e-05,\n",
       "        3.11478681e-05, 4.22050873e-05]])\n",
       " y_events: None"
      ]
     },
     "execution_count": 18,
     "metadata": {},
     "output_type": "execute_result"
    }
   ],
   "source": [
    "# Solve the system of differential equations!\n",
    "solution = solve_ivp(\n",
    "    fun=SIRD,  # input function\n",
    "    t_span=[0, maxT],  # start at time 0 and continue until we get to maxT\n",
    "    t_eval=np.arange(0, maxT, 0.1),  # points at which to store the computed solutions\n",
    "    y0=[Sstart, Istart, Rstart, Dstart],  # initial conditions\n",
    ")\n",
    "solution"
   ]
  },
  {
   "cell_type": "markdown",
   "metadata": {},
   "source": [
    "Let's create a pandas DataFrame with the calculated SIRD values (solution.y) in the cells and the time steps (solution.t) as the index."
   ]
  },
  {
   "cell_type": "code",
   "execution_count": 19,
   "metadata": {},
   "outputs": [
    {
     "data": {
      "text/html": [
       "<div>\n",
       "<style scoped>\n",
       "    .dataframe tbody tr th:only-of-type {\n",
       "        vertical-align: middle;\n",
       "    }\n",
       "\n",
       "    .dataframe tbody tr th {\n",
       "        vertical-align: top;\n",
       "    }\n",
       "\n",
       "    .dataframe thead th {\n",
       "        text-align: right;\n",
       "    }\n",
       "</style>\n",
       "<table border=\"1\" class=\"dataframe\">\n",
       "  <thead>\n",
       "    <tr style=\"text-align: right;\">\n",
       "      <th></th>\n",
       "      <th>Susceptible</th>\n",
       "      <th>Infected</th>\n",
       "      <th>Recovered</th>\n",
       "      <th>Deceased</th>\n",
       "    </tr>\n",
       "  </thead>\n",
       "  <tbody>\n",
       "    <tr>\n",
       "      <th>0.0</th>\n",
       "      <td>0.990000</td>\n",
       "      <td>0.010000</td>\n",
       "      <td>0.000000</td>\n",
       "      <td>0.000000</td>\n",
       "    </tr>\n",
       "    <tr>\n",
       "      <th>0.1</th>\n",
       "      <td>0.986325</td>\n",
       "      <td>0.013406</td>\n",
       "      <td>0.000267</td>\n",
       "      <td>0.000001</td>\n",
       "    </tr>\n",
       "    <tr>\n",
       "      <th>0.2</th>\n",
       "      <td>0.981425</td>\n",
       "      <td>0.017947</td>\n",
       "      <td>0.000625</td>\n",
       "      <td>0.000003</td>\n",
       "    </tr>\n",
       "    <tr>\n",
       "      <th>0.3</th>\n",
       "      <td>0.974908</td>\n",
       "      <td>0.023983</td>\n",
       "      <td>0.001104</td>\n",
       "      <td>0.000005</td>\n",
       "    </tr>\n",
       "    <tr>\n",
       "      <th>0.4</th>\n",
       "      <td>0.966271</td>\n",
       "      <td>0.031977</td>\n",
       "      <td>0.001744</td>\n",
       "      <td>0.000008</td>\n",
       "    </tr>\n",
       "    <tr>\n",
       "      <th>0.5</th>\n",
       "      <td>0.954911</td>\n",
       "      <td>0.042483</td>\n",
       "      <td>0.002594</td>\n",
       "      <td>0.000011</td>\n",
       "    </tr>\n",
       "    <tr>\n",
       "      <th>0.6</th>\n",
       "      <td>0.940078</td>\n",
       "      <td>0.056184</td>\n",
       "      <td>0.003722</td>\n",
       "      <td>0.000016</td>\n",
       "    </tr>\n",
       "    <tr>\n",
       "      <th>0.7</th>\n",
       "      <td>0.920786</td>\n",
       "      <td>0.073982</td>\n",
       "      <td>0.005210</td>\n",
       "      <td>0.000023</td>\n",
       "    </tr>\n",
       "    <tr>\n",
       "      <th>0.8</th>\n",
       "      <td>0.896043</td>\n",
       "      <td>0.096762</td>\n",
       "      <td>0.007164</td>\n",
       "      <td>0.000031</td>\n",
       "    </tr>\n",
       "    <tr>\n",
       "      <th>0.9</th>\n",
       "      <td>0.864876</td>\n",
       "      <td>0.125375</td>\n",
       "      <td>0.009707</td>\n",
       "      <td>0.000042</td>\n",
       "    </tr>\n",
       "  </tbody>\n",
       "</table>\n",
       "</div>"
      ],
      "text/plain": [
       "     Susceptible  Infected  Recovered  Deceased\n",
       "0.0     0.990000  0.010000   0.000000  0.000000\n",
       "0.1     0.986325  0.013406   0.000267  0.000001\n",
       "0.2     0.981425  0.017947   0.000625  0.000003\n",
       "0.3     0.974908  0.023983   0.001104  0.000005\n",
       "0.4     0.966271  0.031977   0.001744  0.000008\n",
       "0.5     0.954911  0.042483   0.002594  0.000011\n",
       "0.6     0.940078  0.056184   0.003722  0.000016\n",
       "0.7     0.920786  0.073982   0.005210  0.000023\n",
       "0.8     0.896043  0.096762   0.007164  0.000031\n",
       "0.9     0.864876  0.125375   0.009707  0.000042"
      ]
     },
     "execution_count": 19,
     "metadata": {},
     "output_type": "execute_result"
    }
   ],
   "source": [
    "df = pd.DataFrame(\n",
    "    solution.y.T, columns=[\"Susceptible\", \"Infected\", \"Recovered\", \"Deceased\"], index=solution.t,\n",
    ")\n",
    "df"
   ]
  },
  {
   "cell_type": "code",
   "execution_count": 20,
   "metadata": {},
   "outputs": [
    {
     "data": {
      "image/png": "[encoded data removed]",
      "text/plain": [
       "<Figure size 432x288 with 1 Axes>"
      ]
     },
     "metadata": {
      "needs_background": "light"
     },
     "output_type": "display_data"
    }
   ],
   "source": [
    "# Visualise the result!\n",
    "plot = df.plot(color=[\"blue\", \"red\", \"green\", \"black\"], lw=2)"
   ]
  },
  {
   "cell_type": "markdown",
   "metadata": {},
   "source": [
    "## Visualisation, Numberphile-style\n",
    "Let make a helper function which also adds a larger x-axis, and also let's add the official Numberphile brown paper as a background."
   ]
  },
  {
   "cell_type": "code",
   "execution_count": 23,
   "metadata": {},
   "outputs": [
    {
     "data": {
      "image/png": "[encoded data removed]",
      "text/plain": [
       "<Figure size 1008x432 with 1 Axes>"
      ]
     },
     "metadata": {
      "needs_background": "light"
     },
     "output_type": "display_data"
    }
   ],
   "source": [
    "#background = mpimg.imread(\"../images/numberphile_background.jpg\")\n",
    "\n",
    "\n",
    "def plot_curves(solution, xlim=[0, 10], title=None, add_background=False):\n",
    "    \"\"\"Helper function that takes a solution and optionally visualises it\n",
    "       using official Numberphile brown paper.\n",
    "    \n",
    "    Args:\n",
    "        solution (scipy.integrate._ivp.ivp.OdeResult): Output of solve_ivp() function.\n",
    "        xlim (list): x-axis limits in format [min, max].\n",
    "        title (str): Optional graph title.\n",
    "        add_background (bool): Add Numberphile brown paper background?\n",
    "    \n",
    "    Returns:\n",
    "        matplotlib graph of SIR model curves.\n",
    "    \n",
    "    Examples:\n",
    "    \n",
    "        >>> solution = solve_ivp(SIR, t_span=[0, maxT], t_eval=np.arange(0, maxT, 0.1),\n",
    "                                 y0=[Sstart, Istart, Rstart])\n",
    "        >>> plot_curves(solution, title=\"The SIR Model of disease spread\")\n",
    "    \"\"\"\n",
    "    # Set up plot\n",
    "    fig, ax = plt.subplots(figsize=(14, 6))\n",
    "    plt.title(title, fontsize=15)\n",
    "    plt.xlabel(\"Time\", fontsize=12)\n",
    "    plt.ylabel(\"Percentage of population\", fontsize=12)\n",
    "    # Create DataFrame\n",
    "    df = pd.DataFrame(\n",
    "        solution.y.T,\n",
    "        columns=[\"Susceptible\", \"Infected\", \"Recovered\", \"Deceased\"],\n",
    "        index=solution.t,\n",
    "    )\n",
    "    # Make the plot\n",
    "    plot = df.plot(color=[\"blue\", \"red\", \"green\", \"black\"], lw=2, ax=ax)\n",
    "    plot.set_xlim(xlim[0], xlim[1])\n",
    "\n",
    "\n",
    "plot_curves(solution, title=\"The SIRD Model of disease spread\")"
   ]
  },
  {
   "cell_type": "markdown",
   "metadata": {},
   "source": [
    "Let's also create another helper function that plugs into the ipywidgets interact, so we can play around with the parameters."
   ]
  },
  {
   "cell_type": "code",
   "execution_count": 25,
   "metadata": {},
   "outputs": [
    {
     "data": {
      "image/png": "[encoded data removed]",
      "text/plain": [
       "<Figure size 1008x432 with 1 Axes>"
      ]
     },
     "metadata": {
      "needs_background": "light"
     },
     "output_type": "display_data"
    }
   ],
   "source": [
    "def solve_and_plot(\n",
    "    Istart=0.01,\n",
    "    Rstart=0,\n",
    "    Dstart=0,\n",
    "    transm=3.2,\n",
    "    recov=0.23,\n",
    "    dec=0.01,\n",
    "    maxT=20,\n",
    "    title=None,\n",
    "    add_background=False,\n",
    "):\n",
    "    \"\"\"Helper function so we can play around with the parameters using the interact ipywidget.\n",
    "    \n",
    "    Args:\n",
    "        Istart (float): Starting value for Infected (as percent of population).\n",
    "        Rstart (float): Starting value for Recovered (as percent of population).\n",
    "        Dstart (float): Starting values for Deceased (as percentage of population).\n",
    "        transm (float): transmission rate.\n",
    "        recov  (float): recovery rate.\n",
    "        dec    (float): decease rate.\n",
    "        maxT (int): maximum time step.\n",
    "        title (str): Optional graph title.\n",
    "        add_background (bool): Optionally add Numberphile background.\n",
    "    \n",
    "    Returns:\n",
    "        matplotlib graph of SIRD model curves.\n",
    "    \n",
    "    Examples:\n",
    "    \n",
    "        >>> solve_and_plot(maxT=20, title=\"Set maxT = 20\")\n",
    "    \"\"\"\n",
    "\n",
    "    N = 1\n",
    "    Sstart = N - Istart\n",
    "\n",
    "    def SIRD(t, y):\n",
    "        \"\"\"We need to redefine this inside solve_and_plot() otherwise it\n",
    "           won't pick up any changes to transm or recov.\n",
    "        \"\"\"\n",
    "        S, I, R, D = y\n",
    "        return [\n",
    "            dS_dT(S, I, transm),\n",
    "            dI_dT(S, I, transm, recov, dec),\n",
    "            dR_dT(I, recov),\n",
    "            dD_dT(I, dec),\n",
    "        ]\n",
    "\n",
    "    solution = solve_ivp(\n",
    "        fun=SIRD,\n",
    "        t_span=[0, maxT],\n",
    "        t_eval=np.arange(0, maxT, 0.1),\n",
    "        y0=[Sstart, Istart, Rstart, Dstart],\n",
    "    )\n",
    "    plot_curves(solution, xlim=[0, maxT], title=title, add_background=add_background)\n",
    "\n",
    "\n",
    "# Let's set maxT to 20 to see how things pan out\n",
    "solve_and_plot(maxT=20, title=\"Set maxT = 20\")"
   ]
  },
  {
   "cell_type": "markdown",
   "metadata": {},
   "source": [
    "## Adding interactivity\n",
    "We can make this interactive using the interact function from ipywidgets!\n",
    "<br> Try flattening the curve by reducing the transmition rate `transm`\n",
    "Note: we use interact_manual in order to add a button as the graph can take a couple seconds to update."
   ]
  },
  {
   "cell_type": "code",
   "execution_count": 28,
   "metadata": {},
   "outputs": [
    {
     "data": {
      "application/vnd.jupyter.widget-view+json": {
       "model_id": "72aea1eddb7d40429d19c09ada1478bc",
       "version_major": 2,
       "version_minor": 0
      },
      "text/plain": [
       "interactive(children=(FloatSlider(value=0.01, description='Istart', max=1.0, step=0.01), FloatSlider(value=0.0…"
      ]
     },
     "metadata": {},
     "output_type": "display_data"
    },
    {
     "data": {
      "text/plain": [
       "<function __main__.solve_and_plot(Istart=0.01, Rstart=0, Dstart=0, transm=3.2, recov=0.23, dec=0.01, maxT=20, title=None, add_background=False)>"
      ]
     },
     "execution_count": 28,
     "metadata": {},
     "output_type": "execute_result"
    }
   ],
   "source": [
    "interact_manual(\n",
    "    solve_and_plot,\n",
    "    Istart=(0, 1, 0.01),\n",
    "    Rstart=(0, 1, 0.01),\n",
    "    Dstart= (0, 1, 0.01),\n",
    "    transm=(0, 10, 0.01),\n",
    "    recov=(0, 1, 0.01),\n",
    "    dec=(0, 1, 0.01),\n",
    "    maxT=(0, 50, 1),\n",
    "    title=\"\",\n",
    ")"
   ]
  },
  {
   "cell_type": "markdown",
   "metadata": {},
   "source": [
    "If you reduce the transmission rate enough, it turns out that not everyone ends up being infected. There's still 10% - 20% of people who remain susceptible in the long run but they never get the disease.\n",
    "\n",
    "This is what we're hoping for with COVID-19, as there are some people who will not survive the disease. If you can stop the 10% most vulnerable from getting it, this would be great."
   ]
  },
  {
   "cell_type": "markdown",
   "metadata": {},
   "source": [
    "## R0: the basic reproductive number\n",
    "You may have heard people talking about R0, the basic reproductive number:\n",
    "\n",
    "An R0 of 2-3 means that every infected person infects, on average, two to three others.\n",
    "An R0 less than 1 indicates that each infected person results in fewer than one new infection. When this happens, the outbreak will slowly grind to a halt.\n",
    "For COVID-19, current estimates predict an R0 between 1.4-3.9."
   ]
  },
  {
   "cell_type": "code",
   "execution_count": 29,
   "metadata": {},
   "outputs": [
    {
     "name": "stdout",
     "output_type": "stream",
     "text": [
      "R_0 = 3.571428571428571\n"
     ]
    }
   ],
   "source": [
    "# Let's calculate R0. This can be calculated as transm / recov.\n",
    "transm = 0.5\n",
    "recov = 0.14\n",
    "R_0 = transm / recov\n",
    "print(f\"R_0 = {R_0}\")"
   ]
  },
  {
   "cell_type": "markdown",
   "metadata": {},
   "source": [
    "If the COVIF-19 R0 is 3, let's see what that looks like. (Remember that the units of time doesn't mean too much here.)"
   ]
  },
  {
   "cell_type": "code",
   "execution_count": 30,
   "metadata": {},
   "outputs": [
    {
     "data": {
      "image/png": "[encoded data removed]",
      "text/plain": [
       "<Figure size 1008x432 with 1 Axes>"
      ]
     },
     "metadata": {
      "needs_background": "light"
     },
     "output_type": "display_data"
    }
   ],
   "source": [
    "solve_and_plot(\n",
    "    transm=0.5,\n",
    "    recov=0.14,\n",
    "    maxT=30,\n",
    "    add_background=False,\n",
    "    title=f\"Transmission rate = 0.5, Recovery rate = 0.2, R0 = {0.5/0.14:.1f}\",\n",
    ")"
   ]
  },
  {
   "cell_type": "markdown",
   "metadata": {},
   "source": [
    "## Lights, camera, animate!\n",
    "Let's create an animated chart in Python for maximum social media virality."
   ]
  },
  {
   "cell_type": "code",
   "execution_count": null,
   "metadata": {},
   "outputs": [],
   "source": [
    "# First, let's run the numbers\n",
    "transm = 2.4\n",
    "recov = 0.3\n",
    "dec = 0.01\n",
    "maxT = 13\n",
    "\n",
    "\n",
    "def SIRD(t, y):\n",
    "    S, I, R, D = y\n",
    "    return [\n",
    "        dS_dT(S, I, transm),\n",
    "        dI_dT(S, I, transm, recov, dec),\n",
    "        dR_dT(I, recov),\n",
    "        dD_dT(I, dec),\n",
    "    ]\n",
    "\n",
    "\n",
    "solution = solve_ivp(\n",
    "    fun=SIRD,\n",
    "    t_span=[0, maxT],\n",
    "    t_eval=np.arange(0, maxT, 0.1),\n",
    "    y0=[Sstart, Istart, Rstart],\n",
    ")\n",
    "df = pd.DataFrame(\n",
    "    solution.y.T, columns=[\"Susceptible\", \"Infected\", \"Recovered\", \"Deceased\"], index=solution.t,\n",
    ")\n",
    "df.head()"
   ]
  },
  {
   "cell_type": "markdown",
   "metadata": {},
   "source": [
    "We need to enable matplotlib's \"notebook\" plotting mode in order to see the graphs animating live in the notebook."
   ]
  },
  {
   "cell_type": "code",
   "execution_count": null,
   "metadata": {},
   "outputs": [],
   "source": [
    "%matplotlib notebook\n",
    "%matplotlib notebook\n",
    "# See here for why we call this twice: https://github.com/ipython/ipython/issues/10873"
   ]
  },
  {
   "cell_type": "markdown",
   "metadata": {},
   "source": [
    "\n",
    "First, let's animate without the Numberphile background."
   ]
  },
  {
   "cell_type": "code",
   "execution_count": null,
   "metadata": {},
   "outputs": [],
   "source": [
    "def animate(i):\n",
    "    \"\"\"We put all the animation update code into one function\n",
    "       that loads the first i rows from the dataframe df.\"\"\"\n",
    "    ax.clear()\n",
    "    data = df.iloc[: i + 1]\n",
    "    plot = data.plot(color=[\"blue\", \"red\", \"green\"], lw=4, ax=ax)\n",
    "    plt.title(\"The Coronavirus Curve\", fontsize=15)\n",
    "    plt.xlabel(\"Time (units)\", fontsize=12)\n",
    "    plt.ylabel(\"Percentage of population\", fontsize=12)\n",
    "    plot.set_xlim(0, maxT)\n",
    "    plot.set_ylim(0, 1)\n",
    "\n",
    "\n",
    "fig, ax = plt.subplots(figsize=(14, 6))\n",
    "animate(0)  # initialise the plot\n",
    "ani = FuncAnimation(\n",
    "    fig, animate, frames=list(range(len(df))), repeat=False, interval=50, blit=True,\n",
    ")\n",
    "plt.show()"
   ]
  },
  {
   "cell_type": "code",
   "execution_count": null,
   "metadata": {},
   "outputs": [],
   "source": [
    "ani.save(\"../images/coronavirus_curve_no_background.mp4\")"
   ]
  },
  {
   "cell_type": "code",
   "execution_count": null,
   "metadata": {},
   "outputs": [],
   "source": []
  }
 ],
 "metadata": {
  "hide_input": false,
  "kernelspec": {
   "display_name": "Python 3",
   "language": "python",
   "name": "python3"
  },
  "language_info": {
   "codemirror_mode": {
    "name": "ipython",
    "version": 3
   },
   "file_extension": ".py",
   "mimetype": "text/x-python",
   "name": "python",
   "nbconvert_exporter": "python",
   "pygments_lexer": "ipython3",
   "version": "3.6.4"
  }
 },
 "nbformat": 4,
 "nbformat_minor": 2
}
