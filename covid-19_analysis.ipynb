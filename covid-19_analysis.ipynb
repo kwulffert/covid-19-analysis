{
 "cells": [
  {
   "cell_type": "markdown",
   "metadata": {},
   "source": [
    "# Worldwide Analysis"
   ]
  },
  {
   "cell_type": "markdown",
   "metadata": {},
   "source": [
    "The main goal of this analysis is to provide a visual and updated overview of the worldwide Covid-19 pandemic including:\n",
    "\n",
    "- Overall numbers in a nutshell.\n",
    "- Interactive worldwide map of active cases.\n",
    "- Details and tree map of the top fifteen countries with most active cases.\n",
    "- Time trends for top five countries by number of active cases.\n",
    "- Comparison of the situation of the top five countries with China and South Korea where the outbreak peak has passed and the number of active cases is still going down."
   ]
  },
  {
   "cell_type": "code",
   "execution_count": 357,
   "metadata": {},
   "outputs": [],
   "source": [
    "import pandas as pd\n",
    "import matplotlib.pyplot as plt\n",
    "import matplotlib.dates as mdate\n",
    "%matplotlib inline\n",
    "import seaborn as sns\n",
    "import plotly.express as px\n",
    "from plotly.subplots import make_subplots\n",
    "import plotly.graph_objects as go\n",
    "import chart_studio.plotly as py\n",
    "import numpy as np\n",
    "import datetime as datetime\n",
    "from datetime import date, timedelta\n",
    "import requests\n",
    "import io\n",
    "import folium\n",
    "from folium import Circle\n",
    "import warnings\n",
    "pd.options.display.max_rows = 4000"
   ]
  },
  {
   "cell_type": "code",
   "execution_count": 358,
   "metadata": {},
   "outputs": [],
   "source": [
    "# We define a function to get the raw data from the corresponding url and retruning it as a dataframe.\n",
    "# <br>This function allows us to get the latest updates."
   ]
  },
  {
   "cell_type": "code",
   "execution_count": 359,
   "metadata": {},
   "outputs": [],
   "source": [
    "def get_raw_data(url):\n",
    "    req = requests.get(url).content\n",
    "    return pd.read_csv(io.StringIO(req.decode('utf-8')))"
   ]
  },
  {
   "cell_type": "markdown",
   "metadata": {},
   "source": [
    "## Data cleaning and first observations"
   ]
  },
  {
   "cell_type": "markdown",
   "metadata": {},
   "source": [
    "Import the latest reports from [CSSE](https://github.com/CSSEGISandData/COVID-19) at Johns Hopkins University.\n",
    "The datasets we will use are:\n",
    "1. da_world: Worldwide data (time series).\n",
    "2. da_confirmed_w: Number of confirmed cases per country (time series).\n",
    "3. da_fatalities_w: Number of deaths per country (time series).\n",
    "4. da_recovered_w: Number of recovered cases per country (time series).\n",
    "\n",
    "<br> Date of the latest data to be gathered is \"yesterday\" to ensure the data is available as the files are updated daily at midnight.\n",
    "<br> We use the date variable \"yesterday\" to build the urls dynamically."
   ]
  },
  {
   "cell_type": "code",
   "execution_count": 360,
   "metadata": {},
   "outputs": [],
   "source": [
    "yesterday = date.today() - timedelta(days=1)\n",
    "yesterday = yesterday.strftime(\"%m-%d-%Y\") "
   ]
  },
  {
   "cell_type": "code",
   "execution_count": 361,
   "metadata": {},
   "outputs": [],
   "source": [
    "world_url = \"https://raw.githubusercontent.com/CSSEGISandData/COVID-19/master/csse_covid_19_data/csse_covid_19_daily_reports/{}.csv\".format(yesterday)\n",
    "confirmed_w_url = \"https://raw.githubusercontent.com/CSSEGISandData/COVID-19/master/csse_covid_19_data/csse_covid_19_time_series/time_series_covid19_confirmed_global.csv\"\n",
    "fatalities_w_url = \"https://raw.githubusercontent.com/CSSEGISandData/COVID-19/master/csse_covid_19_data/csse_covid_19_time_series/time_series_covid19_deaths_global.csv\"\n",
    "recovered_w_url = \"https://raw.githubusercontent.com/CSSEGISandData/COVID-19/master/csse_covid_19_data/csse_covid_19_time_series/time_series_covid19_recovered_global.csv\"\n",
    "da_world_orig = get_raw_data(world_url)\n",
    "da_confirmed_w = get_raw_data(confirmed_w_url)\n",
    "da_fatalities_w = get_raw_data(fatalities_w_url)\n",
    "da_recovered_w = get_raw_data(recovered_w_url)"
   ]
  },
  {
   "cell_type": "markdown",
   "metadata": {},
   "source": [
    "First look at the overall data. "
   ]
  },
  {
   "cell_type": "code",
   "execution_count": 362,
   "metadata": {},
   "outputs": [
    {
     "data": {
      "text/html": [
       "<div>\n",
       "<style scoped>\n",
       "    .dataframe tbody tr th:only-of-type {\n",
       "        vertical-align: middle;\n",
       "    }\n",
       "\n",
       "    .dataframe tbody tr th {\n",
       "        vertical-align: top;\n",
       "    }\n",
       "\n",
       "    .dataframe thead th {\n",
       "        text-align: right;\n",
       "    }\n",
       "</style>\n",
       "<table border=\"1\" class=\"dataframe\">\n",
       "  <thead>\n",
       "    <tr style=\"text-align: right;\">\n",
       "      <th></th>\n",
       "      <th>FIPS</th>\n",
       "      <th>Admin2</th>\n",
       "      <th>Province_State</th>\n",
       "      <th>Country_Region</th>\n",
       "      <th>Last_Update</th>\n",
       "      <th>Lat</th>\n",
       "      <th>Long_</th>\n",
       "      <th>Confirmed</th>\n",
       "      <th>Deaths</th>\n",
       "      <th>Recovered</th>\n",
       "      <th>Active</th>\n",
       "      <th>Combined_Key</th>\n",
       "      <th>Incidence_Rate</th>\n",
       "      <th>Case-Fatality_Ratio</th>\n",
       "    </tr>\n",
       "  </thead>\n",
       "  <tbody>\n",
       "    <tr>\n",
       "      <th>0</th>\n",
       "      <td>45001.0</td>\n",
       "      <td>Abbeville</td>\n",
       "      <td>South Carolina</td>\n",
       "      <td>US</td>\n",
       "      <td>2020-06-15 03:33:14</td>\n",
       "      <td>34.223334</td>\n",
       "      <td>-82.461707</td>\n",
       "      <td>67</td>\n",
       "      <td>0</td>\n",
       "      <td>0</td>\n",
       "      <td>67</td>\n",
       "      <td>Abbeville, South Carolina, US</td>\n",
       "      <td>273.168345</td>\n",
       "      <td>0.000000</td>\n",
       "    </tr>\n",
       "    <tr>\n",
       "      <th>1</th>\n",
       "      <td>22001.0</td>\n",
       "      <td>Acadia</td>\n",
       "      <td>Louisiana</td>\n",
       "      <td>US</td>\n",
       "      <td>2020-06-15 03:33:14</td>\n",
       "      <td>30.295065</td>\n",
       "      <td>-92.414197</td>\n",
       "      <td>583</td>\n",
       "      <td>31</td>\n",
       "      <td>0</td>\n",
       "      <td>552</td>\n",
       "      <td>Acadia, Louisiana, US</td>\n",
       "      <td>939.640583</td>\n",
       "      <td>5.317324</td>\n",
       "    </tr>\n",
       "    <tr>\n",
       "      <th>2</th>\n",
       "      <td>51001.0</td>\n",
       "      <td>Accomack</td>\n",
       "      <td>Virginia</td>\n",
       "      <td>US</td>\n",
       "      <td>2020-06-15 03:33:14</td>\n",
       "      <td>37.767072</td>\n",
       "      <td>-75.632346</td>\n",
       "      <td>993</td>\n",
       "      <td>14</td>\n",
       "      <td>0</td>\n",
       "      <td>979</td>\n",
       "      <td>Accomack, Virginia, US</td>\n",
       "      <td>3072.781285</td>\n",
       "      <td>1.409869</td>\n",
       "    </tr>\n",
       "    <tr>\n",
       "      <th>3</th>\n",
       "      <td>16001.0</td>\n",
       "      <td>Ada</td>\n",
       "      <td>Idaho</td>\n",
       "      <td>US</td>\n",
       "      <td>2020-06-15 03:33:14</td>\n",
       "      <td>43.452658</td>\n",
       "      <td>-116.241552</td>\n",
       "      <td>892</td>\n",
       "      <td>22</td>\n",
       "      <td>0</td>\n",
       "      <td>870</td>\n",
       "      <td>Ada, Idaho, US</td>\n",
       "      <td>185.220947</td>\n",
       "      <td>2.466368</td>\n",
       "    </tr>\n",
       "    <tr>\n",
       "      <th>4</th>\n",
       "      <td>19001.0</td>\n",
       "      <td>Adair</td>\n",
       "      <td>Iowa</td>\n",
       "      <td>US</td>\n",
       "      <td>2020-06-15 03:33:14</td>\n",
       "      <td>41.330756</td>\n",
       "      <td>-94.471059</td>\n",
       "      <td>11</td>\n",
       "      <td>0</td>\n",
       "      <td>0</td>\n",
       "      <td>11</td>\n",
       "      <td>Adair, Iowa, US</td>\n",
       "      <td>153.803132</td>\n",
       "      <td>0.000000</td>\n",
       "    </tr>\n",
       "  </tbody>\n",
       "</table>\n",
       "</div>"
      ],
      "text/plain": [
       "      FIPS     Admin2  Province_State Country_Region          Last_Update  \\\n",
       "0  45001.0  Abbeville  South Carolina             US  2020-06-15 03:33:14   \n",
       "1  22001.0     Acadia       Louisiana             US  2020-06-15 03:33:14   \n",
       "2  51001.0   Accomack        Virginia             US  2020-06-15 03:33:14   \n",
       "3  16001.0        Ada           Idaho             US  2020-06-15 03:33:14   \n",
       "4  19001.0      Adair            Iowa             US  2020-06-15 03:33:14   \n",
       "\n",
       "         Lat       Long_  Confirmed  Deaths  Recovered  Active  \\\n",
       "0  34.223334  -82.461707         67       0          0      67   \n",
       "1  30.295065  -92.414197        583      31          0     552   \n",
       "2  37.767072  -75.632346        993      14          0     979   \n",
       "3  43.452658 -116.241552        892      22          0     870   \n",
       "4  41.330756  -94.471059         11       0          0      11   \n",
       "\n",
       "                    Combined_Key  Incidence_Rate  Case-Fatality_Ratio  \n",
       "0  Abbeville, South Carolina, US      273.168345             0.000000  \n",
       "1          Acadia, Louisiana, US      939.640583             5.317324  \n",
       "2         Accomack, Virginia, US     3072.781285             1.409869  \n",
       "3                 Ada, Idaho, US      185.220947             2.466368  \n",
       "4                Adair, Iowa, US      153.803132             0.000000  "
      ]
     },
     "execution_count": 362,
     "metadata": {},
     "output_type": "execute_result"
    }
   ],
   "source": [
    "da_world_orig.head()"
   ]
  },
  {
   "cell_type": "markdown",
   "metadata": {},
   "source": [
    "For our analysis we will use the following columns:\n",
    "* Country_Region\n",
    "* Last_Update\n",
    "* Lat\n",
    "* Long_\n",
    "* Confirmed\n",
    "* Deaths\n",
    "* Recovered\n",
    "* Active\n",
    "\n",
    "Let's create a dataframe with these columns."
   ]
  },
  {
   "cell_type": "code",
   "execution_count": 363,
   "metadata": {},
   "outputs": [],
   "source": [
    "da_world = da_world_orig[[\"Country_Region\",\"Last_Update\",\"Lat\",\"Long_\",\"Confirmed\",\"Deaths\",\"Recovered\",\"Active\"]]"
   ]
  },
  {
   "cell_type": "code",
   "execution_count": 364,
   "metadata": {},
   "outputs": [
    {
     "data": {
      "text/html": [
       "<div>\n",
       "<style scoped>\n",
       "    .dataframe tbody tr th:only-of-type {\n",
       "        vertical-align: middle;\n",
       "    }\n",
       "\n",
       "    .dataframe tbody tr th {\n",
       "        vertical-align: top;\n",
       "    }\n",
       "\n",
       "    .dataframe thead th {\n",
       "        text-align: right;\n",
       "    }\n",
       "</style>\n",
       "<table border=\"1\" class=\"dataframe\">\n",
       "  <thead>\n",
       "    <tr style=\"text-align: right;\">\n",
       "      <th></th>\n",
       "      <th>Country_Region</th>\n",
       "      <th>Last_Update</th>\n",
       "      <th>Lat</th>\n",
       "      <th>Long_</th>\n",
       "      <th>Confirmed</th>\n",
       "      <th>Deaths</th>\n",
       "      <th>Recovered</th>\n",
       "      <th>Active</th>\n",
       "    </tr>\n",
       "  </thead>\n",
       "  <tbody>\n",
       "    <tr>\n",
       "      <th>0</th>\n",
       "      <td>US</td>\n",
       "      <td>2020-06-15 03:33:14</td>\n",
       "      <td>34.223334</td>\n",
       "      <td>-82.461707</td>\n",
       "      <td>67</td>\n",
       "      <td>0</td>\n",
       "      <td>0</td>\n",
       "      <td>67</td>\n",
       "    </tr>\n",
       "    <tr>\n",
       "      <th>1</th>\n",
       "      <td>US</td>\n",
       "      <td>2020-06-15 03:33:14</td>\n",
       "      <td>30.295065</td>\n",
       "      <td>-92.414197</td>\n",
       "      <td>583</td>\n",
       "      <td>31</td>\n",
       "      <td>0</td>\n",
       "      <td>552</td>\n",
       "    </tr>\n",
       "    <tr>\n",
       "      <th>2</th>\n",
       "      <td>US</td>\n",
       "      <td>2020-06-15 03:33:14</td>\n",
       "      <td>37.767072</td>\n",
       "      <td>-75.632346</td>\n",
       "      <td>993</td>\n",
       "      <td>14</td>\n",
       "      <td>0</td>\n",
       "      <td>979</td>\n",
       "    </tr>\n",
       "    <tr>\n",
       "      <th>3</th>\n",
       "      <td>US</td>\n",
       "      <td>2020-06-15 03:33:14</td>\n",
       "      <td>43.452658</td>\n",
       "      <td>-116.241552</td>\n",
       "      <td>892</td>\n",
       "      <td>22</td>\n",
       "      <td>0</td>\n",
       "      <td>870</td>\n",
       "    </tr>\n",
       "    <tr>\n",
       "      <th>4</th>\n",
       "      <td>US</td>\n",
       "      <td>2020-06-15 03:33:14</td>\n",
       "      <td>41.330756</td>\n",
       "      <td>-94.471059</td>\n",
       "      <td>11</td>\n",
       "      <td>0</td>\n",
       "      <td>0</td>\n",
       "      <td>11</td>\n",
       "    </tr>\n",
       "  </tbody>\n",
       "</table>\n",
       "</div>"
      ],
      "text/plain": [
       "  Country_Region          Last_Update        Lat       Long_  Confirmed  \\\n",
       "0             US  2020-06-15 03:33:14  34.223334  -82.461707         67   \n",
       "1             US  2020-06-15 03:33:14  30.295065  -92.414197        583   \n",
       "2             US  2020-06-15 03:33:14  37.767072  -75.632346        993   \n",
       "3             US  2020-06-15 03:33:14  43.452658 -116.241552        892   \n",
       "4             US  2020-06-15 03:33:14  41.330756  -94.471059         11   \n",
       "\n",
       "   Deaths  Recovered  Active  \n",
       "0       0          0      67  \n",
       "1      31          0     552  \n",
       "2      14          0     979  \n",
       "3      22          0     870  \n",
       "4       0          0      11  "
      ]
     },
     "execution_count": 364,
     "metadata": {},
     "output_type": "execute_result"
    }
   ],
   "source": [
    "da_world.head()"
   ]
  },
  {
   "cell_type": "markdown",
   "metadata": {},
   "source": [
    "We rename the columns to the values originally used in this notebook as the column names from the sources have been changing over time."
   ]
  },
  {
   "cell_type": "code",
   "execution_count": 365,
   "metadata": {},
   "outputs": [],
   "source": [
    "da_world = da_world.rename(columns={\"Country_Region\": \"Country/Region\", \"Lat\":\"Latitude\", \"Long_\":\"Longitude\"})"
   ]
  },
  {
   "cell_type": "markdown",
   "metadata": {},
   "source": [
    "Let's have a look at the nan values and fix them."
   ]
  },
  {
   "cell_type": "code",
   "execution_count": 366,
   "metadata": {},
   "outputs": [
    {
     "data": {
      "text/plain": [
       "Country/Region     0\n",
       "Last_Update        0\n",
       "Latitude          73\n",
       "Longitude         73\n",
       "Confirmed          0\n",
       "Deaths             0\n",
       "Recovered          0\n",
       "Active             0\n",
       "dtype: int64"
      ]
     },
     "execution_count": 366,
     "metadata": {},
     "output_type": "execute_result"
    }
   ],
   "source": [
    "da_world.isnull().sum()"
   ]
  },
  {
   "cell_type": "code",
   "execution_count": 406,
   "metadata": {},
   "outputs": [],
   "source": [
    "#da_world[da_world.isnull().any(axis=1)]"
   ]
  },
  {
   "cell_type": "markdown",
   "metadata": {},
   "source": [
    "After having a look at those 73 rows, all nan values are in the columns Longitude and Latitude. \n",
    "<br> First we create a list with the countries without geographical coordinates and the we define a function to add these values manually."
   ]
  },
  {
   "cell_type": "code",
   "execution_count": 367,
   "metadata": {},
   "outputs": [
    {
     "data": {
      "text/plain": [
       "array(['US', 'Canada', 'Japan', 'Chile', 'Colombia', 'Germany', 'India',\n",
       "       'Peru', 'Spain', 'United Kingdom', 'Diamond Princess',\n",
       "       'MS Zaandam'], dtype=object)"
      ]
     },
     "execution_count": 367,
     "metadata": {},
     "output_type": "execute_result"
    }
   ],
   "source": [
    "df_nan =da_world[da_world.isnull().any(axis=1)]\n",
    "countries_nan = df_nan[\"Country/Region\"].drop_duplicates()\n",
    "countries_nan.values"
   ]
  },
  {
   "cell_type": "code",
   "execution_count": 369,
   "metadata": {},
   "outputs": [],
   "source": [
    "def add_coordinates(df,country,lat,long):\n",
    "    df.loc[df[\"Country/Region\"] == country,\"Latitude\"] = lat\n",
    "    df.loc[df[\"Country/Region\"] == country,\"Longitude\"] = long\n",
    "    return df"
   ]
  },
  {
   "cell_type": "code",
   "execution_count": 371,
   "metadata": {},
   "outputs": [],
   "source": [
    "add_coordinates(da_world, \"US\", 38.9072, -77.0369);\n",
    "add_coordinates(da_world, \"Canada\", 45.4215, -75.6972);\n",
    "add_coordinates(da_world, \"Japan\", 36.2048, 138.2529);\n",
    "add_coordinates(da_world, \"Chile\", -35.6751, -71.5430);\n",
    "add_coordinates(da_world, \"Colombia\", 4.5709, -74.2973);\n",
    "add_coordinates(da_world, \"Germany\", 51.1657, 10.4515);\n",
    "add_coordinates(da_world, \"India\", 20.5937, 78.9629);\n",
    "add_coordinates(da_world, \"Peru\", -9.1900, -75.0152);\n",
    "add_coordinates(da_world, \"Spain\", 40.4637, -3.7492);\n",
    "add_coordinates(da_world, \"United Kingdom\", 51.5074, 0.1278);\n",
    "#For the cruise ships we add the coordinates of the waters where they were waiting for permission to dock. \n",
    "add_coordinates(da_world, \"Diamond Princess\", 35.6168, 139.7958);\n",
    "add_coordinates(da_world, \"MS Zaandam\", 9.080000, -79.680000);"
   ]
  },
  {
   "cell_type": "code",
   "execution_count": 372,
   "metadata": {},
   "outputs": [
    {
     "data": {
      "text/plain": [
       "Country/Region    0\n",
       "Last_Update       0\n",
       "Latitude          0\n",
       "Longitude         0\n",
       "Confirmed         0\n",
       "Deaths            0\n",
       "Recovered         0\n",
       "Active            0\n",
       "dtype: int64"
      ]
     },
     "execution_count": 372,
     "metadata": {},
     "output_type": "execute_result"
    }
   ],
   "source": [
    "da_world.isnull().sum()"
   ]
  },
  {
   "cell_type": "markdown",
   "metadata": {},
   "source": [
    "We clean up the data and consolidate the names of countries with several variations or with a comma using the function format_country. \n",
    "<br>From the first look at the datasets, we found that South Korea is Korea,South in the original dataset and Congo is assigned for both the \"Republic of the Congo\" and the \"Democratic Republic of the Congo\" . "
   ]
  },
  {
   "cell_type": "code",
   "execution_count": 373,
   "metadata": {},
   "outputs": [],
   "source": [
    "#da_world[da_world[\"Country/Region\"].str.contains(\"Korea\")]"
   ]
  },
  {
   "cell_type": "code",
   "execution_count": 374,
   "metadata": {},
   "outputs": [],
   "source": [
    "#da_world[da_world[\"Country/Region\"].str.contains(\"Congo\")]"
   ]
  },
  {
   "cell_type": "code",
   "execution_count": 375,
   "metadata": {},
   "outputs": [],
   "source": [
    "def format_country(da, original, new):\n",
    "    list_change = da[da[\"Country/Region\"].str.contains(original)].index\n",
    "    for x in list_change:\n",
    "        da.loc[x,\"Country/Region\"] = new\n",
    "        if \"Combined_Key\" in da:\n",
    "            da.loc[x,\"Combined_Key\"] = new\n",
    "    return da"
   ]
  },
  {
   "cell_type": "code",
   "execution_count": 376,
   "metadata": {},
   "outputs": [],
   "source": [
    "datasets = [da_world, da_confirmed_w, da_fatalities_w, da_recovered_w]\n",
    "countries_to_format = [\"Korea\",\"Brazzaville\",\"Kinshasa\", \"Holy See\"]\n",
    "formatted_countries = [\"South Korea\", \"Republic of the Congo\",\"Democratic Republic of the Congo\", \"Vatican City\"]\n",
    "for c in range(len(countries_to_format)):\n",
    "    for x in range(len(datasets)):\n",
    "        format_country(datasets[x],countries_to_format[c],formatted_countries[c])\n",
    "        #print(datasets[x][datasets[x][\"Country/Region\"].str.contains(formatted_countries[c])][\"Country/Region\"])"
   ]
  },
  {
   "cell_type": "markdown",
   "metadata": {},
   "source": [
    "We add a column for the active positive cases. \n",
    "<br>Our main interest is to see how the numbers of active cases are changing. \n",
    "<br> Note: This column wasn't available in the original dataset when this notebook started to take shape.\n",
    "\n"
   ]
  },
  {
   "cell_type": "code",
   "execution_count": 377,
   "metadata": {},
   "outputs": [],
   "source": [
    "da_world[\"Active\"] = da_world[\"Confirmed\"] - da_world[\"Recovered\"] - da_world[\"Deaths\"]"
   ]
  },
  {
   "cell_type": "code",
   "execution_count": 378,
   "metadata": {},
   "outputs": [],
   "source": [
    "#da_world.head().style.hide_index()"
   ]
  },
  {
   "cell_type": "markdown",
   "metadata": {},
   "source": [
    "## Global numbers in a nutshell"
   ]
  },
  {
   "cell_type": "code",
   "execution_count": 379,
   "metadata": {},
   "outputs": [
    {
     "name": "stdout",
     "output_type": "stream",
     "text": [
      "Confirmed    7900924\n",
      "Active       3698146\n",
      "Recovered    3769712\n",
      "Deaths        433066\n"
     ]
    }
   ],
   "source": [
    "total_w = da_world[[\"Confirmed\",\"Active\",\"Recovered\",\"Deaths\"]].sum()\n",
    "print(total_w.to_string())"
   ]
  },
  {
   "cell_type": "markdown",
   "metadata": {},
   "source": [
    "We group the dataset by countries to have a total value per nation and list the top five countries with active cases. "
   ]
  },
  {
   "cell_type": "code",
   "execution_count": 380,
   "metadata": {},
   "outputs": [],
   "source": [
    "total_countries = da_world.groupby(\"Country/Region\")[[\"Confirmed\",\"Active\",\"Recovered\",\"Deaths\"]].sum(\n",
    "              ).sort_values(by=\"Active\",ascending=False)\n",
    "#total_countries.head()"
   ]
  },
  {
   "cell_type": "code",
   "execution_count": 381,
   "metadata": {},
   "outputs": [
    {
     "data": {
      "text/html": [
       "<style  type=\"text/css\" >\n",
       "</style><table id=\"T_9e948892_af16_11ea_b339_a45e60b8672d\" ><thead>    <tr>        <th class=\"col_heading level0 col0\" >Country/Region</th>        <th class=\"col_heading level0 col1\" >Confirmed</th>        <th class=\"col_heading level0 col2\" >Active</th>        <th class=\"col_heading level0 col3\" >Recovered</th>        <th class=\"col_heading level0 col4\" >Deaths</th>    </tr></thead><tbody>\n",
       "                <tr>\n",
       "                                <td id=\"T_9e948892_af16_11ea_b339_a45e60b8672drow0_col0\" class=\"data row0 col0\" >US</td>\n",
       "                        <td id=\"T_9e948892_af16_11ea_b339_a45e60b8672drow0_col1\" class=\"data row0 col1\" >2094058</td>\n",
       "                        <td id=\"T_9e948892_af16_11ea_b339_a45e60b8672drow0_col2\" class=\"data row0 col2\" >1416510</td>\n",
       "                        <td id=\"T_9e948892_af16_11ea_b339_a45e60b8672drow0_col3\" class=\"data row0 col3\" >561816</td>\n",
       "                        <td id=\"T_9e948892_af16_11ea_b339_a45e60b8672drow0_col4\" class=\"data row0 col4\" >115732</td>\n",
       "            </tr>\n",
       "            <tr>\n",
       "                                <td id=\"T_9e948892_af16_11ea_b339_a45e60b8672drow1_col0\" class=\"data row1 col0\" >Brazil</td>\n",
       "                        <td id=\"T_9e948892_af16_11ea_b339_a45e60b8672drow1_col1\" class=\"data row1 col1\" >867624</td>\n",
       "                        <td id=\"T_9e948892_af16_11ea_b339_a45e60b8672drow1_col2\" class=\"data row1 col2\" >355151</td>\n",
       "                        <td id=\"T_9e948892_af16_11ea_b339_a45e60b8672drow1_col3\" class=\"data row1 col3\" >469141</td>\n",
       "                        <td id=\"T_9e948892_af16_11ea_b339_a45e60b8672drow1_col4\" class=\"data row1 col4\" >43332</td>\n",
       "            </tr>\n",
       "            <tr>\n",
       "                                <td id=\"T_9e948892_af16_11ea_b339_a45e60b8672drow2_col0\" class=\"data row2 col0\" >United Kingdom</td>\n",
       "                        <td id=\"T_9e948892_af16_11ea_b339_a45e60b8672drow2_col1\" class=\"data row2 col1\" >297342</td>\n",
       "                        <td id=\"T_9e948892_af16_11ea_b339_a45e60b8672drow2_col2\" class=\"data row2 col2\" >254276</td>\n",
       "                        <td id=\"T_9e948892_af16_11ea_b339_a45e60b8672drow2_col3\" class=\"data row2 col3\" >1283</td>\n",
       "                        <td id=\"T_9e948892_af16_11ea_b339_a45e60b8672drow2_col4\" class=\"data row2 col4\" >41783</td>\n",
       "            </tr>\n",
       "            <tr>\n",
       "                                <td id=\"T_9e948892_af16_11ea_b339_a45e60b8672drow3_col0\" class=\"data row3 col0\" >Russia</td>\n",
       "                        <td id=\"T_9e948892_af16_11ea_b339_a45e60b8672drow3_col1\" class=\"data row3 col1\" >528267</td>\n",
       "                        <td id=\"T_9e948892_af16_11ea_b339_a45e60b8672drow3_col2\" class=\"data row3 col2\" >241793</td>\n",
       "                        <td id=\"T_9e948892_af16_11ea_b339_a45e60b8672drow3_col3\" class=\"data row3 col3\" >279536</td>\n",
       "                        <td id=\"T_9e948892_af16_11ea_b339_a45e60b8672drow3_col4\" class=\"data row3 col4\" >6938</td>\n",
       "            </tr>\n",
       "            <tr>\n",
       "                                <td id=\"T_9e948892_af16_11ea_b339_a45e60b8672drow4_col0\" class=\"data row4 col0\" >India</td>\n",
       "                        <td id=\"T_9e948892_af16_11ea_b339_a45e60b8672drow4_col1\" class=\"data row4 col1\" >320922</td>\n",
       "                        <td id=\"T_9e948892_af16_11ea_b339_a45e60b8672drow4_col2\" class=\"data row4 col2\" >149348</td>\n",
       "                        <td id=\"T_9e948892_af16_11ea_b339_a45e60b8672drow4_col3\" class=\"data row4 col3\" >162379</td>\n",
       "                        <td id=\"T_9e948892_af16_11ea_b339_a45e60b8672drow4_col4\" class=\"data row4 col4\" >9195</td>\n",
       "            </tr>\n",
       "    </tbody></table>"
      ],
      "text/plain": [
       "<pandas.io.formats.style.Styler at 0x11a90fc70>"
      ]
     },
     "execution_count": 381,
     "metadata": {},
     "output_type": "execute_result"
    }
   ],
   "source": [
    "total_all = total_countries\n",
    "total_all = total_all.reset_index()\n",
    "total_all.head().style.hide_index()"
   ]
  },
  {
   "cell_type": "code",
   "execution_count": 382,
   "metadata": {},
   "outputs": [],
   "source": [
    "total_all[\"Latitude\"]= np.nan\n",
    "total_all[\"Longitude\"]= np.nan"
   ]
  },
  {
   "cell_type": "code",
   "execution_count": 383,
   "metadata": {},
   "outputs": [],
   "source": [
    "places = total_all[\"Country/Region\"]"
   ]
  },
  {
   "cell_type": "code",
   "execution_count": 384,
   "metadata": {},
   "outputs": [
    {
     "data": {
      "text/html": [
       "<div>\n",
       "<style scoped>\n",
       "    .dataframe tbody tr th:only-of-type {\n",
       "        vertical-align: middle;\n",
       "    }\n",
       "\n",
       "    .dataframe tbody tr th {\n",
       "        vertical-align: top;\n",
       "    }\n",
       "\n",
       "    .dataframe thead th {\n",
       "        text-align: right;\n",
       "    }\n",
       "</style>\n",
       "<table border=\"1\" class=\"dataframe\">\n",
       "  <thead>\n",
       "    <tr style=\"text-align: right;\">\n",
       "      <th></th>\n",
       "      <th>Country/Region</th>\n",
       "      <th>Confirmed</th>\n",
       "      <th>Active</th>\n",
       "      <th>Recovered</th>\n",
       "      <th>Deaths</th>\n",
       "      <th>Latitude</th>\n",
       "      <th>Longitude</th>\n",
       "    </tr>\n",
       "  </thead>\n",
       "  <tbody>\n",
       "    <tr>\n",
       "      <th>0</th>\n",
       "      <td>US</td>\n",
       "      <td>2094058</td>\n",
       "      <td>1416510</td>\n",
       "      <td>561816</td>\n",
       "      <td>115732</td>\n",
       "      <td>NaN</td>\n",
       "      <td>NaN</td>\n",
       "    </tr>\n",
       "    <tr>\n",
       "      <th>1</th>\n",
       "      <td>Brazil</td>\n",
       "      <td>867624</td>\n",
       "      <td>355151</td>\n",
       "      <td>469141</td>\n",
       "      <td>43332</td>\n",
       "      <td>NaN</td>\n",
       "      <td>NaN</td>\n",
       "    </tr>\n",
       "    <tr>\n",
       "      <th>2</th>\n",
       "      <td>United Kingdom</td>\n",
       "      <td>297342</td>\n",
       "      <td>254276</td>\n",
       "      <td>1283</td>\n",
       "      <td>41783</td>\n",
       "      <td>NaN</td>\n",
       "      <td>NaN</td>\n",
       "    </tr>\n",
       "    <tr>\n",
       "      <th>3</th>\n",
       "      <td>Russia</td>\n",
       "      <td>528267</td>\n",
       "      <td>241793</td>\n",
       "      <td>279536</td>\n",
       "      <td>6938</td>\n",
       "      <td>NaN</td>\n",
       "      <td>NaN</td>\n",
       "    </tr>\n",
       "    <tr>\n",
       "      <th>4</th>\n",
       "      <td>India</td>\n",
       "      <td>320922</td>\n",
       "      <td>149348</td>\n",
       "      <td>162379</td>\n",
       "      <td>9195</td>\n",
       "      <td>NaN</td>\n",
       "      <td>NaN</td>\n",
       "    </tr>\n",
       "  </tbody>\n",
       "</table>\n",
       "</div>"
      ],
      "text/plain": [
       "   Country/Region  Confirmed   Active  Recovered  Deaths  Latitude  Longitude\n",
       "0              US    2094058  1416510     561816  115732       NaN        NaN\n",
       "1          Brazil     867624   355151     469141   43332       NaN        NaN\n",
       "2  United Kingdom     297342   254276       1283   41783       NaN        NaN\n",
       "3          Russia     528267   241793     279536    6938       NaN        NaN\n",
       "4           India     320922   149348     162379    9195       NaN        NaN"
      ]
     },
     "execution_count": 384,
     "metadata": {},
     "output_type": "execute_result"
    }
   ],
   "source": [
    "total_all.head()"
   ]
  },
  {
   "cell_type": "code",
   "execution_count": 385,
   "metadata": {},
   "outputs": [],
   "source": [
    "for x in range(len(places)):\n",
    "    if not da_world[da_world[\"Country/Region\"] == places[x]].empty:\n",
    "        loc_country = da_world[da_world[\"Country/Region\"] == places[x]][[\"Latitude\",\"Longitude\"]].to_numpy()\n",
    "        #print(loc_country)\n",
    "        if loc_country.shape != (1,2):\n",
    "            #a=loc_country[0]\n",
    "            total_all.loc[x,[\"Latitude\"]] = loc_country[0,0]\n",
    "            total_all.loc[x,[\"Longitude\"]] = loc_country[0,1]\n",
    "            #print(\"country shape: {}\".format(places[x]))\n",
    "        else:\n",
    "            total_all.loc[x,[\"Latitude\"]] = loc_country[0,0]\n",
    "            total_all.loc[x,[\"Longitude\"]] = loc_country[0,1]\n",
    "    else:\n",
    "        print(\"not found: \",places[x])"
   ]
  },
  {
   "cell_type": "code",
   "execution_count": 386,
   "metadata": {},
   "outputs": [
    {
     "data": {
      "text/html": [
       "<div>\n",
       "<style scoped>\n",
       "    .dataframe tbody tr th:only-of-type {\n",
       "        vertical-align: middle;\n",
       "    }\n",
       "\n",
       "    .dataframe tbody tr th {\n",
       "        vertical-align: top;\n",
       "    }\n",
       "\n",
       "    .dataframe thead th {\n",
       "        text-align: right;\n",
       "    }\n",
       "</style>\n",
       "<table border=\"1\" class=\"dataframe\">\n",
       "  <thead>\n",
       "    <tr style=\"text-align: right;\">\n",
       "      <th></th>\n",
       "      <th>Country/Region</th>\n",
       "      <th>Confirmed</th>\n",
       "      <th>Active</th>\n",
       "      <th>Recovered</th>\n",
       "      <th>Deaths</th>\n",
       "      <th>Latitude</th>\n",
       "      <th>Longitude</th>\n",
       "    </tr>\n",
       "  </thead>\n",
       "  <tbody>\n",
       "    <tr>\n",
       "      <th>0</th>\n",
       "      <td>US</td>\n",
       "      <td>2094058</td>\n",
       "      <td>1416510</td>\n",
       "      <td>561816</td>\n",
       "      <td>115732</td>\n",
       "      <td>38.9072</td>\n",
       "      <td>-77.0369</td>\n",
       "    </tr>\n",
       "  </tbody>\n",
       "</table>\n",
       "</div>"
      ],
      "text/plain": [
       "  Country/Region  Confirmed   Active  Recovered  Deaths  Latitude  Longitude\n",
       "0             US    2094058  1416510     561816  115732   38.9072   -77.0369"
      ]
     },
     "execution_count": 386,
     "metadata": {},
     "output_type": "execute_result"
    }
   ],
   "source": [
    "total_all[total_all[\"Country/Region\"]==\"US\"]"
   ]
  },
  {
   "cell_type": "code",
   "execution_count": 387,
   "metadata": {},
   "outputs": [],
   "source": [
    "#total_all"
   ]
  },
  {
   "cell_type": "code",
   "execution_count": 388,
   "metadata": {},
   "outputs": [
    {
     "data": {
      "text/plain": [
       "Country/Region    0\n",
       "Confirmed         0\n",
       "Active            0\n",
       "Recovered         0\n",
       "Deaths            0\n",
       "Latitude          0\n",
       "Longitude         0\n",
       "dtype: int64"
      ]
     },
     "execution_count": 388,
     "metadata": {},
     "output_type": "execute_result"
    }
   ],
   "source": [
    "total_all.isnull().sum()"
   ]
  },
  {
   "cell_type": "markdown",
   "metadata": {},
   "source": [
    "Looking at the assigned coordinates, those countries with several entries in the dataset (e.g. autonomous territories within a country or countries with entries per state) may have assigned a point far from the capital city, e.g. for Denmark, the assigned coordinates were those of Greenland. We will adjust these points with the function `add_coordinates`."
   ]
  },
  {
   "cell_type": "code",
   "execution_count": 389,
   "metadata": {},
   "outputs": [],
   "source": [
    "add_coordinates(total_all,\"US\", 38.9072, -85.0369);\n",
    "add_coordinates(total_all,\"France\", 48.8566, 2.3522);\n",
    "add_coordinates(total_all,\"United Kingdom\", 51.5074, 0.1278);\n",
    "add_coordinates(total_all,\"Netherlands\", 52.3667, 4.8945);\n",
    "add_coordinates(total_all,\"China\", 35.8617, 104.1954);\n",
    "add_coordinates(total_all,\"Canada\", 45.4215, -75.6972);\n",
    "add_coordinates(total_all,\"Australia\", -33.8688, 151.2093);\n",
    "add_coordinates(total_all,\"Denmark\", 55.6761, 12.5683);\n",
    "add_coordinates(total_all,\"Republic of the Congo\", -0.2280, 15.8277);\n",
    "add_coordinates(total_all,\"Syria\", 34.8021, 38.9968);\n",
    "add_coordinates(total_all,\"Saint Vincent and the Grenadines\", 12.9843, -61.2872);\n",
    "add_coordinates(total_all,\"Brazil\", -14.2350, -51.9253);\n",
    "add_coordinates(total_all,\"Russia\", 55.7558, 37.6173);\n",
    "#total_all.head().style.hide_index()"
   ]
  },
  {
   "cell_type": "markdown",
   "metadata": {},
   "source": [
    "We create a map where each country with active cases is labeled as follows:\n",
    "<br>Blue circle: less than 1000 reported active cases.\n",
    "<br>Orange circle: more than 1000 and less than 10000 reported active cases.\n",
    "<br>Red circle: more than 10000 reported active cases."
   ]
  },
  {
   "cell_type": "code",
   "execution_count": 390,
   "metadata": {},
   "outputs": [
    {
     "data": {
      "text/html": [
       "<div style=\"width:100%;\"><div style=\"position:relative;width:100%;height:0;padding-bottom:60%;\"><iframe src=\"about:blank\" style=\"position:absolute;width:100%;height:100%;left:0;top:0;border:none !important;\" data-html=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 onload=\"this.contentDocument.open();this.contentDocument.write(atob(this.getAttribute('data-html')));this.contentDocument.close();\" allowfullscreen webkitallowfullscreen mozallowfullscreen></iframe></div></div>"
      ],
      "text/plain": [
       "<folium.folium.Map at 0x11a9a5be0>"
      ]
     },
     "execution_count": 390,
     "metadata": {},
     "output_type": "execute_result"
    }
   ],
   "source": [
    "world_map = folium.Map(location=[41.8719, -20], tiles='cartodbpositron', zoom_start=2.5)\n",
    "def color_producer(val):\n",
    "    if val < 1000:\n",
    "        return 'blue'\n",
    "    elif val < 10000:\n",
    "        return 'orange'\n",
    "    else:\n",
    "        return 'red'\n",
    "\n",
    "for i in range(0,len(places)):\n",
    "    if not(np.isnan(total_all.iloc[i]['Latitude']) or np.isnan(\n",
    "            total_all.iloc[i]['Longitude'])):\n",
    "        folium.Circle(       \n",
    "        location=[total_all.iloc[i]['Latitude'], total_all.iloc[i]['Longitude']],\n",
    "        popup=(\"Country: \" + str(places[i]) + \"<br>\"\n",
    "               \"Confirmed cases: \" + str(total_all.iloc[i][\"Confirmed\"])+\"<br>\"\n",
    "               \"Active cases: \" + str(total_all.iloc[i][\"Active\"])+\"<br>\"\n",
    "               \"Recovered: \" + str(total_all.iloc[i][\"Recovered\"])+\"<br>\"\n",
    "               \"Deaths: \" + str(total_all.iloc[i][\"Deaths\"])),\n",
    "        radius=(total_all.iloc[i]['Active']*2000000)/total_all['Active'].sum(), \n",
    "        color=color_producer(total_all.iloc[i]['Active']),\n",
    "        fill_color=color_producer(total_all.iloc[i]['Active']),\n",
    "        title='Covid-19 active cases worldwide').add_to(world_map)\n",
    "\n",
    "world_map"
   ]
  },
  {
   "cell_type": "markdown",
   "metadata": {},
   "source": [
    "Summary data per country is shown if you click on each country's circle."
   ]
  },
  {
   "cell_type": "markdown",
   "metadata": {},
   "source": [
    "## Top 15 countries by number of active cases"
   ]
  },
  {
   "cell_type": "markdown",
   "metadata": {},
   "source": [
    "We list the fifteen countries with most active cases.\n",
    "<br> We also calculate the death rate as number of deaths over confirmed positive cases and include it in the column \"Death rate [%]\".\n",
    "<br> The value of death rate can be interpreted from several perspectives and it is a controversial value as each country has a different approach to count the numbers of deaths due to Covid-19, e.g. in Italy Covid-19 post-mortem tests are done while in Germany only deaths from people tested positive when alive are counted as Covid-19 deaths."
   ]
  },
  {
   "cell_type": "code",
   "execution_count": 391,
   "metadata": {},
   "outputs": [
    {
     "data": {
      "text/html": [
       "<div>\n",
       "<style scoped>\n",
       "    .dataframe tbody tr th:only-of-type {\n",
       "        vertical-align: middle;\n",
       "    }\n",
       "\n",
       "    .dataframe tbody tr th {\n",
       "        vertical-align: top;\n",
       "    }\n",
       "\n",
       "    .dataframe thead th {\n",
       "        text-align: right;\n",
       "    }\n",
       "</style>\n",
       "<table border=\"1\" class=\"dataframe\">\n",
       "  <thead>\n",
       "    <tr style=\"text-align: right;\">\n",
       "      <th></th>\n",
       "      <th>Country/Region</th>\n",
       "      <th>Confirmed</th>\n",
       "      <th>Active</th>\n",
       "      <th>Recovered</th>\n",
       "      <th>Deaths</th>\n",
       "      <th>Latitude</th>\n",
       "      <th>Longitude</th>\n",
       "      <th>Death rate [%]</th>\n",
       "    </tr>\n",
       "  </thead>\n",
       "  <tbody>\n",
       "    <tr>\n",
       "      <th>0</th>\n",
       "      <td>US</td>\n",
       "      <td>2094058</td>\n",
       "      <td>1416510</td>\n",
       "      <td>561816</td>\n",
       "      <td>115732</td>\n",
       "      <td>38.907200</td>\n",
       "      <td>-85.036900</td>\n",
       "      <td>5.53</td>\n",
       "    </tr>\n",
       "    <tr>\n",
       "      <th>1</th>\n",
       "      <td>Brazil</td>\n",
       "      <td>867624</td>\n",
       "      <td>355151</td>\n",
       "      <td>469141</td>\n",
       "      <td>43332</td>\n",
       "      <td>-14.235000</td>\n",
       "      <td>-51.925300</td>\n",
       "      <td>4.99</td>\n",
       "    </tr>\n",
       "    <tr>\n",
       "      <th>2</th>\n",
       "      <td>United Kingdom</td>\n",
       "      <td>297342</td>\n",
       "      <td>254276</td>\n",
       "      <td>1283</td>\n",
       "      <td>41783</td>\n",
       "      <td>51.507400</td>\n",
       "      <td>0.127800</td>\n",
       "      <td>14.05</td>\n",
       "    </tr>\n",
       "    <tr>\n",
       "      <th>3</th>\n",
       "      <td>Russia</td>\n",
       "      <td>528267</td>\n",
       "      <td>241793</td>\n",
       "      <td>279536</td>\n",
       "      <td>6938</td>\n",
       "      <td>55.755800</td>\n",
       "      <td>37.617300</td>\n",
       "      <td>1.31</td>\n",
       "    </tr>\n",
       "    <tr>\n",
       "      <th>4</th>\n",
       "      <td>India</td>\n",
       "      <td>320922</td>\n",
       "      <td>149348</td>\n",
       "      <td>162379</td>\n",
       "      <td>9195</td>\n",
       "      <td>20.593700</td>\n",
       "      <td>78.962900</td>\n",
       "      <td>2.87</td>\n",
       "    </tr>\n",
       "    <tr>\n",
       "      <th>5</th>\n",
       "      <td>Peru</td>\n",
       "      <td>229736</td>\n",
       "      <td>107469</td>\n",
       "      <td>115579</td>\n",
       "      <td>6688</td>\n",
       "      <td>-9.190000</td>\n",
       "      <td>-75.015200</td>\n",
       "      <td>2.91</td>\n",
       "    </tr>\n",
       "    <tr>\n",
       "      <th>6</th>\n",
       "      <td>France</td>\n",
       "      <td>194153</td>\n",
       "      <td>91761</td>\n",
       "      <td>72982</td>\n",
       "      <td>29410</td>\n",
       "      <td>48.856600</td>\n",
       "      <td>2.352200</td>\n",
       "      <td>15.15</td>\n",
       "    </tr>\n",
       "    <tr>\n",
       "      <th>7</th>\n",
       "      <td>Pakistan</td>\n",
       "      <td>144478</td>\n",
       "      <td>88028</td>\n",
       "      <td>53721</td>\n",
       "      <td>2729</td>\n",
       "      <td>34.027401</td>\n",
       "      <td>73.947253</td>\n",
       "      <td>1.89</td>\n",
       "    </tr>\n",
       "    <tr>\n",
       "      <th>8</th>\n",
       "      <td>Bangladesh</td>\n",
       "      <td>87520</td>\n",
       "      <td>67619</td>\n",
       "      <td>18730</td>\n",
       "      <td>1171</td>\n",
       "      <td>23.685000</td>\n",
       "      <td>90.356300</td>\n",
       "      <td>1.34</td>\n",
       "    </tr>\n",
       "    <tr>\n",
       "      <th>9</th>\n",
       "      <td>Spain</td>\n",
       "      <td>243928</td>\n",
       "      <td>66416</td>\n",
       "      <td>150376</td>\n",
       "      <td>27136</td>\n",
       "      <td>40.463700</td>\n",
       "      <td>-3.749200</td>\n",
       "      <td>11.12</td>\n",
       "    </tr>\n",
       "    <tr>\n",
       "      <th>10</th>\n",
       "      <td>Sweden</td>\n",
       "      <td>51614</td>\n",
       "      <td>46740</td>\n",
       "      <td>0</td>\n",
       "      <td>4874</td>\n",
       "      <td>56.278400</td>\n",
       "      <td>15.018000</td>\n",
       "      <td>9.44</td>\n",
       "    </tr>\n",
       "    <tr>\n",
       "      <th>11</th>\n",
       "      <td>Netherlands</td>\n",
       "      <td>48990</td>\n",
       "      <td>42731</td>\n",
       "      <td>181</td>\n",
       "      <td>6078</td>\n",
       "      <td>52.366700</td>\n",
       "      <td>4.894500</td>\n",
       "      <td>12.41</td>\n",
       "    </tr>\n",
       "    <tr>\n",
       "      <th>12</th>\n",
       "      <td>Saudi Arabia</td>\n",
       "      <td>127541</td>\n",
       "      <td>41849</td>\n",
       "      <td>84720</td>\n",
       "      <td>972</td>\n",
       "      <td>23.885942</td>\n",
       "      <td>45.079162</td>\n",
       "      <td>0.76</td>\n",
       "    </tr>\n",
       "    <tr>\n",
       "      <th>13</th>\n",
       "      <td>Belgium</td>\n",
       "      <td>60029</td>\n",
       "      <td>33785</td>\n",
       "      <td>16589</td>\n",
       "      <td>9655</td>\n",
       "      <td>50.833300</td>\n",
       "      <td>4.469936</td>\n",
       "      <td>16.08</td>\n",
       "    </tr>\n",
       "    <tr>\n",
       "      <th>14</th>\n",
       "      <td>Canada</td>\n",
       "      <td>100404</td>\n",
       "      <td>31518</td>\n",
       "      <td>60668</td>\n",
       "      <td>8218</td>\n",
       "      <td>45.421500</td>\n",
       "      <td>-75.697200</td>\n",
       "      <td>8.18</td>\n",
       "    </tr>\n",
       "  </tbody>\n",
       "</table>\n",
       "</div>"
      ],
      "text/plain": [
       "    Country/Region  Confirmed   Active  Recovered  Deaths   Latitude  \\\n",
       "0               US    2094058  1416510     561816  115732  38.907200   \n",
       "1           Brazil     867624   355151     469141   43332 -14.235000   \n",
       "2   United Kingdom     297342   254276       1283   41783  51.507400   \n",
       "3           Russia     528267   241793     279536    6938  55.755800   \n",
       "4            India     320922   149348     162379    9195  20.593700   \n",
       "5             Peru     229736   107469     115579    6688  -9.190000   \n",
       "6           France     194153    91761      72982   29410  48.856600   \n",
       "7         Pakistan     144478    88028      53721    2729  34.027401   \n",
       "8       Bangladesh      87520    67619      18730    1171  23.685000   \n",
       "9            Spain     243928    66416     150376   27136  40.463700   \n",
       "10          Sweden      51614    46740          0    4874  56.278400   \n",
       "11     Netherlands      48990    42731        181    6078  52.366700   \n",
       "12    Saudi Arabia     127541    41849      84720     972  23.885942   \n",
       "13         Belgium      60029    33785      16589    9655  50.833300   \n",
       "14          Canada     100404    31518      60668    8218  45.421500   \n",
       "\n",
       "    Longitude  Death rate [%]  \n",
       "0  -85.036900            5.53  \n",
       "1  -51.925300            4.99  \n",
       "2    0.127800           14.05  \n",
       "3   37.617300            1.31  \n",
       "4   78.962900            2.87  \n",
       "5  -75.015200            2.91  \n",
       "6    2.352200           15.15  \n",
       "7   73.947253            1.89  \n",
       "8   90.356300            1.34  \n",
       "9   -3.749200           11.12  \n",
       "10  15.018000            9.44  \n",
       "11   4.894500           12.41  \n",
       "12  45.079162            0.76  \n",
       "13   4.469936           16.08  \n",
       "14 -75.697200            8.18  "
      ]
     },
     "execution_count": 391,
     "metadata": {},
     "output_type": "execute_result"
    }
   ],
   "source": [
    "warnings.filterwarnings(\"ignore\")\n",
    "top_fifteen = total_all.head(15)\n",
    "top_fifteen[\"Death rate [%]\"] = round(100*top_fifteen[\"Deaths\"]/ top_fifteen[\"Confirmed\"],2)\n",
    "top_fifteen"
   ]
  },
  {
   "cell_type": "markdown",
   "metadata": {},
   "source": [
    "<br>As of 28.04.20, Belgium has the highest death rate. It is to note that Belgium, unlike UK, Spain or Italy, include in the Covid-19 death toll fatalities outside hospitals as well as people suspected of having died of Covid-19.  \n",
    "<br>As of 13.03.20, most of the victims Covid-19 positive in Italy were 70 years old and older [1](https://www.medrxiv.org/content/10.1101/2020.03.15.20036293v1.full.pdf).\n",
    "<br>According to a study by the Leverhulme Centre for Demographic Science at the University of Oxford [1](https://www.medrxiv.org/content/10.1101/2020.03.15.20036293v1.full.pdf) and a publication in FAZ [2](https://m.faz.net/aktuell/wissen/geist-soziales/coronavirus-pandemie-warum-ist-es-in-italien-so-schlimm-16693408.html), some of the main reasons for Italy's high death rate are:\n",
    "* Italy is the world's second oldest population after Japan with 23% of the population aged 65 years and older compared to 13.2% younger than 16 year old.\n",
    "* As of 26.03, the average age of cases in Italy is 63 years.\n",
    "* Northern Italy, the area in Italy with most cases, is the industrial heart of the country with high pollution levels and there are many inhabitants suffering from respiratory problems. \n",
    "* Family is very important in Italy and the contact between generations is close, even if multigenerations are not living during the same roof, they live close by and see each other frequently.\n",
    "* Hugs and kisses on the cheek are common when greeting people in Italy.\n",
    "* The initial lockdown measures in the Northern provices caused a boomerang effect as it caused an exodus and many students from the North with family in the South travelled home, contributing to the spread of the virus.\n",
    "\n",
    "<br> In contrast, Germany has a low death rate from the top-10 list of active cases even though it was on the fourth place of active cases as of 05.04. Possible factors that may influence this number are:\n",
    "* As of 01.04. Germany is the country that has executed most Covid-19 tests in the world in order to identify positive cases, trace them and contain spread. Italy is the second and South Korea the third. [3](https://de.statista.com/infografik/21211/anzahl-der-durchgefuehrten-coronavirus-tests-je-1-mio-einwohner-in-laendern-weltweit/)\n",
    "* Over 70% of the cases in Germany are in the age range between 15 and 59 years [4](https://de.statista.com/statistik/daten/studie/1103904/umfrage/corona-infektionen-covid-19-in-deutschland-nach-altersgruppe/).\n",
    "* As of 26.03 the average age of cases is 45 years.\n",
    "* The elderly generation in Germany tends to be independent and not as in close contact with younger generations as in Italy or Spain.\n",
    "* The testing and tracing strategy that has been executed since the early days and the social structure in Germany of the outbreak might be the main reasons why the spread hasn't impacted the elderly population as badly as in Italy, keeping the death rate low.\n",
    "* Germany does not run Covid-19 post-mortem tests."
   ]
  },
  {
   "cell_type": "code",
   "execution_count": 392,
   "metadata": {},
   "outputs": [
    {
     "data": {
      "application/vnd.plotly.v1+json": {
       "config": {
        "plotlyServerURL": "https://plot.ly"
       },
       "data": [
        {
         "branchvalues": "total",
         "customdata": [
          [
           87520,
           67619,
           18730,
           1171,
           1.34
          ],
          [
           60029,
           33785,
           16589,
           9655,
           16.08
          ],
          [
           867624,
           355151,
           469141,
           43332,
           4.99
          ],
          [
           100404,
           31518,
           60668,
           8218,
           8.18
          ],
          [
           194153,
           91761,
           72982,
           29410,
           15.15
          ],
          [
           320922,
           149348,
           162379,
           9195,
           2.87
          ],
          [
           48990,
           42731,
           181,
           6078,
           12.41
          ],
          [
           144478,
           88028,
           53721,
           2729,
           1.89
          ],
          [
           229736,
           107469,
           115579,
           6688,
           2.91
          ],
          [
           528267,
           241793,
           279536,
           6938,
           1.31
          ],
          [
           127541,
           41849,
           84720,
           972,
           0.76
          ],
          [
           243928,
           66416,
           150376,
           27136,
           11.12
          ],
          [
           51614,
           46740,
           0,
           4874,
           9.44
          ],
          [
           2094058,
           1416510,
           561816,
           115732,
           5.53
          ],
          [
           297342,
           254276,
           1283,
           41783,
           14.05
          ]
         ],
         "domain": {
          "x": [
           0,
           1
          ],
          "y": [
           0,
           1
          ]
         },
         "hovertemplate": "labels=%{label}<br>Active=%{customdata[1]}<br>parent=%{parent}<br>id=%{id}<br>Confirmed=%{customdata[0]}<br>Recovered=%{customdata[2]}<br>Deaths=%{customdata[3]}<br>Death rate [%]=%{customdata[4]}<extra></extra>",
         "ids": [
          "Bangladesh",
          "Belgium",
          "Brazil",
          "Canada",
          "France",
          "India",
          "Netherlands",
          "Pakistan",
          "Peru",
          "Russia",
          "Saudi Arabia",
          "Spain",
          "Sweden",
          "US",
          "United Kingdom"
         ],
         "labels": [
          "Bangladesh",
          "Belgium",
          "Brazil",
          "Canada",
          "France",
          "India",
          "Netherlands",
          "Pakistan",
          "Peru",
          "Russia",
          "Saudi Arabia",
          "Spain",
          "Sweden",
          "US",
          "United Kingdom"
         ],
         "name": "",
         "parents": [
          "",
          "",
          "",
          "",
          "",
          "",
          "",
          "",
          "",
          "",
          "",
          "",
          "",
          "",
          ""
         ],
         "type": "treemap",
         "values": [
          67619,
          33785,
          355151,
          31518,
          91761,
          149348,
          42731,
          88028,
          107469,
          241793,
          41849,
          66416,
          46740,
          1416510,
          254276
         ]
        }
       ],
       "layout": {
        "legend": {
         "tracegroupgap": 0
        },
        "template": {
         "data": {
          "bar": [
           {
            "error_x": {
             "color": "#2a3f5f"
            },
            "error_y": {
             "color": "#2a3f5f"
            },
            "marker": {
             "line": {
              "color": "#E5ECF6",
              "width": 0.5
             }
            },
            "type": "bar"
           }
          ],
          "barpolar": [
           {
            "marker": {
             "line": {
              "color": "#E5ECF6",
              "width": 0.5
             }
            },
            "type": "barpolar"
           }
          ],
          "carpet": [
           {
            "aaxis": {
             "endlinecolor": "#2a3f5f",
             "gridcolor": "white",
             "linecolor": "white",
             "minorgridcolor": "white",
             "startlinecolor": "#2a3f5f"
            },
            "baxis": {
             "endlinecolor": "#2a3f5f",
             "gridcolor": "white",
             "linecolor": "white",
             "minorgridcolor": "white",
             "startlinecolor": "#2a3f5f"
            },
            "type": "carpet"
           }
          ],
          "choropleth": [
           {
            "colorbar": {
             "outlinewidth": 0,
             "ticks": ""
            },
            "type": "choropleth"
           }
          ],
          "contour": [
           {
            "colorbar": {
             "outlinewidth": 0,
             "ticks": ""
            },
            "colorscale": [
             [
              0,
              "#0d0887"
             ],
             [
              0.1111111111111111,
              "#46039f"
             ],
             [
              0.2222222222222222,
              "#7201a8"
             ],
             [
              0.3333333333333333,
              "#9c179e"
             ],
             [
              0.4444444444444444,
              "#bd3786"
             ],
             [
              0.5555555555555556,
              "#d8576b"
             ],
             [
              0.6666666666666666,
              "#ed7953"
             ],
             [
              0.7777777777777778,
              "#fb9f3a"
             ],
             [
              0.8888888888888888,
              "#fdca26"
             ],
             [
              1,
              "#f0f921"
             ]
            ],
            "type": "contour"
           }
          ],
          "contourcarpet": [
           {
            "colorbar": {
             "outlinewidth": 0,
             "ticks": ""
            },
            "type": "contourcarpet"
           }
          ],
          "heatmap": [
           {
            "colorbar": {
             "outlinewidth": 0,
             "ticks": ""
            },
            "colorscale": [
             [
              0,
              "#0d0887"
             ],
             [
              0.1111111111111111,
              "#46039f"
             ],
             [
              0.2222222222222222,
              "#7201a8"
             ],
             [
              0.3333333333333333,
              "#9c179e"
             ],
             [
              0.4444444444444444,
              "#bd3786"
             ],
             [
              0.5555555555555556,
              "#d8576b"
             ],
             [
              0.6666666666666666,
              "#ed7953"
             ],
             [
              0.7777777777777778,
              "#fb9f3a"
             ],
             [
              0.8888888888888888,
              "#fdca26"
             ],
             [
              1,
              "#f0f921"
             ]
            ],
            "type": "heatmap"
           }
          ],
          "heatmapgl": [
           {
            "colorbar": {
             "outlinewidth": 0,
             "ticks": ""
            },
            "colorscale": [
             [
              0,
              "#0d0887"
             ],
             [
              0.1111111111111111,
              "#46039f"
             ],
             [
              0.2222222222222222,
              "#7201a8"
             ],
             [
              0.3333333333333333,
              "#9c179e"
             ],
             [
              0.4444444444444444,
              "#bd3786"
             ],
             [
              0.5555555555555556,
              "#d8576b"
             ],
             [
              0.6666666666666666,
              "#ed7953"
             ],
             [
              0.7777777777777778,
              "#fb9f3a"
             ],
             [
              0.8888888888888888,
              "#fdca26"
             ],
             [
              1,
              "#f0f921"
             ]
            ],
            "type": "heatmapgl"
           }
          ],
          "histogram": [
           {
            "marker": {
             "colorbar": {
              "outlinewidth": 0,
              "ticks": ""
             }
            },
            "type": "histogram"
           }
          ],
          "histogram2d": [
           {
            "colorbar": {
             "outlinewidth": 0,
             "ticks": ""
            },
            "colorscale": [
             [
              0,
              "#0d0887"
             ],
             [
              0.1111111111111111,
              "#46039f"
             ],
             [
              0.2222222222222222,
              "#7201a8"
             ],
             [
              0.3333333333333333,
              "#9c179e"
             ],
             [
              0.4444444444444444,
              "#bd3786"
             ],
             [
              0.5555555555555556,
              "#d8576b"
             ],
             [
              0.6666666666666666,
              "#ed7953"
             ],
             [
              0.7777777777777778,
              "#fb9f3a"
             ],
             [
              0.8888888888888888,
              "#fdca26"
             ],
             [
              1,
              "#f0f921"
             ]
            ],
            "type": "histogram2d"
           }
          ],
          "histogram2dcontour": [
           {
            "colorbar": {
             "outlinewidth": 0,
             "ticks": ""
            },
            "colorscale": [
             [
              0,
              "#0d0887"
             ],
             [
              0.1111111111111111,
              "#46039f"
             ],
             [
              0.2222222222222222,
              "#7201a8"
             ],
             [
              0.3333333333333333,
              "#9c179e"
             ],
             [
              0.4444444444444444,
              "#bd3786"
             ],
             [
              0.5555555555555556,
              "#d8576b"
             ],
             [
              0.6666666666666666,
              "#ed7953"
             ],
             [
              0.7777777777777778,
              "#fb9f3a"
             ],
             [
              0.8888888888888888,
              "#fdca26"
             ],
             [
              1,
              "#f0f921"
             ]
            ],
            "type": "histogram2dcontour"
           }
          ],
          "mesh3d": [
           {
            "colorbar": {
             "outlinewidth": 0,
             "ticks": ""
            },
            "type": "mesh3d"
           }
          ],
          "parcoords": [
           {
            "line": {
             "colorbar": {
              "outlinewidth": 0,
              "ticks": ""
             }
            },
            "type": "parcoords"
           }
          ],
          "pie": [
           {
            "automargin": true,
            "type": "pie"
           }
          ],
          "scatter": [
           {
            "marker": {
             "colorbar": {
              "outlinewidth": 0,
              "ticks": ""
             }
            },
            "type": "scatter"
           }
          ],
          "scatter3d": [
           {
            "line": {
             "colorbar": {
              "outlinewidth": 0,
              "ticks": ""
             }
            },
            "marker": {
             "colorbar": {
              "outlinewidth": 0,
              "ticks": ""
             }
            },
            "type": "scatter3d"
           }
          ],
          "scattercarpet": [
           {
            "marker": {
             "colorbar": {
              "outlinewidth": 0,
              "ticks": ""
             }
            },
            "type": "scattercarpet"
           }
          ],
          "scattergeo": [
           {
            "marker": {
             "colorbar": {
              "outlinewidth": 0,
              "ticks": ""
             }
            },
            "type": "scattergeo"
           }
          ],
          "scattergl": [
           {
            "marker": {
             "colorbar": {
              "outlinewidth": 0,
              "ticks": ""
             }
            },
            "type": "scattergl"
           }
          ],
          "scattermapbox": [
           {
            "marker": {
             "colorbar": {
              "outlinewidth": 0,
              "ticks": ""
             }
            },
            "type": "scattermapbox"
           }
          ],
          "scatterpolar": [
           {
            "marker": {
             "colorbar": {
              "outlinewidth": 0,
              "ticks": ""
             }
            },
            "type": "scatterpolar"
           }
          ],
          "scatterpolargl": [
           {
            "marker": {
             "colorbar": {
              "outlinewidth": 0,
              "ticks": ""
             }
            },
            "type": "scatterpolargl"
           }
          ],
          "scatterternary": [
           {
            "marker": {
             "colorbar": {
              "outlinewidth": 0,
              "ticks": ""
             }
            },
            "type": "scatterternary"
           }
          ],
          "surface": [
           {
            "colorbar": {
             "outlinewidth": 0,
             "ticks": ""
            },
            "colorscale": [
             [
              0,
              "#0d0887"
             ],
             [
              0.1111111111111111,
              "#46039f"
             ],
             [
              0.2222222222222222,
              "#7201a8"
             ],
             [
              0.3333333333333333,
              "#9c179e"
             ],
             [
              0.4444444444444444,
              "#bd3786"
             ],
             [
              0.5555555555555556,
              "#d8576b"
             ],
             [
              0.6666666666666666,
              "#ed7953"
             ],
             [
              0.7777777777777778,
              "#fb9f3a"
             ],
             [
              0.8888888888888888,
              "#fdca26"
             ],
             [
              1,
              "#f0f921"
             ]
            ],
            "type": "surface"
           }
          ],
          "table": [
           {
            "cells": {
             "fill": {
              "color": "#EBF0F8"
             },
             "line": {
              "color": "white"
             }
            },
            "header": {
             "fill": {
              "color": "#C8D4E3"
             },
             "line": {
              "color": "white"
             }
            },
            "type": "table"
           }
          ]
         },
         "layout": {
          "annotationdefaults": {
           "arrowcolor": "#2a3f5f",
           "arrowhead": 0,
           "arrowwidth": 1
          },
          "coloraxis": {
           "colorbar": {
            "outlinewidth": 0,
            "ticks": ""
           }
          },
          "colorscale": {
           "diverging": [
            [
             0,
             "#8e0152"
            ],
            [
             0.1,
             "#c51b7d"
            ],
            [
             0.2,
             "#de77ae"
            ],
            [
             0.3,
             "#f1b6da"
            ],
            [
             0.4,
             "#fde0ef"
            ],
            [
             0.5,
             "#f7f7f7"
            ],
            [
             0.6,
             "#e6f5d0"
            ],
            [
             0.7,
             "#b8e186"
            ],
            [
             0.8,
             "#7fbc41"
            ],
            [
             0.9,
             "#4d9221"
            ],
            [
             1,
             "#276419"
            ]
           ],
           "sequential": [
            [
             0,
             "#0d0887"
            ],
            [
             0.1111111111111111,
             "#46039f"
            ],
            [
             0.2222222222222222,
             "#7201a8"
            ],
            [
             0.3333333333333333,
             "#9c179e"
            ],
            [
             0.4444444444444444,
             "#bd3786"
            ],
            [
             0.5555555555555556,
             "#d8576b"
            ],
            [
             0.6666666666666666,
             "#ed7953"
            ],
            [
             0.7777777777777778,
             "#fb9f3a"
            ],
            [
             0.8888888888888888,
             "#fdca26"
            ],
            [
             1,
             "#f0f921"
            ]
           ],
           "sequentialminus": [
            [
             0,
             "#0d0887"
            ],
            [
             0.1111111111111111,
             "#46039f"
            ],
            [
             0.2222222222222222,
             "#7201a8"
            ],
            [
             0.3333333333333333,
             "#9c179e"
            ],
            [
             0.4444444444444444,
             "#bd3786"
            ],
            [
             0.5555555555555556,
             "#d8576b"
            ],
            [
             0.6666666666666666,
             "#ed7953"
            ],
            [
             0.7777777777777778,
             "#fb9f3a"
            ],
            [
             0.8888888888888888,
             "#fdca26"
            ],
            [
             1,
             "#f0f921"
            ]
           ]
          },
          "colorway": [
           "#636efa",
           "#EF553B",
           "#00cc96",
           "#ab63fa",
           "#FFA15A",
           "#19d3f3",
           "#FF6692",
           "#B6E880",
           "#FF97FF",
           "#FECB52"
          ],
          "font": {
           "color": "#2a3f5f"
          },
          "geo": {
           "bgcolor": "white",
           "lakecolor": "white",
           "landcolor": "#E5ECF6",
           "showlakes": true,
           "showland": true,
           "subunitcolor": "white"
          },
          "hoverlabel": {
           "align": "left"
          },
          "hovermode": "closest",
          "mapbox": {
           "style": "light"
          },
          "paper_bgcolor": "white",
          "plot_bgcolor": "#E5ECF6",
          "polar": {
           "angularaxis": {
            "gridcolor": "white",
            "linecolor": "white",
            "ticks": ""
           },
           "bgcolor": "#E5ECF6",
           "radialaxis": {
            "gridcolor": "white",
            "linecolor": "white",
            "ticks": ""
           }
          },
          "scene": {
           "xaxis": {
            "backgroundcolor": "#E5ECF6",
            "gridcolor": "white",
            "gridwidth": 2,
            "linecolor": "white",
            "showbackground": true,
            "ticks": "",
            "zerolinecolor": "white"
           },
           "yaxis": {
            "backgroundcolor": "#E5ECF6",
            "gridcolor": "white",
            "gridwidth": 2,
            "linecolor": "white",
            "showbackground": true,
            "ticks": "",
            "zerolinecolor": "white"
           },
           "zaxis": {
            "backgroundcolor": "#E5ECF6",
            "gridcolor": "white",
            "gridwidth": 2,
            "linecolor": "white",
            "showbackground": true,
            "ticks": "",
            "zerolinecolor": "white"
           }
          },
          "shapedefaults": {
           "line": {
            "color": "#2a3f5f"
           }
          },
          "ternary": {
           "aaxis": {
            "gridcolor": "white",
            "linecolor": "white",
            "ticks": ""
           },
           "baxis": {
            "gridcolor": "white",
            "linecolor": "white",
            "ticks": ""
           },
           "bgcolor": "#E5ECF6",
           "caxis": {
            "gridcolor": "white",
            "linecolor": "white",
            "ticks": ""
           }
          },
          "title": {
           "x": 0.05
          },
          "xaxis": {
           "automargin": true,
           "gridcolor": "white",
           "linecolor": "white",
           "ticks": "",
           "title": {
            "standoff": 15
           },
           "zerolinecolor": "white",
           "zerolinewidth": 2
          },
          "yaxis": {
           "automargin": true,
           "gridcolor": "white",
           "linecolor": "white",
           "ticks": "",
           "title": {
            "standoff": 15
           },
           "zerolinecolor": "white",
           "zerolinewidth": 2
          }
         }
        },
        "title": {
         "text": "Top 15 Countries with Active Cases: status 06-14-2020"
        },
        "treemapcolorway": [
         "rgb(95, 70, 144)",
         "rgb(29, 105, 150)",
         "rgb(56, 166, 165)",
         "rgb(15, 133, 84)",
         "rgb(115, 175, 72)",
         "rgb(237, 173, 8)",
         "rgb(225, 124, 5)",
         "rgb(204, 80, 62)",
         "rgb(148, 52, 110)",
         "rgb(111, 64, 112)",
         "rgb(102, 102, 102)"
        ]
       }
      },
      "text/html": [
       "<div>\n",
       "        \n",
       "        \n",
       "            <div id=\"8677f175-9109-4b2b-87a8-61ce0decec24\" class=\"plotly-graph-div\" style=\"height:525px; width:100%;\"></div>\n",
       "            <script type=\"text/javascript\">\n",
       "                require([\"plotly\"], function(Plotly) {\n",
       "                    window.PLOTLYENV=window.PLOTLYENV || {};\n",
       "                    \n",
       "                if (document.getElementById(\"8677f175-9109-4b2b-87a8-61ce0decec24\")) {\n",
       "                    Plotly.newPlot(\n",
       "                        '8677f175-9109-4b2b-87a8-61ce0decec24',\n",
       "                        [{\"branchvalues\": \"total\", \"customdata\": [[87520.0, 67619.0, 18730.0, 1171.0, 1.34], [60029.0, 33785.0, 16589.0, 9655.0, 16.08], [867624.0, 355151.0, 469141.0, 43332.0, 4.99], [100404.0, 31518.0, 60668.0, 8218.0, 8.18], [194153.0, 91761.0, 72982.0, 29410.0, 15.15], [320922.0, 149348.0, 162379.0, 9195.0, 2.87], [48990.0, 42731.0, 181.0, 6078.0, 12.41], [144478.0, 88028.0, 53721.0, 2729.0, 1.89], [229736.0, 107469.0, 115579.0, 6688.0, 2.91], [528267.0, 241793.0, 279536.0, 6938.0, 1.31], [127541.0, 41849.0, 84720.0, 972.0, 0.76], [243928.0, 66416.0, 150376.0, 27136.0, 11.12], [51614.0, 46740.0, 0.0, 4874.0, 9.44], [2094058.0, 1416510.0, 561816.0, 115732.0, 5.53], [297342.0, 254276.0, 1283.0, 41783.0, 14.05]], \"domain\": {\"x\": [0.0, 1.0], \"y\": [0.0, 1.0]}, \"hovertemplate\": \"labels=%{label}<br>Active=%{customdata[1]}<br>parent=%{parent}<br>id=%{id}<br>Confirmed=%{customdata[0]}<br>Recovered=%{customdata[2]}<br>Deaths=%{customdata[3]}<br>Death rate [%]=%{customdata[4]}<extra></extra>\", \"ids\": [\"Bangladesh\", \"Belgium\", \"Brazil\", \"Canada\", \"France\", \"India\", \"Netherlands\", \"Pakistan\", \"Peru\", \"Russia\", \"Saudi Arabia\", \"Spain\", \"Sweden\", \"US\", \"United Kingdom\"], \"labels\": [\"Bangladesh\", \"Belgium\", \"Brazil\", \"Canada\", \"France\", \"India\", \"Netherlands\", \"Pakistan\", \"Peru\", \"Russia\", \"Saudi Arabia\", \"Spain\", \"Sweden\", \"US\", \"United Kingdom\"], \"name\": \"\", \"parents\": [\"\", \"\", \"\", \"\", \"\", \"\", \"\", \"\", \"\", \"\", \"\", \"\", \"\", \"\", \"\"], \"type\": \"treemap\", \"values\": [67619, 33785, 355151, 31518, 91761, 149348, 42731, 88028, 107469, 241793, 41849, 66416, 46740, 1416510, 254276]}],\n",
       "                        {\"legend\": {\"tracegroupgap\": 0}, \"template\": {\"data\": {\"bar\": [{\"error_x\": {\"color\": \"#2a3f5f\"}, \"error_y\": {\"color\": \"#2a3f5f\"}, \"marker\": {\"line\": {\"color\": \"#E5ECF6\", \"width\": 0.5}}, \"type\": \"bar\"}], \"barpolar\": [{\"marker\": {\"line\": {\"color\": \"#E5ECF6\", \"width\": 0.5}}, \"type\": \"barpolar\"}], \"carpet\": [{\"aaxis\": {\"endlinecolor\": \"#2a3f5f\", \"gridcolor\": \"white\", \"linecolor\": \"white\", \"minorgridcolor\": \"white\", \"startlinecolor\": \"#2a3f5f\"}, \"baxis\": {\"endlinecolor\": \"#2a3f5f\", \"gridcolor\": \"white\", \"linecolor\": \"white\", \"minorgridcolor\": \"white\", \"startlinecolor\": \"#2a3f5f\"}, \"type\": \"carpet\"}], \"choropleth\": [{\"colorbar\": {\"outlinewidth\": 0, \"ticks\": \"\"}, \"type\": \"choropleth\"}], \"contour\": [{\"colorbar\": {\"outlinewidth\": 0, \"ticks\": \"\"}, \"colorscale\": [[0.0, \"#0d0887\"], [0.1111111111111111, \"#46039f\"], [0.2222222222222222, \"#7201a8\"], [0.3333333333333333, \"#9c179e\"], [0.4444444444444444, \"#bd3786\"], [0.5555555555555556, \"#d8576b\"], [0.6666666666666666, \"#ed7953\"], [0.7777777777777778, \"#fb9f3a\"], [0.8888888888888888, \"#fdca26\"], [1.0, \"#f0f921\"]], \"type\": \"contour\"}], \"contourcarpet\": [{\"colorbar\": {\"outlinewidth\": 0, \"ticks\": \"\"}, \"type\": \"contourcarpet\"}], \"heatmap\": [{\"colorbar\": {\"outlinewidth\": 0, \"ticks\": \"\"}, \"colorscale\": [[0.0, \"#0d0887\"], [0.1111111111111111, \"#46039f\"], [0.2222222222222222, \"#7201a8\"], [0.3333333333333333, \"#9c179e\"], [0.4444444444444444, \"#bd3786\"], [0.5555555555555556, \"#d8576b\"], [0.6666666666666666, \"#ed7953\"], [0.7777777777777778, \"#fb9f3a\"], [0.8888888888888888, \"#fdca26\"], [1.0, \"#f0f921\"]], \"type\": \"heatmap\"}], \"heatmapgl\": [{\"colorbar\": {\"outlinewidth\": 0, \"ticks\": \"\"}, \"colorscale\": [[0.0, \"#0d0887\"], [0.1111111111111111, \"#46039f\"], [0.2222222222222222, \"#7201a8\"], [0.3333333333333333, \"#9c179e\"], [0.4444444444444444, \"#bd3786\"], [0.5555555555555556, \"#d8576b\"], [0.6666666666666666, \"#ed7953\"], [0.7777777777777778, \"#fb9f3a\"], [0.8888888888888888, \"#fdca26\"], [1.0, \"#f0f921\"]], \"type\": \"heatmapgl\"}], \"histogram\": [{\"marker\": {\"colorbar\": {\"outlinewidth\": 0, \"ticks\": \"\"}}, \"type\": \"histogram\"}], \"histogram2d\": [{\"colorbar\": {\"outlinewidth\": 0, \"ticks\": \"\"}, \"colorscale\": [[0.0, \"#0d0887\"], [0.1111111111111111, \"#46039f\"], [0.2222222222222222, \"#7201a8\"], [0.3333333333333333, \"#9c179e\"], [0.4444444444444444, \"#bd3786\"], [0.5555555555555556, \"#d8576b\"], [0.6666666666666666, \"#ed7953\"], [0.7777777777777778, \"#fb9f3a\"], [0.8888888888888888, \"#fdca26\"], [1.0, \"#f0f921\"]], \"type\": \"histogram2d\"}], \"histogram2dcontour\": [{\"colorbar\": {\"outlinewidth\": 0, \"ticks\": \"\"}, \"colorscale\": [[0.0, \"#0d0887\"], [0.1111111111111111, \"#46039f\"], [0.2222222222222222, \"#7201a8\"], [0.3333333333333333, \"#9c179e\"], [0.4444444444444444, \"#bd3786\"], [0.5555555555555556, \"#d8576b\"], [0.6666666666666666, \"#ed7953\"], [0.7777777777777778, \"#fb9f3a\"], [0.8888888888888888, \"#fdca26\"], [1.0, \"#f0f921\"]], \"type\": \"histogram2dcontour\"}], \"mesh3d\": [{\"colorbar\": {\"outlinewidth\": 0, \"ticks\": \"\"}, \"type\": \"mesh3d\"}], \"parcoords\": [{\"line\": {\"colorbar\": {\"outlinewidth\": 0, \"ticks\": \"\"}}, \"type\": \"parcoords\"}], \"pie\": [{\"automargin\": true, \"type\": \"pie\"}], \"scatter\": [{\"marker\": {\"colorbar\": {\"outlinewidth\": 0, \"ticks\": \"\"}}, \"type\": \"scatter\"}], \"scatter3d\": [{\"line\": {\"colorbar\": {\"outlinewidth\": 0, \"ticks\": \"\"}}, \"marker\": {\"colorbar\": {\"outlinewidth\": 0, \"ticks\": \"\"}}, \"type\": \"scatter3d\"}], \"scattercarpet\": [{\"marker\": {\"colorbar\": {\"outlinewidth\": 0, \"ticks\": \"\"}}, \"type\": \"scattercarpet\"}], \"scattergeo\": [{\"marker\": {\"colorbar\": {\"outlinewidth\": 0, \"ticks\": \"\"}}, \"type\": \"scattergeo\"}], \"scattergl\": [{\"marker\": {\"colorbar\": {\"outlinewidth\": 0, \"ticks\": \"\"}}, \"type\": \"scattergl\"}], \"scattermapbox\": [{\"marker\": {\"colorbar\": {\"outlinewidth\": 0, \"ticks\": \"\"}}, \"type\": \"scattermapbox\"}], \"scatterpolar\": [{\"marker\": {\"colorbar\": {\"outlinewidth\": 0, \"ticks\": \"\"}}, \"type\": \"scatterpolar\"}], \"scatterpolargl\": [{\"marker\": {\"colorbar\": {\"outlinewidth\": 0, \"ticks\": \"\"}}, \"type\": \"scatterpolargl\"}], \"scatterternary\": [{\"marker\": {\"colorbar\": {\"outlinewidth\": 0, \"ticks\": \"\"}}, \"type\": \"scatterternary\"}], \"surface\": [{\"colorbar\": {\"outlinewidth\": 0, \"ticks\": \"\"}, \"colorscale\": [[0.0, \"#0d0887\"], [0.1111111111111111, \"#46039f\"], [0.2222222222222222, \"#7201a8\"], [0.3333333333333333, \"#9c179e\"], [0.4444444444444444, \"#bd3786\"], [0.5555555555555556, \"#d8576b\"], [0.6666666666666666, \"#ed7953\"], [0.7777777777777778, \"#fb9f3a\"], [0.8888888888888888, \"#fdca26\"], [1.0, \"#f0f921\"]], \"type\": \"surface\"}], \"table\": [{\"cells\": {\"fill\": {\"color\": \"#EBF0F8\"}, \"line\": {\"color\": \"white\"}}, \"header\": {\"fill\": {\"color\": \"#C8D4E3\"}, \"line\": {\"color\": \"white\"}}, \"type\": \"table\"}]}, \"layout\": {\"annotationdefaults\": {\"arrowcolor\": \"#2a3f5f\", \"arrowhead\": 0, \"arrowwidth\": 1}, \"coloraxis\": {\"colorbar\": {\"outlinewidth\": 0, \"ticks\": \"\"}}, \"colorscale\": {\"diverging\": [[0, \"#8e0152\"], [0.1, \"#c51b7d\"], [0.2, \"#de77ae\"], [0.3, \"#f1b6da\"], [0.4, \"#fde0ef\"], [0.5, \"#f7f7f7\"], [0.6, \"#e6f5d0\"], [0.7, \"#b8e186\"], [0.8, \"#7fbc41\"], [0.9, \"#4d9221\"], [1, \"#276419\"]], \"sequential\": [[0.0, \"#0d0887\"], [0.1111111111111111, \"#46039f\"], [0.2222222222222222, \"#7201a8\"], [0.3333333333333333, \"#9c179e\"], [0.4444444444444444, \"#bd3786\"], [0.5555555555555556, \"#d8576b\"], [0.6666666666666666, \"#ed7953\"], [0.7777777777777778, \"#fb9f3a\"], [0.8888888888888888, \"#fdca26\"], [1.0, \"#f0f921\"]], \"sequentialminus\": [[0.0, \"#0d0887\"], [0.1111111111111111, \"#46039f\"], [0.2222222222222222, \"#7201a8\"], [0.3333333333333333, \"#9c179e\"], [0.4444444444444444, \"#bd3786\"], [0.5555555555555556, \"#d8576b\"], [0.6666666666666666, \"#ed7953\"], [0.7777777777777778, \"#fb9f3a\"], [0.8888888888888888, \"#fdca26\"], [1.0, \"#f0f921\"]]}, \"colorway\": [\"#636efa\", \"#EF553B\", \"#00cc96\", \"#ab63fa\", \"#FFA15A\", \"#19d3f3\", \"#FF6692\", \"#B6E880\", \"#FF97FF\", \"#FECB52\"], \"font\": {\"color\": \"#2a3f5f\"}, \"geo\": {\"bgcolor\": \"white\", \"lakecolor\": \"white\", \"landcolor\": \"#E5ECF6\", \"showlakes\": true, \"showland\": true, \"subunitcolor\": \"white\"}, \"hoverlabel\": {\"align\": \"left\"}, \"hovermode\": \"closest\", \"mapbox\": {\"style\": \"light\"}, \"paper_bgcolor\": \"white\", \"plot_bgcolor\": \"#E5ECF6\", \"polar\": {\"angularaxis\": {\"gridcolor\": \"white\", \"linecolor\": \"white\", \"ticks\": \"\"}, \"bgcolor\": \"#E5ECF6\", \"radialaxis\": {\"gridcolor\": \"white\", \"linecolor\": \"white\", \"ticks\": \"\"}}, \"scene\": {\"xaxis\": {\"backgroundcolor\": \"#E5ECF6\", \"gridcolor\": \"white\", \"gridwidth\": 2, \"linecolor\": \"white\", \"showbackground\": true, \"ticks\": \"\", \"zerolinecolor\": \"white\"}, \"yaxis\": {\"backgroundcolor\": \"#E5ECF6\", \"gridcolor\": \"white\", \"gridwidth\": 2, \"linecolor\": \"white\", \"showbackground\": true, \"ticks\": \"\", \"zerolinecolor\": \"white\"}, \"zaxis\": {\"backgroundcolor\": \"#E5ECF6\", \"gridcolor\": \"white\", \"gridwidth\": 2, \"linecolor\": \"white\", \"showbackground\": true, \"ticks\": \"\", \"zerolinecolor\": \"white\"}}, \"shapedefaults\": {\"line\": {\"color\": \"#2a3f5f\"}}, \"ternary\": {\"aaxis\": {\"gridcolor\": \"white\", \"linecolor\": \"white\", \"ticks\": \"\"}, \"baxis\": {\"gridcolor\": \"white\", \"linecolor\": \"white\", \"ticks\": \"\"}, \"bgcolor\": \"#E5ECF6\", \"caxis\": {\"gridcolor\": \"white\", \"linecolor\": \"white\", \"ticks\": \"\"}}, \"title\": {\"x\": 0.05}, \"xaxis\": {\"automargin\": true, \"gridcolor\": \"white\", \"linecolor\": \"white\", \"ticks\": \"\", \"title\": {\"standoff\": 15}, \"zerolinecolor\": \"white\", \"zerolinewidth\": 2}, \"yaxis\": {\"automargin\": true, \"gridcolor\": \"white\", \"linecolor\": \"white\", \"ticks\": \"\", \"title\": {\"standoff\": 15}, \"zerolinecolor\": \"white\", \"zerolinewidth\": 2}}}, \"title\": {\"text\": \"Top 15 Countries with Active Cases: status 06-14-2020\"}, \"treemapcolorway\": [\"rgb(95, 70, 144)\", \"rgb(29, 105, 150)\", \"rgb(56, 166, 165)\", \"rgb(15, 133, 84)\", \"rgb(115, 175, 72)\", \"rgb(237, 173, 8)\", \"rgb(225, 124, 5)\", \"rgb(204, 80, 62)\", \"rgb(148, 52, 110)\", \"rgb(111, 64, 112)\", \"rgb(102, 102, 102)\"]},\n",
       "                        {\"responsive\": true}\n",
       "                    ).then(function(){\n",
       "                            \n",
       "var gd = document.getElementById('8677f175-9109-4b2b-87a8-61ce0decec24');\n",
       "var x = new MutationObserver(function (mutations, observer) {{\n",
       "        var display = window.getComputedStyle(gd).display;\n",
       "        if (!display || display === 'none') {{\n",
       "            console.log([gd, 'removed!']);\n",
       "            Plotly.purge(gd);\n",
       "            observer.disconnect();\n",
       "        }}\n",
       "}});\n",
       "\n",
       "// Listen for the removal of the full notebook cells\n",
       "var notebookContainer = gd.closest('#notebook-container');\n",
       "if (notebookContainer) {{\n",
       "    x.observe(notebookContainer, {childList: true});\n",
       "}}\n",
       "\n",
       "// Listen for the clearing of the current output cell\n",
       "var outputEl = gd.closest('.output');\n",
       "if (outputEl) {{\n",
       "    x.observe(outputEl, {childList: true});\n",
       "}}\n",
       "\n",
       "                        })\n",
       "                };\n",
       "                });\n",
       "            </script>\n",
       "        </div>"
      ]
     },
     "metadata": {},
     "output_type": "display_data"
    }
   ],
   "source": [
    "fig = px.treemap(top_fifteen,\n",
    "                 path=['Country/Region'],\n",
    "                 values=top_fifteen['Active'],\n",
    "                 title='Top 15 Countries with Active Cases: status {}'.format(yesterday),\n",
    "                 hover_data=['Confirmed', 'Active', 'Recovered','Deaths','Death rate [%]'],\n",
    "                 color_discrete_sequence=px.colors.qualitative.Prism)\n",
    "fig.show()"
   ]
  },
  {
   "cell_type": "markdown",
   "metadata": {},
   "source": [
    "Summary data per country is shown if you point on each country's block."
   ]
  },
  {
   "cell_type": "markdown",
   "metadata": {},
   "source": [
    "## Time trends for top five countries by number of active cases"
   ]
  },
  {
   "cell_type": "code",
   "execution_count": 393,
   "metadata": {},
   "outputs": [],
   "source": [
    "top_four = top_fifteen[\"Country/Region\"][0:5]\n",
    "#top_four"
   ]
  },
  {
   "cell_type": "markdown",
   "metadata": {},
   "source": [
    "We check the length of the datasets for worldwide confimed, recovered and fatalities and group them by country to avoid several entries per country. "
   ]
  },
  {
   "cell_type": "code",
   "execution_count": 394,
   "metadata": {},
   "outputs": [],
   "source": [
    "#top_fifteen.head()"
   ]
  },
  {
   "cell_type": "code",
   "execution_count": 395,
   "metadata": {},
   "outputs": [
    {
     "name": "stdout",
     "output_type": "stream",
     "text": [
      "Length of worldwide confirmed cases table: 266\n",
      "Length of worldwide fatalities table: 266\n",
      "Length of worldwide recovered table: 253\n"
     ]
    }
   ],
   "source": [
    "print(\"Length of worldwide confirmed cases table: {}\".format(len(da_confirmed_w)))\n",
    "print(\"Length of worldwide fatalities table: {}\".format(len(da_fatalities_w)))\n",
    "print(\"Length of worldwide recovered table: {}\".format(len(da_recovered_w)))"
   ]
  },
  {
   "cell_type": "code",
   "execution_count": 396,
   "metadata": {},
   "outputs": [
    {
     "name": "stdout",
     "output_type": "stream",
     "text": [
      "Length of unique country values for worldwide confirmed cases: 188\n",
      "Length of unique country values for worldwide fatalities: 188\n",
      "Length of unique country values for worldwide recovered: 188\n"
     ]
    }
   ],
   "source": [
    "da_conf_grouped = da_confirmed_w.groupby(\"Country/Region\")\n",
    "da_fat_grouped = da_fatalities_w.groupby(\"Country/Region\")\n",
    "da_rec_grouped = da_recovered_w.groupby(\"Country/Region\")\n",
    "print(\"Length of unique country values for worldwide confirmed cases: {}\".format(len(da_conf_grouped)))\n",
    "print(\"Length of unique country values for worldwide fatalities: {}\".format(len(da_fat_grouped)))\n",
    "print(\"Length of unique country values for worldwide recovered: {}\".format(len(da_rec_grouped)))"
   ]
  },
  {
   "cell_type": "code",
   "execution_count": 397,
   "metadata": {},
   "outputs": [],
   "source": [
    "def top_four_filter(da, top_four, status):\n",
    "    da_filter = pd.DataFrame([da.get_group(x).drop(\n",
    "                            [\"Province/State\", \"Lat\", \"Long\"], axis=1).sum() for x in top_four])\n",
    "    \n",
    "    for x in range(len(da_filter)):\n",
    "        if \"China\" in da_filter.iloc[x,0]:\n",
    "            da_filter.iloc[x,0]=\"China\"\n",
    "        if \"US\" in da_filter.iloc[x,0]:\n",
    "            da_filter.iloc[x,0]=\"US\"\n",
    "        if \"France\" in da_filter.iloc[x,0]:\n",
    "            da_filter.iloc[x,0]=\"France\"\n",
    "        if \"United Kingdom\" in da_filter.iloc[x,0]:\n",
    "            da_filter.iloc[x,0]=\"United Kingdom\"\n",
    "            \n",
    "    da_filter[\"Country/Region\"]=da_filter[\"Country/Region\"] + \" \" +status\n",
    "    return da_filter"
   ]
  },
  {
   "cell_type": "markdown",
   "metadata": {},
   "source": [
    "China and South Korea are added to the list for comparison reasons as they have been the two first countries to slow down and decrease the number of active cases after an outbreak."
   ]
  },
  {
   "cell_type": "code",
   "execution_count": 398,
   "metadata": {},
   "outputs": [],
   "source": [
    "comparison_countries = pd.Series([\"China\",\"South Korea\"])\n",
    "top_four =top_four.append(comparison_countries, ignore_index=True)\n",
    "#top_four"
   ]
  },
  {
   "cell_type": "code",
   "execution_count": 399,
   "metadata": {},
   "outputs": [],
   "source": [
    "comparison_countries = pd.Series([\"China\",\"South Korea\"])\n",
    "top_four.append(comparison_countries)\n",
    "top_four_all = top_four_filter(da_conf_grouped, top_four, \"confirmed\").append(\n",
    "               top_four_filter(da_fat_grouped, top_four, \"fatalities\").append(\n",
    "              top_four_filter(da_rec_grouped, top_four, \"recovered\")))"
   ]
  },
  {
   "cell_type": "code",
   "execution_count": 400,
   "metadata": {},
   "outputs": [],
   "source": [
    "top_four_all = top_four_all.T\n",
    "top_four_all.columns = top_four_all.iloc[0]\n",
    "top_four_all = top_four_all.drop(top_four_all.index[0])\n",
    "top_four_all = top_four_all.reset_index()\n",
    "top_four_all = top_four_all.rename(columns={\"index\":\"Date\"})"
   ]
  },
  {
   "cell_type": "code",
   "execution_count": 401,
   "metadata": {},
   "outputs": [],
   "source": [
    "#top_four_all.tail(5)"
   ]
  },
  {
   "cell_type": "code",
   "execution_count": 402,
   "metadata": {},
   "outputs": [],
   "source": [
    "for x in top_four:\n",
    "    top_four_all[x + \" active\"] = top_four_all[x+\" confirmed\"] - top_four_all[\n",
    "        x+\" recovered\"] - top_four_all[x+\" fatalities\"]\n",
    "#top_four_all.tail()"
   ]
  },
  {
   "cell_type": "code",
   "execution_count": 403,
   "metadata": {},
   "outputs": [
    {
     "data": {
      "image/png": "[encoded data removed]",
      "text/plain": [
       "<Figure size 576x360 with 1 Axes>"
      ]
     },
     "metadata": {
      "needs_background": "light"
     },
     "output_type": "display_data"
    }
   ],
   "source": [
    "fig, ax = plt.subplots(figsize=(8,5))\n",
    "ax.plot(top_four_all[\"Date\"],top_four_all[top_four[0] + ' active'])\n",
    "ax.set_title('Active cases in {}'.format(top_four[0]))\n",
    "ax.xaxis.set_major_locator(plt.MaxNLocator(13))\n",
    "ax.grid(True)\n",
    "\n",
    "fig.suptitle('Active cases over time in the top five countries by numbers', fontsize=16)\n",
    "\n",
    "plt.show()"
   ]
  },
  {
   "cell_type": "code",
   "execution_count": 404,
   "metadata": {
    "scrolled": false
   },
   "outputs": [
    {
     "data": {
      "image/png": "[encoded data removed]",
      "text/plain": [
       "<Figure size 1152x720 with 4 Axes>"
      ]
     },
     "metadata": {
      "needs_background": "light"
     },
     "output_type": "display_data"
    }
   ],
   "source": [
    "fig, ax = plt.subplots(2, 2, figsize=(16,10), sharey = True)\n",
    "\n",
    "def plot_top4(da,num,xcol, ycol, title):\n",
    "    ax[num].plot(da[xcol],da[ycol], lw=3)\n",
    "    ax[num].set_title(title)\n",
    "    ax[num].xaxis.set_major_locator(plt.MaxNLocator(10))\n",
    "    ax[num].grid(True)\n",
    "    \n",
    "plot_top4(top_four_all, (0,0), \"Date\", top_four[1] + ' active', 'Active cases in {}'.format(top_four[1]))\n",
    "plot_top4(top_four_all, (0,1), \"Date\", top_four[2] + ' active', 'Active cases in {}'.format(top_four[2]))\n",
    "plot_top4(top_four_all, (1,0), \"Date\", top_four[3] + ' active', 'Active cases in {}'.format(top_four[3]))\n",
    "plot_top4(top_four_all, (1,1), \"Date\", top_four[4] + ' active', 'Active cases in {}'.format(top_four[4]))\n",
    "\n",
    "plt.show()"
   ]
  },
  {
   "cell_type": "markdown",
   "metadata": {},
   "source": [
    "On 26.03, US has surpassed Italy in number of active cases and China in number of total positives. \n",
    "<br>US curve of active cases has grown dramatically since mid March. \n",
    "<br>Italy started a strong growth of cases around the carnival festivities in the third week of February whereas Germany's and Spain's curves of active cases started to go up at a fast pace around two weeks after. In Germany many of the initial cases were connected to people who went for a winter holiday in northern Italy in the third week of February.\n",
    "<br> As of 05.04, the growth of the active cases curves in the top European countries is showing signs of slowing down.\n",
    "<br>Question: Why did the curve in US take momentum in such a short timeframe in comparison to Italy, Germany and Spain? Might it be related to the lack of early contigency measures and lack of initial testing? \n",
    "<br>As in many of the countries with most active cases, the most dense and international cities are the ones worst hit by the outbreak. In US, the biggest hub of cases is located in NYC. "
   ]
  },
  {
   "cell_type": "code",
   "execution_count": 405,
   "metadata": {},
   "outputs": [
    {
     "data": {
      "image/png": "[encoded data removed]",
      "text/plain": [
       "<Figure size 1152x360 with 2 Axes>"
      ]
     },
     "metadata": {
      "needs_background": "light"
     },
     "output_type": "display_data"
    }
   ],
   "source": [
    "fig, ax = plt.subplots(1, 2, figsize = (16,5))\n",
    "plot_top4(top_four_all, 0, \"Date\", 'China active', 'Active cases in China')\n",
    "plot_top4(top_four_all, 1, \"Date\", 'South Korea active', 'Active cases in South Korea')\n",
    "fig.suptitle('Active cases over time in China and South Korea', fontsize = 16)\n",
    "\n",
    "plt.show()"
   ]
  },
  {
   "cell_type": "markdown",
   "metadata": {},
   "source": [
    "We compare the curves above with the one from China, the country with the first reported outbreak. It is worth mentioning that the official data provided by China has been questioned by the international community.\n",
    "<br> We added also the graph from South Korea where the active cases are starting to drop since mif March.\n",
    "<br> In both countries the peak of active cases shows in the graphs around a month since the curve started to increase at a fast pace. \n",
    "<br>Both countries took strict measures to content the spread of the virus including lockdowns of hotspots, social distancing, self-isolation and closing of public places and schools. In addition, in South Korea, a massive testing campaign was done to identify and traces cases in the earlier stages and limit the spread. \n",
    "<br>As of 15.06 the first wave of covid-19 cases has peaked in many Asian and European countries and restrictions in these countries have started to be eased. However, the risk of a second wave is latent as well as the development of out of control outbreaks in African countries as it is now in Brazil.  "
   ]
  },
  {
   "cell_type": "markdown",
   "metadata": {},
   "source": [
    "## References\n",
    "[1](https://www.medrxiv.org/content/10.1101/2020.03.15.20036293v1.full.pdf) Jennifer Beam Dowd, Valentina Rotondi, Liliana Andriano, David M. Brazel, Per Block, Xuejie Ding, Yan\n",
    "Liu, Melinda C. Mills. \n",
    "  <br>Demographic science aids in understanding the spread and fatality\n",
    "rates of COVID-19. March 15, 2020\n",
    "\n",
    "[2](https://www.faz.net/aktuell/wissen/geist-soziales/coronavirus-pandemie-warum-ist-es-in-italien-so-schlimm-16693408.html) Andreas Rossmann. Warum ist es in Italien so schlimm? Frankfurter Allgemeine Zeiting. March 23, 2020.\n",
    "\n",
    "[3](https://de.statista.com/infografik/21211/anzahl-der-durchgefuehrten-coronavirus-tests-je-1-mio-einwohner-in-laendern-weltweit/) Frauke Suhr. So oft wird auf COVID-19 getestet. May 4, 2020.\n",
    "\n",
    "[4](https://de.statista.com/statistik/daten/studie/1103904/umfrage/corona-infektionen-covid-19-in-deutschland-nach-altersgruppe/) Corona-Infektionen (COVID-19) in Deutschland nach Altersgruppen. May 17, 2020."
   ]
  }
 ],
 "metadata": {
  "hide_input": false,
  "kernelspec": {
   "display_name": "Python 3",
   "language": "python",
   "name": "python3"
  },
  "language_info": {
   "codemirror_mode": {
    "name": "ipython",
    "version": 3
   },
   "file_extension": ".py",
   "mimetype": "text/x-python",
   "name": "python",
   "nbconvert_exporter": "python",
   "pygments_lexer": "ipython3",
   "version": "3.8.2"
  }
 },
 "nbformat": 4,
 "nbformat_minor": 4
}
