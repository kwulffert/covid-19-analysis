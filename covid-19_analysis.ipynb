{
 "cells": [
  {
   "cell_type": "code",
   "execution_count": 41,
   "metadata": {},
   "outputs": [],
   "source": [
    "import pandas as pd\n",
    "import matplotlib.pyplot as plt\n",
    "import matplotlib.dates as mdate\n",
    "%matplotlib inline\n",
    "import seaborn as sns\n",
    "import plotly.express as px\n",
    "from plotly.subplots import make_subplots\n",
    "import plotly.graph_objects as go\n",
    "import chart_studio.plotly as py\n",
    "import numpy as np\n",
    "import datetime as datetime\n",
    "from datetime import date, timedelta\n",
    "import requests\n",
    "import io\n",
    "import folium\n",
    "from folium import Circle\n",
    "import warnings"
   ]
  },
  {
   "cell_type": "code",
   "execution_count": 42,
   "metadata": {},
   "outputs": [],
   "source": [
    "# We define a function to get the raw data from the corresponding url and retruning it as a dataframe.\n",
    "# <br>This function allows us to get the latest updates."
   ]
  },
  {
   "cell_type": "code",
   "execution_count": 43,
   "metadata": {},
   "outputs": [],
   "source": [
    "def get_raw_data(url):\n",
    "    req = requests.get(url).content\n",
    "    return pd.read_csv(io.StringIO(req.decode('utf-8')))"
   ]
  },
  {
   "cell_type": "markdown",
   "metadata": {},
   "source": [
    "# Worldwide Analysis"
   ]
  },
  {
   "cell_type": "markdown",
   "metadata": {},
   "source": [
    "## Data cleaning and first observations"
   ]
  },
  {
   "cell_type": "markdown",
   "metadata": {},
   "source": [
    "Import the latest reports from CSSE at Johns Hopkins University.\n",
    "The datasets we will use are:\n",
    "1. da_world: Worldwide data (time series).\n",
    "2. da_confirmed_w: Number of confirmed cases per country (time series).\n",
    "3. da_fatalities_w: Number of deaths per country (time series).\n",
    "4. da_recovered_w: Number of recovered cases per country (time series).\n",
    "\n",
    "<br> Date of the latest data to be gathered is \"yesterday\" to ensure the data is available as the files are updated daily at midnight.\n",
    "<br> We use the date variable \"yesterday\" to build the urls dynamically."
   ]
  },
  {
   "cell_type": "code",
   "execution_count": 44,
   "metadata": {},
   "outputs": [],
   "source": [
    "yesterday = date.today() - timedelta(days=1)\n",
    "yesterday = yesterday.strftime(\"%m-%d-%Y\") "
   ]
  },
  {
   "cell_type": "code",
   "execution_count": 45,
   "metadata": {},
   "outputs": [],
   "source": [
    "world_url = \"https://raw.githubusercontent.com/CSSEGISandData/COVID-19/master/csse_covid_19_data/csse_covid_19_daily_reports/{}.csv\".format(yesterday)\n",
    "confirmed_w_url = \"https://raw.githubusercontent.com/CSSEGISandData/COVID-19/master/csse_covid_19_data/csse_covid_19_time_series/time_series_covid19_confirmed_global.csv\"\n",
    "fatalities_w_url = \"https://raw.githubusercontent.com/CSSEGISandData/COVID-19/master/csse_covid_19_data/csse_covid_19_time_series/time_series_covid19_deaths_global.csv\"\n",
    "recovered_w_url = \"https://raw.githubusercontent.com/CSSEGISandData/COVID-19/master/csse_covid_19_data/csse_covid_19_time_series/time_series_covid19_recovered_global.csv\"\n",
    "da_world = get_raw_data(world_url)\n",
    "da_confirmed_w = get_raw_data(confirmed_w_url)\n",
    "da_fatalities_w = get_raw_data(fatalities_w_url)\n",
    "da_recovered_w = get_raw_data(recovered_w_url)"
   ]
  },
  {
   "cell_type": "markdown",
   "metadata": {},
   "source": [
    "First look at the overall data. "
   ]
  },
  {
   "cell_type": "code",
   "execution_count": 46,
   "metadata": {},
   "outputs": [
    {
     "data": {
      "text/html": [
       "<style  type=\"text/css\" >\n",
       "</style><table id=\"T_f8777cc6_74b9_11ea_a2e3_a45e60b8672d\" ><thead>    <tr>        <th class=\"col_heading level0 col0\" >FIPS</th>        <th class=\"col_heading level0 col1\" >Admin2</th>        <th class=\"col_heading level0 col2\" >Province_State</th>        <th class=\"col_heading level0 col3\" >Country_Region</th>        <th class=\"col_heading level0 col4\" >Last_Update</th>        <th class=\"col_heading level0 col5\" >Lat</th>        <th class=\"col_heading level0 col6\" >Long_</th>        <th class=\"col_heading level0 col7\" >Confirmed</th>        <th class=\"col_heading level0 col8\" >Deaths</th>        <th class=\"col_heading level0 col9\" >Recovered</th>        <th class=\"col_heading level0 col10\" >Active</th>        <th class=\"col_heading level0 col11\" >Combined_Key</th>    </tr></thead><tbody>\n",
       "                <tr>\n",
       "                                <td id=\"T_f8777cc6_74b9_11ea_a2e3_a45e60b8672drow0_col0\" class=\"data row0 col0\" >45001.000000</td>\n",
       "                        <td id=\"T_f8777cc6_74b9_11ea_a2e3_a45e60b8672drow0_col1\" class=\"data row0 col1\" >Abbeville</td>\n",
       "                        <td id=\"T_f8777cc6_74b9_11ea_a2e3_a45e60b8672drow0_col2\" class=\"data row0 col2\" >South Carolina</td>\n",
       "                        <td id=\"T_f8777cc6_74b9_11ea_a2e3_a45e60b8672drow0_col3\" class=\"data row0 col3\" >US</td>\n",
       "                        <td id=\"T_f8777cc6_74b9_11ea_a2e3_a45e60b8672drow0_col4\" class=\"data row0 col4\" >2020-04-01 21:58:49</td>\n",
       "                        <td id=\"T_f8777cc6_74b9_11ea_a2e3_a45e60b8672drow0_col5\" class=\"data row0 col5\" >34.223334</td>\n",
       "                        <td id=\"T_f8777cc6_74b9_11ea_a2e3_a45e60b8672drow0_col6\" class=\"data row0 col6\" >-82.461707</td>\n",
       "                        <td id=\"T_f8777cc6_74b9_11ea_a2e3_a45e60b8672drow0_col7\" class=\"data row0 col7\" >4</td>\n",
       "                        <td id=\"T_f8777cc6_74b9_11ea_a2e3_a45e60b8672drow0_col8\" class=\"data row0 col8\" >0</td>\n",
       "                        <td id=\"T_f8777cc6_74b9_11ea_a2e3_a45e60b8672drow0_col9\" class=\"data row0 col9\" >0</td>\n",
       "                        <td id=\"T_f8777cc6_74b9_11ea_a2e3_a45e60b8672drow0_col10\" class=\"data row0 col10\" >0</td>\n",
       "                        <td id=\"T_f8777cc6_74b9_11ea_a2e3_a45e60b8672drow0_col11\" class=\"data row0 col11\" >Abbeville, South Carolina, US</td>\n",
       "            </tr>\n",
       "            <tr>\n",
       "                                <td id=\"T_f8777cc6_74b9_11ea_a2e3_a45e60b8672drow1_col0\" class=\"data row1 col0\" >22001.000000</td>\n",
       "                        <td id=\"T_f8777cc6_74b9_11ea_a2e3_a45e60b8672drow1_col1\" class=\"data row1 col1\" >Acadia</td>\n",
       "                        <td id=\"T_f8777cc6_74b9_11ea_a2e3_a45e60b8672drow1_col2\" class=\"data row1 col2\" >Louisiana</td>\n",
       "                        <td id=\"T_f8777cc6_74b9_11ea_a2e3_a45e60b8672drow1_col3\" class=\"data row1 col3\" >US</td>\n",
       "                        <td id=\"T_f8777cc6_74b9_11ea_a2e3_a45e60b8672drow1_col4\" class=\"data row1 col4\" >2020-04-01 21:58:49</td>\n",
       "                        <td id=\"T_f8777cc6_74b9_11ea_a2e3_a45e60b8672drow1_col5\" class=\"data row1 col5\" >30.295065</td>\n",
       "                        <td id=\"T_f8777cc6_74b9_11ea_a2e3_a45e60b8672drow1_col6\" class=\"data row1 col6\" >-92.414197</td>\n",
       "                        <td id=\"T_f8777cc6_74b9_11ea_a2e3_a45e60b8672drow1_col7\" class=\"data row1 col7\" >47</td>\n",
       "                        <td id=\"T_f8777cc6_74b9_11ea_a2e3_a45e60b8672drow1_col8\" class=\"data row1 col8\" >1</td>\n",
       "                        <td id=\"T_f8777cc6_74b9_11ea_a2e3_a45e60b8672drow1_col9\" class=\"data row1 col9\" >0</td>\n",
       "                        <td id=\"T_f8777cc6_74b9_11ea_a2e3_a45e60b8672drow1_col10\" class=\"data row1 col10\" >0</td>\n",
       "                        <td id=\"T_f8777cc6_74b9_11ea_a2e3_a45e60b8672drow1_col11\" class=\"data row1 col11\" >Acadia, Louisiana, US</td>\n",
       "            </tr>\n",
       "            <tr>\n",
       "                                <td id=\"T_f8777cc6_74b9_11ea_a2e3_a45e60b8672drow2_col0\" class=\"data row2 col0\" >51001.000000</td>\n",
       "                        <td id=\"T_f8777cc6_74b9_11ea_a2e3_a45e60b8672drow2_col1\" class=\"data row2 col1\" >Accomack</td>\n",
       "                        <td id=\"T_f8777cc6_74b9_11ea_a2e3_a45e60b8672drow2_col2\" class=\"data row2 col2\" >Virginia</td>\n",
       "                        <td id=\"T_f8777cc6_74b9_11ea_a2e3_a45e60b8672drow2_col3\" class=\"data row2 col3\" >US</td>\n",
       "                        <td id=\"T_f8777cc6_74b9_11ea_a2e3_a45e60b8672drow2_col4\" class=\"data row2 col4\" >2020-04-01 21:58:49</td>\n",
       "                        <td id=\"T_f8777cc6_74b9_11ea_a2e3_a45e60b8672drow2_col5\" class=\"data row2 col5\" >37.767072</td>\n",
       "                        <td id=\"T_f8777cc6_74b9_11ea_a2e3_a45e60b8672drow2_col6\" class=\"data row2 col6\" >-75.632346</td>\n",
       "                        <td id=\"T_f8777cc6_74b9_11ea_a2e3_a45e60b8672drow2_col7\" class=\"data row2 col7\" >7</td>\n",
       "                        <td id=\"T_f8777cc6_74b9_11ea_a2e3_a45e60b8672drow2_col8\" class=\"data row2 col8\" >0</td>\n",
       "                        <td id=\"T_f8777cc6_74b9_11ea_a2e3_a45e60b8672drow2_col9\" class=\"data row2 col9\" >0</td>\n",
       "                        <td id=\"T_f8777cc6_74b9_11ea_a2e3_a45e60b8672drow2_col10\" class=\"data row2 col10\" >0</td>\n",
       "                        <td id=\"T_f8777cc6_74b9_11ea_a2e3_a45e60b8672drow2_col11\" class=\"data row2 col11\" >Accomack, Virginia, US</td>\n",
       "            </tr>\n",
       "            <tr>\n",
       "                                <td id=\"T_f8777cc6_74b9_11ea_a2e3_a45e60b8672drow3_col0\" class=\"data row3 col0\" >16001.000000</td>\n",
       "                        <td id=\"T_f8777cc6_74b9_11ea_a2e3_a45e60b8672drow3_col1\" class=\"data row3 col1\" >Ada</td>\n",
       "                        <td id=\"T_f8777cc6_74b9_11ea_a2e3_a45e60b8672drow3_col2\" class=\"data row3 col2\" >Idaho</td>\n",
       "                        <td id=\"T_f8777cc6_74b9_11ea_a2e3_a45e60b8672drow3_col3\" class=\"data row3 col3\" >US</td>\n",
       "                        <td id=\"T_f8777cc6_74b9_11ea_a2e3_a45e60b8672drow3_col4\" class=\"data row3 col4\" >2020-04-01 21:58:49</td>\n",
       "                        <td id=\"T_f8777cc6_74b9_11ea_a2e3_a45e60b8672drow3_col5\" class=\"data row3 col5\" >43.452658</td>\n",
       "                        <td id=\"T_f8777cc6_74b9_11ea_a2e3_a45e60b8672drow3_col6\" class=\"data row3 col6\" >-116.241552</td>\n",
       "                        <td id=\"T_f8777cc6_74b9_11ea_a2e3_a45e60b8672drow3_col7\" class=\"data row3 col7\" >195</td>\n",
       "                        <td id=\"T_f8777cc6_74b9_11ea_a2e3_a45e60b8672drow3_col8\" class=\"data row3 col8\" >3</td>\n",
       "                        <td id=\"T_f8777cc6_74b9_11ea_a2e3_a45e60b8672drow3_col9\" class=\"data row3 col9\" >0</td>\n",
       "                        <td id=\"T_f8777cc6_74b9_11ea_a2e3_a45e60b8672drow3_col10\" class=\"data row3 col10\" >0</td>\n",
       "                        <td id=\"T_f8777cc6_74b9_11ea_a2e3_a45e60b8672drow3_col11\" class=\"data row3 col11\" >Ada, Idaho, US</td>\n",
       "            </tr>\n",
       "            <tr>\n",
       "                                <td id=\"T_f8777cc6_74b9_11ea_a2e3_a45e60b8672drow4_col0\" class=\"data row4 col0\" >19001.000000</td>\n",
       "                        <td id=\"T_f8777cc6_74b9_11ea_a2e3_a45e60b8672drow4_col1\" class=\"data row4 col1\" >Adair</td>\n",
       "                        <td id=\"T_f8777cc6_74b9_11ea_a2e3_a45e60b8672drow4_col2\" class=\"data row4 col2\" >Iowa</td>\n",
       "                        <td id=\"T_f8777cc6_74b9_11ea_a2e3_a45e60b8672drow4_col3\" class=\"data row4 col3\" >US</td>\n",
       "                        <td id=\"T_f8777cc6_74b9_11ea_a2e3_a45e60b8672drow4_col4\" class=\"data row4 col4\" >2020-04-01 21:58:49</td>\n",
       "                        <td id=\"T_f8777cc6_74b9_11ea_a2e3_a45e60b8672drow4_col5\" class=\"data row4 col5\" >41.330756</td>\n",
       "                        <td id=\"T_f8777cc6_74b9_11ea_a2e3_a45e60b8672drow4_col6\" class=\"data row4 col6\" >-94.471059</td>\n",
       "                        <td id=\"T_f8777cc6_74b9_11ea_a2e3_a45e60b8672drow4_col7\" class=\"data row4 col7\" >1</td>\n",
       "                        <td id=\"T_f8777cc6_74b9_11ea_a2e3_a45e60b8672drow4_col8\" class=\"data row4 col8\" >0</td>\n",
       "                        <td id=\"T_f8777cc6_74b9_11ea_a2e3_a45e60b8672drow4_col9\" class=\"data row4 col9\" >0</td>\n",
       "                        <td id=\"T_f8777cc6_74b9_11ea_a2e3_a45e60b8672drow4_col10\" class=\"data row4 col10\" >0</td>\n",
       "                        <td id=\"T_f8777cc6_74b9_11ea_a2e3_a45e60b8672drow4_col11\" class=\"data row4 col11\" >Adair, Iowa, US</td>\n",
       "            </tr>\n",
       "    </tbody></table>"
      ],
      "text/plain": [
       "<pandas.io.formats.style.Styler at 0x10e5c1430>"
      ]
     },
     "execution_count": 46,
     "metadata": {},
     "output_type": "execute_result"
    }
   ],
   "source": [
    "da_world.head().style.hide_index()"
   ]
  },
  {
   "cell_type": "markdown",
   "metadata": {},
   "source": [
    "We rename the columns to the values originally used in this notebook as the column names from the sources have been changing over time."
   ]
  },
  {
   "cell_type": "code",
   "execution_count": 47,
   "metadata": {},
   "outputs": [],
   "source": [
    "da_world = da_world.rename(columns={\"Country_Region\": \"Country/Region\", \"Lat\":\"Latitude\", \"Long_\":\"Longitude\"})"
   ]
  },
  {
   "cell_type": "markdown",
   "metadata": {},
   "source": [
    "We clean up the data and consolidate the names of countries with several variations or with a comma using the function format_country. \n",
    "<br>From the first look at the datasets, we found that South Korea is Korea,South in the original dataset and Congo is assigned for both the \"Republic of the Congo\" and the \"Democratic Republic of the Congo\" . "
   ]
  },
  {
   "cell_type": "code",
   "execution_count": 48,
   "metadata": {},
   "outputs": [],
   "source": [
    "#da_world[da_world[\"Country/Region\"].str.contains(\"Korea\")]"
   ]
  },
  {
   "cell_type": "code",
   "execution_count": 49,
   "metadata": {},
   "outputs": [],
   "source": [
    "#da_world[da_world[\"Country/Region\"].str.contains(\"Congo\")]"
   ]
  },
  {
   "cell_type": "code",
   "execution_count": 50,
   "metadata": {},
   "outputs": [],
   "source": [
    "def format_country(da, original, new):\n",
    "    list_change = da[da[\"Country/Region\"].str.contains(original)].index\n",
    "    for x in list_change:\n",
    "        da.loc[x,\"Country/Region\"] = new\n",
    "        if \"Combined_Key\" in da:\n",
    "            da.loc[x,\"Combined_Key\"] = new\n",
    "    return da"
   ]
  },
  {
   "cell_type": "code",
   "execution_count": 51,
   "metadata": {},
   "outputs": [],
   "source": [
    "datasets = [da_world, da_confirmed_w, da_fatalities_w, da_recovered_w]\n",
    "countries_to_format = [\"Korea\",\"Brazzaville\",\"Kinshasa\"]\n",
    "formatted_countries = [\"South Korea\", \"Republic of the Congo\",\"Democratic Republic of the Congo\"]\n",
    "for c in range(len(countries_to_format)):\n",
    "    for x in range(len(datasets)):\n",
    "        format_country(datasets[x],countries_to_format[c],formatted_countries[c])\n",
    "        #print(datasets[x][datasets[x][\"Country/Region\"].str.contains(formatted_countries[c])][\"Country/Region\"])"
   ]
  },
  {
   "cell_type": "markdown",
   "metadata": {},
   "source": [
    "We add a column for the active positive cases. \n",
    "<br>Our main interest is to see how the numbers of active cases are changing. \n",
    "<br> Note: This column wasn't available in the original dataset when this notebook started to take shape.\n",
    "\n"
   ]
  },
  {
   "cell_type": "code",
   "execution_count": 52,
   "metadata": {},
   "outputs": [],
   "source": [
    "da_world[\"Active\"] = da_world[\"Confirmed\"] - da_world[\"Recovered\"] - da_world[\"Deaths\"]"
   ]
  },
  {
   "cell_type": "code",
   "execution_count": 53,
   "metadata": {},
   "outputs": [],
   "source": [
    "#da_world.head().style.hide_index()"
   ]
  },
  {
   "cell_type": "markdown",
   "metadata": {},
   "source": [
    "## Global numbers in a nutshell"
   ]
  },
  {
   "cell_type": "code",
   "execution_count": 54,
   "metadata": {},
   "outputs": [
    {
     "name": "stdout",
     "output_type": "stream",
     "text": [
      "Confirmed    932605\n",
      "Active       692619\n",
      "Recovered    193177\n",
      "Deaths        46809\n"
     ]
    }
   ],
   "source": [
    "total_w = da_world[[\"Confirmed\",\"Active\",\"Recovered\",\"Deaths\"]].sum()\n",
    "print(total_w.to_string())"
   ]
  },
  {
   "cell_type": "markdown",
   "metadata": {},
   "source": [
    "We group the dataset by countries to have a total value per nation and list the top five countries with active cases. "
   ]
  },
  {
   "cell_type": "code",
   "execution_count": 72,
   "metadata": {},
   "outputs": [],
   "source": [
    "total_countries = da_world.groupby(\"Country/Region\")[[\"Confirmed\",\"Active\",\"Recovered\",\"Deaths\"]].sum(\n",
    "              ).sort_values(by=\"Active\",ascending=False)\n",
    "#total_countries.head()"
   ]
  },
  {
   "cell_type": "code",
   "execution_count": 73,
   "metadata": {},
   "outputs": [
    {
     "data": {
      "text/html": [
       "<style  type=\"text/css\" >\n",
       "</style><table id=\"T_cc6c0a6a_74ba_11ea_a2e3_a45e60b8672d\" ><thead>    <tr>        <th class=\"col_heading level0 col0\" >Country/Region</th>        <th class=\"col_heading level0 col1\" >Confirmed</th>        <th class=\"col_heading level0 col2\" >Active</th>        <th class=\"col_heading level0 col3\" >Recovered</th>        <th class=\"col_heading level0 col4\" >Deaths</th>    </tr></thead><tbody>\n",
       "                <tr>\n",
       "                                <td id=\"T_cc6c0a6a_74ba_11ea_a2e3_a45e60b8672drow0_col0\" class=\"data row0 col0\" >US</td>\n",
       "                        <td id=\"T_cc6c0a6a_74ba_11ea_a2e3_a45e60b8672drow0_col1\" class=\"data row0 col1\" >213372</td>\n",
       "                        <td id=\"T_cc6c0a6a_74ba_11ea_a2e3_a45e60b8672drow0_col2\" class=\"data row0 col2\" >200141</td>\n",
       "                        <td id=\"T_cc6c0a6a_74ba_11ea_a2e3_a45e60b8672drow0_col3\" class=\"data row0 col3\" >8474</td>\n",
       "                        <td id=\"T_cc6c0a6a_74ba_11ea_a2e3_a45e60b8672drow0_col4\" class=\"data row0 col4\" >4757</td>\n",
       "            </tr>\n",
       "            <tr>\n",
       "                                <td id=\"T_cc6c0a6a_74ba_11ea_a2e3_a45e60b8672drow1_col0\" class=\"data row1 col0\" >Italy</td>\n",
       "                        <td id=\"T_cc6c0a6a_74ba_11ea_a2e3_a45e60b8672drow1_col1\" class=\"data row1 col1\" >110574</td>\n",
       "                        <td id=\"T_cc6c0a6a_74ba_11ea_a2e3_a45e60b8672drow1_col2\" class=\"data row1 col2\" >80572</td>\n",
       "                        <td id=\"T_cc6c0a6a_74ba_11ea_a2e3_a45e60b8672drow1_col3\" class=\"data row1 col3\" >16847</td>\n",
       "                        <td id=\"T_cc6c0a6a_74ba_11ea_a2e3_a45e60b8672drow1_col4\" class=\"data row1 col4\" >13155</td>\n",
       "            </tr>\n",
       "            <tr>\n",
       "                                <td id=\"T_cc6c0a6a_74ba_11ea_a2e3_a45e60b8672drow2_col0\" class=\"data row2 col0\" >Spain</td>\n",
       "                        <td id=\"T_cc6c0a6a_74ba_11ea_a2e3_a45e60b8672drow2_col1\" class=\"data row2 col1\" >104118</td>\n",
       "                        <td id=\"T_cc6c0a6a_74ba_11ea_a2e3_a45e60b8672drow2_col2\" class=\"data row2 col2\" >72084</td>\n",
       "                        <td id=\"T_cc6c0a6a_74ba_11ea_a2e3_a45e60b8672drow2_col3\" class=\"data row2 col3\" >22647</td>\n",
       "                        <td id=\"T_cc6c0a6a_74ba_11ea_a2e3_a45e60b8672drow2_col4\" class=\"data row2 col4\" >9387</td>\n",
       "            </tr>\n",
       "            <tr>\n",
       "                                <td id=\"T_cc6c0a6a_74ba_11ea_a2e3_a45e60b8672drow3_col0\" class=\"data row3 col0\" >Germany</td>\n",
       "                        <td id=\"T_cc6c0a6a_74ba_11ea_a2e3_a45e60b8672drow3_col1\" class=\"data row3 col1\" >77872</td>\n",
       "                        <td id=\"T_cc6c0a6a_74ba_11ea_a2e3_a45e60b8672drow3_col2\" class=\"data row3 col2\" >58252</td>\n",
       "                        <td id=\"T_cc6c0a6a_74ba_11ea_a2e3_a45e60b8672drow3_col3\" class=\"data row3 col3\" >18700</td>\n",
       "                        <td id=\"T_cc6c0a6a_74ba_11ea_a2e3_a45e60b8672drow3_col4\" class=\"data row3 col4\" >920</td>\n",
       "            </tr>\n",
       "            <tr>\n",
       "                                <td id=\"T_cc6c0a6a_74ba_11ea_a2e3_a45e60b8672drow4_col0\" class=\"data row4 col0\" >France</td>\n",
       "                        <td id=\"T_cc6c0a6a_74ba_11ea_a2e3_a45e60b8672drow4_col1\" class=\"data row4 col1\" >57749</td>\n",
       "                        <td id=\"T_cc6c0a6a_74ba_11ea_a2e3_a45e60b8672drow4_col2\" class=\"data row4 col2\" >42653</td>\n",
       "                        <td id=\"T_cc6c0a6a_74ba_11ea_a2e3_a45e60b8672drow4_col3\" class=\"data row4 col3\" >11053</td>\n",
       "                        <td id=\"T_cc6c0a6a_74ba_11ea_a2e3_a45e60b8672drow4_col4\" class=\"data row4 col4\" >4043</td>\n",
       "            </tr>\n",
       "    </tbody></table>"
      ],
      "text/plain": [
       "<pandas.io.formats.style.Styler at 0x126e233a0>"
      ]
     },
     "execution_count": 73,
     "metadata": {},
     "output_type": "execute_result"
    }
   ],
   "source": [
    "total_all = total_countries\n",
    "total_all = total_all.reset_index()\n",
    "total_all.head().style.hide_index()"
   ]
  },
  {
   "cell_type": "code",
   "execution_count": 74,
   "metadata": {},
   "outputs": [],
   "source": [
    "total_all[\"lat\"]= np.nan\n",
    "total_all[\"long\"]= np.nan"
   ]
  },
  {
   "cell_type": "code",
   "execution_count": 75,
   "metadata": {},
   "outputs": [],
   "source": [
    "#len(total_all)"
   ]
  },
  {
   "cell_type": "code",
   "execution_count": 76,
   "metadata": {},
   "outputs": [],
   "source": [
    "places = total_all[\"Country/Region\"]"
   ]
  },
  {
   "cell_type": "code",
   "execution_count": 77,
   "metadata": {},
   "outputs": [],
   "source": [
    "#places"
   ]
  },
  {
   "cell_type": "code",
   "execution_count": 78,
   "metadata": {},
   "outputs": [],
   "source": [
    "for x in range(len(places)-1):\n",
    "    if not da_world[da_world[\"Country/Region\"] == places[x]].empty:\n",
    "        loc_country = da_world[da_world[\"Country/Region\"] == places[x]][[\"Latitude\",\"Longitude\"]].to_numpy()\n",
    "        if loc_country.shape != (1,2):\n",
    "            a=0\n",
    "            #print(\"country shape: \",places[x])\n",
    "        else:\n",
    "            total_all.loc[x,[\"lat\"]] = loc_country[0,0]\n",
    "            total_all.loc[x,[\"long\"]] = loc_country[0,1]\n",
    "    else:\n",
    "        print(\"not found: \",places[x])"
   ]
  },
  {
   "cell_type": "code",
   "execution_count": 79,
   "metadata": {},
   "outputs": [],
   "source": [
    "#total_all.head()"
   ]
  },
  {
   "cell_type": "code",
   "execution_count": 80,
   "metadata": {},
   "outputs": [],
   "source": [
    "#total_all[~pd.notnull(total_all[\"lat\"])]"
   ]
  },
  {
   "cell_type": "markdown",
   "metadata": {},
   "source": [
    "We create a function to gather the latitude and longitude information for each country. Coordinates are added manually for those countries with nan values due to wrong shape of coordinates."
   ]
  },
  {
   "cell_type": "code",
   "execution_count": 81,
   "metadata": {},
   "outputs": [],
   "source": [
    "def add_coordinates(country,lat,long):\n",
    "    total_all.loc[total_all[\"Country/Region\"] == country,\"lat\"] = lat\n",
    "    total_all.loc[total_all[\"Country/Region\"] == country,\"long\"] = long\n",
    "    return total_all"
   ]
  },
  {
   "cell_type": "code",
   "execution_count": 82,
   "metadata": {},
   "outputs": [
    {
     "data": {
      "text/html": [
       "<style  type=\"text/css\" >\n",
       "</style><table id=\"T_0d0fd20e_74bb_11ea_a2e3_a45e60b8672d\" ><thead>    <tr>        <th class=\"col_heading level0 col0\" >Country/Region</th>        <th class=\"col_heading level0 col1\" >Confirmed</th>        <th class=\"col_heading level0 col2\" >Active</th>        <th class=\"col_heading level0 col3\" >Recovered</th>        <th class=\"col_heading level0 col4\" >Deaths</th>        <th class=\"col_heading level0 col5\" >lat</th>        <th class=\"col_heading level0 col6\" >long</th>    </tr></thead><tbody>\n",
       "                <tr>\n",
       "                                <td id=\"T_0d0fd20e_74bb_11ea_a2e3_a45e60b8672drow0_col0\" class=\"data row0 col0\" >US</td>\n",
       "                        <td id=\"T_0d0fd20e_74bb_11ea_a2e3_a45e60b8672drow0_col1\" class=\"data row0 col1\" >213372</td>\n",
       "                        <td id=\"T_0d0fd20e_74bb_11ea_a2e3_a45e60b8672drow0_col2\" class=\"data row0 col2\" >200141</td>\n",
       "                        <td id=\"T_0d0fd20e_74bb_11ea_a2e3_a45e60b8672drow0_col3\" class=\"data row0 col3\" >8474</td>\n",
       "                        <td id=\"T_0d0fd20e_74bb_11ea_a2e3_a45e60b8672drow0_col4\" class=\"data row0 col4\" >4757</td>\n",
       "                        <td id=\"T_0d0fd20e_74bb_11ea_a2e3_a45e60b8672drow0_col5\" class=\"data row0 col5\" >38.907200</td>\n",
       "                        <td id=\"T_0d0fd20e_74bb_11ea_a2e3_a45e60b8672drow0_col6\" class=\"data row0 col6\" >-77.036900</td>\n",
       "            </tr>\n",
       "            <tr>\n",
       "                                <td id=\"T_0d0fd20e_74bb_11ea_a2e3_a45e60b8672drow1_col0\" class=\"data row1 col0\" >Italy</td>\n",
       "                        <td id=\"T_0d0fd20e_74bb_11ea_a2e3_a45e60b8672drow1_col1\" class=\"data row1 col1\" >110574</td>\n",
       "                        <td id=\"T_0d0fd20e_74bb_11ea_a2e3_a45e60b8672drow1_col2\" class=\"data row1 col2\" >80572</td>\n",
       "                        <td id=\"T_0d0fd20e_74bb_11ea_a2e3_a45e60b8672drow1_col3\" class=\"data row1 col3\" >16847</td>\n",
       "                        <td id=\"T_0d0fd20e_74bb_11ea_a2e3_a45e60b8672drow1_col4\" class=\"data row1 col4\" >13155</td>\n",
       "                        <td id=\"T_0d0fd20e_74bb_11ea_a2e3_a45e60b8672drow1_col5\" class=\"data row1 col5\" >41.871940</td>\n",
       "                        <td id=\"T_0d0fd20e_74bb_11ea_a2e3_a45e60b8672drow1_col6\" class=\"data row1 col6\" >12.567380</td>\n",
       "            </tr>\n",
       "            <tr>\n",
       "                                <td id=\"T_0d0fd20e_74bb_11ea_a2e3_a45e60b8672drow2_col0\" class=\"data row2 col0\" >Spain</td>\n",
       "                        <td id=\"T_0d0fd20e_74bb_11ea_a2e3_a45e60b8672drow2_col1\" class=\"data row2 col1\" >104118</td>\n",
       "                        <td id=\"T_0d0fd20e_74bb_11ea_a2e3_a45e60b8672drow2_col2\" class=\"data row2 col2\" >72084</td>\n",
       "                        <td id=\"T_0d0fd20e_74bb_11ea_a2e3_a45e60b8672drow2_col3\" class=\"data row2 col3\" >22647</td>\n",
       "                        <td id=\"T_0d0fd20e_74bb_11ea_a2e3_a45e60b8672drow2_col4\" class=\"data row2 col4\" >9387</td>\n",
       "                        <td id=\"T_0d0fd20e_74bb_11ea_a2e3_a45e60b8672drow2_col5\" class=\"data row2 col5\" >40.463667</td>\n",
       "                        <td id=\"T_0d0fd20e_74bb_11ea_a2e3_a45e60b8672drow2_col6\" class=\"data row2 col6\" >-3.749220</td>\n",
       "            </tr>\n",
       "            <tr>\n",
       "                                <td id=\"T_0d0fd20e_74bb_11ea_a2e3_a45e60b8672drow3_col0\" class=\"data row3 col0\" >Germany</td>\n",
       "                        <td id=\"T_0d0fd20e_74bb_11ea_a2e3_a45e60b8672drow3_col1\" class=\"data row3 col1\" >77872</td>\n",
       "                        <td id=\"T_0d0fd20e_74bb_11ea_a2e3_a45e60b8672drow3_col2\" class=\"data row3 col2\" >58252</td>\n",
       "                        <td id=\"T_0d0fd20e_74bb_11ea_a2e3_a45e60b8672drow3_col3\" class=\"data row3 col3\" >18700</td>\n",
       "                        <td id=\"T_0d0fd20e_74bb_11ea_a2e3_a45e60b8672drow3_col4\" class=\"data row3 col4\" >920</td>\n",
       "                        <td id=\"T_0d0fd20e_74bb_11ea_a2e3_a45e60b8672drow3_col5\" class=\"data row3 col5\" >51.165691</td>\n",
       "                        <td id=\"T_0d0fd20e_74bb_11ea_a2e3_a45e60b8672drow3_col6\" class=\"data row3 col6\" >10.451526</td>\n",
       "            </tr>\n",
       "            <tr>\n",
       "                                <td id=\"T_0d0fd20e_74bb_11ea_a2e3_a45e60b8672drow4_col0\" class=\"data row4 col0\" >France</td>\n",
       "                        <td id=\"T_0d0fd20e_74bb_11ea_a2e3_a45e60b8672drow4_col1\" class=\"data row4 col1\" >57749</td>\n",
       "                        <td id=\"T_0d0fd20e_74bb_11ea_a2e3_a45e60b8672drow4_col2\" class=\"data row4 col2\" >42653</td>\n",
       "                        <td id=\"T_0d0fd20e_74bb_11ea_a2e3_a45e60b8672drow4_col3\" class=\"data row4 col3\" >11053</td>\n",
       "                        <td id=\"T_0d0fd20e_74bb_11ea_a2e3_a45e60b8672drow4_col4\" class=\"data row4 col4\" >4043</td>\n",
       "                        <td id=\"T_0d0fd20e_74bb_11ea_a2e3_a45e60b8672drow4_col5\" class=\"data row4 col5\" >48.856600</td>\n",
       "                        <td id=\"T_0d0fd20e_74bb_11ea_a2e3_a45e60b8672drow4_col6\" class=\"data row4 col6\" >2.352200</td>\n",
       "            </tr>\n",
       "    </tbody></table>"
      ],
      "text/plain": [
       "<pandas.io.formats.style.Styler at 0x121a1c6d0>"
      ]
     },
     "execution_count": 82,
     "metadata": {},
     "output_type": "execute_result"
    }
   ],
   "source": [
    "add_coordinates(\"US\", 38.9072, -77.0369)\n",
    "add_coordinates(\"France\", 48.8566, 2.3522)\n",
    "add_coordinates(\"United Kingdom\", 51.5074, 0.1278)\n",
    "add_coordinates(\"Netherlands\", 52.3667, 4.8945)\n",
    "add_coordinates(\"China\", 35.8617, 104.1954)\n",
    "add_coordinates(\"Canada\", 45.4215, -75.6972)\n",
    "add_coordinates(\"Australia\", -33.8688, 151.2093)\n",
    "add_coordinates(\"Denmark\", 55.6761, 12.5683)\n",
    "add_coordinates(\"Republic of the Congo\", -0.2280, 15.8277)\n",
    "add_coordinates(\"Syria\", 34.8021, 38.9968)\n",
    "add_coordinates(\"Saint Vincent and the Grenadines\", 12.9843, -61.2872)\n",
    "total_all.head().style.hide_index()"
   ]
  },
  {
   "cell_type": "markdown",
   "metadata": {},
   "source": [
    "We create a map where each country with active cases is labeled as follows:\n",
    "<br>Blue circle: less than 1000 reported active cases.\n",
    "<br>Orange circle: more than 1000 and less than 10000 reported active cases.\n",
    "<br>Red circle: more than 10000 reported active cases."
   ]
  },
  {
   "cell_type": "code",
   "execution_count": 83,
   "metadata": {},
   "outputs": [
    {
     "data": {
      "text/html": [
       "<div style=\"width:100%;\"><div style=\"position:relative;width:100%;height:0;padding-bottom:60%;\"><iframe src=\"about:blank\" style=\"position:absolute;width:100%;height:100%;left:0;top:0;border:none !important;\" data-html=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 onload=\"this.contentDocument.open();this.contentDocument.write(atob(this.getAttribute('data-html')));this.contentDocument.close();\" allowfullscreen webkitallowfullscreen mozallowfullscreen></iframe></div></div>"
      ],
      "text/plain": [
       "<folium.folium.Map at 0x126e37250>"
      ]
     },
     "execution_count": 83,
     "metadata": {},
     "output_type": "execute_result"
    }
   ],
   "source": [
    "world_map = folium.Map(location=[41.8719, -20], tiles='cartodbpositron', zoom_start=2.5)\n",
    "def color_producer(val):\n",
    "    if val < 1000:\n",
    "        return 'blue'\n",
    "    elif val < 10000:\n",
    "        return 'orange'\n",
    "    else:\n",
    "        return 'red'\n",
    "\n",
    "for i in range(0,len(places)):\n",
    "    if not(np.isnan(total_all.iloc[i]['lat']) or np.isnan(\n",
    "            total_all.iloc[i]['long'])):\n",
    "        folium.Circle(       \n",
    "        location=[total_all.iloc[i]['lat'], total_all.iloc[i]['long']],\n",
    "        popup=(\"Country: \" + str(places[i]) + \"<br>\"\n",
    "               \"Confirmed cases: \" + str(total_all.iloc[i][\"Confirmed\"])+\"<br>\"\n",
    "               \"Active cases: \" + str(total_all.iloc[i][\"Active\"])+\"<br>\"\n",
    "               \"Recovered: \" + str(total_all.iloc[i][\"Recovered\"])+\"<br>\"\n",
    "               \"Deaths: \" + str(total_all.iloc[i][\"Deaths\"])),\n",
    "        radius=(total_all.iloc[i]['Active']*2000000)/total_all['Active'].sum(), \n",
    "        color=color_producer(total_all.iloc[i]['Active']),\n",
    "        fill_color=color_producer(total_all.iloc[i]['Active']),\n",
    "        title='Covid-19 active cases worldwide').add_to(world_map)\n",
    "\n",
    "world_map"
   ]
  },
  {
   "cell_type": "markdown",
   "metadata": {},
   "source": [
    "Summary data per country is shown if you click on each country's circle."
   ]
  },
  {
   "cell_type": "markdown",
   "metadata": {},
   "source": [
    "## Top 15 countries by number of active cases"
   ]
  },
  {
   "cell_type": "markdown",
   "metadata": {},
   "source": [
    "We list the fifteen countries with most active cases.\n",
    "<br> We also calculate the death rate vs confirmed positive cases and include it in the column \"Death rate\"."
   ]
  },
  {
   "cell_type": "code",
   "execution_count": 84,
   "metadata": {},
   "outputs": [
    {
     "data": {
      "text/html": [
       "<div>\n",
       "<style scoped>\n",
       "    .dataframe tbody tr th:only-of-type {\n",
       "        vertical-align: middle;\n",
       "    }\n",
       "\n",
       "    .dataframe tbody tr th {\n",
       "        vertical-align: top;\n",
       "    }\n",
       "\n",
       "    .dataframe thead th {\n",
       "        text-align: right;\n",
       "    }\n",
       "</style>\n",
       "<table border=\"1\" class=\"dataframe\">\n",
       "  <thead>\n",
       "    <tr style=\"text-align: right;\">\n",
       "      <th></th>\n",
       "      <th>Country/Region</th>\n",
       "      <th>Confirmed</th>\n",
       "      <th>Active</th>\n",
       "      <th>Recovered</th>\n",
       "      <th>Deaths</th>\n",
       "      <th>lat</th>\n",
       "      <th>long</th>\n",
       "      <th>Death rate [%]</th>\n",
       "    </tr>\n",
       "  </thead>\n",
       "  <tbody>\n",
       "    <tr>\n",
       "      <th>0</th>\n",
       "      <td>US</td>\n",
       "      <td>213372</td>\n",
       "      <td>200141</td>\n",
       "      <td>8474</td>\n",
       "      <td>4757</td>\n",
       "      <td>38.907200</td>\n",
       "      <td>-77.036900</td>\n",
       "      <td>2.23</td>\n",
       "    </tr>\n",
       "    <tr>\n",
       "      <th>1</th>\n",
       "      <td>Italy</td>\n",
       "      <td>110574</td>\n",
       "      <td>80572</td>\n",
       "      <td>16847</td>\n",
       "      <td>13155</td>\n",
       "      <td>41.871940</td>\n",
       "      <td>12.567380</td>\n",
       "      <td>11.90</td>\n",
       "    </tr>\n",
       "    <tr>\n",
       "      <th>2</th>\n",
       "      <td>Spain</td>\n",
       "      <td>104118</td>\n",
       "      <td>72084</td>\n",
       "      <td>22647</td>\n",
       "      <td>9387</td>\n",
       "      <td>40.463667</td>\n",
       "      <td>-3.749220</td>\n",
       "      <td>9.02</td>\n",
       "    </tr>\n",
       "    <tr>\n",
       "      <th>3</th>\n",
       "      <td>Germany</td>\n",
       "      <td>77872</td>\n",
       "      <td>58252</td>\n",
       "      <td>18700</td>\n",
       "      <td>920</td>\n",
       "      <td>51.165691</td>\n",
       "      <td>10.451526</td>\n",
       "      <td>1.18</td>\n",
       "    </tr>\n",
       "    <tr>\n",
       "      <th>4</th>\n",
       "      <td>France</td>\n",
       "      <td>57749</td>\n",
       "      <td>42653</td>\n",
       "      <td>11053</td>\n",
       "      <td>4043</td>\n",
       "      <td>48.856600</td>\n",
       "      <td>2.352200</td>\n",
       "      <td>7.00</td>\n",
       "    </tr>\n",
       "    <tr>\n",
       "      <th>5</th>\n",
       "      <td>Iran</td>\n",
       "      <td>47593</td>\n",
       "      <td>29084</td>\n",
       "      <td>15473</td>\n",
       "      <td>3036</td>\n",
       "      <td>32.427908</td>\n",
       "      <td>53.688046</td>\n",
       "      <td>6.38</td>\n",
       "    </tr>\n",
       "    <tr>\n",
       "      <th>6</th>\n",
       "      <td>United Kingdom</td>\n",
       "      <td>29865</td>\n",
       "      <td>27329</td>\n",
       "      <td>179</td>\n",
       "      <td>2357</td>\n",
       "      <td>51.507400</td>\n",
       "      <td>0.127800</td>\n",
       "      <td>7.89</td>\n",
       "    </tr>\n",
       "    <tr>\n",
       "      <th>7</th>\n",
       "      <td>Turkey</td>\n",
       "      <td>15679</td>\n",
       "      <td>15069</td>\n",
       "      <td>333</td>\n",
       "      <td>277</td>\n",
       "      <td>38.963700</td>\n",
       "      <td>35.243300</td>\n",
       "      <td>1.77</td>\n",
       "    </tr>\n",
       "    <tr>\n",
       "      <th>8</th>\n",
       "      <td>Switzerland</td>\n",
       "      <td>17768</td>\n",
       "      <td>14313</td>\n",
       "      <td>2967</td>\n",
       "      <td>488</td>\n",
       "      <td>46.818200</td>\n",
       "      <td>8.227500</td>\n",
       "      <td>2.75</td>\n",
       "    </tr>\n",
       "    <tr>\n",
       "      <th>9</th>\n",
       "      <td>Netherlands</td>\n",
       "      <td>13696</td>\n",
       "      <td>12261</td>\n",
       "      <td>260</td>\n",
       "      <td>1175</td>\n",
       "      <td>52.366700</td>\n",
       "      <td>4.894500</td>\n",
       "      <td>8.58</td>\n",
       "    </tr>\n",
       "    <tr>\n",
       "      <th>10</th>\n",
       "      <td>Belgium</td>\n",
       "      <td>13964</td>\n",
       "      <td>11004</td>\n",
       "      <td>2132</td>\n",
       "      <td>828</td>\n",
       "      <td>50.833300</td>\n",
       "      <td>4.469936</td>\n",
       "      <td>5.93</td>\n",
       "    </tr>\n",
       "    <tr>\n",
       "      <th>11</th>\n",
       "      <td>Austria</td>\n",
       "      <td>10711</td>\n",
       "      <td>9129</td>\n",
       "      <td>1436</td>\n",
       "      <td>146</td>\n",
       "      <td>47.516200</td>\n",
       "      <td>14.550100</td>\n",
       "      <td>1.36</td>\n",
       "    </tr>\n",
       "    <tr>\n",
       "      <th>12</th>\n",
       "      <td>Canada</td>\n",
       "      <td>9560</td>\n",
       "      <td>8127</td>\n",
       "      <td>1324</td>\n",
       "      <td>109</td>\n",
       "      <td>45.421500</td>\n",
       "      <td>-75.697200</td>\n",
       "      <td>1.14</td>\n",
       "    </tr>\n",
       "    <tr>\n",
       "      <th>13</th>\n",
       "      <td>Portugal</td>\n",
       "      <td>8251</td>\n",
       "      <td>8021</td>\n",
       "      <td>43</td>\n",
       "      <td>187</td>\n",
       "      <td>39.399900</td>\n",
       "      <td>-8.224500</td>\n",
       "      <td>2.27</td>\n",
       "    </tr>\n",
       "    <tr>\n",
       "      <th>14</th>\n",
       "      <td>Brazil</td>\n",
       "      <td>6836</td>\n",
       "      <td>6469</td>\n",
       "      <td>127</td>\n",
       "      <td>240</td>\n",
       "      <td>-14.235000</td>\n",
       "      <td>-51.925300</td>\n",
       "      <td>3.51</td>\n",
       "    </tr>\n",
       "  </tbody>\n",
       "</table>\n",
       "</div>"
      ],
      "text/plain": [
       "    Country/Region  Confirmed  Active  Recovered  Deaths        lat  \\\n",
       "0               US     213372  200141       8474    4757  38.907200   \n",
       "1            Italy     110574   80572      16847   13155  41.871940   \n",
       "2            Spain     104118   72084      22647    9387  40.463667   \n",
       "3          Germany      77872   58252      18700     920  51.165691   \n",
       "4           France      57749   42653      11053    4043  48.856600   \n",
       "5             Iran      47593   29084      15473    3036  32.427908   \n",
       "6   United Kingdom      29865   27329        179    2357  51.507400   \n",
       "7           Turkey      15679   15069        333     277  38.963700   \n",
       "8      Switzerland      17768   14313       2967     488  46.818200   \n",
       "9      Netherlands      13696   12261        260    1175  52.366700   \n",
       "10         Belgium      13964   11004       2132     828  50.833300   \n",
       "11         Austria      10711    9129       1436     146  47.516200   \n",
       "12          Canada       9560    8127       1324     109  45.421500   \n",
       "13        Portugal       8251    8021         43     187  39.399900   \n",
       "14          Brazil       6836    6469        127     240 -14.235000   \n",
       "\n",
       "         long  Death rate [%]  \n",
       "0  -77.036900            2.23  \n",
       "1   12.567380           11.90  \n",
       "2   -3.749220            9.02  \n",
       "3   10.451526            1.18  \n",
       "4    2.352200            7.00  \n",
       "5   53.688046            6.38  \n",
       "6    0.127800            7.89  \n",
       "7   35.243300            1.77  \n",
       "8    8.227500            2.75  \n",
       "9    4.894500            8.58  \n",
       "10   4.469936            5.93  \n",
       "11  14.550100            1.36  \n",
       "12 -75.697200            1.14  \n",
       "13  -8.224500            2.27  \n",
       "14 -51.925300            3.51  "
      ]
     },
     "execution_count": 84,
     "metadata": {},
     "output_type": "execute_result"
    }
   ],
   "source": [
    "warnings.filterwarnings(\"ignore\")\n",
    "top_fifteen = total_all.head(15)\n",
    "top_fifteen[\"Death rate [%]\"] = round(100*top_fifteen[\"Deaths\"]/ top_fifteen[\"Confirmed\"],2)\n",
    "top_fifteen"
   ]
  },
  {
   "cell_type": "markdown",
   "metadata": {},
   "source": [
    "The value of death rate can be interpreted from several perspective. \n",
    "<br>Italy has the hightest death rate and tests are done massively.\n",
    "<br>As of 13.03.20, most of the victims Covid-19 positive in Italy were 70 years old and older [1](https://www.medrxiv.org/content/10.1101/2020.03.15.20036293v1.full.pdf).\n",
    "<br>According to a study by the Leverhulme Centre for Demographic Science at the University of Oxford [1](https://www.medrxiv.org/content/10.1101/2020.03.15.20036293v1.full.pdf) and a publication in FAZ [2](https://m.faz.net/aktuell/wissen/geist-soziales/coronavirus-pandemie-warum-ist-es-in-italien-so-schlimm-16693408.html), some of the main reasons for Italy's high death rate are:\n",
    "* Italy is the world's second oldest population after Japan with 23% of the population aged 65 years and older compared to 13.2% younger than 16 year old.\n",
    "* Northern Italy, the area in Italy with most cases, is the industrial heart of the country with high pollution levels and there are many inhabitants suffering from respiratory problems. \n",
    "* Family is very important in Italy and the contact between generations is close, even if multigenerations are not living during the same roof, they live close by and see each other frequently.\n",
    "* Hugs and kisses on the cheek are common when greeting people in Italy.\n",
    "* The initial lockdown measures in the Northern provices caused a boomerang effect as it caused an exodus and many students from the North with family in the South travelled home, contributing to the spread of the virus."
   ]
  },
  {
   "cell_type": "code",
   "execution_count": 85,
   "metadata": {},
   "outputs": [
    {
     "data": {
      "application/vnd.plotly.v1+json": {
       "config": {
        "plotlyServerURL": "https://plot.ly"
       },
       "data": [
        {
         "branchvalues": "total",
         "customdata": [
          [
           10711,
           9129,
           1436,
           146,
           1.36
          ],
          [
           13964,
           11004,
           2132,
           828,
           5.93
          ],
          [
           6836,
           6469,
           127,
           240,
           3.51
          ],
          [
           9560,
           8127,
           1324,
           109,
           1.14
          ],
          [
           57749,
           42653,
           11053,
           4043,
           7
          ],
          [
           77872,
           58252,
           18700,
           920,
           1.18
          ],
          [
           47593,
           29084,
           15473,
           3036,
           6.38
          ],
          [
           110574,
           80572,
           16847,
           13155,
           11.9
          ],
          [
           13696,
           12261,
           260,
           1175,
           8.58
          ],
          [
           8251,
           8021,
           43,
           187,
           2.27
          ],
          [
           104118,
           72084,
           22647,
           9387,
           9.02
          ],
          [
           17768,
           14313,
           2967,
           488,
           2.75
          ],
          [
           15679,
           15069,
           333,
           277,
           1.77
          ],
          [
           213372,
           200141,
           8474,
           4757,
           2.23
          ],
          [
           29865,
           27329,
           179,
           2357,
           7.89
          ]
         ],
         "domain": {
          "x": [
           0,
           1
          ],
          "y": [
           0,
           1
          ]
         },
         "hoverlabel": {
          "namelength": 0
         },
         "hovertemplate": "Confirmed=%{customdata[0]}<br>Active=%{value}<br>Recovered=%{customdata[2]}<br>Deaths=%{customdata[3]}<br>Death rate [%]=%{customdata[4]}<br>labels=%{label}<br>parent=%{parent}<br>id=%{id}",
         "ids": [
          "Austria",
          "Belgium",
          "Brazil",
          "Canada",
          "France",
          "Germany",
          "Iran",
          "Italy",
          "Netherlands",
          "Portugal",
          "Spain",
          "Switzerland",
          "Turkey",
          "US",
          "United Kingdom"
         ],
         "labels": [
          "Austria",
          "Belgium",
          "Brazil",
          "Canada",
          "France",
          "Germany",
          "Iran",
          "Italy",
          "Netherlands",
          "Portugal",
          "Spain",
          "Switzerland",
          "Turkey",
          "US",
          "United Kingdom"
         ],
         "name": "",
         "parents": [
          "",
          "",
          "",
          "",
          "",
          "",
          "",
          "",
          "",
          "",
          "",
          "",
          "",
          "",
          ""
         ],
         "type": "treemap",
         "values": [
          9129,
          11004,
          6469,
          8127,
          42653,
          58252,
          29084,
          80572,
          12261,
          8021,
          72084,
          14313,
          15069,
          200141,
          27329
         ]
        }
       ],
       "layout": {
        "legend": {
         "tracegroupgap": 0
        },
        "template": {
         "data": {
          "bar": [
           {
            "error_x": {
             "color": "#2a3f5f"
            },
            "error_y": {
             "color": "#2a3f5f"
            },
            "marker": {
             "line": {
              "color": "#E5ECF6",
              "width": 0.5
             }
            },
            "type": "bar"
           }
          ],
          "barpolar": [
           {
            "marker": {
             "line": {
              "color": "#E5ECF6",
              "width": 0.5
             }
            },
            "type": "barpolar"
           }
          ],
          "carpet": [
           {
            "aaxis": {
             "endlinecolor": "#2a3f5f",
             "gridcolor": "white",
             "linecolor": "white",
             "minorgridcolor": "white",
             "startlinecolor": "#2a3f5f"
            },
            "baxis": {
             "endlinecolor": "#2a3f5f",
             "gridcolor": "white",
             "linecolor": "white",
             "minorgridcolor": "white",
             "startlinecolor": "#2a3f5f"
            },
            "type": "carpet"
           }
          ],
          "choropleth": [
           {
            "colorbar": {
             "outlinewidth": 0,
             "ticks": ""
            },
            "type": "choropleth"
           }
          ],
          "contour": [
           {
            "colorbar": {
             "outlinewidth": 0,
             "ticks": ""
            },
            "colorscale": [
             [
              0,
              "#0d0887"
             ],
             [
              0.1111111111111111,
              "#46039f"
             ],
             [
              0.2222222222222222,
              "#7201a8"
             ],
             [
              0.3333333333333333,
              "#9c179e"
             ],
             [
              0.4444444444444444,
              "#bd3786"
             ],
             [
              0.5555555555555556,
              "#d8576b"
             ],
             [
              0.6666666666666666,
              "#ed7953"
             ],
             [
              0.7777777777777778,
              "#fb9f3a"
             ],
             [
              0.8888888888888888,
              "#fdca26"
             ],
             [
              1,
              "#f0f921"
             ]
            ],
            "type": "contour"
           }
          ],
          "contourcarpet": [
           {
            "colorbar": {
             "outlinewidth": 0,
             "ticks": ""
            },
            "type": "contourcarpet"
           }
          ],
          "heatmap": [
           {
            "colorbar": {
             "outlinewidth": 0,
             "ticks": ""
            },
            "colorscale": [
             [
              0,
              "#0d0887"
             ],
             [
              0.1111111111111111,
              "#46039f"
             ],
             [
              0.2222222222222222,
              "#7201a8"
             ],
             [
              0.3333333333333333,
              "#9c179e"
             ],
             [
              0.4444444444444444,
              "#bd3786"
             ],
             [
              0.5555555555555556,
              "#d8576b"
             ],
             [
              0.6666666666666666,
              "#ed7953"
             ],
             [
              0.7777777777777778,
              "#fb9f3a"
             ],
             [
              0.8888888888888888,
              "#fdca26"
             ],
             [
              1,
              "#f0f921"
             ]
            ],
            "type": "heatmap"
           }
          ],
          "heatmapgl": [
           {
            "colorbar": {
             "outlinewidth": 0,
             "ticks": ""
            },
            "colorscale": [
             [
              0,
              "#0d0887"
             ],
             [
              0.1111111111111111,
              "#46039f"
             ],
             [
              0.2222222222222222,
              "#7201a8"
             ],
             [
              0.3333333333333333,
              "#9c179e"
             ],
             [
              0.4444444444444444,
              "#bd3786"
             ],
             [
              0.5555555555555556,
              "#d8576b"
             ],
             [
              0.6666666666666666,
              "#ed7953"
             ],
             [
              0.7777777777777778,
              "#fb9f3a"
             ],
             [
              0.8888888888888888,
              "#fdca26"
             ],
             [
              1,
              "#f0f921"
             ]
            ],
            "type": "heatmapgl"
           }
          ],
          "histogram": [
           {
            "marker": {
             "colorbar": {
              "outlinewidth": 0,
              "ticks": ""
             }
            },
            "type": "histogram"
           }
          ],
          "histogram2d": [
           {
            "colorbar": {
             "outlinewidth": 0,
             "ticks": ""
            },
            "colorscale": [
             [
              0,
              "#0d0887"
             ],
             [
              0.1111111111111111,
              "#46039f"
             ],
             [
              0.2222222222222222,
              "#7201a8"
             ],
             [
              0.3333333333333333,
              "#9c179e"
             ],
             [
              0.4444444444444444,
              "#bd3786"
             ],
             [
              0.5555555555555556,
              "#d8576b"
             ],
             [
              0.6666666666666666,
              "#ed7953"
             ],
             [
              0.7777777777777778,
              "#fb9f3a"
             ],
             [
              0.8888888888888888,
              "#fdca26"
             ],
             [
              1,
              "#f0f921"
             ]
            ],
            "type": "histogram2d"
           }
          ],
          "histogram2dcontour": [
           {
            "colorbar": {
             "outlinewidth": 0,
             "ticks": ""
            },
            "colorscale": [
             [
              0,
              "#0d0887"
             ],
             [
              0.1111111111111111,
              "#46039f"
             ],
             [
              0.2222222222222222,
              "#7201a8"
             ],
             [
              0.3333333333333333,
              "#9c179e"
             ],
             [
              0.4444444444444444,
              "#bd3786"
             ],
             [
              0.5555555555555556,
              "#d8576b"
             ],
             [
              0.6666666666666666,
              "#ed7953"
             ],
             [
              0.7777777777777778,
              "#fb9f3a"
             ],
             [
              0.8888888888888888,
              "#fdca26"
             ],
             [
              1,
              "#f0f921"
             ]
            ],
            "type": "histogram2dcontour"
           }
          ],
          "mesh3d": [
           {
            "colorbar": {
             "outlinewidth": 0,
             "ticks": ""
            },
            "type": "mesh3d"
           }
          ],
          "parcoords": [
           {
            "line": {
             "colorbar": {
              "outlinewidth": 0,
              "ticks": ""
             }
            },
            "type": "parcoords"
           }
          ],
          "pie": [
           {
            "automargin": true,
            "type": "pie"
           }
          ],
          "scatter": [
           {
            "marker": {
             "colorbar": {
              "outlinewidth": 0,
              "ticks": ""
             }
            },
            "type": "scatter"
           }
          ],
          "scatter3d": [
           {
            "line": {
             "colorbar": {
              "outlinewidth": 0,
              "ticks": ""
             }
            },
            "marker": {
             "colorbar": {
              "outlinewidth": 0,
              "ticks": ""
             }
            },
            "type": "scatter3d"
           }
          ],
          "scattercarpet": [
           {
            "marker": {
             "colorbar": {
              "outlinewidth": 0,
              "ticks": ""
             }
            },
            "type": "scattercarpet"
           }
          ],
          "scattergeo": [
           {
            "marker": {
             "colorbar": {
              "outlinewidth": 0,
              "ticks": ""
             }
            },
            "type": "scattergeo"
           }
          ],
          "scattergl": [
           {
            "marker": {
             "colorbar": {
              "outlinewidth": 0,
              "ticks": ""
             }
            },
            "type": "scattergl"
           }
          ],
          "scattermapbox": [
           {
            "marker": {
             "colorbar": {
              "outlinewidth": 0,
              "ticks": ""
             }
            },
            "type": "scattermapbox"
           }
          ],
          "scatterpolar": [
           {
            "marker": {
             "colorbar": {
              "outlinewidth": 0,
              "ticks": ""
             }
            },
            "type": "scatterpolar"
           }
          ],
          "scatterpolargl": [
           {
            "marker": {
             "colorbar": {
              "outlinewidth": 0,
              "ticks": ""
             }
            },
            "type": "scatterpolargl"
           }
          ],
          "scatterternary": [
           {
            "marker": {
             "colorbar": {
              "outlinewidth": 0,
              "ticks": ""
             }
            },
            "type": "scatterternary"
           }
          ],
          "surface": [
           {
            "colorbar": {
             "outlinewidth": 0,
             "ticks": ""
            },
            "colorscale": [
             [
              0,
              "#0d0887"
             ],
             [
              0.1111111111111111,
              "#46039f"
             ],
             [
              0.2222222222222222,
              "#7201a8"
             ],
             [
              0.3333333333333333,
              "#9c179e"
             ],
             [
              0.4444444444444444,
              "#bd3786"
             ],
             [
              0.5555555555555556,
              "#d8576b"
             ],
             [
              0.6666666666666666,
              "#ed7953"
             ],
             [
              0.7777777777777778,
              "#fb9f3a"
             ],
             [
              0.8888888888888888,
              "#fdca26"
             ],
             [
              1,
              "#f0f921"
             ]
            ],
            "type": "surface"
           }
          ],
          "table": [
           {
            "cells": {
             "fill": {
              "color": "#EBF0F8"
             },
             "line": {
              "color": "white"
             }
            },
            "header": {
             "fill": {
              "color": "#C8D4E3"
             },
             "line": {
              "color": "white"
             }
            },
            "type": "table"
           }
          ]
         },
         "layout": {
          "annotationdefaults": {
           "arrowcolor": "#2a3f5f",
           "arrowhead": 0,
           "arrowwidth": 1
          },
          "coloraxis": {
           "colorbar": {
            "outlinewidth": 0,
            "ticks": ""
           }
          },
          "colorscale": {
           "diverging": [
            [
             0,
             "#8e0152"
            ],
            [
             0.1,
             "#c51b7d"
            ],
            [
             0.2,
             "#de77ae"
            ],
            [
             0.3,
             "#f1b6da"
            ],
            [
             0.4,
             "#fde0ef"
            ],
            [
             0.5,
             "#f7f7f7"
            ],
            [
             0.6,
             "#e6f5d0"
            ],
            [
             0.7,
             "#b8e186"
            ],
            [
             0.8,
             "#7fbc41"
            ],
            [
             0.9,
             "#4d9221"
            ],
            [
             1,
             "#276419"
            ]
           ],
           "sequential": [
            [
             0,
             "#0d0887"
            ],
            [
             0.1111111111111111,
             "#46039f"
            ],
            [
             0.2222222222222222,
             "#7201a8"
            ],
            [
             0.3333333333333333,
             "#9c179e"
            ],
            [
             0.4444444444444444,
             "#bd3786"
            ],
            [
             0.5555555555555556,
             "#d8576b"
            ],
            [
             0.6666666666666666,
             "#ed7953"
            ],
            [
             0.7777777777777778,
             "#fb9f3a"
            ],
            [
             0.8888888888888888,
             "#fdca26"
            ],
            [
             1,
             "#f0f921"
            ]
           ],
           "sequentialminus": [
            [
             0,
             "#0d0887"
            ],
            [
             0.1111111111111111,
             "#46039f"
            ],
            [
             0.2222222222222222,
             "#7201a8"
            ],
            [
             0.3333333333333333,
             "#9c179e"
            ],
            [
             0.4444444444444444,
             "#bd3786"
            ],
            [
             0.5555555555555556,
             "#d8576b"
            ],
            [
             0.6666666666666666,
             "#ed7953"
            ],
            [
             0.7777777777777778,
             "#fb9f3a"
            ],
            [
             0.8888888888888888,
             "#fdca26"
            ],
            [
             1,
             "#f0f921"
            ]
           ]
          },
          "colorway": [
           "#636efa",
           "#EF553B",
           "#00cc96",
           "#ab63fa",
           "#FFA15A",
           "#19d3f3",
           "#FF6692",
           "#B6E880",
           "#FF97FF",
           "#FECB52"
          ],
          "font": {
           "color": "#2a3f5f"
          },
          "geo": {
           "bgcolor": "white",
           "lakecolor": "white",
           "landcolor": "#E5ECF6",
           "showlakes": true,
           "showland": true,
           "subunitcolor": "white"
          },
          "hoverlabel": {
           "align": "left"
          },
          "hovermode": "closest",
          "mapbox": {
           "style": "light"
          },
          "paper_bgcolor": "white",
          "plot_bgcolor": "#E5ECF6",
          "polar": {
           "angularaxis": {
            "gridcolor": "white",
            "linecolor": "white",
            "ticks": ""
           },
           "bgcolor": "#E5ECF6",
           "radialaxis": {
            "gridcolor": "white",
            "linecolor": "white",
            "ticks": ""
           }
          },
          "scene": {
           "xaxis": {
            "backgroundcolor": "#E5ECF6",
            "gridcolor": "white",
            "gridwidth": 2,
            "linecolor": "white",
            "showbackground": true,
            "ticks": "",
            "zerolinecolor": "white"
           },
           "yaxis": {
            "backgroundcolor": "#E5ECF6",
            "gridcolor": "white",
            "gridwidth": 2,
            "linecolor": "white",
            "showbackground": true,
            "ticks": "",
            "zerolinecolor": "white"
           },
           "zaxis": {
            "backgroundcolor": "#E5ECF6",
            "gridcolor": "white",
            "gridwidth": 2,
            "linecolor": "white",
            "showbackground": true,
            "ticks": "",
            "zerolinecolor": "white"
           }
          },
          "shapedefaults": {
           "line": {
            "color": "#2a3f5f"
           }
          },
          "ternary": {
           "aaxis": {
            "gridcolor": "white",
            "linecolor": "white",
            "ticks": ""
           },
           "baxis": {
            "gridcolor": "white",
            "linecolor": "white",
            "ticks": ""
           },
           "bgcolor": "#E5ECF6",
           "caxis": {
            "gridcolor": "white",
            "linecolor": "white",
            "ticks": ""
           }
          },
          "title": {
           "x": 0.05
          },
          "xaxis": {
           "automargin": true,
           "gridcolor": "white",
           "linecolor": "white",
           "ticks": "",
           "title": {
            "standoff": 15
           },
           "zerolinecolor": "white",
           "zerolinewidth": 2
          },
          "yaxis": {
           "automargin": true,
           "gridcolor": "white",
           "linecolor": "white",
           "ticks": "",
           "title": {
            "standoff": 15
           },
           "zerolinecolor": "white",
           "zerolinewidth": 2
          }
         }
        },
        "title": {
         "text": "Top 15 Countries with Active Cases: status 04-01-2020"
        },
        "treemapcolorway": [
         "rgb(95, 70, 144)",
         "rgb(29, 105, 150)",
         "rgb(56, 166, 165)",
         "rgb(15, 133, 84)",
         "rgb(115, 175, 72)",
         "rgb(237, 173, 8)",
         "rgb(225, 124, 5)",
         "rgb(204, 80, 62)",
         "rgb(148, 52, 110)",
         "rgb(111, 64, 112)",
         "rgb(102, 102, 102)"
        ]
       }
      },
      "text/html": [
       "<div>\n",
       "        \n",
       "        \n",
       "            <div id=\"56322f5d-9895-4a9f-bfaa-f080049d4469\" class=\"plotly-graph-div\" style=\"height:525px; width:100%;\"></div>\n",
       "            <script type=\"text/javascript\">\n",
       "                require([\"plotly\"], function(Plotly) {\n",
       "                    window.PLOTLYENV=window.PLOTLYENV || {};\n",
       "                    \n",
       "                if (document.getElementById(\"56322f5d-9895-4a9f-bfaa-f080049d4469\")) {\n",
       "                    Plotly.newPlot(\n",
       "                        '56322f5d-9895-4a9f-bfaa-f080049d4469',\n",
       "                        [{\"branchvalues\": \"total\", \"customdata\": [[10711.0, 9129.0, 1436.0, 146.0, 1.36], [13964.0, 11004.0, 2132.0, 828.0, 5.93], [6836.0, 6469.0, 127.0, 240.0, 3.51], [9560.0, 8127.0, 1324.0, 109.0, 1.14], [57749.0, 42653.0, 11053.0, 4043.0, 7.0], [77872.0, 58252.0, 18700.0, 920.0, 1.18], [47593.0, 29084.0, 15473.0, 3036.0, 6.38], [110574.0, 80572.0, 16847.0, 13155.0, 11.9], [13696.0, 12261.0, 260.0, 1175.0, 8.58], [8251.0, 8021.0, 43.0, 187.0, 2.27], [104118.0, 72084.0, 22647.0, 9387.0, 9.02], [17768.0, 14313.0, 2967.0, 488.0, 2.75], [15679.0, 15069.0, 333.0, 277.0, 1.77], [213372.0, 200141.0, 8474.0, 4757.0, 2.23], [29865.0, 27329.0, 179.0, 2357.0, 7.89]], \"domain\": {\"x\": [0.0, 1.0], \"y\": [0.0, 1.0]}, \"hoverlabel\": {\"namelength\": 0}, \"hovertemplate\": \"Confirmed=%{customdata[0]}<br>Active=%{value}<br>Recovered=%{customdata[2]}<br>Deaths=%{customdata[3]}<br>Death rate [%]=%{customdata[4]}<br>labels=%{label}<br>parent=%{parent}<br>id=%{id}\", \"ids\": [\"Austria\", \"Belgium\", \"Brazil\", \"Canada\", \"France\", \"Germany\", \"Iran\", \"Italy\", \"Netherlands\", \"Portugal\", \"Spain\", \"Switzerland\", \"Turkey\", \"US\", \"United Kingdom\"], \"labels\": [\"Austria\", \"Belgium\", \"Brazil\", \"Canada\", \"France\", \"Germany\", \"Iran\", \"Italy\", \"Netherlands\", \"Portugal\", \"Spain\", \"Switzerland\", \"Turkey\", \"US\", \"United Kingdom\"], \"name\": \"\", \"parents\": [\"\", \"\", \"\", \"\", \"\", \"\", \"\", \"\", \"\", \"\", \"\", \"\", \"\", \"\", \"\"], \"type\": \"treemap\", \"values\": [9129, 11004, 6469, 8127, 42653, 58252, 29084, 80572, 12261, 8021, 72084, 14313, 15069, 200141, 27329]}],\n",
       "                        {\"legend\": {\"tracegroupgap\": 0}, \"template\": {\"data\": {\"bar\": [{\"error_x\": {\"color\": \"#2a3f5f\"}, \"error_y\": {\"color\": \"#2a3f5f\"}, \"marker\": {\"line\": {\"color\": \"#E5ECF6\", \"width\": 0.5}}, \"type\": \"bar\"}], \"barpolar\": [{\"marker\": {\"line\": {\"color\": \"#E5ECF6\", \"width\": 0.5}}, \"type\": \"barpolar\"}], \"carpet\": [{\"aaxis\": {\"endlinecolor\": \"#2a3f5f\", \"gridcolor\": \"white\", \"linecolor\": \"white\", \"minorgridcolor\": \"white\", \"startlinecolor\": \"#2a3f5f\"}, \"baxis\": {\"endlinecolor\": \"#2a3f5f\", \"gridcolor\": \"white\", \"linecolor\": \"white\", \"minorgridcolor\": \"white\", \"startlinecolor\": \"#2a3f5f\"}, \"type\": \"carpet\"}], \"choropleth\": [{\"colorbar\": {\"outlinewidth\": 0, \"ticks\": \"\"}, \"type\": \"choropleth\"}], \"contour\": [{\"colorbar\": {\"outlinewidth\": 0, \"ticks\": \"\"}, \"colorscale\": [[0.0, \"#0d0887\"], [0.1111111111111111, \"#46039f\"], [0.2222222222222222, \"#7201a8\"], [0.3333333333333333, \"#9c179e\"], [0.4444444444444444, \"#bd3786\"], [0.5555555555555556, \"#d8576b\"], [0.6666666666666666, \"#ed7953\"], [0.7777777777777778, \"#fb9f3a\"], [0.8888888888888888, \"#fdca26\"], [1.0, \"#f0f921\"]], \"type\": \"contour\"}], \"contourcarpet\": [{\"colorbar\": {\"outlinewidth\": 0, \"ticks\": \"\"}, \"type\": \"contourcarpet\"}], \"heatmap\": [{\"colorbar\": {\"outlinewidth\": 0, \"ticks\": \"\"}, \"colorscale\": [[0.0, \"#0d0887\"], [0.1111111111111111, \"#46039f\"], [0.2222222222222222, \"#7201a8\"], [0.3333333333333333, \"#9c179e\"], [0.4444444444444444, \"#bd3786\"], [0.5555555555555556, \"#d8576b\"], [0.6666666666666666, \"#ed7953\"], [0.7777777777777778, \"#fb9f3a\"], [0.8888888888888888, \"#fdca26\"], [1.0, \"#f0f921\"]], \"type\": \"heatmap\"}], \"heatmapgl\": [{\"colorbar\": {\"outlinewidth\": 0, \"ticks\": \"\"}, \"colorscale\": [[0.0, \"#0d0887\"], [0.1111111111111111, \"#46039f\"], [0.2222222222222222, \"#7201a8\"], [0.3333333333333333, \"#9c179e\"], [0.4444444444444444, \"#bd3786\"], [0.5555555555555556, \"#d8576b\"], [0.6666666666666666, \"#ed7953\"], [0.7777777777777778, \"#fb9f3a\"], [0.8888888888888888, \"#fdca26\"], [1.0, \"#f0f921\"]], \"type\": \"heatmapgl\"}], \"histogram\": [{\"marker\": {\"colorbar\": {\"outlinewidth\": 0, \"ticks\": \"\"}}, \"type\": \"histogram\"}], \"histogram2d\": [{\"colorbar\": {\"outlinewidth\": 0, \"ticks\": \"\"}, \"colorscale\": [[0.0, \"#0d0887\"], [0.1111111111111111, \"#46039f\"], [0.2222222222222222, \"#7201a8\"], [0.3333333333333333, \"#9c179e\"], [0.4444444444444444, \"#bd3786\"], [0.5555555555555556, \"#d8576b\"], [0.6666666666666666, \"#ed7953\"], [0.7777777777777778, \"#fb9f3a\"], [0.8888888888888888, \"#fdca26\"], [1.0, \"#f0f921\"]], \"type\": \"histogram2d\"}], \"histogram2dcontour\": [{\"colorbar\": {\"outlinewidth\": 0, \"ticks\": \"\"}, \"colorscale\": [[0.0, \"#0d0887\"], [0.1111111111111111, \"#46039f\"], [0.2222222222222222, \"#7201a8\"], [0.3333333333333333, \"#9c179e\"], [0.4444444444444444, \"#bd3786\"], [0.5555555555555556, \"#d8576b\"], [0.6666666666666666, \"#ed7953\"], [0.7777777777777778, \"#fb9f3a\"], [0.8888888888888888, \"#fdca26\"], [1.0, \"#f0f921\"]], \"type\": \"histogram2dcontour\"}], \"mesh3d\": [{\"colorbar\": {\"outlinewidth\": 0, \"ticks\": \"\"}, \"type\": \"mesh3d\"}], \"parcoords\": [{\"line\": {\"colorbar\": {\"outlinewidth\": 0, \"ticks\": \"\"}}, \"type\": \"parcoords\"}], \"pie\": [{\"automargin\": true, \"type\": \"pie\"}], \"scatter\": [{\"marker\": {\"colorbar\": {\"outlinewidth\": 0, \"ticks\": \"\"}}, \"type\": \"scatter\"}], \"scatter3d\": [{\"line\": {\"colorbar\": {\"outlinewidth\": 0, \"ticks\": \"\"}}, \"marker\": {\"colorbar\": {\"outlinewidth\": 0, \"ticks\": \"\"}}, \"type\": \"scatter3d\"}], \"scattercarpet\": [{\"marker\": {\"colorbar\": {\"outlinewidth\": 0, \"ticks\": \"\"}}, \"type\": \"scattercarpet\"}], \"scattergeo\": [{\"marker\": {\"colorbar\": {\"outlinewidth\": 0, \"ticks\": \"\"}}, \"type\": \"scattergeo\"}], \"scattergl\": [{\"marker\": {\"colorbar\": {\"outlinewidth\": 0, \"ticks\": \"\"}}, \"type\": \"scattergl\"}], \"scattermapbox\": [{\"marker\": {\"colorbar\": {\"outlinewidth\": 0, \"ticks\": \"\"}}, \"type\": \"scattermapbox\"}], \"scatterpolar\": [{\"marker\": {\"colorbar\": {\"outlinewidth\": 0, \"ticks\": \"\"}}, \"type\": \"scatterpolar\"}], \"scatterpolargl\": [{\"marker\": {\"colorbar\": {\"outlinewidth\": 0, \"ticks\": \"\"}}, \"type\": \"scatterpolargl\"}], \"scatterternary\": [{\"marker\": {\"colorbar\": {\"outlinewidth\": 0, \"ticks\": \"\"}}, \"type\": \"scatterternary\"}], \"surface\": [{\"colorbar\": {\"outlinewidth\": 0, \"ticks\": \"\"}, \"colorscale\": [[0.0, \"#0d0887\"], [0.1111111111111111, \"#46039f\"], [0.2222222222222222, \"#7201a8\"], [0.3333333333333333, \"#9c179e\"], [0.4444444444444444, \"#bd3786\"], [0.5555555555555556, \"#d8576b\"], [0.6666666666666666, \"#ed7953\"], [0.7777777777777778, \"#fb9f3a\"], [0.8888888888888888, \"#fdca26\"], [1.0, \"#f0f921\"]], \"type\": \"surface\"}], \"table\": [{\"cells\": {\"fill\": {\"color\": \"#EBF0F8\"}, \"line\": {\"color\": \"white\"}}, \"header\": {\"fill\": {\"color\": \"#C8D4E3\"}, \"line\": {\"color\": \"white\"}}, \"type\": \"table\"}]}, \"layout\": {\"annotationdefaults\": {\"arrowcolor\": \"#2a3f5f\", \"arrowhead\": 0, \"arrowwidth\": 1}, \"coloraxis\": {\"colorbar\": {\"outlinewidth\": 0, \"ticks\": \"\"}}, \"colorscale\": {\"diverging\": [[0, \"#8e0152\"], [0.1, \"#c51b7d\"], [0.2, \"#de77ae\"], [0.3, \"#f1b6da\"], [0.4, \"#fde0ef\"], [0.5, \"#f7f7f7\"], [0.6, \"#e6f5d0\"], [0.7, \"#b8e186\"], [0.8, \"#7fbc41\"], [0.9, \"#4d9221\"], [1, \"#276419\"]], \"sequential\": [[0.0, \"#0d0887\"], [0.1111111111111111, \"#46039f\"], [0.2222222222222222, \"#7201a8\"], [0.3333333333333333, \"#9c179e\"], [0.4444444444444444, \"#bd3786\"], [0.5555555555555556, \"#d8576b\"], [0.6666666666666666, \"#ed7953\"], [0.7777777777777778, \"#fb9f3a\"], [0.8888888888888888, \"#fdca26\"], [1.0, \"#f0f921\"]], \"sequentialminus\": [[0.0, \"#0d0887\"], [0.1111111111111111, \"#46039f\"], [0.2222222222222222, \"#7201a8\"], [0.3333333333333333, \"#9c179e\"], [0.4444444444444444, \"#bd3786\"], [0.5555555555555556, \"#d8576b\"], [0.6666666666666666, \"#ed7953\"], [0.7777777777777778, \"#fb9f3a\"], [0.8888888888888888, \"#fdca26\"], [1.0, \"#f0f921\"]]}, \"colorway\": [\"#636efa\", \"#EF553B\", \"#00cc96\", \"#ab63fa\", \"#FFA15A\", \"#19d3f3\", \"#FF6692\", \"#B6E880\", \"#FF97FF\", \"#FECB52\"], \"font\": {\"color\": \"#2a3f5f\"}, \"geo\": {\"bgcolor\": \"white\", \"lakecolor\": \"white\", \"landcolor\": \"#E5ECF6\", \"showlakes\": true, \"showland\": true, \"subunitcolor\": \"white\"}, \"hoverlabel\": {\"align\": \"left\"}, \"hovermode\": \"closest\", \"mapbox\": {\"style\": \"light\"}, \"paper_bgcolor\": \"white\", \"plot_bgcolor\": \"#E5ECF6\", \"polar\": {\"angularaxis\": {\"gridcolor\": \"white\", \"linecolor\": \"white\", \"ticks\": \"\"}, \"bgcolor\": \"#E5ECF6\", \"radialaxis\": {\"gridcolor\": \"white\", \"linecolor\": \"white\", \"ticks\": \"\"}}, \"scene\": {\"xaxis\": {\"backgroundcolor\": \"#E5ECF6\", \"gridcolor\": \"white\", \"gridwidth\": 2, \"linecolor\": \"white\", \"showbackground\": true, \"ticks\": \"\", \"zerolinecolor\": \"white\"}, \"yaxis\": {\"backgroundcolor\": \"#E5ECF6\", \"gridcolor\": \"white\", \"gridwidth\": 2, \"linecolor\": \"white\", \"showbackground\": true, \"ticks\": \"\", \"zerolinecolor\": \"white\"}, \"zaxis\": {\"backgroundcolor\": \"#E5ECF6\", \"gridcolor\": \"white\", \"gridwidth\": 2, \"linecolor\": \"white\", \"showbackground\": true, \"ticks\": \"\", \"zerolinecolor\": \"white\"}}, \"shapedefaults\": {\"line\": {\"color\": \"#2a3f5f\"}}, \"ternary\": {\"aaxis\": {\"gridcolor\": \"white\", \"linecolor\": \"white\", \"ticks\": \"\"}, \"baxis\": {\"gridcolor\": \"white\", \"linecolor\": \"white\", \"ticks\": \"\"}, \"bgcolor\": \"#E5ECF6\", \"caxis\": {\"gridcolor\": \"white\", \"linecolor\": \"white\", \"ticks\": \"\"}}, \"title\": {\"x\": 0.05}, \"xaxis\": {\"automargin\": true, \"gridcolor\": \"white\", \"linecolor\": \"white\", \"ticks\": \"\", \"title\": {\"standoff\": 15}, \"zerolinecolor\": \"white\", \"zerolinewidth\": 2}, \"yaxis\": {\"automargin\": true, \"gridcolor\": \"white\", \"linecolor\": \"white\", \"ticks\": \"\", \"title\": {\"standoff\": 15}, \"zerolinecolor\": \"white\", \"zerolinewidth\": 2}}}, \"title\": {\"text\": \"Top 15 Countries with Active Cases: status 04-01-2020\"}, \"treemapcolorway\": [\"rgb(95, 70, 144)\", \"rgb(29, 105, 150)\", \"rgb(56, 166, 165)\", \"rgb(15, 133, 84)\", \"rgb(115, 175, 72)\", \"rgb(237, 173, 8)\", \"rgb(225, 124, 5)\", \"rgb(204, 80, 62)\", \"rgb(148, 52, 110)\", \"rgb(111, 64, 112)\", \"rgb(102, 102, 102)\"]},\n",
       "                        {\"responsive\": true}\n",
       "                    ).then(function(){\n",
       "                            \n",
       "var gd = document.getElementById('56322f5d-9895-4a9f-bfaa-f080049d4469');\n",
       "var x = new MutationObserver(function (mutations, observer) {{\n",
       "        var display = window.getComputedStyle(gd).display;\n",
       "        if (!display || display === 'none') {{\n",
       "            console.log([gd, 'removed!']);\n",
       "            Plotly.purge(gd);\n",
       "            observer.disconnect();\n",
       "        }}\n",
       "}});\n",
       "\n",
       "// Listen for the removal of the full notebook cells\n",
       "var notebookContainer = gd.closest('#notebook-container');\n",
       "if (notebookContainer) {{\n",
       "    x.observe(notebookContainer, {childList: true});\n",
       "}}\n",
       "\n",
       "// Listen for the clearing of the current output cell\n",
       "var outputEl = gd.closest('.output');\n",
       "if (outputEl) {{\n",
       "    x.observe(outputEl, {childList: true});\n",
       "}}\n",
       "\n",
       "                        })\n",
       "                };\n",
       "                });\n",
       "            </script>\n",
       "        </div>"
      ]
     },
     "metadata": {},
     "output_type": "display_data"
    }
   ],
   "source": [
    "fig = px.treemap(top_fifteen,\n",
    "                 path=['Country/Region'],\n",
    "                 values=top_fifteen['Active'],\n",
    "                 title='Top 15 Countries with Active Cases: status {}'.format(yesterday),\n",
    "                 hover_data=['Confirmed', 'Active', 'Recovered','Deaths','Death rate [%]'],\n",
    "                 color_discrete_sequence=px.colors.qualitative.Prism)\n",
    "fig.show()"
   ]
  },
  {
   "cell_type": "markdown",
   "metadata": {},
   "source": [
    "Summary data per country is shown if you point on each country's block."
   ]
  },
  {
   "cell_type": "markdown",
   "metadata": {},
   "source": [
    "## Time trends for top four countries by number cases"
   ]
  },
  {
   "cell_type": "code",
   "execution_count": 86,
   "metadata": {},
   "outputs": [],
   "source": [
    "top_four = top_fifteen[\"Country/Region\"][0:4]\n",
    "#top_four"
   ]
  },
  {
   "cell_type": "markdown",
   "metadata": {},
   "source": [
    "We check the length of the datasets for worldwide confimed, recovered and fatalities and group them by country to avoid several entries per country. "
   ]
  },
  {
   "cell_type": "code",
   "execution_count": 87,
   "metadata": {},
   "outputs": [],
   "source": [
    "#top_fifteen.head()"
   ]
  },
  {
   "cell_type": "code",
   "execution_count": 88,
   "metadata": {},
   "outputs": [
    {
     "name": "stdout",
     "output_type": "stream",
     "text": [
      "Length of worldwide confirmed cases table: 256\n",
      "Length of worldwide fatalities table: 256\n",
      "Length of worldwide recovered table: 242\n"
     ]
    }
   ],
   "source": [
    "print(\"Length of worldwide confirmed cases table: {}\".format(len(da_confirmed_w)))\n",
    "print(\"Length of worldwide fatalities table: {}\".format(len(da_fatalities_w)))\n",
    "print(\"Length of worldwide recovered table: {}\".format(len(da_recovered_w)))"
   ]
  },
  {
   "cell_type": "code",
   "execution_count": 89,
   "metadata": {},
   "outputs": [
    {
     "name": "stdout",
     "output_type": "stream",
     "text": [
      "Length of unique country values for worldwide confirmed cases: 180\n",
      "Length of unique country values for worldwide fatalities: 180\n",
      "Length of unique country values for worldwide recovered: 180\n"
     ]
    }
   ],
   "source": [
    "da_conf_grouped = da_confirmed_w.groupby(\"Country/Region\")\n",
    "da_fat_grouped = da_fatalities_w.groupby(\"Country/Region\")\n",
    "da_rec_grouped = da_recovered_w.groupby(\"Country/Region\")\n",
    "print(\"Length of unique country values for worldwide confirmed cases: {}\".format(len(da_conf_grouped)))\n",
    "print(\"Length of unique country values for worldwide fatalities: {}\".format(len(da_fat_grouped)))\n",
    "print(\"Length of unique country values for worldwide recovered: {}\".format(len(da_rec_grouped)))"
   ]
  },
  {
   "cell_type": "code",
   "execution_count": 90,
   "metadata": {},
   "outputs": [],
   "source": [
    "def top_four_filter(da, top_four, status):\n",
    "    da_filter = pd.DataFrame([da.get_group(x).drop(\n",
    "                            [\"Province/State\", \"Lat\", \"Long\"], axis=1).sum() for x in top_four])\n",
    "    \n",
    "    for x in range(len(da_filter)):\n",
    "        if \"China\" in da_filter.iloc[x,0]:\n",
    "            da_filter.iloc[x,0]=\"China\"\n",
    "        if \"US\" in da_filter.iloc[x,0]:\n",
    "            da_filter.iloc[x,0]=\"US\"\n",
    "            \n",
    "    da_filter[\"Country/Region\"]=da_filter[\"Country/Region\"] + \" \" +status\n",
    "    return da_filter"
   ]
  },
  {
   "cell_type": "markdown",
   "metadata": {},
   "source": [
    "China and South Korea are added to the list for comparison reasons as they have been the two first countries to slow down and decrease the number of active cases after an outbreak."
   ]
  },
  {
   "cell_type": "code",
   "execution_count": 91,
   "metadata": {},
   "outputs": [],
   "source": [
    "comparison_countries = pd.Series([\"China\",\"South Korea\"])\n",
    "top_four =top_four.append(comparison_countries, ignore_index=True)\n",
    "#top_four"
   ]
  },
  {
   "cell_type": "code",
   "execution_count": 92,
   "metadata": {},
   "outputs": [],
   "source": [
    "comparison_countries = pd.Series([\"China\",\"South Korea\"])\n",
    "top_four.append(comparison_countries)\n",
    "top_four_all = top_four_filter(da_conf_grouped, top_four, \"confirmed\").append(\n",
    "               top_four_filter(da_fat_grouped, top_four, \"fatalities\").append(\n",
    "              top_four_filter(da_rec_grouped, top_four, \"recovered\")))"
   ]
  },
  {
   "cell_type": "code",
   "execution_count": 93,
   "metadata": {},
   "outputs": [],
   "source": [
    "top_four_all = top_four_all.T\n",
    "top_four_all.columns = top_four_all.iloc[0]\n",
    "top_four_all = top_four_all.drop(top_four_all.index[0])\n",
    "top_four_all = top_four_all.reset_index()\n",
    "top_four_all = top_four_all.rename(columns={\"index\":\"Date\"})"
   ]
  },
  {
   "cell_type": "code",
   "execution_count": 94,
   "metadata": {},
   "outputs": [],
   "source": [
    "#top_four_all.tail(5)"
   ]
  },
  {
   "cell_type": "code",
   "execution_count": 95,
   "metadata": {},
   "outputs": [],
   "source": [
    "for x in top_four:\n",
    "    top_four_all[x + \" active\"] = top_four_all[x+\" confirmed\"] - top_four_all[\n",
    "        x+\" recovered\"] - top_four_all[x+\" fatalities\"]\n",
    "#top_four_all.tail()"
   ]
  },
  {
   "cell_type": "code",
   "execution_count": 96,
   "metadata": {
    "scrolled": false
   },
   "outputs": [
    {
     "data": {
      "image/png": "[encoded data removed]",
      "text/plain": [
       "<Figure size 1152x720 with 4 Axes>"
      ]
     },
     "metadata": {
      "needs_background": "light"
     },
     "output_type": "display_data"
    }
   ],
   "source": [
    "fig, ax = plt.subplots(2, 2, figsize=(16,10), sharey = True)\n",
    "\n",
    "def plot_top4(da,num,xcol, ycol, title):\n",
    "    ax[num].plot(da[xcol],da[ycol], lw=3)\n",
    "    ax[num].set_title(title)\n",
    "    ax[num].xaxis.set_major_locator(plt.MaxNLocator(10))\n",
    "    ax[num].grid(True)\n",
    "    \n",
    "plot_top4(top_four_all, (0,0), \"Date\", top_four[0] + ' active', 'Active cases in {}'.format(top_four[0]))\n",
    "plot_top4(top_four_all, (0,1), \"Date\", top_four[1] + ' active', 'Active cases in {}'.format(top_four[1]))\n",
    "plot_top4(top_four_all, (1,0), \"Date\", top_four[2] + ' active', 'Active cases in {}'.format(top_four[2]))\n",
    "plot_top4(top_four_all, (1,1), \"Date\", top_four[3] + ' active', 'Active cases in {}'.format(top_four[3]))\n",
    "fig.suptitle('Active cases over time in the top four countries by numbers', fontsize=16)\n",
    "\n",
    "plt.show()"
   ]
  },
  {
   "cell_type": "markdown",
   "metadata": {},
   "source": [
    "As of 27.03, US has surpassed Italy in number of active cases and China in number of total positives. \n",
    "<br>US curve of active cases has grown dramatically in the last two weeks. \n",
    "<br>Italy started a strong growth of cases around the carnival festivities in the third week of February whereas Germany's and Spain's curves of active cases started to go up at a fast pace around two weeks after.\n",
    "<br> As of 31.03, the growth of the active cases curves for Italy and Germany is showing signs of slowing down.\n",
    "<br>Question: Why did the curve in US take momentum in such a short timeframe in comparison to Italy, Germany and Spain? Might it be related to the lack of early contigency measures and lack of initial testing? \n",
    "<br>As in many of the countries with most active cases, the most dense and international cities are the ones worst hit by the outbreak. In US, the biggest hub of cases is located in NYC. "
   ]
  },
  {
   "cell_type": "markdown",
   "metadata": {},
   "source": [
    "We compare the curves above with the one from China, the country with the most reported cases so far but with a declining number of new positive cases. \n",
    "<br> We added also the graph from South Korea where the active cases are starting to drop since mif March.\n",
    "<br> In both countries the peak of active cases shows in the graphs around a month since the curve started to increase at a fast pace. \n",
    "<br>Both countries took strict measures to content the spread of the virus including lockdowns of hotspots, social distancing, self-isolation and closing of public places and schools. In addition, in South Korea, a massive testing campaign was done to identify and traces cases in the earlier stages and limit the spread. "
   ]
  },
  {
   "cell_type": "code",
   "execution_count": 98,
   "metadata": {},
   "outputs": [
    {
     "data": {
      "image/png": "[encoded data removed]",
      "text/plain": [
       "<Figure size 1152x360 with 2 Axes>"
      ]
     },
     "metadata": {
      "needs_background": "light"
     },
     "output_type": "display_data"
    }
   ],
   "source": [
    "fig, ax = plt.subplots(1, 2, figsize = (16,5))\n",
    "plot_top4(top_four_all, 0, \"Date\", 'China active', 'Active cases in China')\n",
    "plot_top4(top_four_all, 1, \"Date\", 'South Korea active', 'Active cases in South Korea')\n",
    "fig.suptitle('Active cases over time in China and South Korea', fontsize = 16)\n",
    "\n",
    "plt.show()"
   ]
  }
 ],
 "metadata": {
  "hide_input": false,
  "kernelspec": {
   "display_name": "Python 3",
   "language": "python",
   "name": "python3"
  },
  "language_info": {
   "codemirror_mode": {
    "name": "ipython",
    "version": 3
   },
   "file_extension": ".py",
   "mimetype": "text/x-python",
   "name": "python",
   "nbconvert_exporter": "python",
   "pygments_lexer": "ipython3",
   "version": "3.8.2"
  }
 },
 "nbformat": 4,
 "nbformat_minor": 4
}
