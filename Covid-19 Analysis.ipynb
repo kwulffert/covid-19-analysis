{
 "cells": [
  {
   "cell_type": "code",
   "execution_count": 321,
   "metadata": {},
   "outputs": [],
   "source": [
    "import pandas as pd\n",
    "import matplotlib.pyplot as plt\n",
    "import matplotlib.dates as mdate\n",
    "%matplotlib inline\n",
    "import seaborn as sns\n",
    "import plotly.express as px\n",
    "from plotly.subplots import make_subplots\n",
    "import plotly.graph_objects as go\n",
    "import chart_studio.plotly as py\n",
    "import numpy as np\n",
    "import datetime as datetime\n",
    "from datetime import date, timedelta\n",
    "import requests\n",
    "import io\n",
    "import folium\n",
    "from folium import Circle\n",
    "import warnings"
   ]
  },
  {
   "cell_type": "markdown",
   "metadata": {},
   "source": [
    "We define a function to get the raw data from the corresponding url and retruning it as a dataframe.\n",
    "<br>This function allows us to get the latest updates."
   ]
  },
  {
   "cell_type": "code",
   "execution_count": 322,
   "metadata": {},
   "outputs": [],
   "source": [
    "def get_raw_data(url):\n",
    "    req = requests.get(url).content\n",
    "    return pd.read_csv(io.StringIO(req.decode('utf-8')))"
   ]
  },
  {
   "cell_type": "markdown",
   "metadata": {},
   "source": [
    "# Worldwide Analysis"
   ]
  },
  {
   "cell_type": "markdown",
   "metadata": {},
   "source": [
    "## Data cleaning and first observations"
   ]
  },
  {
   "cell_type": "markdown",
   "metadata": {},
   "source": [
    "Import the latest reports from CSSE at Johns Hopkins University.\n",
    "The datasets we will use are:\n",
    "1. da_world: Worldwide data (time series).\n",
    "2. da_confirmed_w: Number of confirmed cases per country (time series).\n",
    "3. da_fatalities_w: Number of deaths per country (time series).\n",
    "4. da_recovered_w: Number of recovered cases per country (time series).\n",
    "\n",
    "<br> Date of the latest data to be gathered is \"yesterday\" to ensure the data is available as the files are updated daily at midnight.\n",
    "<br> We use the date variable \"yesterday\" to build the urls dynamically."
   ]
  },
  {
   "cell_type": "code",
   "execution_count": 323,
   "metadata": {},
   "outputs": [],
   "source": [
    "yesterday = date.today() - timedelta(days=1)\n",
    "yesterday = yesterday.strftime(\"%m-%d-%Y\") "
   ]
  },
  {
   "cell_type": "code",
   "execution_count": 324,
   "metadata": {},
   "outputs": [],
   "source": [
    "world_url = \"https://raw.githubusercontent.com/CSSEGISandData/COVID-19/master/csse_covid_19_data/csse_covid_19_daily_reports/{}.csv\".format(yesterday)\n",
    "confirmed_w_url = \"https://raw.githubusercontent.com/CSSEGISandData/COVID-19/master/csse_covid_19_data/csse_covid_19_time_series/time_series_covid19_confirmed_global.csv\"\n",
    "fatalities_w_url = \"https://raw.githubusercontent.com/CSSEGISandData/COVID-19/master/csse_covid_19_data/csse_covid_19_time_series/time_series_covid19_deaths_global.csv\"\n",
    "recovered_w_url = \"https://raw.githubusercontent.com/CSSEGISandData/COVID-19/master/csse_covid_19_data/csse_covid_19_time_series/time_series_covid19_recovered_global.csv\"\n",
    "da_world = get_raw_data(world_url)\n",
    "da_confirmed_w = get_raw_data(confirmed_w_url)\n",
    "da_fatalities_w = get_raw_data(fatalities_w_url)\n",
    "da_recovered_w = get_raw_data(recovered_w_url)"
   ]
  },
  {
   "cell_type": "markdown",
   "metadata": {},
   "source": [
    "First look at the overall data. "
   ]
  },
  {
   "cell_type": "code",
   "execution_count": 325,
   "metadata": {},
   "outputs": [
    {
     "data": {
      "text/html": [
       "<div>\n",
       "<style scoped>\n",
       "    .dataframe tbody tr th:only-of-type {\n",
       "        vertical-align: middle;\n",
       "    }\n",
       "\n",
       "    .dataframe tbody tr th {\n",
       "        vertical-align: top;\n",
       "    }\n",
       "\n",
       "    .dataframe thead th {\n",
       "        text-align: right;\n",
       "    }\n",
       "</style>\n",
       "<table border=\"1\" class=\"dataframe\">\n",
       "  <thead>\n",
       "    <tr style=\"text-align: right;\">\n",
       "      <th></th>\n",
       "      <th>FIPS</th>\n",
       "      <th>Admin2</th>\n",
       "      <th>Province_State</th>\n",
       "      <th>Country_Region</th>\n",
       "      <th>Last_Update</th>\n",
       "      <th>Lat</th>\n",
       "      <th>Long_</th>\n",
       "      <th>Confirmed</th>\n",
       "      <th>Deaths</th>\n",
       "      <th>Recovered</th>\n",
       "      <th>Active</th>\n",
       "      <th>Combined_Key</th>\n",
       "    </tr>\n",
       "  </thead>\n",
       "  <tbody>\n",
       "    <tr>\n",
       "      <th>0</th>\n",
       "      <td>45001.0</td>\n",
       "      <td>Abbeville</td>\n",
       "      <td>South Carolina</td>\n",
       "      <td>US</td>\n",
       "      <td>2020-03-26 23:48:35</td>\n",
       "      <td>34.223334</td>\n",
       "      <td>-82.461707</td>\n",
       "      <td>3</td>\n",
       "      <td>0</td>\n",
       "      <td>0</td>\n",
       "      <td>0</td>\n",
       "      <td>Abbeville, South Carolina, US</td>\n",
       "    </tr>\n",
       "    <tr>\n",
       "      <th>1</th>\n",
       "      <td>22001.0</td>\n",
       "      <td>Acadia</td>\n",
       "      <td>Louisiana</td>\n",
       "      <td>US</td>\n",
       "      <td>2020-03-26 23:48:35</td>\n",
       "      <td>30.295065</td>\n",
       "      <td>-92.414197</td>\n",
       "      <td>3</td>\n",
       "      <td>0</td>\n",
       "      <td>0</td>\n",
       "      <td>0</td>\n",
       "      <td>Acadia, Louisiana, US</td>\n",
       "    </tr>\n",
       "    <tr>\n",
       "      <th>2</th>\n",
       "      <td>51001.0</td>\n",
       "      <td>Accomack</td>\n",
       "      <td>Virginia</td>\n",
       "      <td>US</td>\n",
       "      <td>2020-03-26 23:48:35</td>\n",
       "      <td>37.767072</td>\n",
       "      <td>-75.632346</td>\n",
       "      <td>2</td>\n",
       "      <td>0</td>\n",
       "      <td>0</td>\n",
       "      <td>0</td>\n",
       "      <td>Accomack, Virginia, US</td>\n",
       "    </tr>\n",
       "    <tr>\n",
       "      <th>3</th>\n",
       "      <td>16001.0</td>\n",
       "      <td>Ada</td>\n",
       "      <td>Idaho</td>\n",
       "      <td>US</td>\n",
       "      <td>2020-03-26 23:48:35</td>\n",
       "      <td>43.452658</td>\n",
       "      <td>-116.241552</td>\n",
       "      <td>39</td>\n",
       "      <td>0</td>\n",
       "      <td>0</td>\n",
       "      <td>0</td>\n",
       "      <td>Ada, Idaho, US</td>\n",
       "    </tr>\n",
       "    <tr>\n",
       "      <th>4</th>\n",
       "      <td>19001.0</td>\n",
       "      <td>Adair</td>\n",
       "      <td>Iowa</td>\n",
       "      <td>US</td>\n",
       "      <td>2020-03-26 23:48:35</td>\n",
       "      <td>41.330756</td>\n",
       "      <td>-94.471059</td>\n",
       "      <td>1</td>\n",
       "      <td>0</td>\n",
       "      <td>0</td>\n",
       "      <td>0</td>\n",
       "      <td>Adair, Iowa, US</td>\n",
       "    </tr>\n",
       "  </tbody>\n",
       "</table>\n",
       "</div>"
      ],
      "text/plain": [
       "      FIPS     Admin2  Province_State Country_Region          Last_Update  \\\n",
       "0  45001.0  Abbeville  South Carolina             US  2020-03-26 23:48:35   \n",
       "1  22001.0     Acadia       Louisiana             US  2020-03-26 23:48:35   \n",
       "2  51001.0   Accomack        Virginia             US  2020-03-26 23:48:35   \n",
       "3  16001.0        Ada           Idaho             US  2020-03-26 23:48:35   \n",
       "4  19001.0      Adair            Iowa             US  2020-03-26 23:48:35   \n",
       "\n",
       "         Lat       Long_  Confirmed  Deaths  Recovered  Active  \\\n",
       "0  34.223334  -82.461707          3       0          0       0   \n",
       "1  30.295065  -92.414197          3       0          0       0   \n",
       "2  37.767072  -75.632346          2       0          0       0   \n",
       "3  43.452658 -116.241552         39       0          0       0   \n",
       "4  41.330756  -94.471059          1       0          0       0   \n",
       "\n",
       "                    Combined_Key  \n",
       "0  Abbeville, South Carolina, US  \n",
       "1          Acadia, Louisiana, US  \n",
       "2         Accomack, Virginia, US  \n",
       "3                 Ada, Idaho, US  \n",
       "4                Adair, Iowa, US  "
      ]
     },
     "execution_count": 325,
     "metadata": {},
     "output_type": "execute_result"
    }
   ],
   "source": [
    "da_world.head()"
   ]
  },
  {
   "cell_type": "markdown",
   "metadata": {},
   "source": [
    "We rename the columns to the values originally used in this notebook as the column names from the sources have been changing over time."
   ]
  },
  {
   "cell_type": "code",
   "execution_count": 326,
   "metadata": {},
   "outputs": [],
   "source": [
    "da_world = da_world.rename(columns={\"Country_Region\": \"Country/Region\", \"Lat\":\"Latitude\", \"Long_\":\"Longitude\"})"
   ]
  },
  {
   "cell_type": "markdown",
   "metadata": {},
   "source": [
    "We clean up the data and consolidate the names of countries with several variations or with a comma using the function format_country. \n",
    "<br>From the first look at the datasets, we found that South Korea is Korea,South in the original dataset and Congo has two different names. "
   ]
  },
  {
   "cell_type": "code",
   "execution_count": 327,
   "metadata": {},
   "outputs": [
    {
     "data": {
      "text/html": [
       "<div>\n",
       "<style scoped>\n",
       "    .dataframe tbody tr th:only-of-type {\n",
       "        vertical-align: middle;\n",
       "    }\n",
       "\n",
       "    .dataframe tbody tr th {\n",
       "        vertical-align: top;\n",
       "    }\n",
       "\n",
       "    .dataframe thead th {\n",
       "        text-align: right;\n",
       "    }\n",
       "</style>\n",
       "<table border=\"1\" class=\"dataframe\">\n",
       "  <thead>\n",
       "    <tr style=\"text-align: right;\">\n",
       "      <th></th>\n",
       "      <th>FIPS</th>\n",
       "      <th>Admin2</th>\n",
       "      <th>Province_State</th>\n",
       "      <th>Country/Region</th>\n",
       "      <th>Last_Update</th>\n",
       "      <th>Latitude</th>\n",
       "      <th>Longitude</th>\n",
       "      <th>Confirmed</th>\n",
       "      <th>Deaths</th>\n",
       "      <th>Recovered</th>\n",
       "      <th>Active</th>\n",
       "      <th>Combined_Key</th>\n",
       "    </tr>\n",
       "  </thead>\n",
       "  <tbody>\n",
       "    <tr>\n",
       "      <th>3334</th>\n",
       "      <td>NaN</td>\n",
       "      <td>NaN</td>\n",
       "      <td>NaN</td>\n",
       "      <td>Korea, South</td>\n",
       "      <td>2020-03-26 23:48:18</td>\n",
       "      <td>35.907757</td>\n",
       "      <td>127.766922</td>\n",
       "      <td>9241</td>\n",
       "      <td>131</td>\n",
       "      <td>4144</td>\n",
       "      <td>4966</td>\n",
       "      <td>Korea, South</td>\n",
       "    </tr>\n",
       "  </tbody>\n",
       "</table>\n",
       "</div>"
      ],
      "text/plain": [
       "      FIPS Admin2 Province_State Country/Region          Last_Update  \\\n",
       "3334   NaN    NaN            NaN   Korea, South  2020-03-26 23:48:18   \n",
       "\n",
       "       Latitude   Longitude  Confirmed  Deaths  Recovered  Active  \\\n",
       "3334  35.907757  127.766922       9241     131       4144    4966   \n",
       "\n",
       "      Combined_Key  \n",
       "3334  Korea, South  "
      ]
     },
     "execution_count": 327,
     "metadata": {},
     "output_type": "execute_result"
    }
   ],
   "source": [
    "da_world[da_world[\"Country/Region\"].str.contains(\"Korea\")]"
   ]
  },
  {
   "cell_type": "code",
   "execution_count": 328,
   "metadata": {},
   "outputs": [
    {
     "data": {
      "text/html": [
       "<div>\n",
       "<style scoped>\n",
       "    .dataframe tbody tr th:only-of-type {\n",
       "        vertical-align: middle;\n",
       "    }\n",
       "\n",
       "    .dataframe tbody tr th {\n",
       "        vertical-align: top;\n",
       "    }\n",
       "\n",
       "    .dataframe thead th {\n",
       "        text-align: right;\n",
       "    }\n",
       "</style>\n",
       "<table border=\"1\" class=\"dataframe\">\n",
       "  <thead>\n",
       "    <tr style=\"text-align: right;\">\n",
       "      <th></th>\n",
       "      <th>FIPS</th>\n",
       "      <th>Admin2</th>\n",
       "      <th>Province_State</th>\n",
       "      <th>Country/Region</th>\n",
       "      <th>Last_Update</th>\n",
       "      <th>Latitude</th>\n",
       "      <th>Longitude</th>\n",
       "      <th>Confirmed</th>\n",
       "      <th>Deaths</th>\n",
       "      <th>Recovered</th>\n",
       "      <th>Active</th>\n",
       "      <th>Combined_Key</th>\n",
       "    </tr>\n",
       "  </thead>\n",
       "  <tbody>\n",
       "    <tr>\n",
       "      <th>3282</th>\n",
       "      <td>NaN</td>\n",
       "      <td>NaN</td>\n",
       "      <td>NaN</td>\n",
       "      <td>Congo (Brazzaville)</td>\n",
       "      <td>2020-03-26 23:48:18</td>\n",
       "      <td>-4.263400</td>\n",
       "      <td>15.283200</td>\n",
       "      <td>4</td>\n",
       "      <td>0</td>\n",
       "      <td>0</td>\n",
       "      <td>4</td>\n",
       "      <td>Congo (Brazzaville)</td>\n",
       "    </tr>\n",
       "    <tr>\n",
       "      <th>3283</th>\n",
       "      <td>NaN</td>\n",
       "      <td>NaN</td>\n",
       "      <td>NaN</td>\n",
       "      <td>Congo (Kinshasa)</td>\n",
       "      <td>2020-03-26 23:48:18</td>\n",
       "      <td>-4.322447</td>\n",
       "      <td>15.307045</td>\n",
       "      <td>51</td>\n",
       "      <td>3</td>\n",
       "      <td>0</td>\n",
       "      <td>48</td>\n",
       "      <td>Congo (Kinshasa)</td>\n",
       "    </tr>\n",
       "  </tbody>\n",
       "</table>\n",
       "</div>"
      ],
      "text/plain": [
       "      FIPS Admin2 Province_State       Country/Region          Last_Update  \\\n",
       "3282   NaN    NaN            NaN  Congo (Brazzaville)  2020-03-26 23:48:18   \n",
       "3283   NaN    NaN            NaN     Congo (Kinshasa)  2020-03-26 23:48:18   \n",
       "\n",
       "      Latitude  Longitude  Confirmed  Deaths  Recovered  Active  \\\n",
       "3282 -4.263400  15.283200          4       0          0       4   \n",
       "3283 -4.322447  15.307045         51       3          0      48   \n",
       "\n",
       "             Combined_Key  \n",
       "3282  Congo (Brazzaville)  \n",
       "3283     Congo (Kinshasa)  "
      ]
     },
     "execution_count": 328,
     "metadata": {},
     "output_type": "execute_result"
    }
   ],
   "source": [
    "da_world[da_world[\"Country/Region\"].str.contains(\"Congo\")]"
   ]
  },
  {
   "cell_type": "code",
   "execution_count": 329,
   "metadata": {},
   "outputs": [],
   "source": [
    "def format_country(da, original, new):\n",
    "    list_change = da[da[\"Country/Region\"].str.contains(original)].index\n",
    "    for x in list_change:\n",
    "        da.loc[x,\"Country/Region\"] = new\n",
    "        if \"Combined_Key\" in da:\n",
    "            da.loc[x,\"Combined_Key\"] = new\n",
    "    return da"
   ]
  },
  {
   "cell_type": "code",
   "execution_count": 330,
   "metadata": {},
   "outputs": [
    {
     "name": "stdout",
     "output_type": "stream",
     "text": [
      "3334    South Korea\n",
      "Name: Country/Region, dtype: object\n",
      "143    South Korea\n",
      "Name: Country/Region, dtype: object\n",
      "143    South Korea\n",
      "Name: Country/Region, dtype: object\n",
      "137    South Korea\n",
      "Name: Country/Region, dtype: object\n",
      "3282    Republic of the Congo\n",
      "3283    Republic of the Congo\n",
      "Name: Country/Region, dtype: object\n",
      "83    Republic of the Congo\n",
      "84    Republic of the Congo\n",
      "Name: Country/Region, dtype: object\n",
      "83    Republic of the Congo\n",
      "84    Republic of the Congo\n",
      "Name: Country/Region, dtype: object\n",
      "74    Republic of the Congo\n",
      "75    Republic of the Congo\n",
      "Name: Country/Region, dtype: object\n"
     ]
    }
   ],
   "source": [
    "datasets = [da_world, da_confirmed_w, da_fatalities_w, da_recovered_w]\n",
    "countries_to_format = [\"Korea\",\"Congo\"]\n",
    "formatted_countries = [\"South Korea\", \"Republic of the Congo\"]\n",
    "for c in range(len(countries_to_format)):\n",
    "    for x in range(len(datasets)):\n",
    "        format_country(datasets[x],countries_to_format[c],formatted_countries[c])\n",
    "        print(datasets[x][datasets[x][\"Country/Region\"].str.contains(countries_to_format[c])][\"Country/Region\"])"
   ]
  },
  {
   "cell_type": "markdown",
   "metadata": {},
   "source": [
    "We add a column for the active positive cases. \n",
    "<br>Our main interest is to see how the numbers of active cases are changing. \n",
    "<br> Note: This column wasn't available in the original dataset when this notebook started to take shape.\n",
    "\n"
   ]
  },
  {
   "cell_type": "code",
   "execution_count": 331,
   "metadata": {},
   "outputs": [],
   "source": [
    "da_world[\"Active\"] = da_world[\"Confirmed\"] - da_world[\"Recovered\"] - da_world[\"Deaths\"]"
   ]
  },
  {
   "cell_type": "code",
   "execution_count": 332,
   "metadata": {},
   "outputs": [
    {
     "data": {
      "text/html": [
       "<div>\n",
       "<style scoped>\n",
       "    .dataframe tbody tr th:only-of-type {\n",
       "        vertical-align: middle;\n",
       "    }\n",
       "\n",
       "    .dataframe tbody tr th {\n",
       "        vertical-align: top;\n",
       "    }\n",
       "\n",
       "    .dataframe thead th {\n",
       "        text-align: right;\n",
       "    }\n",
       "</style>\n",
       "<table border=\"1\" class=\"dataframe\">\n",
       "  <thead>\n",
       "    <tr style=\"text-align: right;\">\n",
       "      <th></th>\n",
       "      <th>FIPS</th>\n",
       "      <th>Admin2</th>\n",
       "      <th>Province_State</th>\n",
       "      <th>Country/Region</th>\n",
       "      <th>Last_Update</th>\n",
       "      <th>Latitude</th>\n",
       "      <th>Longitude</th>\n",
       "      <th>Confirmed</th>\n",
       "      <th>Deaths</th>\n",
       "      <th>Recovered</th>\n",
       "      <th>Active</th>\n",
       "      <th>Combined_Key</th>\n",
       "    </tr>\n",
       "  </thead>\n",
       "  <tbody>\n",
       "    <tr>\n",
       "      <th>0</th>\n",
       "      <td>45001.0</td>\n",
       "      <td>Abbeville</td>\n",
       "      <td>South Carolina</td>\n",
       "      <td>US</td>\n",
       "      <td>2020-03-26 23:48:35</td>\n",
       "      <td>34.223334</td>\n",
       "      <td>-82.461707</td>\n",
       "      <td>3</td>\n",
       "      <td>0</td>\n",
       "      <td>0</td>\n",
       "      <td>3</td>\n",
       "      <td>Abbeville, South Carolina, US</td>\n",
       "    </tr>\n",
       "    <tr>\n",
       "      <th>1</th>\n",
       "      <td>22001.0</td>\n",
       "      <td>Acadia</td>\n",
       "      <td>Louisiana</td>\n",
       "      <td>US</td>\n",
       "      <td>2020-03-26 23:48:35</td>\n",
       "      <td>30.295065</td>\n",
       "      <td>-92.414197</td>\n",
       "      <td>3</td>\n",
       "      <td>0</td>\n",
       "      <td>0</td>\n",
       "      <td>3</td>\n",
       "      <td>Acadia, Louisiana, US</td>\n",
       "    </tr>\n",
       "    <tr>\n",
       "      <th>2</th>\n",
       "      <td>51001.0</td>\n",
       "      <td>Accomack</td>\n",
       "      <td>Virginia</td>\n",
       "      <td>US</td>\n",
       "      <td>2020-03-26 23:48:35</td>\n",
       "      <td>37.767072</td>\n",
       "      <td>-75.632346</td>\n",
       "      <td>2</td>\n",
       "      <td>0</td>\n",
       "      <td>0</td>\n",
       "      <td>2</td>\n",
       "      <td>Accomack, Virginia, US</td>\n",
       "    </tr>\n",
       "    <tr>\n",
       "      <th>3</th>\n",
       "      <td>16001.0</td>\n",
       "      <td>Ada</td>\n",
       "      <td>Idaho</td>\n",
       "      <td>US</td>\n",
       "      <td>2020-03-26 23:48:35</td>\n",
       "      <td>43.452658</td>\n",
       "      <td>-116.241552</td>\n",
       "      <td>39</td>\n",
       "      <td>0</td>\n",
       "      <td>0</td>\n",
       "      <td>39</td>\n",
       "      <td>Ada, Idaho, US</td>\n",
       "    </tr>\n",
       "    <tr>\n",
       "      <th>4</th>\n",
       "      <td>19001.0</td>\n",
       "      <td>Adair</td>\n",
       "      <td>Iowa</td>\n",
       "      <td>US</td>\n",
       "      <td>2020-03-26 23:48:35</td>\n",
       "      <td>41.330756</td>\n",
       "      <td>-94.471059</td>\n",
       "      <td>1</td>\n",
       "      <td>0</td>\n",
       "      <td>0</td>\n",
       "      <td>1</td>\n",
       "      <td>Adair, Iowa, US</td>\n",
       "    </tr>\n",
       "  </tbody>\n",
       "</table>\n",
       "</div>"
      ],
      "text/plain": [
       "      FIPS     Admin2  Province_State Country/Region          Last_Update  \\\n",
       "0  45001.0  Abbeville  South Carolina             US  2020-03-26 23:48:35   \n",
       "1  22001.0     Acadia       Louisiana             US  2020-03-26 23:48:35   \n",
       "2  51001.0   Accomack        Virginia             US  2020-03-26 23:48:35   \n",
       "3  16001.0        Ada           Idaho             US  2020-03-26 23:48:35   \n",
       "4  19001.0      Adair            Iowa             US  2020-03-26 23:48:35   \n",
       "\n",
       "    Latitude   Longitude  Confirmed  Deaths  Recovered  Active  \\\n",
       "0  34.223334  -82.461707          3       0          0       3   \n",
       "1  30.295065  -92.414197          3       0          0       3   \n",
       "2  37.767072  -75.632346          2       0          0       2   \n",
       "3  43.452658 -116.241552         39       0          0      39   \n",
       "4  41.330756  -94.471059          1       0          0       1   \n",
       "\n",
       "                    Combined_Key  \n",
       "0  Abbeville, South Carolina, US  \n",
       "1          Acadia, Louisiana, US  \n",
       "2         Accomack, Virginia, US  \n",
       "3                 Ada, Idaho, US  \n",
       "4                Adair, Iowa, US  "
      ]
     },
     "execution_count": 332,
     "metadata": {},
     "output_type": "execute_result"
    }
   ],
   "source": [
    "da_world.head()"
   ]
  },
  {
   "cell_type": "markdown",
   "metadata": {},
   "source": [
    "## Global numbers in a nutshell"
   ]
  },
  {
   "cell_type": "code",
   "execution_count": 333,
   "metadata": {},
   "outputs": [
    {
     "data": {
      "text/plain": [
       "Confirmed    529591\n",
       "Active       383471\n",
       "Recovered    122150\n",
       "Deaths        23970\n",
       "dtype: int64"
      ]
     },
     "execution_count": 333,
     "metadata": {},
     "output_type": "execute_result"
    }
   ],
   "source": [
    "total_w = da_world[[\"Confirmed\",\"Active\",\"Recovered\",\"Deaths\"]].sum()\n",
    "total_w"
   ]
  },
  {
   "cell_type": "markdown",
   "metadata": {},
   "source": [
    "We group the dataset by countries to have a total value per nation and list the top five countries with active cases."
   ]
  },
  {
   "cell_type": "code",
   "execution_count": 334,
   "metadata": {},
   "outputs": [
    {
     "data": {
      "text/html": [
       "<div>\n",
       "<style scoped>\n",
       "    .dataframe tbody tr th:only-of-type {\n",
       "        vertical-align: middle;\n",
       "    }\n",
       "\n",
       "    .dataframe tbody tr th {\n",
       "        vertical-align: top;\n",
       "    }\n",
       "\n",
       "    .dataframe thead th {\n",
       "        text-align: right;\n",
       "    }\n",
       "</style>\n",
       "<table border=\"1\" class=\"dataframe\">\n",
       "  <thead>\n",
       "    <tr style=\"text-align: right;\">\n",
       "      <th></th>\n",
       "      <th>Confirmed</th>\n",
       "      <th>Active</th>\n",
       "      <th>Recovered</th>\n",
       "      <th>Deaths</th>\n",
       "    </tr>\n",
       "    <tr>\n",
       "      <th>Country/Region</th>\n",
       "      <th></th>\n",
       "      <th></th>\n",
       "      <th></th>\n",
       "      <th></th>\n",
       "    </tr>\n",
       "  </thead>\n",
       "  <tbody>\n",
       "    <tr>\n",
       "      <th>US</th>\n",
       "      <td>83836</td>\n",
       "      <td>81946</td>\n",
       "      <td>681</td>\n",
       "      <td>1209</td>\n",
       "    </tr>\n",
       "    <tr>\n",
       "      <th>Italy</th>\n",
       "      <td>80589</td>\n",
       "      <td>62013</td>\n",
       "      <td>10361</td>\n",
       "      <td>8215</td>\n",
       "    </tr>\n",
       "    <tr>\n",
       "      <th>Spain</th>\n",
       "      <td>57786</td>\n",
       "      <td>46406</td>\n",
       "      <td>7015</td>\n",
       "      <td>4365</td>\n",
       "    </tr>\n",
       "    <tr>\n",
       "      <th>Germany</th>\n",
       "      <td>43938</td>\n",
       "      <td>37998</td>\n",
       "      <td>5673</td>\n",
       "      <td>267</td>\n",
       "    </tr>\n",
       "    <tr>\n",
       "      <th>France</th>\n",
       "      <td>29551</td>\n",
       "      <td>22898</td>\n",
       "      <td>4955</td>\n",
       "      <td>1698</td>\n",
       "    </tr>\n",
       "  </tbody>\n",
       "</table>\n",
       "</div>"
      ],
      "text/plain": [
       "                Confirmed  Active  Recovered  Deaths\n",
       "Country/Region                                      \n",
       "US                  83836   81946        681    1209\n",
       "Italy               80589   62013      10361    8215\n",
       "Spain               57786   46406       7015    4365\n",
       "Germany             43938   37998       5673     267\n",
       "France              29551   22898       4955    1698"
      ]
     },
     "execution_count": 334,
     "metadata": {},
     "output_type": "execute_result"
    }
   ],
   "source": [
    "total_countries = da_world.groupby(\"Country/Region\")[[\"Confirmed\",\"Active\",\"Recovered\",\"Deaths\"]].sum(\n",
    "              ).sort_values(by=\"Active\",ascending=False)\n",
    "total_countries.head()"
   ]
  },
  {
   "cell_type": "code",
   "execution_count": 335,
   "metadata": {},
   "outputs": [],
   "source": [
    "total_all = total_countries"
   ]
  },
  {
   "cell_type": "code",
   "execution_count": 336,
   "metadata": {},
   "outputs": [
    {
     "data": {
      "text/html": [
       "<div>\n",
       "<style scoped>\n",
       "    .dataframe tbody tr th:only-of-type {\n",
       "        vertical-align: middle;\n",
       "    }\n",
       "\n",
       "    .dataframe tbody tr th {\n",
       "        vertical-align: top;\n",
       "    }\n",
       "\n",
       "    .dataframe thead th {\n",
       "        text-align: right;\n",
       "    }\n",
       "</style>\n",
       "<table border=\"1\" class=\"dataframe\">\n",
       "  <thead>\n",
       "    <tr style=\"text-align: right;\">\n",
       "      <th></th>\n",
       "      <th>Country/Region</th>\n",
       "      <th>Confirmed</th>\n",
       "      <th>Active</th>\n",
       "      <th>Recovered</th>\n",
       "      <th>Deaths</th>\n",
       "      <th>lat</th>\n",
       "      <th>long</th>\n",
       "    </tr>\n",
       "  </thead>\n",
       "  <tbody>\n",
       "    <tr>\n",
       "      <th>0</th>\n",
       "      <td>US</td>\n",
       "      <td>83836</td>\n",
       "      <td>81946</td>\n",
       "      <td>681</td>\n",
       "      <td>1209</td>\n",
       "      <td>NaN</td>\n",
       "      <td>NaN</td>\n",
       "    </tr>\n",
       "    <tr>\n",
       "      <th>1</th>\n",
       "      <td>Italy</td>\n",
       "      <td>80589</td>\n",
       "      <td>62013</td>\n",
       "      <td>10361</td>\n",
       "      <td>8215</td>\n",
       "      <td>NaN</td>\n",
       "      <td>NaN</td>\n",
       "    </tr>\n",
       "    <tr>\n",
       "      <th>2</th>\n",
       "      <td>Spain</td>\n",
       "      <td>57786</td>\n",
       "      <td>46406</td>\n",
       "      <td>7015</td>\n",
       "      <td>4365</td>\n",
       "      <td>NaN</td>\n",
       "      <td>NaN</td>\n",
       "    </tr>\n",
       "    <tr>\n",
       "      <th>3</th>\n",
       "      <td>Germany</td>\n",
       "      <td>43938</td>\n",
       "      <td>37998</td>\n",
       "      <td>5673</td>\n",
       "      <td>267</td>\n",
       "      <td>NaN</td>\n",
       "      <td>NaN</td>\n",
       "    </tr>\n",
       "    <tr>\n",
       "      <th>4</th>\n",
       "      <td>France</td>\n",
       "      <td>29551</td>\n",
       "      <td>22898</td>\n",
       "      <td>4955</td>\n",
       "      <td>1698</td>\n",
       "      <td>NaN</td>\n",
       "      <td>NaN</td>\n",
       "    </tr>\n",
       "  </tbody>\n",
       "</table>\n",
       "</div>"
      ],
      "text/plain": [
       "  Country/Region  Confirmed  Active  Recovered  Deaths  lat  long\n",
       "0             US      83836   81946        681    1209  NaN   NaN\n",
       "1          Italy      80589   62013      10361    8215  NaN   NaN\n",
       "2          Spain      57786   46406       7015    4365  NaN   NaN\n",
       "3        Germany      43938   37998       5673     267  NaN   NaN\n",
       "4         France      29551   22898       4955    1698  NaN   NaN"
      ]
     },
     "execution_count": 336,
     "metadata": {},
     "output_type": "execute_result"
    }
   ],
   "source": [
    "total_all[\"lat\"]= np.nan\n",
    "total_all[\"long\"]= np.nan\n",
    "total_all = total_all.reset_index()\n",
    "total_all.head()"
   ]
  },
  {
   "cell_type": "code",
   "execution_count": 337,
   "metadata": {},
   "outputs": [
    {
     "data": {
      "text/plain": [
       "174"
      ]
     },
     "execution_count": 337,
     "metadata": {},
     "output_type": "execute_result"
    }
   ],
   "source": [
    "len(total_all)"
   ]
  },
  {
   "cell_type": "code",
   "execution_count": 338,
   "metadata": {},
   "outputs": [
    {
     "data": {
      "text/html": [
       "<div>\n",
       "<style scoped>\n",
       "    .dataframe tbody tr th:only-of-type {\n",
       "        vertical-align: middle;\n",
       "    }\n",
       "\n",
       "    .dataframe tbody tr th {\n",
       "        vertical-align: top;\n",
       "    }\n",
       "\n",
       "    .dataframe thead th {\n",
       "        text-align: right;\n",
       "    }\n",
       "</style>\n",
       "<table border=\"1\" class=\"dataframe\">\n",
       "  <thead>\n",
       "    <tr style=\"text-align: right;\">\n",
       "      <th></th>\n",
       "      <th>Country/Region</th>\n",
       "      <th>Confirmed</th>\n",
       "      <th>Active</th>\n",
       "      <th>Recovered</th>\n",
       "      <th>Deaths</th>\n",
       "      <th>lat</th>\n",
       "      <th>long</th>\n",
       "    </tr>\n",
       "  </thead>\n",
       "  <tbody>\n",
       "    <tr>\n",
       "      <th>0</th>\n",
       "      <td>US</td>\n",
       "      <td>83836</td>\n",
       "      <td>81946</td>\n",
       "      <td>681</td>\n",
       "      <td>1209</td>\n",
       "      <td>NaN</td>\n",
       "      <td>NaN</td>\n",
       "    </tr>\n",
       "    <tr>\n",
       "      <th>1</th>\n",
       "      <td>Italy</td>\n",
       "      <td>80589</td>\n",
       "      <td>62013</td>\n",
       "      <td>10361</td>\n",
       "      <td>8215</td>\n",
       "      <td>NaN</td>\n",
       "      <td>NaN</td>\n",
       "    </tr>\n",
       "    <tr>\n",
       "      <th>2</th>\n",
       "      <td>Spain</td>\n",
       "      <td>57786</td>\n",
       "      <td>46406</td>\n",
       "      <td>7015</td>\n",
       "      <td>4365</td>\n",
       "      <td>NaN</td>\n",
       "      <td>NaN</td>\n",
       "    </tr>\n",
       "    <tr>\n",
       "      <th>3</th>\n",
       "      <td>Germany</td>\n",
       "      <td>43938</td>\n",
       "      <td>37998</td>\n",
       "      <td>5673</td>\n",
       "      <td>267</td>\n",
       "      <td>NaN</td>\n",
       "      <td>NaN</td>\n",
       "    </tr>\n",
       "    <tr>\n",
       "      <th>4</th>\n",
       "      <td>France</td>\n",
       "      <td>29551</td>\n",
       "      <td>22898</td>\n",
       "      <td>4955</td>\n",
       "      <td>1698</td>\n",
       "      <td>NaN</td>\n",
       "      <td>NaN</td>\n",
       "    </tr>\n",
       "  </tbody>\n",
       "</table>\n",
       "</div>"
      ],
      "text/plain": [
       "  Country/Region  Confirmed  Active  Recovered  Deaths  lat  long\n",
       "0             US      83836   81946        681    1209  NaN   NaN\n",
       "1          Italy      80589   62013      10361    8215  NaN   NaN\n",
       "2          Spain      57786   46406       7015    4365  NaN   NaN\n",
       "3        Germany      43938   37998       5673     267  NaN   NaN\n",
       "4         France      29551   22898       4955    1698  NaN   NaN"
      ]
     },
     "execution_count": 338,
     "metadata": {},
     "output_type": "execute_result"
    }
   ],
   "source": [
    "total_all.head()"
   ]
  },
  {
   "cell_type": "code",
   "execution_count": 339,
   "metadata": {},
   "outputs": [],
   "source": [
    "places = total_all[\"Country/Region\"]"
   ]
  },
  {
   "cell_type": "code",
   "execution_count": 340,
   "metadata": {},
   "outputs": [
    {
     "data": {
      "text/plain": [
       "0                                    US\n",
       "1                                 Italy\n",
       "2                                 Spain\n",
       "3                               Germany\n",
       "4                                France\n",
       "                     ...               \n",
       "169                            Zimbabwe\n",
       "170                         Timor-Leste\n",
       "171    Saint Vincent and the Grenadines\n",
       "172                               Libya\n",
       "173                    Papua New Guinea\n",
       "Name: Country/Region, Length: 174, dtype: object"
      ]
     },
     "execution_count": 340,
     "metadata": {},
     "output_type": "execute_result"
    }
   ],
   "source": [
    "places"
   ]
  },
  {
   "cell_type": "code",
   "execution_count": 341,
   "metadata": {},
   "outputs": [
    {
     "name": "stdout",
     "output_type": "stream",
     "text": [
      "country shape:  US\n",
      "country shape:  France\n",
      "country shape:  United Kingdom\n",
      "country shape:  Netherlands\n",
      "country shape:  China\n",
      "country shape:  Canada\n",
      "country shape:  Australia\n",
      "country shape:  Denmark\n",
      "country shape:  Republic of the Congo\n"
     ]
    }
   ],
   "source": [
    "for x in range(len(places)-1):\n",
    "    if not da_world[da_world[\"Country/Region\"] == places[x]].empty:\n",
    "        loc_country = da_world[da_world[\"Country/Region\"] == places[x]][[\"Latitude\",\"Longitude\"]].to_numpy()\n",
    "        if loc_country.shape != (1,2):\n",
    "            print(\"country shape: \",places[x])\n",
    "        else:\n",
    "            total_all.loc[x,[\"lat\"]] = loc_country[0,0]\n",
    "            total_all.loc[x,[\"long\"]] = loc_country[0,1]\n",
    "    else:\n",
    "        print(\"not found: \",places[x])"
   ]
  },
  {
   "cell_type": "code",
   "execution_count": 342,
   "metadata": {},
   "outputs": [
    {
     "data": {
      "text/html": [
       "<div>\n",
       "<style scoped>\n",
       "    .dataframe tbody tr th:only-of-type {\n",
       "        vertical-align: middle;\n",
       "    }\n",
       "\n",
       "    .dataframe tbody tr th {\n",
       "        vertical-align: top;\n",
       "    }\n",
       "\n",
       "    .dataframe thead th {\n",
       "        text-align: right;\n",
       "    }\n",
       "</style>\n",
       "<table border=\"1\" class=\"dataframe\">\n",
       "  <thead>\n",
       "    <tr style=\"text-align: right;\">\n",
       "      <th></th>\n",
       "      <th>Country/Region</th>\n",
       "      <th>Confirmed</th>\n",
       "      <th>Active</th>\n",
       "      <th>Recovered</th>\n",
       "      <th>Deaths</th>\n",
       "      <th>lat</th>\n",
       "      <th>long</th>\n",
       "    </tr>\n",
       "  </thead>\n",
       "  <tbody>\n",
       "    <tr>\n",
       "      <th>0</th>\n",
       "      <td>US</td>\n",
       "      <td>83836</td>\n",
       "      <td>81946</td>\n",
       "      <td>681</td>\n",
       "      <td>1209</td>\n",
       "      <td>NaN</td>\n",
       "      <td>NaN</td>\n",
       "    </tr>\n",
       "    <tr>\n",
       "      <th>1</th>\n",
       "      <td>Italy</td>\n",
       "      <td>80589</td>\n",
       "      <td>62013</td>\n",
       "      <td>10361</td>\n",
       "      <td>8215</td>\n",
       "      <td>41.871940</td>\n",
       "      <td>12.567380</td>\n",
       "    </tr>\n",
       "    <tr>\n",
       "      <th>2</th>\n",
       "      <td>Spain</td>\n",
       "      <td>57786</td>\n",
       "      <td>46406</td>\n",
       "      <td>7015</td>\n",
       "      <td>4365</td>\n",
       "      <td>40.463667</td>\n",
       "      <td>-3.749220</td>\n",
       "    </tr>\n",
       "    <tr>\n",
       "      <th>3</th>\n",
       "      <td>Germany</td>\n",
       "      <td>43938</td>\n",
       "      <td>37998</td>\n",
       "      <td>5673</td>\n",
       "      <td>267</td>\n",
       "      <td>51.165691</td>\n",
       "      <td>10.451526</td>\n",
       "    </tr>\n",
       "    <tr>\n",
       "      <th>4</th>\n",
       "      <td>France</td>\n",
       "      <td>29551</td>\n",
       "      <td>22898</td>\n",
       "      <td>4955</td>\n",
       "      <td>1698</td>\n",
       "      <td>NaN</td>\n",
       "      <td>NaN</td>\n",
       "    </tr>\n",
       "  </tbody>\n",
       "</table>\n",
       "</div>"
      ],
      "text/plain": [
       "  Country/Region  Confirmed  Active  Recovered  Deaths        lat       long\n",
       "0             US      83836   81946        681    1209        NaN        NaN\n",
       "1          Italy      80589   62013      10361    8215  41.871940  12.567380\n",
       "2          Spain      57786   46406       7015    4365  40.463667  -3.749220\n",
       "3        Germany      43938   37998       5673     267  51.165691  10.451526\n",
       "4         France      29551   22898       4955    1698        NaN        NaN"
      ]
     },
     "execution_count": 342,
     "metadata": {},
     "output_type": "execute_result"
    }
   ],
   "source": [
    "total_all.head()"
   ]
  },
  {
   "cell_type": "code",
   "execution_count": 343,
   "metadata": {},
   "outputs": [
    {
     "data": {
      "text/html": [
       "<div>\n",
       "<style scoped>\n",
       "    .dataframe tbody tr th:only-of-type {\n",
       "        vertical-align: middle;\n",
       "    }\n",
       "\n",
       "    .dataframe tbody tr th {\n",
       "        vertical-align: top;\n",
       "    }\n",
       "\n",
       "    .dataframe thead th {\n",
       "        text-align: right;\n",
       "    }\n",
       "</style>\n",
       "<table border=\"1\" class=\"dataframe\">\n",
       "  <thead>\n",
       "    <tr style=\"text-align: right;\">\n",
       "      <th></th>\n",
       "      <th>Country/Region</th>\n",
       "      <th>Confirmed</th>\n",
       "      <th>Active</th>\n",
       "      <th>Recovered</th>\n",
       "      <th>Deaths</th>\n",
       "      <th>lat</th>\n",
       "      <th>long</th>\n",
       "    </tr>\n",
       "  </thead>\n",
       "  <tbody>\n",
       "    <tr>\n",
       "      <th>0</th>\n",
       "      <td>US</td>\n",
       "      <td>83836</td>\n",
       "      <td>81946</td>\n",
       "      <td>681</td>\n",
       "      <td>1209</td>\n",
       "      <td>NaN</td>\n",
       "      <td>NaN</td>\n",
       "    </tr>\n",
       "    <tr>\n",
       "      <th>4</th>\n",
       "      <td>France</td>\n",
       "      <td>29551</td>\n",
       "      <td>22898</td>\n",
       "      <td>4955</td>\n",
       "      <td>1698</td>\n",
       "      <td>NaN</td>\n",
       "      <td>NaN</td>\n",
       "    </tr>\n",
       "    <tr>\n",
       "      <th>7</th>\n",
       "      <td>United Kingdom</td>\n",
       "      <td>11812</td>\n",
       "      <td>11082</td>\n",
       "      <td>150</td>\n",
       "      <td>580</td>\n",
       "      <td>NaN</td>\n",
       "      <td>NaN</td>\n",
       "    </tr>\n",
       "    <tr>\n",
       "      <th>8</th>\n",
       "      <td>Netherlands</td>\n",
       "      <td>7468</td>\n",
       "      <td>7027</td>\n",
       "      <td>6</td>\n",
       "      <td>435</td>\n",
       "      <td>NaN</td>\n",
       "      <td>NaN</td>\n",
       "    </tr>\n",
       "    <tr>\n",
       "      <th>12</th>\n",
       "      <td>China</td>\n",
       "      <td>81782</td>\n",
       "      <td>4310</td>\n",
       "      <td>74181</td>\n",
       "      <td>3291</td>\n",
       "      <td>NaN</td>\n",
       "      <td>NaN</td>\n",
       "    </tr>\n",
       "    <tr>\n",
       "      <th>13</th>\n",
       "      <td>Canada</td>\n",
       "      <td>4042</td>\n",
       "      <td>3820</td>\n",
       "      <td>184</td>\n",
       "      <td>38</td>\n",
       "      <td>NaN</td>\n",
       "      <td>NaN</td>\n",
       "    </tr>\n",
       "    <tr>\n",
       "      <th>19</th>\n",
       "      <td>Australia</td>\n",
       "      <td>2810</td>\n",
       "      <td>2625</td>\n",
       "      <td>172</td>\n",
       "      <td>13</td>\n",
       "      <td>NaN</td>\n",
       "      <td>NaN</td>\n",
       "    </tr>\n",
       "    <tr>\n",
       "      <th>21</th>\n",
       "      <td>Denmark</td>\n",
       "      <td>2023</td>\n",
       "      <td>1932</td>\n",
       "      <td>50</td>\n",
       "      <td>41</td>\n",
       "      <td>NaN</td>\n",
       "      <td>NaN</td>\n",
       "    </tr>\n",
       "    <tr>\n",
       "      <th>109</th>\n",
       "      <td>Republic of the Congo</td>\n",
       "      <td>55</td>\n",
       "      <td>52</td>\n",
       "      <td>0</td>\n",
       "      <td>3</td>\n",
       "      <td>NaN</td>\n",
       "      <td>NaN</td>\n",
       "    </tr>\n",
       "    <tr>\n",
       "      <th>173</th>\n",
       "      <td>Papua New Guinea</td>\n",
       "      <td>1</td>\n",
       "      <td>1</td>\n",
       "      <td>0</td>\n",
       "      <td>0</td>\n",
       "      <td>NaN</td>\n",
       "      <td>NaN</td>\n",
       "    </tr>\n",
       "  </tbody>\n",
       "</table>\n",
       "</div>"
      ],
      "text/plain": [
       "            Country/Region  Confirmed  Active  Recovered  Deaths  lat  long\n",
       "0                       US      83836   81946        681    1209  NaN   NaN\n",
       "4                   France      29551   22898       4955    1698  NaN   NaN\n",
       "7           United Kingdom      11812   11082        150     580  NaN   NaN\n",
       "8              Netherlands       7468    7027          6     435  NaN   NaN\n",
       "12                   China      81782    4310      74181    3291  NaN   NaN\n",
       "13                  Canada       4042    3820        184      38  NaN   NaN\n",
       "19               Australia       2810    2625        172      13  NaN   NaN\n",
       "21                 Denmark       2023    1932         50      41  NaN   NaN\n",
       "109  Republic of the Congo         55      52          0       3  NaN   NaN\n",
       "173       Papua New Guinea          1       1          0       0  NaN   NaN"
      ]
     },
     "execution_count": 343,
     "metadata": {},
     "output_type": "execute_result"
    }
   ],
   "source": [
    "total_all[~pd.notnull(total_all[\"lat\"])]"
   ]
  },
  {
   "cell_type": "markdown",
   "metadata": {},
   "source": [
    "Adding manual coordinates for countries with nan values due to wrong shape of coordinates."
   ]
  },
  {
   "cell_type": "code",
   "execution_count": 344,
   "metadata": {},
   "outputs": [],
   "source": [
    "def add_coordinates(country,lat,long):\n",
    "    total_all.loc[total_all[\"Country/Region\"] == country,\"lat\"] = lat\n",
    "    total_all.loc[total_all[\"Country/Region\"] == country,\"long\"] = long\n",
    "    return total_all"
   ]
  },
  {
   "cell_type": "code",
   "execution_count": 172,
   "metadata": {},
   "outputs": [
    {
     "data": {
      "text/html": [
       "<div>\n",
       "<style scoped>\n",
       "    .dataframe tbody tr th:only-of-type {\n",
       "        vertical-align: middle;\n",
       "    }\n",
       "\n",
       "    .dataframe tbody tr th {\n",
       "        vertical-align: top;\n",
       "    }\n",
       "\n",
       "    .dataframe thead th {\n",
       "        text-align: right;\n",
       "    }\n",
       "</style>\n",
       "<table border=\"1\" class=\"dataframe\">\n",
       "  <thead>\n",
       "    <tr style=\"text-align: right;\">\n",
       "      <th></th>\n",
       "      <th>Country/Region</th>\n",
       "      <th>Confirmed</th>\n",
       "      <th>Active</th>\n",
       "      <th>Recovered</th>\n",
       "      <th>Deaths</th>\n",
       "      <th>lat</th>\n",
       "      <th>long</th>\n",
       "    </tr>\n",
       "  </thead>\n",
       "  <tbody>\n",
       "    <tr>\n",
       "      <th>0</th>\n",
       "      <td>US</td>\n",
       "      <td>83836</td>\n",
       "      <td>81946</td>\n",
       "      <td>681</td>\n",
       "      <td>1209</td>\n",
       "      <td>38.907200</td>\n",
       "      <td>-77.036900</td>\n",
       "    </tr>\n",
       "    <tr>\n",
       "      <th>1</th>\n",
       "      <td>Italy</td>\n",
       "      <td>80589</td>\n",
       "      <td>62013</td>\n",
       "      <td>10361</td>\n",
       "      <td>8215</td>\n",
       "      <td>41.871940</td>\n",
       "      <td>12.567380</td>\n",
       "    </tr>\n",
       "    <tr>\n",
       "      <th>2</th>\n",
       "      <td>Spain</td>\n",
       "      <td>57786</td>\n",
       "      <td>46406</td>\n",
       "      <td>7015</td>\n",
       "      <td>4365</td>\n",
       "      <td>40.463667</td>\n",
       "      <td>-3.749220</td>\n",
       "    </tr>\n",
       "    <tr>\n",
       "      <th>3</th>\n",
       "      <td>Germany</td>\n",
       "      <td>43938</td>\n",
       "      <td>37998</td>\n",
       "      <td>5673</td>\n",
       "      <td>267</td>\n",
       "      <td>51.165691</td>\n",
       "      <td>10.451526</td>\n",
       "    </tr>\n",
       "    <tr>\n",
       "      <th>4</th>\n",
       "      <td>France</td>\n",
       "      <td>29551</td>\n",
       "      <td>22898</td>\n",
       "      <td>4955</td>\n",
       "      <td>1698</td>\n",
       "      <td>48.856600</td>\n",
       "      <td>2.352200</td>\n",
       "    </tr>\n",
       "    <tr>\n",
       "      <th>...</th>\n",
       "      <td>...</td>\n",
       "      <td>...</td>\n",
       "      <td>...</td>\n",
       "      <td>...</td>\n",
       "      <td>...</td>\n",
       "      <td>...</td>\n",
       "      <td>...</td>\n",
       "    </tr>\n",
       "    <tr>\n",
       "      <th>169</th>\n",
       "      <td>Zimbabwe</td>\n",
       "      <td>3</td>\n",
       "      <td>2</td>\n",
       "      <td>0</td>\n",
       "      <td>1</td>\n",
       "      <td>-19.015438</td>\n",
       "      <td>29.154857</td>\n",
       "    </tr>\n",
       "    <tr>\n",
       "      <th>170</th>\n",
       "      <td>Timor-Leste</td>\n",
       "      <td>1</td>\n",
       "      <td>1</td>\n",
       "      <td>0</td>\n",
       "      <td>0</td>\n",
       "      <td>-8.874217</td>\n",
       "      <td>125.727539</td>\n",
       "    </tr>\n",
       "    <tr>\n",
       "      <th>171</th>\n",
       "      <td>Saint Vincent and the Grenadines</td>\n",
       "      <td>1</td>\n",
       "      <td>1</td>\n",
       "      <td>0</td>\n",
       "      <td>0</td>\n",
       "      <td>12.984300</td>\n",
       "      <td>-61.287200</td>\n",
       "    </tr>\n",
       "    <tr>\n",
       "      <th>172</th>\n",
       "      <td>Libya</td>\n",
       "      <td>1</td>\n",
       "      <td>1</td>\n",
       "      <td>0</td>\n",
       "      <td>0</td>\n",
       "      <td>26.335100</td>\n",
       "      <td>17.228331</td>\n",
       "    </tr>\n",
       "    <tr>\n",
       "      <th>173</th>\n",
       "      <td>Papua New Guinea</td>\n",
       "      <td>1</td>\n",
       "      <td>1</td>\n",
       "      <td>0</td>\n",
       "      <td>0</td>\n",
       "      <td>NaN</td>\n",
       "      <td>NaN</td>\n",
       "    </tr>\n",
       "  </tbody>\n",
       "</table>\n",
       "<p>174 rows × 7 columns</p>\n",
       "</div>"
      ],
      "text/plain": [
       "                       Country/Region  Confirmed  Active  Recovered  Deaths  \\\n",
       "0                                  US      83836   81946        681    1209   \n",
       "1                               Italy      80589   62013      10361    8215   \n",
       "2                               Spain      57786   46406       7015    4365   \n",
       "3                             Germany      43938   37998       5673     267   \n",
       "4                              France      29551   22898       4955    1698   \n",
       "..                                ...        ...     ...        ...     ...   \n",
       "169                          Zimbabwe          3       2          0       1   \n",
       "170                       Timor-Leste          1       1          0       0   \n",
       "171  Saint Vincent and the Grenadines          1       1          0       0   \n",
       "172                             Libya          1       1          0       0   \n",
       "173                  Papua New Guinea          1       1          0       0   \n",
       "\n",
       "           lat        long  \n",
       "0    38.907200  -77.036900  \n",
       "1    41.871940   12.567380  \n",
       "2    40.463667   -3.749220  \n",
       "3    51.165691   10.451526  \n",
       "4    48.856600    2.352200  \n",
       "..         ...         ...  \n",
       "169 -19.015438   29.154857  \n",
       "170  -8.874217  125.727539  \n",
       "171  12.984300  -61.287200  \n",
       "172  26.335100   17.228331  \n",
       "173        NaN         NaN  \n",
       "\n",
       "[174 rows x 7 columns]"
      ]
     },
     "execution_count": 172,
     "metadata": {},
     "output_type": "execute_result"
    }
   ],
   "source": [
    "add_coordinates(\"US\", 38.9072, -77.0369)\n",
    "add_coordinates(\"France\", 48.8566, 2.3522)\n",
    "add_coordinates(\"United Kingdom\", 51.5074, 0.1278)\n",
    "add_coordinates(\"Netherlands\", 52.3667, 4.8945)\n",
    "add_coordinates(\"China\", 35.8617, 104.1954)\n",
    "add_coordinates(\"Canada\", 45.4215, -75.6972)\n",
    "add_coordinates(\"Australia\", -33.8688, 151.2093)\n",
    "add_coordinates(\"Denmark\", 55.6761, 12.5683)\n",
    "add_coordinates(\"Republic of the Congo\", -0.2280, 15.8277)\n",
    "add_coordinates(\"Syria\", 34.8021, 38.9968)"
   ]
  },
  {
   "cell_type": "code",
   "execution_count": 173,
   "metadata": {},
   "outputs": [
    {
     "data": {
      "text/html": [
       "<div>\n",
       "<style scoped>\n",
       "    .dataframe tbody tr th:only-of-type {\n",
       "        vertical-align: middle;\n",
       "    }\n",
       "\n",
       "    .dataframe tbody tr th {\n",
       "        vertical-align: top;\n",
       "    }\n",
       "\n",
       "    .dataframe thead th {\n",
       "        text-align: right;\n",
       "    }\n",
       "</style>\n",
       "<table border=\"1\" class=\"dataframe\">\n",
       "  <thead>\n",
       "    <tr style=\"text-align: right;\">\n",
       "      <th></th>\n",
       "      <th>Country/Region</th>\n",
       "      <th>Confirmed</th>\n",
       "      <th>Active</th>\n",
       "      <th>Recovered</th>\n",
       "      <th>Deaths</th>\n",
       "      <th>lat</th>\n",
       "      <th>long</th>\n",
       "    </tr>\n",
       "  </thead>\n",
       "  <tbody>\n",
       "    <tr>\n",
       "      <th>0</th>\n",
       "      <td>US</td>\n",
       "      <td>83836</td>\n",
       "      <td>81946</td>\n",
       "      <td>681</td>\n",
       "      <td>1209</td>\n",
       "      <td>38.907200</td>\n",
       "      <td>-77.036900</td>\n",
       "    </tr>\n",
       "    <tr>\n",
       "      <th>1</th>\n",
       "      <td>Italy</td>\n",
       "      <td>80589</td>\n",
       "      <td>62013</td>\n",
       "      <td>10361</td>\n",
       "      <td>8215</td>\n",
       "      <td>41.871940</td>\n",
       "      <td>12.567380</td>\n",
       "    </tr>\n",
       "    <tr>\n",
       "      <th>2</th>\n",
       "      <td>Spain</td>\n",
       "      <td>57786</td>\n",
       "      <td>46406</td>\n",
       "      <td>7015</td>\n",
       "      <td>4365</td>\n",
       "      <td>40.463667</td>\n",
       "      <td>-3.749220</td>\n",
       "    </tr>\n",
       "    <tr>\n",
       "      <th>3</th>\n",
       "      <td>Germany</td>\n",
       "      <td>43938</td>\n",
       "      <td>37998</td>\n",
       "      <td>5673</td>\n",
       "      <td>267</td>\n",
       "      <td>51.165691</td>\n",
       "      <td>10.451526</td>\n",
       "    </tr>\n",
       "    <tr>\n",
       "      <th>4</th>\n",
       "      <td>France</td>\n",
       "      <td>29551</td>\n",
       "      <td>22898</td>\n",
       "      <td>4955</td>\n",
       "      <td>1698</td>\n",
       "      <td>48.856600</td>\n",
       "      <td>2.352200</td>\n",
       "    </tr>\n",
       "    <tr>\n",
       "      <th>5</th>\n",
       "      <td>Iran</td>\n",
       "      <td>29406</td>\n",
       "      <td>16715</td>\n",
       "      <td>10457</td>\n",
       "      <td>2234</td>\n",
       "      <td>32.427908</td>\n",
       "      <td>53.688046</td>\n",
       "    </tr>\n",
       "    <tr>\n",
       "      <th>6</th>\n",
       "      <td>Switzerland</td>\n",
       "      <td>11811</td>\n",
       "      <td>11489</td>\n",
       "      <td>131</td>\n",
       "      <td>191</td>\n",
       "      <td>46.818200</td>\n",
       "      <td>8.227500</td>\n",
       "    </tr>\n",
       "    <tr>\n",
       "      <th>7</th>\n",
       "      <td>United Kingdom</td>\n",
       "      <td>11812</td>\n",
       "      <td>11082</td>\n",
       "      <td>150</td>\n",
       "      <td>580</td>\n",
       "      <td>51.507400</td>\n",
       "      <td>0.127800</td>\n",
       "    </tr>\n",
       "    <tr>\n",
       "      <th>8</th>\n",
       "      <td>Netherlands</td>\n",
       "      <td>7468</td>\n",
       "      <td>7027</td>\n",
       "      <td>6</td>\n",
       "      <td>435</td>\n",
       "      <td>52.366700</td>\n",
       "      <td>4.894500</td>\n",
       "    </tr>\n",
       "    <tr>\n",
       "      <th>9</th>\n",
       "      <td>Austria</td>\n",
       "      <td>6909</td>\n",
       "      <td>6748</td>\n",
       "      <td>112</td>\n",
       "      <td>49</td>\n",
       "      <td>47.516200</td>\n",
       "      <td>14.550100</td>\n",
       "    </tr>\n",
       "    <tr>\n",
       "      <th>10</th>\n",
       "      <td>Belgium</td>\n",
       "      <td>6235</td>\n",
       "      <td>5340</td>\n",
       "      <td>675</td>\n",
       "      <td>220</td>\n",
       "      <td>50.833300</td>\n",
       "      <td>4.469936</td>\n",
       "    </tr>\n",
       "    <tr>\n",
       "      <th>11</th>\n",
       "      <td>South Korea</td>\n",
       "      <td>9241</td>\n",
       "      <td>4966</td>\n",
       "      <td>4144</td>\n",
       "      <td>131</td>\n",
       "      <td>35.907757</td>\n",
       "      <td>127.766922</td>\n",
       "    </tr>\n",
       "    <tr>\n",
       "      <th>12</th>\n",
       "      <td>China</td>\n",
       "      <td>81782</td>\n",
       "      <td>4310</td>\n",
       "      <td>74181</td>\n",
       "      <td>3291</td>\n",
       "      <td>35.861700</td>\n",
       "      <td>104.195400</td>\n",
       "    </tr>\n",
       "    <tr>\n",
       "      <th>13</th>\n",
       "      <td>Canada</td>\n",
       "      <td>4042</td>\n",
       "      <td>3820</td>\n",
       "      <td>184</td>\n",
       "      <td>38</td>\n",
       "      <td>45.421500</td>\n",
       "      <td>-75.697200</td>\n",
       "    </tr>\n",
       "    <tr>\n",
       "      <th>14</th>\n",
       "      <td>Turkey</td>\n",
       "      <td>3629</td>\n",
       "      <td>3528</td>\n",
       "      <td>26</td>\n",
       "      <td>75</td>\n",
       "      <td>38.963700</td>\n",
       "      <td>35.243300</td>\n",
       "    </tr>\n",
       "  </tbody>\n",
       "</table>\n",
       "</div>"
      ],
      "text/plain": [
       "    Country/Region  Confirmed  Active  Recovered  Deaths        lat  \\\n",
       "0               US      83836   81946        681    1209  38.907200   \n",
       "1            Italy      80589   62013      10361    8215  41.871940   \n",
       "2            Spain      57786   46406       7015    4365  40.463667   \n",
       "3          Germany      43938   37998       5673     267  51.165691   \n",
       "4           France      29551   22898       4955    1698  48.856600   \n",
       "5             Iran      29406   16715      10457    2234  32.427908   \n",
       "6      Switzerland      11811   11489        131     191  46.818200   \n",
       "7   United Kingdom      11812   11082        150     580  51.507400   \n",
       "8      Netherlands       7468    7027          6     435  52.366700   \n",
       "9          Austria       6909    6748        112      49  47.516200   \n",
       "10         Belgium       6235    5340        675     220  50.833300   \n",
       "11     South Korea       9241    4966       4144     131  35.907757   \n",
       "12           China      81782    4310      74181    3291  35.861700   \n",
       "13          Canada       4042    3820        184      38  45.421500   \n",
       "14          Turkey       3629    3528         26      75  38.963700   \n",
       "\n",
       "          long  \n",
       "0   -77.036900  \n",
       "1    12.567380  \n",
       "2    -3.749220  \n",
       "3    10.451526  \n",
       "4     2.352200  \n",
       "5    53.688046  \n",
       "6     8.227500  \n",
       "7     0.127800  \n",
       "8     4.894500  \n",
       "9    14.550100  \n",
       "10    4.469936  \n",
       "11  127.766922  \n",
       "12  104.195400  \n",
       "13  -75.697200  \n",
       "14   35.243300  "
      ]
     },
     "execution_count": 173,
     "metadata": {},
     "output_type": "execute_result"
    }
   ],
   "source": [
    "total_all.head(15)"
   ]
  },
  {
   "cell_type": "markdown",
   "metadata": {},
   "source": [
    "We create a map where each country with active cases is labeled as follows:\n",
    "Blue circle: less than 1000 reported active cases.\n",
    "Orange circle: more than 1000 and less than 10000 reported active cases.\n",
    "Red circle: more than 10000 reported active cases."
   ]
  },
  {
   "cell_type": "code",
   "execution_count": 182,
   "metadata": {},
   "outputs": [
    {
     "data": {
      "text/html": [
       "<div style=\"width:100%;\"><div style=\"position:relative;width:100%;height:0;padding-bottom:60%;\"><iframe src=\"about:blank\" style=\"position:absolute;width:100%;height:100%;left:0;top:0;border:none !important;\" data-html=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 onload=\"this.contentDocument.open();this.contentDocument.write(atob(this.getAttribute('data-html')));this.contentDocument.close();\" allowfullscreen webkitallowfullscreen mozallowfullscreen></iframe></div></div>"
      ],
      "text/plain": [
       "<folium.folium.Map at 0x11c7fe1f0>"
      ]
     },
     "execution_count": 182,
     "metadata": {},
     "output_type": "execute_result"
    }
   ],
   "source": [
    "world_map = folium.Map(location=[41.8719, -20], tiles='cartodbpositron', zoom_start=2.5)\n",
    "def color_producer(val):\n",
    "    if val < 1000:\n",
    "        return 'blue'\n",
    "    elif val < 10000:\n",
    "        return 'orange'\n",
    "    else:\n",
    "        return 'red'\n",
    "\n",
    "for i in range(0,len(places)):\n",
    "    if not(np.isnan(total_all.iloc[i]['lat']) or np.isnan(\n",
    "            total_all.iloc[i]['long'])):\n",
    "        folium.Circle(       \n",
    "        location=[total_all.iloc[i]['lat'], total_all.iloc[i]['long']],\n",
    "        popup=(\"Country: \" + str(places[i]) + \"<br>\"\n",
    "               \"Confirmed cases: \" + str(total_all.iloc[i][\"Confirmed\"])+\"<br>\"\n",
    "               \"Active cases: \" + str(total_all.iloc[i][\"Active\"])+\"<br>\"\n",
    "               \"Recovered: \" + str(total_all.iloc[i][\"Recovered\"])+\"<br>\"\n",
    "               \"Deaths: \" + str(total_all.iloc[i][\"Deaths\"])),\n",
    "        radius=(total_all.iloc[i]['Active']*2000000)/total_all['Active'].sum(), \n",
    "        color=color_producer(total_all.iloc[i]['Active']),\n",
    "        fill_color=color_producer(total_all.iloc[i]['Active']),\n",
    "        title='Covid-19 active cases worldwide').add_to(world_map)\n",
    "\n",
    "world_map"
   ]
  },
  {
   "cell_type": "markdown",
   "metadata": {},
   "source": [
    "Summary data per country is shown if you click on each country's circle."
   ]
  },
  {
   "cell_type": "markdown",
   "metadata": {},
   "source": [
    "## Top 15 countries by number of active cases"
   ]
  },
  {
   "cell_type": "markdown",
   "metadata": {},
   "source": [
    "We list the fifteen countries with most active cases.\n",
    "<br> We also calculate the death rate vs confirmed positive cases and include it in the column \"Death rate\"."
   ]
  },
  {
   "cell_type": "code",
   "execution_count": 183,
   "metadata": {},
   "outputs": [
    {
     "data": {
      "text/html": [
       "<div>\n",
       "<style scoped>\n",
       "    .dataframe tbody tr th:only-of-type {\n",
       "        vertical-align: middle;\n",
       "    }\n",
       "\n",
       "    .dataframe tbody tr th {\n",
       "        vertical-align: top;\n",
       "    }\n",
       "\n",
       "    .dataframe thead th {\n",
       "        text-align: right;\n",
       "    }\n",
       "</style>\n",
       "<table border=\"1\" class=\"dataframe\">\n",
       "  <thead>\n",
       "    <tr style=\"text-align: right;\">\n",
       "      <th></th>\n",
       "      <th>Country/Region</th>\n",
       "      <th>Confirmed</th>\n",
       "      <th>Active</th>\n",
       "      <th>Recovered</th>\n",
       "      <th>Deaths</th>\n",
       "      <th>lat</th>\n",
       "      <th>long</th>\n",
       "      <th>Death rate [%]</th>\n",
       "    </tr>\n",
       "  </thead>\n",
       "  <tbody>\n",
       "    <tr>\n",
       "      <th>0</th>\n",
       "      <td>US</td>\n",
       "      <td>83836</td>\n",
       "      <td>81946</td>\n",
       "      <td>681</td>\n",
       "      <td>1209</td>\n",
       "      <td>38.907200</td>\n",
       "      <td>-77.036900</td>\n",
       "      <td>1.44</td>\n",
       "    </tr>\n",
       "    <tr>\n",
       "      <th>1</th>\n",
       "      <td>Italy</td>\n",
       "      <td>80589</td>\n",
       "      <td>62013</td>\n",
       "      <td>10361</td>\n",
       "      <td>8215</td>\n",
       "      <td>41.871940</td>\n",
       "      <td>12.567380</td>\n",
       "      <td>10.19</td>\n",
       "    </tr>\n",
       "    <tr>\n",
       "      <th>2</th>\n",
       "      <td>Spain</td>\n",
       "      <td>57786</td>\n",
       "      <td>46406</td>\n",
       "      <td>7015</td>\n",
       "      <td>4365</td>\n",
       "      <td>40.463667</td>\n",
       "      <td>-3.749220</td>\n",
       "      <td>7.55</td>\n",
       "    </tr>\n",
       "    <tr>\n",
       "      <th>3</th>\n",
       "      <td>Germany</td>\n",
       "      <td>43938</td>\n",
       "      <td>37998</td>\n",
       "      <td>5673</td>\n",
       "      <td>267</td>\n",
       "      <td>51.165691</td>\n",
       "      <td>10.451526</td>\n",
       "      <td>0.61</td>\n",
       "    </tr>\n",
       "    <tr>\n",
       "      <th>4</th>\n",
       "      <td>France</td>\n",
       "      <td>29551</td>\n",
       "      <td>22898</td>\n",
       "      <td>4955</td>\n",
       "      <td>1698</td>\n",
       "      <td>48.856600</td>\n",
       "      <td>2.352200</td>\n",
       "      <td>5.75</td>\n",
       "    </tr>\n",
       "    <tr>\n",
       "      <th>5</th>\n",
       "      <td>Iran</td>\n",
       "      <td>29406</td>\n",
       "      <td>16715</td>\n",
       "      <td>10457</td>\n",
       "      <td>2234</td>\n",
       "      <td>32.427908</td>\n",
       "      <td>53.688046</td>\n",
       "      <td>7.60</td>\n",
       "    </tr>\n",
       "    <tr>\n",
       "      <th>6</th>\n",
       "      <td>Switzerland</td>\n",
       "      <td>11811</td>\n",
       "      <td>11489</td>\n",
       "      <td>131</td>\n",
       "      <td>191</td>\n",
       "      <td>46.818200</td>\n",
       "      <td>8.227500</td>\n",
       "      <td>1.62</td>\n",
       "    </tr>\n",
       "    <tr>\n",
       "      <th>7</th>\n",
       "      <td>United Kingdom</td>\n",
       "      <td>11812</td>\n",
       "      <td>11082</td>\n",
       "      <td>150</td>\n",
       "      <td>580</td>\n",
       "      <td>51.507400</td>\n",
       "      <td>0.127800</td>\n",
       "      <td>4.91</td>\n",
       "    </tr>\n",
       "    <tr>\n",
       "      <th>8</th>\n",
       "      <td>Netherlands</td>\n",
       "      <td>7468</td>\n",
       "      <td>7027</td>\n",
       "      <td>6</td>\n",
       "      <td>435</td>\n",
       "      <td>52.366700</td>\n",
       "      <td>4.894500</td>\n",
       "      <td>5.82</td>\n",
       "    </tr>\n",
       "    <tr>\n",
       "      <th>9</th>\n",
       "      <td>Austria</td>\n",
       "      <td>6909</td>\n",
       "      <td>6748</td>\n",
       "      <td>112</td>\n",
       "      <td>49</td>\n",
       "      <td>47.516200</td>\n",
       "      <td>14.550100</td>\n",
       "      <td>0.71</td>\n",
       "    </tr>\n",
       "    <tr>\n",
       "      <th>10</th>\n",
       "      <td>Belgium</td>\n",
       "      <td>6235</td>\n",
       "      <td>5340</td>\n",
       "      <td>675</td>\n",
       "      <td>220</td>\n",
       "      <td>50.833300</td>\n",
       "      <td>4.469936</td>\n",
       "      <td>3.53</td>\n",
       "    </tr>\n",
       "    <tr>\n",
       "      <th>11</th>\n",
       "      <td>South Korea</td>\n",
       "      <td>9241</td>\n",
       "      <td>4966</td>\n",
       "      <td>4144</td>\n",
       "      <td>131</td>\n",
       "      <td>35.907757</td>\n",
       "      <td>127.766922</td>\n",
       "      <td>1.42</td>\n",
       "    </tr>\n",
       "    <tr>\n",
       "      <th>12</th>\n",
       "      <td>China</td>\n",
       "      <td>81782</td>\n",
       "      <td>4310</td>\n",
       "      <td>74181</td>\n",
       "      <td>3291</td>\n",
       "      <td>35.861700</td>\n",
       "      <td>104.195400</td>\n",
       "      <td>4.02</td>\n",
       "    </tr>\n",
       "    <tr>\n",
       "      <th>13</th>\n",
       "      <td>Canada</td>\n",
       "      <td>4042</td>\n",
       "      <td>3820</td>\n",
       "      <td>184</td>\n",
       "      <td>38</td>\n",
       "      <td>45.421500</td>\n",
       "      <td>-75.697200</td>\n",
       "      <td>0.94</td>\n",
       "    </tr>\n",
       "    <tr>\n",
       "      <th>14</th>\n",
       "      <td>Turkey</td>\n",
       "      <td>3629</td>\n",
       "      <td>3528</td>\n",
       "      <td>26</td>\n",
       "      <td>75</td>\n",
       "      <td>38.963700</td>\n",
       "      <td>35.243300</td>\n",
       "      <td>2.07</td>\n",
       "    </tr>\n",
       "  </tbody>\n",
       "</table>\n",
       "</div>"
      ],
      "text/plain": [
       "    Country/Region  Confirmed  Active  Recovered  Deaths        lat  \\\n",
       "0               US      83836   81946        681    1209  38.907200   \n",
       "1            Italy      80589   62013      10361    8215  41.871940   \n",
       "2            Spain      57786   46406       7015    4365  40.463667   \n",
       "3          Germany      43938   37998       5673     267  51.165691   \n",
       "4           France      29551   22898       4955    1698  48.856600   \n",
       "5             Iran      29406   16715      10457    2234  32.427908   \n",
       "6      Switzerland      11811   11489        131     191  46.818200   \n",
       "7   United Kingdom      11812   11082        150     580  51.507400   \n",
       "8      Netherlands       7468    7027          6     435  52.366700   \n",
       "9          Austria       6909    6748        112      49  47.516200   \n",
       "10         Belgium       6235    5340        675     220  50.833300   \n",
       "11     South Korea       9241    4966       4144     131  35.907757   \n",
       "12           China      81782    4310      74181    3291  35.861700   \n",
       "13          Canada       4042    3820        184      38  45.421500   \n",
       "14          Turkey       3629    3528         26      75  38.963700   \n",
       "\n",
       "          long  Death rate [%]  \n",
       "0   -77.036900            1.44  \n",
       "1    12.567380           10.19  \n",
       "2    -3.749220            7.55  \n",
       "3    10.451526            0.61  \n",
       "4     2.352200            5.75  \n",
       "5    53.688046            7.60  \n",
       "6     8.227500            1.62  \n",
       "7     0.127800            4.91  \n",
       "8     4.894500            5.82  \n",
       "9    14.550100            0.71  \n",
       "10    4.469936            3.53  \n",
       "11  127.766922            1.42  \n",
       "12  104.195400            4.02  \n",
       "13  -75.697200            0.94  \n",
       "14   35.243300            2.07  "
      ]
     },
     "execution_count": 183,
     "metadata": {},
     "output_type": "execute_result"
    }
   ],
   "source": [
    "warnings.filterwarnings(\"ignore\")\n",
    "top_fifteen = total_all.head(15)\n",
    "top_fifteen[\"Death rate [%]\"] = round(100*top_fifteen[\"Deaths\"]/ top_fifteen[\"Confirmed\"],2)\n",
    "top_fifteen"
   ]
  },
  {
   "cell_type": "markdown",
   "metadata": {},
   "source": [
    "The value of death rate can be interpreted from several perspective. \n",
    "<br>Italy has the hightest death rate and tests are done massively.\n",
    "<br>As of 13.03.20, most of the victims Covid-19 positive in Italy were 70 years old and older [1](https://www.medrxiv.org/content/10.1101/2020.03.15.20036293v1.full.pdf).\n",
    "<br>According to a study by the Leverhulme Centre for Demographic Science at the University of Oxford [1](https://www.medrxiv.org/content/10.1101/2020.03.15.20036293v1.full.pdf) and a publication in FAZ [2](https://m.faz.net/aktuell/wissen/geist-soziales/coronavirus-pandemie-warum-ist-es-in-italien-so-schlimm-16693408.html), some of the main reasons for Italy's high death rate are:\n",
    "<br>* Italy is the world's second oldest population after Japan with 23% of the population aged 65 years and older <br>  compared to 13.2% younger than 16 year old.\n",
    "<br>* Northern Italy, the area in Italy with most cases, is the industrial heart of the country with high pollution <br>  levels and there are many inhabitants suffering from respiratory problems. \n",
    "<br>* Family is very important in Italy and the contact between generations is close, even if multigenerations are not <br>  living during the same roof, they live close by and see each other frequently.\n",
    "<br>* Hugs and kisses on the cheek are common when greeting people in Italy.\n",
    "<br>* The initial lockdown measures in the Northern provices caused a boomerang effect as it caused an exodus and many <br>  students from the North with family in the South travelled home, contributing to the spread of the virus."
   ]
  },
  {
   "cell_type": "code",
   "execution_count": 184,
   "metadata": {},
   "outputs": [
    {
     "data": {
      "application/vnd.plotly.v1+json": {
       "config": {
        "plotlyServerURL": "https://plot.ly"
       },
       "data": [
        {
         "branchvalues": "total",
         "customdata": [
          [
           6909,
           6748,
           112,
           49,
           0.71
          ],
          [
           6235,
           5340,
           675,
           220,
           3.53
          ],
          [
           4042,
           3820,
           184,
           38,
           0.94
          ],
          [
           81782,
           4310,
           74181,
           3291,
           4.02
          ],
          [
           29551,
           22898,
           4955,
           1698,
           5.75
          ],
          [
           43938,
           37998,
           5673,
           267,
           0.61
          ],
          [
           29406,
           16715,
           10457,
           2234,
           7.6
          ],
          [
           80589,
           62013,
           10361,
           8215,
           10.19
          ],
          [
           7468,
           7027,
           6,
           435,
           5.82
          ],
          [
           9241,
           4966,
           4144,
           131,
           1.42
          ],
          [
           57786,
           46406,
           7015,
           4365,
           7.55
          ],
          [
           11811,
           11489,
           131,
           191,
           1.62
          ],
          [
           3629,
           3528,
           26,
           75,
           2.07
          ],
          [
           83836,
           81946,
           681,
           1209,
           1.44
          ],
          [
           11812,
           11082,
           150,
           580,
           4.91
          ]
         ],
         "domain": {
          "x": [
           0,
           1
          ],
          "y": [
           0,
           1
          ]
         },
         "hoverlabel": {
          "namelength": 0
         },
         "hovertemplate": "Confirmed=%{customdata[0]}<br>Active=%{value}<br>Recovered=%{customdata[2]}<br>Deaths=%{customdata[3]}<br>Death rate [%]=%{customdata[4]}<br>labels=%{label}<br>parent=%{parent}<br>id=%{id}",
         "ids": [
          "Austria",
          "Belgium",
          "Canada",
          "China",
          "France",
          "Germany",
          "Iran",
          "Italy",
          "Netherlands",
          "South Korea",
          "Spain",
          "Switzerland",
          "Turkey",
          "US",
          "United Kingdom"
         ],
         "labels": [
          "Austria",
          "Belgium",
          "Canada",
          "China",
          "France",
          "Germany",
          "Iran",
          "Italy",
          "Netherlands",
          "South Korea",
          "Spain",
          "Switzerland",
          "Turkey",
          "US",
          "United Kingdom"
         ],
         "name": "",
         "parents": [
          "",
          "",
          "",
          "",
          "",
          "",
          "",
          "",
          "",
          "",
          "",
          "",
          "",
          "",
          ""
         ],
         "type": "treemap",
         "values": [
          6748,
          5340,
          3820,
          4310,
          22898,
          37998,
          16715,
          62013,
          7027,
          4966,
          46406,
          11489,
          3528,
          81946,
          11082
         ]
        }
       ],
       "layout": {
        "legend": {
         "tracegroupgap": 0
        },
        "template": {
         "data": {
          "bar": [
           {
            "error_x": {
             "color": "#2a3f5f"
            },
            "error_y": {
             "color": "#2a3f5f"
            },
            "marker": {
             "line": {
              "color": "#E5ECF6",
              "width": 0.5
             }
            },
            "type": "bar"
           }
          ],
          "barpolar": [
           {
            "marker": {
             "line": {
              "color": "#E5ECF6",
              "width": 0.5
             }
            },
            "type": "barpolar"
           }
          ],
          "carpet": [
           {
            "aaxis": {
             "endlinecolor": "#2a3f5f",
             "gridcolor": "white",
             "linecolor": "white",
             "minorgridcolor": "white",
             "startlinecolor": "#2a3f5f"
            },
            "baxis": {
             "endlinecolor": "#2a3f5f",
             "gridcolor": "white",
             "linecolor": "white",
             "minorgridcolor": "white",
             "startlinecolor": "#2a3f5f"
            },
            "type": "carpet"
           }
          ],
          "choropleth": [
           {
            "colorbar": {
             "outlinewidth": 0,
             "ticks": ""
            },
            "type": "choropleth"
           }
          ],
          "contour": [
           {
            "colorbar": {
             "outlinewidth": 0,
             "ticks": ""
            },
            "colorscale": [
             [
              0,
              "#0d0887"
             ],
             [
              0.1111111111111111,
              "#46039f"
             ],
             [
              0.2222222222222222,
              "#7201a8"
             ],
             [
              0.3333333333333333,
              "#9c179e"
             ],
             [
              0.4444444444444444,
              "#bd3786"
             ],
             [
              0.5555555555555556,
              "#d8576b"
             ],
             [
              0.6666666666666666,
              "#ed7953"
             ],
             [
              0.7777777777777778,
              "#fb9f3a"
             ],
             [
              0.8888888888888888,
              "#fdca26"
             ],
             [
              1,
              "#f0f921"
             ]
            ],
            "type": "contour"
           }
          ],
          "contourcarpet": [
           {
            "colorbar": {
             "outlinewidth": 0,
             "ticks": ""
            },
            "type": "contourcarpet"
           }
          ],
          "heatmap": [
           {
            "colorbar": {
             "outlinewidth": 0,
             "ticks": ""
            },
            "colorscale": [
             [
              0,
              "#0d0887"
             ],
             [
              0.1111111111111111,
              "#46039f"
             ],
             [
              0.2222222222222222,
              "#7201a8"
             ],
             [
              0.3333333333333333,
              "#9c179e"
             ],
             [
              0.4444444444444444,
              "#bd3786"
             ],
             [
              0.5555555555555556,
              "#d8576b"
             ],
             [
              0.6666666666666666,
              "#ed7953"
             ],
             [
              0.7777777777777778,
              "#fb9f3a"
             ],
             [
              0.8888888888888888,
              "#fdca26"
             ],
             [
              1,
              "#f0f921"
             ]
            ],
            "type": "heatmap"
           }
          ],
          "heatmapgl": [
           {
            "colorbar": {
             "outlinewidth": 0,
             "ticks": ""
            },
            "colorscale": [
             [
              0,
              "#0d0887"
             ],
             [
              0.1111111111111111,
              "#46039f"
             ],
             [
              0.2222222222222222,
              "#7201a8"
             ],
             [
              0.3333333333333333,
              "#9c179e"
             ],
             [
              0.4444444444444444,
              "#bd3786"
             ],
             [
              0.5555555555555556,
              "#d8576b"
             ],
             [
              0.6666666666666666,
              "#ed7953"
             ],
             [
              0.7777777777777778,
              "#fb9f3a"
             ],
             [
              0.8888888888888888,
              "#fdca26"
             ],
             [
              1,
              "#f0f921"
             ]
            ],
            "type": "heatmapgl"
           }
          ],
          "histogram": [
           {
            "marker": {
             "colorbar": {
              "outlinewidth": 0,
              "ticks": ""
             }
            },
            "type": "histogram"
           }
          ],
          "histogram2d": [
           {
            "colorbar": {
             "outlinewidth": 0,
             "ticks": ""
            },
            "colorscale": [
             [
              0,
              "#0d0887"
             ],
             [
              0.1111111111111111,
              "#46039f"
             ],
             [
              0.2222222222222222,
              "#7201a8"
             ],
             [
              0.3333333333333333,
              "#9c179e"
             ],
             [
              0.4444444444444444,
              "#bd3786"
             ],
             [
              0.5555555555555556,
              "#d8576b"
             ],
             [
              0.6666666666666666,
              "#ed7953"
             ],
             [
              0.7777777777777778,
              "#fb9f3a"
             ],
             [
              0.8888888888888888,
              "#fdca26"
             ],
             [
              1,
              "#f0f921"
             ]
            ],
            "type": "histogram2d"
           }
          ],
          "histogram2dcontour": [
           {
            "colorbar": {
             "outlinewidth": 0,
             "ticks": ""
            },
            "colorscale": [
             [
              0,
              "#0d0887"
             ],
             [
              0.1111111111111111,
              "#46039f"
             ],
             [
              0.2222222222222222,
              "#7201a8"
             ],
             [
              0.3333333333333333,
              "#9c179e"
             ],
             [
              0.4444444444444444,
              "#bd3786"
             ],
             [
              0.5555555555555556,
              "#d8576b"
             ],
             [
              0.6666666666666666,
              "#ed7953"
             ],
             [
              0.7777777777777778,
              "#fb9f3a"
             ],
             [
              0.8888888888888888,
              "#fdca26"
             ],
             [
              1,
              "#f0f921"
             ]
            ],
            "type": "histogram2dcontour"
           }
          ],
          "mesh3d": [
           {
            "colorbar": {
             "outlinewidth": 0,
             "ticks": ""
            },
            "type": "mesh3d"
           }
          ],
          "parcoords": [
           {
            "line": {
             "colorbar": {
              "outlinewidth": 0,
              "ticks": ""
             }
            },
            "type": "parcoords"
           }
          ],
          "pie": [
           {
            "automargin": true,
            "type": "pie"
           }
          ],
          "scatter": [
           {
            "marker": {
             "colorbar": {
              "outlinewidth": 0,
              "ticks": ""
             }
            },
            "type": "scatter"
           }
          ],
          "scatter3d": [
           {
            "line": {
             "colorbar": {
              "outlinewidth": 0,
              "ticks": ""
             }
            },
            "marker": {
             "colorbar": {
              "outlinewidth": 0,
              "ticks": ""
             }
            },
            "type": "scatter3d"
           }
          ],
          "scattercarpet": [
           {
            "marker": {
             "colorbar": {
              "outlinewidth": 0,
              "ticks": ""
             }
            },
            "type": "scattercarpet"
           }
          ],
          "scattergeo": [
           {
            "marker": {
             "colorbar": {
              "outlinewidth": 0,
              "ticks": ""
             }
            },
            "type": "scattergeo"
           }
          ],
          "scattergl": [
           {
            "marker": {
             "colorbar": {
              "outlinewidth": 0,
              "ticks": ""
             }
            },
            "type": "scattergl"
           }
          ],
          "scattermapbox": [
           {
            "marker": {
             "colorbar": {
              "outlinewidth": 0,
              "ticks": ""
             }
            },
            "type": "scattermapbox"
           }
          ],
          "scatterpolar": [
           {
            "marker": {
             "colorbar": {
              "outlinewidth": 0,
              "ticks": ""
             }
            },
            "type": "scatterpolar"
           }
          ],
          "scatterpolargl": [
           {
            "marker": {
             "colorbar": {
              "outlinewidth": 0,
              "ticks": ""
             }
            },
            "type": "scatterpolargl"
           }
          ],
          "scatterternary": [
           {
            "marker": {
             "colorbar": {
              "outlinewidth": 0,
              "ticks": ""
             }
            },
            "type": "scatterternary"
           }
          ],
          "surface": [
           {
            "colorbar": {
             "outlinewidth": 0,
             "ticks": ""
            },
            "colorscale": [
             [
              0,
              "#0d0887"
             ],
             [
              0.1111111111111111,
              "#46039f"
             ],
             [
              0.2222222222222222,
              "#7201a8"
             ],
             [
              0.3333333333333333,
              "#9c179e"
             ],
             [
              0.4444444444444444,
              "#bd3786"
             ],
             [
              0.5555555555555556,
              "#d8576b"
             ],
             [
              0.6666666666666666,
              "#ed7953"
             ],
             [
              0.7777777777777778,
              "#fb9f3a"
             ],
             [
              0.8888888888888888,
              "#fdca26"
             ],
             [
              1,
              "#f0f921"
             ]
            ],
            "type": "surface"
           }
          ],
          "table": [
           {
            "cells": {
             "fill": {
              "color": "#EBF0F8"
             },
             "line": {
              "color": "white"
             }
            },
            "header": {
             "fill": {
              "color": "#C8D4E3"
             },
             "line": {
              "color": "white"
             }
            },
            "type": "table"
           }
          ]
         },
         "layout": {
          "annotationdefaults": {
           "arrowcolor": "#2a3f5f",
           "arrowhead": 0,
           "arrowwidth": 1
          },
          "coloraxis": {
           "colorbar": {
            "outlinewidth": 0,
            "ticks": ""
           }
          },
          "colorscale": {
           "diverging": [
            [
             0,
             "#8e0152"
            ],
            [
             0.1,
             "#c51b7d"
            ],
            [
             0.2,
             "#de77ae"
            ],
            [
             0.3,
             "#f1b6da"
            ],
            [
             0.4,
             "#fde0ef"
            ],
            [
             0.5,
             "#f7f7f7"
            ],
            [
             0.6,
             "#e6f5d0"
            ],
            [
             0.7,
             "#b8e186"
            ],
            [
             0.8,
             "#7fbc41"
            ],
            [
             0.9,
             "#4d9221"
            ],
            [
             1,
             "#276419"
            ]
           ],
           "sequential": [
            [
             0,
             "#0d0887"
            ],
            [
             0.1111111111111111,
             "#46039f"
            ],
            [
             0.2222222222222222,
             "#7201a8"
            ],
            [
             0.3333333333333333,
             "#9c179e"
            ],
            [
             0.4444444444444444,
             "#bd3786"
            ],
            [
             0.5555555555555556,
             "#d8576b"
            ],
            [
             0.6666666666666666,
             "#ed7953"
            ],
            [
             0.7777777777777778,
             "#fb9f3a"
            ],
            [
             0.8888888888888888,
             "#fdca26"
            ],
            [
             1,
             "#f0f921"
            ]
           ],
           "sequentialminus": [
            [
             0,
             "#0d0887"
            ],
            [
             0.1111111111111111,
             "#46039f"
            ],
            [
             0.2222222222222222,
             "#7201a8"
            ],
            [
             0.3333333333333333,
             "#9c179e"
            ],
            [
             0.4444444444444444,
             "#bd3786"
            ],
            [
             0.5555555555555556,
             "#d8576b"
            ],
            [
             0.6666666666666666,
             "#ed7953"
            ],
            [
             0.7777777777777778,
             "#fb9f3a"
            ],
            [
             0.8888888888888888,
             "#fdca26"
            ],
            [
             1,
             "#f0f921"
            ]
           ]
          },
          "colorway": [
           "#636efa",
           "#EF553B",
           "#00cc96",
           "#ab63fa",
           "#FFA15A",
           "#19d3f3",
           "#FF6692",
           "#B6E880",
           "#FF97FF",
           "#FECB52"
          ],
          "font": {
           "color": "#2a3f5f"
          },
          "geo": {
           "bgcolor": "white",
           "lakecolor": "white",
           "landcolor": "#E5ECF6",
           "showlakes": true,
           "showland": true,
           "subunitcolor": "white"
          },
          "hoverlabel": {
           "align": "left"
          },
          "hovermode": "closest",
          "mapbox": {
           "style": "light"
          },
          "paper_bgcolor": "white",
          "plot_bgcolor": "#E5ECF6",
          "polar": {
           "angularaxis": {
            "gridcolor": "white",
            "linecolor": "white",
            "ticks": ""
           },
           "bgcolor": "#E5ECF6",
           "radialaxis": {
            "gridcolor": "white",
            "linecolor": "white",
            "ticks": ""
           }
          },
          "scene": {
           "xaxis": {
            "backgroundcolor": "#E5ECF6",
            "gridcolor": "white",
            "gridwidth": 2,
            "linecolor": "white",
            "showbackground": true,
            "ticks": "",
            "zerolinecolor": "white"
           },
           "yaxis": {
            "backgroundcolor": "#E5ECF6",
            "gridcolor": "white",
            "gridwidth": 2,
            "linecolor": "white",
            "showbackground": true,
            "ticks": "",
            "zerolinecolor": "white"
           },
           "zaxis": {
            "backgroundcolor": "#E5ECF6",
            "gridcolor": "white",
            "gridwidth": 2,
            "linecolor": "white",
            "showbackground": true,
            "ticks": "",
            "zerolinecolor": "white"
           }
          },
          "shapedefaults": {
           "line": {
            "color": "#2a3f5f"
           }
          },
          "ternary": {
           "aaxis": {
            "gridcolor": "white",
            "linecolor": "white",
            "ticks": ""
           },
           "baxis": {
            "gridcolor": "white",
            "linecolor": "white",
            "ticks": ""
           },
           "bgcolor": "#E5ECF6",
           "caxis": {
            "gridcolor": "white",
            "linecolor": "white",
            "ticks": ""
           }
          },
          "title": {
           "x": 0.05
          },
          "xaxis": {
           "automargin": true,
           "gridcolor": "white",
           "linecolor": "white",
           "ticks": "",
           "title": {
            "standoff": 15
           },
           "zerolinecolor": "white",
           "zerolinewidth": 2
          },
          "yaxis": {
           "automargin": true,
           "gridcolor": "white",
           "linecolor": "white",
           "ticks": "",
           "title": {
            "standoff": 15
           },
           "zerolinecolor": "white",
           "zerolinewidth": 2
          }
         }
        },
        "title": {
         "text": "Top 15 Countries with Active Cases: status 03-26-2020"
        },
        "treemapcolorway": [
         "rgb(95, 70, 144)",
         "rgb(29, 105, 150)",
         "rgb(56, 166, 165)",
         "rgb(15, 133, 84)",
         "rgb(115, 175, 72)",
         "rgb(237, 173, 8)",
         "rgb(225, 124, 5)",
         "rgb(204, 80, 62)",
         "rgb(148, 52, 110)",
         "rgb(111, 64, 112)",
         "rgb(102, 102, 102)"
        ]
       }
      },
      "text/html": [
       "<div>\n",
       "        \n",
       "        \n",
       "            <div id=\"a68e3ae1-eb90-44f1-b05b-775cec9b5311\" class=\"plotly-graph-div\" style=\"height:525px; width:100%;\"></div>\n",
       "            <script type=\"text/javascript\">\n",
       "                require([\"plotly\"], function(Plotly) {\n",
       "                    window.PLOTLYENV=window.PLOTLYENV || {};\n",
       "                    \n",
       "                if (document.getElementById(\"a68e3ae1-eb90-44f1-b05b-775cec9b5311\")) {\n",
       "                    Plotly.newPlot(\n",
       "                        'a68e3ae1-eb90-44f1-b05b-775cec9b5311',\n",
       "                        [{\"branchvalues\": \"total\", \"customdata\": [[6909.0, 6748.0, 112.0, 49.0, 0.71], [6235.0, 5340.0, 675.0, 220.0, 3.53], [4042.0, 3820.0, 184.0, 38.0, 0.94], [81782.0, 4310.0, 74181.0, 3291.0, 4.02], [29551.0, 22898.0, 4955.0, 1698.0, 5.75], [43938.0, 37998.0, 5673.0, 267.0, 0.61], [29406.0, 16715.0, 10457.0, 2234.0, 7.6], [80589.0, 62013.0, 10361.0, 8215.0, 10.19], [7468.0, 7027.0, 6.0, 435.0, 5.82], [9241.0, 4966.0, 4144.0, 131.0, 1.42], [57786.0, 46406.0, 7015.0, 4365.0, 7.55], [11811.0, 11489.0, 131.0, 191.0, 1.62], [3629.0, 3528.0, 26.0, 75.0, 2.07], [83836.0, 81946.0, 681.0, 1209.0, 1.44], [11812.0, 11082.0, 150.0, 580.0, 4.91]], \"domain\": {\"x\": [0.0, 1.0], \"y\": [0.0, 1.0]}, \"hoverlabel\": {\"namelength\": 0}, \"hovertemplate\": \"Confirmed=%{customdata[0]}<br>Active=%{value}<br>Recovered=%{customdata[2]}<br>Deaths=%{customdata[3]}<br>Death rate [%]=%{customdata[4]}<br>labels=%{label}<br>parent=%{parent}<br>id=%{id}\", \"ids\": [\"Austria\", \"Belgium\", \"Canada\", \"China\", \"France\", \"Germany\", \"Iran\", \"Italy\", \"Netherlands\", \"South Korea\", \"Spain\", \"Switzerland\", \"Turkey\", \"US\", \"United Kingdom\"], \"labels\": [\"Austria\", \"Belgium\", \"Canada\", \"China\", \"France\", \"Germany\", \"Iran\", \"Italy\", \"Netherlands\", \"South Korea\", \"Spain\", \"Switzerland\", \"Turkey\", \"US\", \"United Kingdom\"], \"name\": \"\", \"parents\": [\"\", \"\", \"\", \"\", \"\", \"\", \"\", \"\", \"\", \"\", \"\", \"\", \"\", \"\", \"\"], \"type\": \"treemap\", \"values\": [6748, 5340, 3820, 4310, 22898, 37998, 16715, 62013, 7027, 4966, 46406, 11489, 3528, 81946, 11082]}],\n",
       "                        {\"legend\": {\"tracegroupgap\": 0}, \"template\": {\"data\": {\"bar\": [{\"error_x\": {\"color\": \"#2a3f5f\"}, \"error_y\": {\"color\": \"#2a3f5f\"}, \"marker\": {\"line\": {\"color\": \"#E5ECF6\", \"width\": 0.5}}, \"type\": \"bar\"}], \"barpolar\": [{\"marker\": {\"line\": {\"color\": \"#E5ECF6\", \"width\": 0.5}}, \"type\": \"barpolar\"}], \"carpet\": [{\"aaxis\": {\"endlinecolor\": \"#2a3f5f\", \"gridcolor\": \"white\", \"linecolor\": \"white\", \"minorgridcolor\": \"white\", \"startlinecolor\": \"#2a3f5f\"}, \"baxis\": {\"endlinecolor\": \"#2a3f5f\", \"gridcolor\": \"white\", \"linecolor\": \"white\", \"minorgridcolor\": \"white\", \"startlinecolor\": \"#2a3f5f\"}, \"type\": \"carpet\"}], \"choropleth\": [{\"colorbar\": {\"outlinewidth\": 0, \"ticks\": \"\"}, \"type\": \"choropleth\"}], \"contour\": [{\"colorbar\": {\"outlinewidth\": 0, \"ticks\": \"\"}, \"colorscale\": [[0.0, \"#0d0887\"], [0.1111111111111111, \"#46039f\"], [0.2222222222222222, \"#7201a8\"], [0.3333333333333333, \"#9c179e\"], [0.4444444444444444, \"#bd3786\"], [0.5555555555555556, \"#d8576b\"], [0.6666666666666666, \"#ed7953\"], [0.7777777777777778, \"#fb9f3a\"], [0.8888888888888888, \"#fdca26\"], [1.0, \"#f0f921\"]], \"type\": \"contour\"}], \"contourcarpet\": [{\"colorbar\": {\"outlinewidth\": 0, \"ticks\": \"\"}, \"type\": \"contourcarpet\"}], \"heatmap\": [{\"colorbar\": {\"outlinewidth\": 0, \"ticks\": \"\"}, \"colorscale\": [[0.0, \"#0d0887\"], [0.1111111111111111, \"#46039f\"], [0.2222222222222222, \"#7201a8\"], [0.3333333333333333, \"#9c179e\"], [0.4444444444444444, \"#bd3786\"], [0.5555555555555556, \"#d8576b\"], [0.6666666666666666, \"#ed7953\"], [0.7777777777777778, \"#fb9f3a\"], [0.8888888888888888, \"#fdca26\"], [1.0, \"#f0f921\"]], \"type\": \"heatmap\"}], \"heatmapgl\": [{\"colorbar\": {\"outlinewidth\": 0, \"ticks\": \"\"}, \"colorscale\": [[0.0, \"#0d0887\"], [0.1111111111111111, \"#46039f\"], [0.2222222222222222, \"#7201a8\"], [0.3333333333333333, \"#9c179e\"], [0.4444444444444444, \"#bd3786\"], [0.5555555555555556, \"#d8576b\"], [0.6666666666666666, \"#ed7953\"], [0.7777777777777778, \"#fb9f3a\"], [0.8888888888888888, \"#fdca26\"], [1.0, \"#f0f921\"]], \"type\": \"heatmapgl\"}], \"histogram\": [{\"marker\": {\"colorbar\": {\"outlinewidth\": 0, \"ticks\": \"\"}}, \"type\": \"histogram\"}], \"histogram2d\": [{\"colorbar\": {\"outlinewidth\": 0, \"ticks\": \"\"}, \"colorscale\": [[0.0, \"#0d0887\"], [0.1111111111111111, \"#46039f\"], [0.2222222222222222, \"#7201a8\"], [0.3333333333333333, \"#9c179e\"], [0.4444444444444444, \"#bd3786\"], [0.5555555555555556, \"#d8576b\"], [0.6666666666666666, \"#ed7953\"], [0.7777777777777778, \"#fb9f3a\"], [0.8888888888888888, \"#fdca26\"], [1.0, \"#f0f921\"]], \"type\": \"histogram2d\"}], \"histogram2dcontour\": [{\"colorbar\": {\"outlinewidth\": 0, \"ticks\": \"\"}, \"colorscale\": [[0.0, \"#0d0887\"], [0.1111111111111111, \"#46039f\"], [0.2222222222222222, \"#7201a8\"], [0.3333333333333333, \"#9c179e\"], [0.4444444444444444, \"#bd3786\"], [0.5555555555555556, \"#d8576b\"], [0.6666666666666666, \"#ed7953\"], [0.7777777777777778, \"#fb9f3a\"], [0.8888888888888888, \"#fdca26\"], [1.0, \"#f0f921\"]], \"type\": \"histogram2dcontour\"}], \"mesh3d\": [{\"colorbar\": {\"outlinewidth\": 0, \"ticks\": \"\"}, \"type\": \"mesh3d\"}], \"parcoords\": [{\"line\": {\"colorbar\": {\"outlinewidth\": 0, \"ticks\": \"\"}}, \"type\": \"parcoords\"}], \"pie\": [{\"automargin\": true, \"type\": \"pie\"}], \"scatter\": [{\"marker\": {\"colorbar\": {\"outlinewidth\": 0, \"ticks\": \"\"}}, \"type\": \"scatter\"}], \"scatter3d\": [{\"line\": {\"colorbar\": {\"outlinewidth\": 0, \"ticks\": \"\"}}, \"marker\": {\"colorbar\": {\"outlinewidth\": 0, \"ticks\": \"\"}}, \"type\": \"scatter3d\"}], \"scattercarpet\": [{\"marker\": {\"colorbar\": {\"outlinewidth\": 0, \"ticks\": \"\"}}, \"type\": \"scattercarpet\"}], \"scattergeo\": [{\"marker\": {\"colorbar\": {\"outlinewidth\": 0, \"ticks\": \"\"}}, \"type\": \"scattergeo\"}], \"scattergl\": [{\"marker\": {\"colorbar\": {\"outlinewidth\": 0, \"ticks\": \"\"}}, \"type\": \"scattergl\"}], \"scattermapbox\": [{\"marker\": {\"colorbar\": {\"outlinewidth\": 0, \"ticks\": \"\"}}, \"type\": \"scattermapbox\"}], \"scatterpolar\": [{\"marker\": {\"colorbar\": {\"outlinewidth\": 0, \"ticks\": \"\"}}, \"type\": \"scatterpolar\"}], \"scatterpolargl\": [{\"marker\": {\"colorbar\": {\"outlinewidth\": 0, \"ticks\": \"\"}}, \"type\": \"scatterpolargl\"}], \"scatterternary\": [{\"marker\": {\"colorbar\": {\"outlinewidth\": 0, \"ticks\": \"\"}}, \"type\": \"scatterternary\"}], \"surface\": [{\"colorbar\": {\"outlinewidth\": 0, \"ticks\": \"\"}, \"colorscale\": [[0.0, \"#0d0887\"], [0.1111111111111111, \"#46039f\"], [0.2222222222222222, \"#7201a8\"], [0.3333333333333333, \"#9c179e\"], [0.4444444444444444, \"#bd3786\"], [0.5555555555555556, \"#d8576b\"], [0.6666666666666666, \"#ed7953\"], [0.7777777777777778, \"#fb9f3a\"], [0.8888888888888888, \"#fdca26\"], [1.0, \"#f0f921\"]], \"type\": \"surface\"}], \"table\": [{\"cells\": {\"fill\": {\"color\": \"#EBF0F8\"}, \"line\": {\"color\": \"white\"}}, \"header\": {\"fill\": {\"color\": \"#C8D4E3\"}, \"line\": {\"color\": \"white\"}}, \"type\": \"table\"}]}, \"layout\": {\"annotationdefaults\": {\"arrowcolor\": \"#2a3f5f\", \"arrowhead\": 0, \"arrowwidth\": 1}, \"coloraxis\": {\"colorbar\": {\"outlinewidth\": 0, \"ticks\": \"\"}}, \"colorscale\": {\"diverging\": [[0, \"#8e0152\"], [0.1, \"#c51b7d\"], [0.2, \"#de77ae\"], [0.3, \"#f1b6da\"], [0.4, \"#fde0ef\"], [0.5, \"#f7f7f7\"], [0.6, \"#e6f5d0\"], [0.7, \"#b8e186\"], [0.8, \"#7fbc41\"], [0.9, \"#4d9221\"], [1, \"#276419\"]], \"sequential\": [[0.0, \"#0d0887\"], [0.1111111111111111, \"#46039f\"], [0.2222222222222222, \"#7201a8\"], [0.3333333333333333, \"#9c179e\"], [0.4444444444444444, \"#bd3786\"], [0.5555555555555556, \"#d8576b\"], [0.6666666666666666, \"#ed7953\"], [0.7777777777777778, \"#fb9f3a\"], [0.8888888888888888, \"#fdca26\"], [1.0, \"#f0f921\"]], \"sequentialminus\": [[0.0, \"#0d0887\"], [0.1111111111111111, \"#46039f\"], [0.2222222222222222, \"#7201a8\"], [0.3333333333333333, \"#9c179e\"], [0.4444444444444444, \"#bd3786\"], [0.5555555555555556, \"#d8576b\"], [0.6666666666666666, \"#ed7953\"], [0.7777777777777778, \"#fb9f3a\"], [0.8888888888888888, \"#fdca26\"], [1.0, \"#f0f921\"]]}, \"colorway\": [\"#636efa\", \"#EF553B\", \"#00cc96\", \"#ab63fa\", \"#FFA15A\", \"#19d3f3\", \"#FF6692\", \"#B6E880\", \"#FF97FF\", \"#FECB52\"], \"font\": {\"color\": \"#2a3f5f\"}, \"geo\": {\"bgcolor\": \"white\", \"lakecolor\": \"white\", \"landcolor\": \"#E5ECF6\", \"showlakes\": true, \"showland\": true, \"subunitcolor\": \"white\"}, \"hoverlabel\": {\"align\": \"left\"}, \"hovermode\": \"closest\", \"mapbox\": {\"style\": \"light\"}, \"paper_bgcolor\": \"white\", \"plot_bgcolor\": \"#E5ECF6\", \"polar\": {\"angularaxis\": {\"gridcolor\": \"white\", \"linecolor\": \"white\", \"ticks\": \"\"}, \"bgcolor\": \"#E5ECF6\", \"radialaxis\": {\"gridcolor\": \"white\", \"linecolor\": \"white\", \"ticks\": \"\"}}, \"scene\": {\"xaxis\": {\"backgroundcolor\": \"#E5ECF6\", \"gridcolor\": \"white\", \"gridwidth\": 2, \"linecolor\": \"white\", \"showbackground\": true, \"ticks\": \"\", \"zerolinecolor\": \"white\"}, \"yaxis\": {\"backgroundcolor\": \"#E5ECF6\", \"gridcolor\": \"white\", \"gridwidth\": 2, \"linecolor\": \"white\", \"showbackground\": true, \"ticks\": \"\", \"zerolinecolor\": \"white\"}, \"zaxis\": {\"backgroundcolor\": \"#E5ECF6\", \"gridcolor\": \"white\", \"gridwidth\": 2, \"linecolor\": \"white\", \"showbackground\": true, \"ticks\": \"\", \"zerolinecolor\": \"white\"}}, \"shapedefaults\": {\"line\": {\"color\": \"#2a3f5f\"}}, \"ternary\": {\"aaxis\": {\"gridcolor\": \"white\", \"linecolor\": \"white\", \"ticks\": \"\"}, \"baxis\": {\"gridcolor\": \"white\", \"linecolor\": \"white\", \"ticks\": \"\"}, \"bgcolor\": \"#E5ECF6\", \"caxis\": {\"gridcolor\": \"white\", \"linecolor\": \"white\", \"ticks\": \"\"}}, \"title\": {\"x\": 0.05}, \"xaxis\": {\"automargin\": true, \"gridcolor\": \"white\", \"linecolor\": \"white\", \"ticks\": \"\", \"title\": {\"standoff\": 15}, \"zerolinecolor\": \"white\", \"zerolinewidth\": 2}, \"yaxis\": {\"automargin\": true, \"gridcolor\": \"white\", \"linecolor\": \"white\", \"ticks\": \"\", \"title\": {\"standoff\": 15}, \"zerolinecolor\": \"white\", \"zerolinewidth\": 2}}}, \"title\": {\"text\": \"Top 15 Countries with Active Cases: status 03-26-2020\"}, \"treemapcolorway\": [\"rgb(95, 70, 144)\", \"rgb(29, 105, 150)\", \"rgb(56, 166, 165)\", \"rgb(15, 133, 84)\", \"rgb(115, 175, 72)\", \"rgb(237, 173, 8)\", \"rgb(225, 124, 5)\", \"rgb(204, 80, 62)\", \"rgb(148, 52, 110)\", \"rgb(111, 64, 112)\", \"rgb(102, 102, 102)\"]},\n",
       "                        {\"responsive\": true}\n",
       "                    ).then(function(){\n",
       "                            \n",
       "var gd = document.getElementById('a68e3ae1-eb90-44f1-b05b-775cec9b5311');\n",
       "var x = new MutationObserver(function (mutations, observer) {{\n",
       "        var display = window.getComputedStyle(gd).display;\n",
       "        if (!display || display === 'none') {{\n",
       "            console.log([gd, 'removed!']);\n",
       "            Plotly.purge(gd);\n",
       "            observer.disconnect();\n",
       "        }}\n",
       "}});\n",
       "\n",
       "// Listen for the removal of the full notebook cells\n",
       "var notebookContainer = gd.closest('#notebook-container');\n",
       "if (notebookContainer) {{\n",
       "    x.observe(notebookContainer, {childList: true});\n",
       "}}\n",
       "\n",
       "// Listen for the clearing of the current output cell\n",
       "var outputEl = gd.closest('.output');\n",
       "if (outputEl) {{\n",
       "    x.observe(outputEl, {childList: true});\n",
       "}}\n",
       "\n",
       "                        })\n",
       "                };\n",
       "                });\n",
       "            </script>\n",
       "        </div>"
      ]
     },
     "metadata": {},
     "output_type": "display_data"
    }
   ],
   "source": [
    "fig = px.treemap(top_fifteen,\n",
    "                 path=['Country/Region'],\n",
    "                 values=top_fifteen['Active'],\n",
    "                 title='Top 15 Countries with Active Cases: status {}'.format(yesterday),\n",
    "                 hover_data=['Confirmed', 'Active', 'Recovered','Deaths','Death rate [%]'],\n",
    "                 color_discrete_sequence=px.colors.qualitative.Prism)\n",
    "fig.show()"
   ]
  },
  {
   "cell_type": "markdown",
   "metadata": {},
   "source": [
    "Summary data per country is shown if you point on each country's block."
   ]
  },
  {
   "cell_type": "markdown",
   "metadata": {},
   "source": [
    "## Time trends for top four countries by number cases"
   ]
  },
  {
   "cell_type": "code",
   "execution_count": 185,
   "metadata": {},
   "outputs": [
    {
     "data": {
      "text/plain": [
       "0         US\n",
       "1      Italy\n",
       "2      Spain\n",
       "3    Germany\n",
       "Name: Country/Region, dtype: object"
      ]
     },
     "execution_count": 185,
     "metadata": {},
     "output_type": "execute_result"
    }
   ],
   "source": [
    "top_four = top_fifteen[\"Country/Region\"][0:4]\n",
    "top_four"
   ]
  },
  {
   "cell_type": "markdown",
   "metadata": {},
   "source": [
    "We check the shape of the datasets for worldwide confimed, recovered and fatalities and group them by country to avoid several entries per country. "
   ]
  },
  {
   "cell_type": "code",
   "execution_count": 186,
   "metadata": {},
   "outputs": [
    {
     "data": {
      "text/html": [
       "<div>\n",
       "<style scoped>\n",
       "    .dataframe tbody tr th:only-of-type {\n",
       "        vertical-align: middle;\n",
       "    }\n",
       "\n",
       "    .dataframe tbody tr th {\n",
       "        vertical-align: top;\n",
       "    }\n",
       "\n",
       "    .dataframe thead th {\n",
       "        text-align: right;\n",
       "    }\n",
       "</style>\n",
       "<table border=\"1\" class=\"dataframe\">\n",
       "  <thead>\n",
       "    <tr style=\"text-align: right;\">\n",
       "      <th></th>\n",
       "      <th>Country/Region</th>\n",
       "      <th>Confirmed</th>\n",
       "      <th>Active</th>\n",
       "      <th>Recovered</th>\n",
       "      <th>Deaths</th>\n",
       "      <th>lat</th>\n",
       "      <th>long</th>\n",
       "      <th>Death rate [%]</th>\n",
       "    </tr>\n",
       "  </thead>\n",
       "  <tbody>\n",
       "    <tr>\n",
       "      <th>0</th>\n",
       "      <td>US</td>\n",
       "      <td>83836</td>\n",
       "      <td>81946</td>\n",
       "      <td>681</td>\n",
       "      <td>1209</td>\n",
       "      <td>38.907200</td>\n",
       "      <td>-77.036900</td>\n",
       "      <td>1.44</td>\n",
       "    </tr>\n",
       "    <tr>\n",
       "      <th>1</th>\n",
       "      <td>Italy</td>\n",
       "      <td>80589</td>\n",
       "      <td>62013</td>\n",
       "      <td>10361</td>\n",
       "      <td>8215</td>\n",
       "      <td>41.871940</td>\n",
       "      <td>12.567380</td>\n",
       "      <td>10.19</td>\n",
       "    </tr>\n",
       "    <tr>\n",
       "      <th>2</th>\n",
       "      <td>Spain</td>\n",
       "      <td>57786</td>\n",
       "      <td>46406</td>\n",
       "      <td>7015</td>\n",
       "      <td>4365</td>\n",
       "      <td>40.463667</td>\n",
       "      <td>-3.749220</td>\n",
       "      <td>7.55</td>\n",
       "    </tr>\n",
       "    <tr>\n",
       "      <th>3</th>\n",
       "      <td>Germany</td>\n",
       "      <td>43938</td>\n",
       "      <td>37998</td>\n",
       "      <td>5673</td>\n",
       "      <td>267</td>\n",
       "      <td>51.165691</td>\n",
       "      <td>10.451526</td>\n",
       "      <td>0.61</td>\n",
       "    </tr>\n",
       "    <tr>\n",
       "      <th>4</th>\n",
       "      <td>France</td>\n",
       "      <td>29551</td>\n",
       "      <td>22898</td>\n",
       "      <td>4955</td>\n",
       "      <td>1698</td>\n",
       "      <td>48.856600</td>\n",
       "      <td>2.352200</td>\n",
       "      <td>5.75</td>\n",
       "    </tr>\n",
       "  </tbody>\n",
       "</table>\n",
       "</div>"
      ],
      "text/plain": [
       "  Country/Region  Confirmed  Active  Recovered  Deaths        lat       long  \\\n",
       "0             US      83836   81946        681    1209  38.907200 -77.036900   \n",
       "1          Italy      80589   62013      10361    8215  41.871940  12.567380   \n",
       "2          Spain      57786   46406       7015    4365  40.463667  -3.749220   \n",
       "3        Germany      43938   37998       5673     267  51.165691  10.451526   \n",
       "4         France      29551   22898       4955    1698  48.856600   2.352200   \n",
       "\n",
       "   Death rate [%]  \n",
       "0            1.44  \n",
       "1           10.19  \n",
       "2            7.55  \n",
       "3            0.61  \n",
       "4            5.75  "
      ]
     },
     "execution_count": 186,
     "metadata": {},
     "output_type": "execute_result"
    }
   ],
   "source": [
    "top_fifteen.head()"
   ]
  },
  {
   "cell_type": "code",
   "execution_count": 187,
   "metadata": {},
   "outputs": [
    {
     "name": "stdout",
     "output_type": "stream",
     "text": [
      "Shape of worldwide confirmed cases table: (248, 69)\n",
      "Shape of worldwide fatalities table: (248, 69)\n",
      "Shape of worldwide recovered table: (234, 69)\n"
     ]
    }
   ],
   "source": [
    "print(\"Shape of worldwide confirmed cases table: {}\".format(da_confirmed_w.shape))\n",
    "print(\"Shape of worldwide fatalities table: {}\".format(da_fatalities_w.shape))\n",
    "print(\"Shape of worldwide recovered table: {}\".format(da_recovered_w.shape))"
   ]
  },
  {
   "cell_type": "code",
   "execution_count": 188,
   "metadata": {},
   "outputs": [
    {
     "name": "stdout",
     "output_type": "stream",
     "text": [
      "Length of unique country values for worldwide confirmed cases: 174\n",
      "Length of unique country values for worldwide fatalities: 174\n",
      "Length of unique country values for worldwide recovered: 174\n"
     ]
    }
   ],
   "source": [
    "da_conf_grouped = da_confirmed_w.groupby(\"Country/Region\")\n",
    "da_fat_grouped = da_fatalities_w.groupby(\"Country/Region\")\n",
    "da_rec_grouped = da_recovered_w.groupby(\"Country/Region\")\n",
    "print(\"Length of unique country values for worldwide confirmed cases: {}\".format(len(da_conf_grouped)))\n",
    "print(\"Length of unique country values for worldwide fatalities: {}\".format(len(da_fat_grouped)))\n",
    "print(\"Length of unique country values for worldwide recovered: {}\".format(len(da_rec_grouped)))"
   ]
  },
  {
   "cell_type": "code",
   "execution_count": 189,
   "metadata": {},
   "outputs": [],
   "source": [
    "def top_four_filter(da, top_four, status):\n",
    "    da_filter = pd.DataFrame([da.get_group(x).drop(\n",
    "                            [\"Province/State\", \"Lat\", \"Long\"], axis=1).sum() for x in top_four])\n",
    "    \n",
    "    for x in range(len(da_filter)):\n",
    "        if \"China\" in da_filter.iloc[x,0]:\n",
    "            da_filter.iloc[x,0]=\"China\"\n",
    "        if \"US\" in da_filter.iloc[x,0]:\n",
    "            da_filter.iloc[x,0]=\"US\"\n",
    "            \n",
    "    da_filter[\"Country/Region\"]=da_filter[\"Country/Region\"] + \" \" +status\n",
    "    return da_filter"
   ]
  },
  {
   "cell_type": "markdown",
   "metadata": {},
   "source": [
    "Add China and South Korea to the list for comparison reasons."
   ]
  },
  {
   "cell_type": "code",
   "execution_count": 190,
   "metadata": {},
   "outputs": [
    {
     "data": {
      "text/plain": [
       "0             US\n",
       "1          Italy\n",
       "2          Spain\n",
       "3        Germany\n",
       "4          China\n",
       "5    South Korea\n",
       "dtype: object"
      ]
     },
     "execution_count": 190,
     "metadata": {},
     "output_type": "execute_result"
    }
   ],
   "source": [
    "comparison_countries = pd.Series([\"China\",\"South Korea\"])\n",
    "top_four =top_four.append(comparison_countries, ignore_index=True)\n",
    "top_four"
   ]
  },
  {
   "cell_type": "code",
   "execution_count": 191,
   "metadata": {},
   "outputs": [],
   "source": [
    "comparison_countries = pd.Series([\"China\",\"South Korea\"])\n",
    "top_four.append(comparison_countries)\n",
    "top_four_all = top_four_filter(da_conf_grouped, top_four, \"confirmed\").append(\n",
    "               top_four_filter(da_fat_grouped, top_four, \"fatalities\").append(\n",
    "              top_four_filter(da_rec_grouped, top_four, \"recovered\")))"
   ]
  },
  {
   "cell_type": "code",
   "execution_count": 192,
   "metadata": {},
   "outputs": [],
   "source": [
    "top_four_all = top_four_all.T\n",
    "top_four_all.columns = top_four_all.iloc[0]\n",
    "top_four_all = top_four_all.drop(top_four_all.index[0])\n",
    "top_four_all = top_four_all.reset_index()\n",
    "top_four_all = top_four_all.rename(columns={\"index\":\"Date\"})"
   ]
  },
  {
   "cell_type": "code",
   "execution_count": 193,
   "metadata": {},
   "outputs": [
    {
     "data": {
      "text/html": [
       "<div>\n",
       "<style scoped>\n",
       "    .dataframe tbody tr th:only-of-type {\n",
       "        vertical-align: middle;\n",
       "    }\n",
       "\n",
       "    .dataframe tbody tr th {\n",
       "        vertical-align: top;\n",
       "    }\n",
       "\n",
       "    .dataframe thead th {\n",
       "        text-align: right;\n",
       "    }\n",
       "</style>\n",
       "<table border=\"1\" class=\"dataframe\">\n",
       "  <thead>\n",
       "    <tr style=\"text-align: right;\">\n",
       "      <th>Country/Region</th>\n",
       "      <th>Date</th>\n",
       "      <th>US confirmed</th>\n",
       "      <th>Italy confirmed</th>\n",
       "      <th>Spain confirmed</th>\n",
       "      <th>Germany confirmed</th>\n",
       "      <th>China confirmed</th>\n",
       "      <th>South Korea confirmed</th>\n",
       "      <th>US fatalities</th>\n",
       "      <th>Italy fatalities</th>\n",
       "      <th>Spain fatalities</th>\n",
       "      <th>Germany fatalities</th>\n",
       "      <th>China fatalities</th>\n",
       "      <th>South Korea fatalities</th>\n",
       "      <th>US recovered</th>\n",
       "      <th>Italy recovered</th>\n",
       "      <th>Spain recovered</th>\n",
       "      <th>Germany recovered</th>\n",
       "      <th>China recovered</th>\n",
       "      <th>South Korea recovered</th>\n",
       "    </tr>\n",
       "  </thead>\n",
       "  <tbody>\n",
       "    <tr>\n",
       "      <th>60</th>\n",
       "      <td>3/22/20</td>\n",
       "      <td>33276</td>\n",
       "      <td>59138</td>\n",
       "      <td>28768</td>\n",
       "      <td>24873</td>\n",
       "      <td>81435</td>\n",
       "      <td>8961</td>\n",
       "      <td>417</td>\n",
       "      <td>5476</td>\n",
       "      <td>1772</td>\n",
       "      <td>94</td>\n",
       "      <td>3274</td>\n",
       "      <td>111</td>\n",
       "      <td>178</td>\n",
       "      <td>7024</td>\n",
       "      <td>2575</td>\n",
       "      <td>266</td>\n",
       "      <td>72362</td>\n",
       "      <td>2909</td>\n",
       "    </tr>\n",
       "    <tr>\n",
       "      <th>61</th>\n",
       "      <td>3/23/20</td>\n",
       "      <td>43847</td>\n",
       "      <td>63927</td>\n",
       "      <td>35136</td>\n",
       "      <td>29056</td>\n",
       "      <td>81498</td>\n",
       "      <td>8961</td>\n",
       "      <td>557</td>\n",
       "      <td>6077</td>\n",
       "      <td>2311</td>\n",
       "      <td>123</td>\n",
       "      <td>3274</td>\n",
       "      <td>111</td>\n",
       "      <td>178</td>\n",
       "      <td>7024</td>\n",
       "      <td>2575</td>\n",
       "      <td>266</td>\n",
       "      <td>72814</td>\n",
       "      <td>2909</td>\n",
       "    </tr>\n",
       "    <tr>\n",
       "      <th>62</th>\n",
       "      <td>3/24/20</td>\n",
       "      <td>53740</td>\n",
       "      <td>69176</td>\n",
       "      <td>39885</td>\n",
       "      <td>32986</td>\n",
       "      <td>81591</td>\n",
       "      <td>9037</td>\n",
       "      <td>706</td>\n",
       "      <td>6820</td>\n",
       "      <td>2808</td>\n",
       "      <td>157</td>\n",
       "      <td>3281</td>\n",
       "      <td>120</td>\n",
       "      <td>348</td>\n",
       "      <td>8326</td>\n",
       "      <td>3794</td>\n",
       "      <td>3243</td>\n",
       "      <td>73280</td>\n",
       "      <td>3507</td>\n",
       "    </tr>\n",
       "    <tr>\n",
       "      <th>63</th>\n",
       "      <td>3/25/20</td>\n",
       "      <td>65778</td>\n",
       "      <td>74386</td>\n",
       "      <td>49515</td>\n",
       "      <td>37323</td>\n",
       "      <td>81661</td>\n",
       "      <td>9137</td>\n",
       "      <td>942</td>\n",
       "      <td>7503</td>\n",
       "      <td>3647</td>\n",
       "      <td>206</td>\n",
       "      <td>3285</td>\n",
       "      <td>126</td>\n",
       "      <td>361</td>\n",
       "      <td>9362</td>\n",
       "      <td>5367</td>\n",
       "      <td>3547</td>\n",
       "      <td>73773</td>\n",
       "      <td>3730</td>\n",
       "    </tr>\n",
       "    <tr>\n",
       "      <th>64</th>\n",
       "      <td>3/26/20</td>\n",
       "      <td>83836</td>\n",
       "      <td>80589</td>\n",
       "      <td>57786</td>\n",
       "      <td>43938</td>\n",
       "      <td>81782</td>\n",
       "      <td>9241</td>\n",
       "      <td>1209</td>\n",
       "      <td>8215</td>\n",
       "      <td>4365</td>\n",
       "      <td>267</td>\n",
       "      <td>3291</td>\n",
       "      <td>131</td>\n",
       "      <td>681</td>\n",
       "      <td>10361</td>\n",
       "      <td>7015</td>\n",
       "      <td>5673</td>\n",
       "      <td>74181</td>\n",
       "      <td>4144</td>\n",
       "    </tr>\n",
       "  </tbody>\n",
       "</table>\n",
       "</div>"
      ],
      "text/plain": [
       "Country/Region     Date US confirmed Italy confirmed Spain confirmed  \\\n",
       "60              3/22/20        33276           59138           28768   \n",
       "61              3/23/20        43847           63927           35136   \n",
       "62              3/24/20        53740           69176           39885   \n",
       "63              3/25/20        65778           74386           49515   \n",
       "64              3/26/20        83836           80589           57786   \n",
       "\n",
       "Country/Region Germany confirmed China confirmed South Korea confirmed  \\\n",
       "60                         24873           81435                  8961   \n",
       "61                         29056           81498                  8961   \n",
       "62                         32986           81591                  9037   \n",
       "63                         37323           81661                  9137   \n",
       "64                         43938           81782                  9241   \n",
       "\n",
       "Country/Region US fatalities Italy fatalities Spain fatalities  \\\n",
       "60                       417             5476             1772   \n",
       "61                       557             6077             2311   \n",
       "62                       706             6820             2808   \n",
       "63                       942             7503             3647   \n",
       "64                      1209             8215             4365   \n",
       "\n",
       "Country/Region Germany fatalities China fatalities South Korea fatalities  \\\n",
       "60                             94             3274                    111   \n",
       "61                            123             3274                    111   \n",
       "62                            157             3281                    120   \n",
       "63                            206             3285                    126   \n",
       "64                            267             3291                    131   \n",
       "\n",
       "Country/Region US recovered Italy recovered Spain recovered Germany recovered  \\\n",
       "60                      178            7024            2575               266   \n",
       "61                      178            7024            2575               266   \n",
       "62                      348            8326            3794              3243   \n",
       "63                      361            9362            5367              3547   \n",
       "64                      681           10361            7015              5673   \n",
       "\n",
       "Country/Region China recovered South Korea recovered  \n",
       "60                       72362                  2909  \n",
       "61                       72814                  2909  \n",
       "62                       73280                  3507  \n",
       "63                       73773                  3730  \n",
       "64                       74181                  4144  "
      ]
     },
     "execution_count": 193,
     "metadata": {},
     "output_type": "execute_result"
    }
   ],
   "source": [
    "top_four_all.tail(5)"
   ]
  },
  {
   "cell_type": "code",
   "execution_count": 194,
   "metadata": {},
   "outputs": [
    {
     "data": {
      "text/html": [
       "<div>\n",
       "<style scoped>\n",
       "    .dataframe tbody tr th:only-of-type {\n",
       "        vertical-align: middle;\n",
       "    }\n",
       "\n",
       "    .dataframe tbody tr th {\n",
       "        vertical-align: top;\n",
       "    }\n",
       "\n",
       "    .dataframe thead th {\n",
       "        text-align: right;\n",
       "    }\n",
       "</style>\n",
       "<table border=\"1\" class=\"dataframe\">\n",
       "  <thead>\n",
       "    <tr style=\"text-align: right;\">\n",
       "      <th>Country/Region</th>\n",
       "      <th>Date</th>\n",
       "      <th>US confirmed</th>\n",
       "      <th>Italy confirmed</th>\n",
       "      <th>Spain confirmed</th>\n",
       "      <th>Germany confirmed</th>\n",
       "      <th>China confirmed</th>\n",
       "      <th>South Korea confirmed</th>\n",
       "      <th>US fatalities</th>\n",
       "      <th>Italy fatalities</th>\n",
       "      <th>Spain fatalities</th>\n",
       "      <th>...</th>\n",
       "      <th>Spain recovered</th>\n",
       "      <th>Germany recovered</th>\n",
       "      <th>China recovered</th>\n",
       "      <th>South Korea recovered</th>\n",
       "      <th>US active</th>\n",
       "      <th>Italy active</th>\n",
       "      <th>Spain active</th>\n",
       "      <th>Germany active</th>\n",
       "      <th>China active</th>\n",
       "      <th>South Korea active</th>\n",
       "    </tr>\n",
       "  </thead>\n",
       "  <tbody>\n",
       "    <tr>\n",
       "      <th>60</th>\n",
       "      <td>3/22/20</td>\n",
       "      <td>33276</td>\n",
       "      <td>59138</td>\n",
       "      <td>28768</td>\n",
       "      <td>24873</td>\n",
       "      <td>81435</td>\n",
       "      <td>8961</td>\n",
       "      <td>417</td>\n",
       "      <td>5476</td>\n",
       "      <td>1772</td>\n",
       "      <td>...</td>\n",
       "      <td>2575</td>\n",
       "      <td>266</td>\n",
       "      <td>72362</td>\n",
       "      <td>2909</td>\n",
       "      <td>32681</td>\n",
       "      <td>46638</td>\n",
       "      <td>24421</td>\n",
       "      <td>24513</td>\n",
       "      <td>5799</td>\n",
       "      <td>5941</td>\n",
       "    </tr>\n",
       "    <tr>\n",
       "      <th>61</th>\n",
       "      <td>3/23/20</td>\n",
       "      <td>43847</td>\n",
       "      <td>63927</td>\n",
       "      <td>35136</td>\n",
       "      <td>29056</td>\n",
       "      <td>81498</td>\n",
       "      <td>8961</td>\n",
       "      <td>557</td>\n",
       "      <td>6077</td>\n",
       "      <td>2311</td>\n",
       "      <td>...</td>\n",
       "      <td>2575</td>\n",
       "      <td>266</td>\n",
       "      <td>72814</td>\n",
       "      <td>2909</td>\n",
       "      <td>43112</td>\n",
       "      <td>50826</td>\n",
       "      <td>30250</td>\n",
       "      <td>28667</td>\n",
       "      <td>5410</td>\n",
       "      <td>5941</td>\n",
       "    </tr>\n",
       "    <tr>\n",
       "      <th>62</th>\n",
       "      <td>3/24/20</td>\n",
       "      <td>53740</td>\n",
       "      <td>69176</td>\n",
       "      <td>39885</td>\n",
       "      <td>32986</td>\n",
       "      <td>81591</td>\n",
       "      <td>9037</td>\n",
       "      <td>706</td>\n",
       "      <td>6820</td>\n",
       "      <td>2808</td>\n",
       "      <td>...</td>\n",
       "      <td>3794</td>\n",
       "      <td>3243</td>\n",
       "      <td>73280</td>\n",
       "      <td>3507</td>\n",
       "      <td>52686</td>\n",
       "      <td>54030</td>\n",
       "      <td>33283</td>\n",
       "      <td>29586</td>\n",
       "      <td>5030</td>\n",
       "      <td>5410</td>\n",
       "    </tr>\n",
       "    <tr>\n",
       "      <th>63</th>\n",
       "      <td>3/25/20</td>\n",
       "      <td>65778</td>\n",
       "      <td>74386</td>\n",
       "      <td>49515</td>\n",
       "      <td>37323</td>\n",
       "      <td>81661</td>\n",
       "      <td>9137</td>\n",
       "      <td>942</td>\n",
       "      <td>7503</td>\n",
       "      <td>3647</td>\n",
       "      <td>...</td>\n",
       "      <td>5367</td>\n",
       "      <td>3547</td>\n",
       "      <td>73773</td>\n",
       "      <td>3730</td>\n",
       "      <td>64475</td>\n",
       "      <td>57521</td>\n",
       "      <td>40501</td>\n",
       "      <td>33570</td>\n",
       "      <td>4603</td>\n",
       "      <td>5281</td>\n",
       "    </tr>\n",
       "    <tr>\n",
       "      <th>64</th>\n",
       "      <td>3/26/20</td>\n",
       "      <td>83836</td>\n",
       "      <td>80589</td>\n",
       "      <td>57786</td>\n",
       "      <td>43938</td>\n",
       "      <td>81782</td>\n",
       "      <td>9241</td>\n",
       "      <td>1209</td>\n",
       "      <td>8215</td>\n",
       "      <td>4365</td>\n",
       "      <td>...</td>\n",
       "      <td>7015</td>\n",
       "      <td>5673</td>\n",
       "      <td>74181</td>\n",
       "      <td>4144</td>\n",
       "      <td>81946</td>\n",
       "      <td>62013</td>\n",
       "      <td>46406</td>\n",
       "      <td>37998</td>\n",
       "      <td>4310</td>\n",
       "      <td>4966</td>\n",
       "    </tr>\n",
       "  </tbody>\n",
       "</table>\n",
       "<p>5 rows × 25 columns</p>\n",
       "</div>"
      ],
      "text/plain": [
       "Country/Region     Date US confirmed Italy confirmed Spain confirmed  \\\n",
       "60              3/22/20        33276           59138           28768   \n",
       "61              3/23/20        43847           63927           35136   \n",
       "62              3/24/20        53740           69176           39885   \n",
       "63              3/25/20        65778           74386           49515   \n",
       "64              3/26/20        83836           80589           57786   \n",
       "\n",
       "Country/Region Germany confirmed China confirmed South Korea confirmed  \\\n",
       "60                         24873           81435                  8961   \n",
       "61                         29056           81498                  8961   \n",
       "62                         32986           81591                  9037   \n",
       "63                         37323           81661                  9137   \n",
       "64                         43938           81782                  9241   \n",
       "\n",
       "Country/Region US fatalities Italy fatalities Spain fatalities  ...  \\\n",
       "60                       417             5476             1772  ...   \n",
       "61                       557             6077             2311  ...   \n",
       "62                       706             6820             2808  ...   \n",
       "63                       942             7503             3647  ...   \n",
       "64                      1209             8215             4365  ...   \n",
       "\n",
       "Country/Region Spain recovered Germany recovered China recovered  \\\n",
       "60                        2575               266           72362   \n",
       "61                        2575               266           72814   \n",
       "62                        3794              3243           73280   \n",
       "63                        5367              3547           73773   \n",
       "64                        7015              5673           74181   \n",
       "\n",
       "Country/Region South Korea recovered US active Italy active Spain active  \\\n",
       "60                              2909     32681        46638        24421   \n",
       "61                              2909     43112        50826        30250   \n",
       "62                              3507     52686        54030        33283   \n",
       "63                              3730     64475        57521        40501   \n",
       "64                              4144     81946        62013        46406   \n",
       "\n",
       "Country/Region Germany active China active South Korea active  \n",
       "60                      24513         5799               5941  \n",
       "61                      28667         5410               5941  \n",
       "62                      29586         5030               5410  \n",
       "63                      33570         4603               5281  \n",
       "64                      37998         4310               4966  \n",
       "\n",
       "[5 rows x 25 columns]"
      ]
     },
     "execution_count": 194,
     "metadata": {},
     "output_type": "execute_result"
    }
   ],
   "source": [
    "for x in top_four:\n",
    "    top_four_all[x + \" active\"] = top_four_all[x+\" confirmed\"] - top_four_all[\n",
    "        x+\" recovered\"] - top_four_all[x+\" fatalities\"]\n",
    "top_four_all.tail()"
   ]
  },
  {
   "cell_type": "code",
   "execution_count": 317,
   "metadata": {
    "scrolled": false
   },
   "outputs": [
    {
     "data": {
      "image/png": "[encoded data removed]",
      "text/plain": [
       "<Figure size 1152x720 with 4 Axes>"
      ]
     },
     "metadata": {
      "needs_background": "light"
     },
     "output_type": "display_data"
    }
   ],
   "source": [
    "fig, ax = plt.subplots(2, 2, figsize=(16,10), sharey = True)\n",
    "\n",
    "def plot_top4(da,num,xcol, ycol, title):\n",
    "    ax[num].plot(da[xcol],da[ycol], lw=3)\n",
    "    ax[num].set_title(title)\n",
    "    ax[num].xaxis.set_major_locator(plt.MaxNLocator(10))\n",
    "    ax[num].grid(True)\n",
    "    \n",
    "plot_top4(top_four_all, (0,0), \"Date\", top_four[0] + ' active', 'Active cases in {}'.format(top_four[0]))\n",
    "plot_top4(top_four_all, (0,1), \"Date\", top_four[1] + ' active', 'Active cases in {}'.format(top_four[1]))\n",
    "plot_top4(top_four_all, (1,0), \"Date\", top_four[2] + ' active', 'Active cases in {}'.format(top_four[2]))\n",
    "plot_top4(top_four_all, (1,1), \"Date\", top_four[3] + ' active', 'Active cases in {}'.format(top_four[3]))\n",
    "fig.suptitle('Active cases over time in the top four countries by numbers', fontsize=16)\n",
    "\n",
    "plt.show()"
   ]
  },
  {
   "cell_type": "markdown",
   "metadata": {},
   "source": [
    "As of 27.03, US has surpassed Italy with the number of active cases and China in the number of total positives. \n",
    "<br>US curve of active cases has grown dramatically in the last two weeks. \n",
    "<br>Italy started a strong growth of cases around the carnival festivities in the third week of February whereas Germany's and Spain's curves of active cases started to go up at a fast pace around two weeks after.\n",
    "<br>Question: Why the curve in US took momentum in such a short timeframe in comparison to Italy, Germany and Spain? Might it be related to number of tests done?"
   ]
  },
  {
   "cell_type": "markdown",
   "metadata": {},
   "source": [
    "We compare the curves above with the one from China, the country with the most reported cases so far but with a declining number of new positive cases. \n",
    "<br> We added also the graph from South Korea where the active cases are starting to drop since mif March.\n",
    "<br> In both countries the peak of active cases shows in the graphs around a month since the curve started to increase at a fast pace. \n",
    "<br>Both countries took strict measures to content the spread of the virus including lockdowns of hotspots, social distancing, self-isolation and closing of public places and schools."
   ]
  },
  {
   "cell_type": "code",
   "execution_count": 318,
   "metadata": {},
   "outputs": [
    {
     "data": {
      "image/png": "[encoded data removed]",
      "text/plain": [
       "<Figure size 1152x360 with 2 Axes>"
      ]
     },
     "metadata": {
      "needs_background": "light"
     },
     "output_type": "display_data"
    }
   ],
   "source": [
    "fig, ax = plt.subplots(1, 2, figsize = (16,5))\n",
    "plot_top4(top_four_all, 0, \"Date\", 'China active', 'Active cases in China')\n",
    "plot_top4(top_four_all, 1, \"Date\", 'South Korea active', 'Active cases in South Korea')\n",
    "fig.suptitle('Active cases over time in China and South Korea', fontsize = 16)\n",
    "\n",
    "plt.show()"
   ]
  },
  {
   "cell_type": "markdown",
   "metadata": {},
   "source": [
    "# Country Analysis - Italy"
   ]
  },
  {
   "cell_type": "markdown",
   "metadata": {},
   "source": [
    "Import the latest reports from the Presidenza del Consiglio dei Ministri - Dipartimento della Protezione Civile. \n",
    "<br>There are four datasets:\n",
    "1. da_national: National data (time series).\n",
    "2. da_region: Regional data (time series).\n",
    "3. da_daily_region: Latest daily data on regional level.\n",
    "4. da_province: Province data.\n",
    "\n",
    "<br>Date of the latest data to be gathered is yesterday to ensure the data is available as the files are updated daily at midnight. \n",
    "<br>We use the date variable \"ieri\" to build the urls dynamically. The date format used in the Italian repository differs from the one used by the CSSE at Johns Hopkins University, this is why we need to build it."
   ]
  },
  {
   "cell_type": "code",
   "execution_count": 236,
   "metadata": {},
   "outputs": [],
   "source": [
    "ieri = date.today() - timedelta(days=1)\n",
    "ieri = ieri.strftime(\"%Y%m%d\")"
   ]
  },
  {
   "cell_type": "code",
   "execution_count": 237,
   "metadata": {},
   "outputs": [],
   "source": [
    "nat_url = \"https://raw.githubusercontent.com/pcm-dpc/COVID-19/master/dati-andamento-nazionale/dpc-covid19-ita-andamento-nazionale.csv\"\n",
    "reg_url = \"https://raw.githubusercontent.com/pcm-dpc/COVID-19/master/dati-regioni/dpc-covid19-ita-regioni.csv\"\n",
    "reg_daily_url = \"https://raw.githubusercontent.com/pcm-dpc/COVID-19/master/dati-regioni/dpc-covid19-ita-regioni-{}.csv\".format(ieri)\n",
    "prov_url = \"https://raw.githubusercontent.com/pcm-dpc/COVID-19/master/dati-province/dpc-covid19-ita-province.csv\" \n",
    "da_national = get_raw_data(nat_url)\n",
    "da_region = get_raw_data(reg_url)\n",
    "da_daily_region = get_raw_data(reg_daily_url)\n",
    "da_province = get_raw_data(prov_url)"
   ]
  },
  {
   "cell_type": "markdown",
   "metadata": {},
   "source": [
    "We rename the columns to translate them to English."
   ]
  },
  {
   "cell_type": "code",
   "execution_count": 238,
   "metadata": {},
   "outputs": [
    {
     "data": {
      "text/plain": [
       "Index(['data', 'stato', 'ricoverati_con_sintomi', 'terapia_intensiva',\n",
       "       'totale_ospedalizzati', 'isolamento_domiciliare',\n",
       "       'totale_attualmente_positivi', 'nuovi_attualmente_positivi',\n",
       "       'dimessi_guariti', 'deceduti', 'totale_casi', 'tamponi', 'note_it',\n",
       "       'note_en'],\n",
       "      dtype='object')"
      ]
     },
     "execution_count": 238,
     "metadata": {},
     "output_type": "execute_result"
    }
   ],
   "source": [
    "da_national.columns"
   ]
  },
  {
   "cell_type": "code",
   "execution_count": 239,
   "metadata": {},
   "outputs": [
    {
     "data": {
      "text/html": [
       "<div>\n",
       "<style scoped>\n",
       "    .dataframe tbody tr th:only-of-type {\n",
       "        vertical-align: middle;\n",
       "    }\n",
       "\n",
       "    .dataframe tbody tr th {\n",
       "        vertical-align: top;\n",
       "    }\n",
       "\n",
       "    .dataframe thead th {\n",
       "        text-align: right;\n",
       "    }\n",
       "</style>\n",
       "<table border=\"1\" class=\"dataframe\">\n",
       "  <thead>\n",
       "    <tr style=\"text-align: right;\">\n",
       "      <th></th>\n",
       "      <th>timestamp</th>\n",
       "      <th>state</th>\n",
       "      <th>hospitalized with symptoms</th>\n",
       "      <th>intensive care</th>\n",
       "      <th>total hospitalized</th>\n",
       "      <th>self-isolation</th>\n",
       "      <th>total currently positive</th>\n",
       "      <th>new positive</th>\n",
       "      <th>recovered</th>\n",
       "      <th>fatalities</th>\n",
       "      <th>total positive</th>\n",
       "      <th>total tested</th>\n",
       "      <th>note_it</th>\n",
       "      <th>note_en</th>\n",
       "    </tr>\n",
       "  </thead>\n",
       "  <tbody>\n",
       "    <tr>\n",
       "      <th>0</th>\n",
       "      <td>2020-02-24T18:00:00</td>\n",
       "      <td>ITA</td>\n",
       "      <td>101</td>\n",
       "      <td>26</td>\n",
       "      <td>127</td>\n",
       "      <td>94</td>\n",
       "      <td>221</td>\n",
       "      <td>221</td>\n",
       "      <td>1</td>\n",
       "      <td>7</td>\n",
       "      <td>229</td>\n",
       "      <td>4324</td>\n",
       "      <td>NaN</td>\n",
       "      <td>NaN</td>\n",
       "    </tr>\n",
       "    <tr>\n",
       "      <th>1</th>\n",
       "      <td>2020-02-25T18:00:00</td>\n",
       "      <td>ITA</td>\n",
       "      <td>114</td>\n",
       "      <td>35</td>\n",
       "      <td>150</td>\n",
       "      <td>162</td>\n",
       "      <td>311</td>\n",
       "      <td>90</td>\n",
       "      <td>1</td>\n",
       "      <td>10</td>\n",
       "      <td>322</td>\n",
       "      <td>8623</td>\n",
       "      <td>NaN</td>\n",
       "      <td>NaN</td>\n",
       "    </tr>\n",
       "  </tbody>\n",
       "</table>\n",
       "</div>"
      ],
      "text/plain": [
       "             timestamp state  hospitalized with symptoms  intensive care  \\\n",
       "0  2020-02-24T18:00:00   ITA                         101              26   \n",
       "1  2020-02-25T18:00:00   ITA                         114              35   \n",
       "\n",
       "   total hospitalized  self-isolation  total currently positive  new positive  \\\n",
       "0                 127              94                       221           221   \n",
       "1                 150             162                       311            90   \n",
       "\n",
       "   recovered  fatalities  total positive  total tested note_it note_en  \n",
       "0          1           7             229          4324     NaN     NaN  \n",
       "1          1          10             322          8623     NaN     NaN  "
      ]
     },
     "execution_count": 239,
     "metadata": {},
     "output_type": "execute_result"
    }
   ],
   "source": [
    "da_national = da_national.rename(columns={'data':\"timestamp\", 'stato':\"state\", \n",
    "                            'ricoverati_con_sintomi':\"hospitalized with symptoms\", \n",
    "                            'terapia_intensiva':\"intensive care\",\n",
    "                            'totale_ospedalizzati':\"total hospitalized\",\n",
    "                            'isolamento_domiciliare':\"self-isolation\",\n",
    "                            'totale_attualmente_positivi':\"total currently positive\", \n",
    "                            'nuovi_attualmente_positivi':\"new positive\",\n",
    "                            'dimessi_guariti':\"recovered\", \n",
    "                            'deceduti':\"fatalities\", \n",
    "                            'totale_casi':\"total positive\", \n",
    "                            'tamponi':\"total tested\"})\n",
    "da_national.head(2)"
   ]
  },
  {
   "cell_type": "code",
   "execution_count": 235,
   "metadata": {},
   "outputs": [
    {
     "data": {
      "text/html": [
       "<div>\n",
       "<style scoped>\n",
       "    .dataframe tbody tr th:only-of-type {\n",
       "        vertical-align: middle;\n",
       "    }\n",
       "\n",
       "    .dataframe tbody tr th {\n",
       "        vertical-align: top;\n",
       "    }\n",
       "\n",
       "    .dataframe thead th {\n",
       "        text-align: right;\n",
       "    }\n",
       "</style>\n",
       "<table border=\"1\" class=\"dataframe\">\n",
       "  <thead>\n",
       "    <tr style=\"text-align: right;\">\n",
       "      <th></th>\n",
       "      <th>date</th>\n",
       "      <th>state</th>\n",
       "      <th>regional code</th>\n",
       "      <th>region</th>\n",
       "      <th>lat</th>\n",
       "      <th>long</th>\n",
       "      <th>hospitalized with symptoms</th>\n",
       "      <th>intensive care</th>\n",
       "      <th>total hospitalized</th>\n",
       "      <th>self-isolation</th>\n",
       "      <th>total currently positive</th>\n",
       "      <th>new positive</th>\n",
       "      <th>recovered</th>\n",
       "      <th>fatalities</th>\n",
       "      <th>total positive</th>\n",
       "      <th>total tested</th>\n",
       "      <th>note_it</th>\n",
       "      <th>note_en</th>\n",
       "    </tr>\n",
       "  </thead>\n",
       "  <tbody>\n",
       "    <tr>\n",
       "      <th>670</th>\n",
       "      <td>2020-03-26T17:00:00</td>\n",
       "      <td>ITA</td>\n",
       "      <td>2</td>\n",
       "      <td>Valle d'Aosta</td>\n",
       "      <td>45.737503</td>\n",
       "      <td>7.320149</td>\n",
       "      <td>73</td>\n",
       "      <td>24</td>\n",
       "      <td>97</td>\n",
       "      <td>281</td>\n",
       "      <td>378</td>\n",
       "      <td>3</td>\n",
       "      <td>2</td>\n",
       "      <td>28</td>\n",
       "      <td>408</td>\n",
       "      <td>1203</td>\n",
       "      <td>NaN</td>\n",
       "      <td>NaN</td>\n",
       "    </tr>\n",
       "    <tr>\n",
       "      <th>671</th>\n",
       "      <td>2020-03-26T17:00:00</td>\n",
       "      <td>ITA</td>\n",
       "      <td>5</td>\n",
       "      <td>Veneto</td>\n",
       "      <td>45.434905</td>\n",
       "      <td>12.338452</td>\n",
       "      <td>1447</td>\n",
       "      <td>326</td>\n",
       "      <td>1773</td>\n",
       "      <td>4367</td>\n",
       "      <td>6140</td>\n",
       "      <td>395</td>\n",
       "      <td>508</td>\n",
       "      <td>287</td>\n",
       "      <td>6935</td>\n",
       "      <td>79759</td>\n",
       "      <td>NaN</td>\n",
       "      <td>NaN</td>\n",
       "    </tr>\n",
       "  </tbody>\n",
       "</table>\n",
       "</div>"
      ],
      "text/plain": [
       "                    date state  regional code         region        lat  \\\n",
       "670  2020-03-26T17:00:00   ITA              2  Valle d'Aosta  45.737503   \n",
       "671  2020-03-26T17:00:00   ITA              5         Veneto  45.434905   \n",
       "\n",
       "          long  hospitalized with symptoms  intensive care  \\\n",
       "670   7.320149                          73              24   \n",
       "671  12.338452                        1447             326   \n",
       "\n",
       "     total hospitalized  self-isolation  total currently positive  \\\n",
       "670                  97             281                       378   \n",
       "671                1773            4367                      6140   \n",
       "\n",
       "     new positive  recovered  fatalities  total positive  total tested  \\\n",
       "670             3          2          28             408          1203   \n",
       "671           395        508         287            6935         79759   \n",
       "\n",
       "    note_it note_en  \n",
       "670     NaN     NaN  \n",
       "671     NaN     NaN  "
      ]
     },
     "execution_count": 235,
     "metadata": {},
     "output_type": "execute_result"
    }
   ],
   "source": [
    "da_region = da_region.rename(columns={'data':\"date\", 'stato':\"state\", 'codice_regione':\"regional code\", \n",
    "                          'denominazione_regione':\"region\", 'ricoverati_con_sintomi':\"hospitalized with symptoms\", \n",
    "                          'terapia_intensiva':\"intensive care\",'totale_ospedalizzati':\"total hospitalized\", \n",
    "                          'isolamento_domiciliare':\"self-isolation\", \n",
    "                          'totale_attualmente_positivi':\"total currently positive\", \n",
    "                          'nuovi_attualmente_positivi':\"new positive\",'dimessi_guariti':\"recovered\", \n",
    "                          'deceduti':\"fatalities\", 'totale_casi':\"total positive\", 'tamponi':\"total tested\"})\n",
    "da_region.tail(2)"
   ]
  },
  {
   "cell_type": "code",
   "execution_count": 202,
   "metadata": {},
   "outputs": [
    {
     "data": {
      "text/html": [
       "<div>\n",
       "<style scoped>\n",
       "    .dataframe tbody tr th:only-of-type {\n",
       "        vertical-align: middle;\n",
       "    }\n",
       "\n",
       "    .dataframe tbody tr th {\n",
       "        vertical-align: top;\n",
       "    }\n",
       "\n",
       "    .dataframe thead th {\n",
       "        text-align: right;\n",
       "    }\n",
       "</style>\n",
       "<table border=\"1\" class=\"dataframe\">\n",
       "  <thead>\n",
       "    <tr style=\"text-align: right;\">\n",
       "      <th></th>\n",
       "      <th>date</th>\n",
       "      <th>state</th>\n",
       "      <th>regional code</th>\n",
       "      <th>region</th>\n",
       "      <th>lat</th>\n",
       "      <th>long</th>\n",
       "      <th>hospitalized with symptoms</th>\n",
       "      <th>intensive care</th>\n",
       "      <th>total hospitalized</th>\n",
       "      <th>self-isolation</th>\n",
       "      <th>total currently positive</th>\n",
       "      <th>new positive</th>\n",
       "      <th>recovered</th>\n",
       "      <th>fatalities</th>\n",
       "      <th>total positive</th>\n",
       "      <th>total tested</th>\n",
       "      <th>note_it</th>\n",
       "      <th>note_en</th>\n",
       "    </tr>\n",
       "  </thead>\n",
       "  <tbody>\n",
       "    <tr>\n",
       "      <th>0</th>\n",
       "      <td>2020-03-26T17:00:00</td>\n",
       "      <td>ITA</td>\n",
       "      <td>13</td>\n",
       "      <td>Abruzzo</td>\n",
       "      <td>42.351222</td>\n",
       "      <td>13.398438</td>\n",
       "      <td>280</td>\n",
       "      <td>64</td>\n",
       "      <td>344</td>\n",
       "      <td>516</td>\n",
       "      <td>860</td>\n",
       "      <td>122</td>\n",
       "      <td>23</td>\n",
       "      <td>63</td>\n",
       "      <td>946</td>\n",
       "      <td>5488</td>\n",
       "      <td>NaN</td>\n",
       "      <td>NaN</td>\n",
       "    </tr>\n",
       "    <tr>\n",
       "      <th>1</th>\n",
       "      <td>2020-03-26T17:00:00</td>\n",
       "      <td>ITA</td>\n",
       "      <td>17</td>\n",
       "      <td>Basilicata</td>\n",
       "      <td>40.639471</td>\n",
       "      <td>15.805148</td>\n",
       "      <td>22</td>\n",
       "      <td>16</td>\n",
       "      <td>38</td>\n",
       "      <td>95</td>\n",
       "      <td>133</td>\n",
       "      <td>21</td>\n",
       "      <td>0</td>\n",
       "      <td>1</td>\n",
       "      <td>134</td>\n",
       "      <td>1046</td>\n",
       "      <td>NaN</td>\n",
       "      <td>NaN</td>\n",
       "    </tr>\n",
       "  </tbody>\n",
       "</table>\n",
       "</div>"
      ],
      "text/plain": [
       "                  date state  regional code      region        lat       long  \\\n",
       "0  2020-03-26T17:00:00   ITA             13     Abruzzo  42.351222  13.398438   \n",
       "1  2020-03-26T17:00:00   ITA             17  Basilicata  40.639471  15.805148   \n",
       "\n",
       "   hospitalized with symptoms  intensive care  total hospitalized  \\\n",
       "0                         280              64                 344   \n",
       "1                          22              16                  38   \n",
       "\n",
       "   self-isolation  total currently positive  new positive  recovered  \\\n",
       "0             516                       860           122         23   \n",
       "1              95                       133            21          0   \n",
       "\n",
       "   fatalities  total positive  total tested  note_it  note_en  \n",
       "0          63             946          5488      NaN      NaN  \n",
       "1           1             134          1046      NaN      NaN  "
      ]
     },
     "execution_count": 202,
     "metadata": {},
     "output_type": "execute_result"
    }
   ],
   "source": [
    "da_daily_region = da_daily_region.rename(columns={'data':\"date\", 'stato':\"state\", 'codice_regione':\"regional code\", \n",
    "                          'denominazione_regione':\"region\", 'ricoverati_con_sintomi':\"hospitalized with symptoms\", \n",
    "                          'terapia_intensiva':\"intensive care\",'totale_ospedalizzati':\"total hospitalized\", \n",
    "                          'isolamento_domiciliare':\"self-isolation\", \n",
    "                          'totale_attualmente_positivi':\"total currently positive\", \n",
    "                          'nuovi_attualmente_positivi':\"new positive\",'dimessi_guariti':\"recovered\", \n",
    "                          'deceduti':\"fatalities\", 'totale_casi':\"total positive\", 'tamponi':\"total tested\"})\n",
    "da_daily_region.head(2)"
   ]
  },
  {
   "cell_type": "markdown",
   "metadata": {},
   "source": [
    "## Time trends on national level "
   ]
  },
  {
   "cell_type": "code",
   "execution_count": 205,
   "metadata": {},
   "outputs": [
    {
     "data": {
      "text/plain": [
       "<function matplotlib.pyplot.show(*args, **kw)>"
      ]
     },
     "execution_count": 205,
     "metadata": {},
     "output_type": "execute_result"
    },
    {
     "data": {
      "image/png": "[encoded data removed]",
      "text/plain": [
       "<Figure size 1152x576 with 1 Axes>"
      ]
     },
     "metadata": {
      "needs_background": "light"
     },
     "output_type": "display_data"
    }
   ],
   "source": [
    "plt.figure(figsize=(16,8))\n",
    "plt.title(\"Cumulative numbers on national level\", size=\"x-large\")\n",
    "rng = da_national[\"timestamp\"]\n",
    "rng = [datetime.datetime.strptime(x,'%Y-%m-%dT%H:%M:%S').strftime(\"%b %d\") for x in rng]\n",
    "da_national[\"date\"] = rng\n",
    "sns.lineplot(x=da_national[\"date\"], y=da_national[\"total positive\"], \n",
    "             label = \"Total positive\", marker = \"o\")\n",
    "sns.lineplot(x=da_national[\"date\"], y=da_national[\"total currently positive\"], \n",
    "             label = \"Total currently positive\", marker = \"o\")\n",
    "sns.lineplot(x=da_national[\"date\"], y=da_national[\"fatalities\"], \n",
    "             label = \"Total fatalities\", marker = \"o\", color = \"red\")\n",
    "sns.lineplot(x=da_national[\"date\"], y=da_national[\"total hospitalized\"], \n",
    "             label = \"Total hospitalized\", marker = \"o\", color=\"violet\")\n",
    "sns.lineplot(x=da_national[\"date\"], y=da_national[\"intensive care\"], \n",
    "             label = \"Total in ICU\", marker = \"o\", color=\"blue\").set(xlabel = \"Date\", ylabel = \"Count\")\n",
    "plt.xticks(\n",
    "    rotation=45, \n",
    "    horizontalalignment='right',\n",
    "    fontweight='light'  \n",
    ")\n",
    "plt.axvline(x=\"Mar 09\", ls=\"-.\", c=\"red\", label = \"Countrywide lockdown date\")\n",
    "plt.legend(fontsize=\"medium\")\n",
    "plt.show"
   ]
  },
  {
   "cell_type": "markdown",
   "metadata": {},
   "source": [
    "Active cases keep growing rapidly on national level. Following the trends from China and South Korea, we could infere that this behaviour is expected until at least one month since the countrywide lockdown."
   ]
  },
  {
   "cell_type": "markdown",
   "metadata": {},
   "source": [
    "## Country numbers in a nutshell"
   ]
  },
  {
   "cell_type": "code",
   "execution_count": 206,
   "metadata": {},
   "outputs": [
    {
     "data": {
      "text/html": [
       "<div>\n",
       "<style scoped>\n",
       "    .dataframe tbody tr th:only-of-type {\n",
       "        vertical-align: middle;\n",
       "    }\n",
       "\n",
       "    .dataframe tbody tr th {\n",
       "        vertical-align: top;\n",
       "    }\n",
       "\n",
       "    .dataframe thead th {\n",
       "        text-align: right;\n",
       "    }\n",
       "</style>\n",
       "<table border=\"1\" class=\"dataframe\">\n",
       "  <thead>\n",
       "    <tr style=\"text-align: right;\">\n",
       "      <th></th>\n",
       "      <th>total tested</th>\n",
       "      <th>total positive</th>\n",
       "      <th>total currently positive</th>\n",
       "      <th>recovered</th>\n",
       "      <th>self-isolation</th>\n",
       "      <th>total hospitalized</th>\n",
       "      <th>intensive care</th>\n",
       "      <th>fatalities</th>\n",
       "      <th>death rate [%]</th>\n",
       "    </tr>\n",
       "  </thead>\n",
       "  <tbody>\n",
       "    <tr>\n",
       "      <th>31</th>\n",
       "      <td>361060</td>\n",
       "      <td>80539</td>\n",
       "      <td>62013</td>\n",
       "      <td>10361</td>\n",
       "      <td>33648</td>\n",
       "      <td>28365</td>\n",
       "      <td>3612</td>\n",
       "      <td>8165</td>\n",
       "      <td>10.137946</td>\n",
       "    </tr>\n",
       "  </tbody>\n",
       "</table>\n",
       "</div>"
      ],
      "text/plain": [
       "    total tested  total positive  total currently positive  recovered  \\\n",
       "31        361060           80539                     62013      10361   \n",
       "\n",
       "    self-isolation  total hospitalized  intensive care  fatalities  \\\n",
       "31           33648               28365            3612        8165   \n",
       "\n",
       "    death rate [%]  \n",
       "31       10.137946  "
      ]
     },
     "execution_count": 206,
     "metadata": {},
     "output_type": "execute_result"
    }
   ],
   "source": [
    "latest = da_national.loc[:,['total tested','total positive', 'total currently positive',\n",
    "                            'recovered','self-isolation','total hospitalized',\n",
    "                            'intensive care','fatalities']].tail(1)\n",
    "latest[\"death rate [%]\"] = 100*latest[\"fatalities\"]/latest[\"total positive\"]\n",
    "latest.head()"
   ]
  },
  {
   "cell_type": "code",
   "execution_count": 207,
   "metadata": {},
   "outputs": [],
   "source": [
    "ind = len(da_national) -1\n",
    "perc = latest.drop([\"total tested\",\"death rate [%]\"], axis=1)\n",
    "perc = 100*perc/latest.loc[ind,\"total tested\"]"
   ]
  },
  {
   "cell_type": "code",
   "execution_count": 208,
   "metadata": {},
   "outputs": [
    {
     "data": {
      "image/png": "[encoded data removed]",
      "text/plain": [
       "<Figure size 720x360 with 1 Axes>"
      ]
     },
     "metadata": {
      "needs_background": "light"
     },
     "output_type": "display_data"
    }
   ],
   "source": [
    "fig, ax = plt.subplots(figsize=(10,5))\n",
    "plt.title(\"Percentage of categories vs total number of tested ({} people)\".format(latest.loc[ind,\"total tested\"]), \n",
    "          size=\"large\")\n",
    "ax = sns.barplot(data=perc, \n",
    "     orient=\"h\",\n",
    "     palette = 'hls').set(xlabel = \"Percentage [%]\")"
   ]
  },
  {
   "cell_type": "markdown",
   "metadata": {},
   "source": [
    "*From all tested population we have the following figures in terms of percentage:* "
   ]
  },
  {
   "cell_type": "code",
   "execution_count": 209,
   "metadata": {},
   "outputs": [
    {
     "data": {
      "text/html": [
       "<div>\n",
       "<style scoped>\n",
       "    .dataframe tbody tr th:only-of-type {\n",
       "        vertical-align: middle;\n",
       "    }\n",
       "\n",
       "    .dataframe tbody tr th {\n",
       "        vertical-align: top;\n",
       "    }\n",
       "\n",
       "    .dataframe thead th {\n",
       "        text-align: right;\n",
       "    }\n",
       "</style>\n",
       "<table border=\"1\" class=\"dataframe\">\n",
       "  <thead>\n",
       "    <tr style=\"text-align: right;\">\n",
       "      <th></th>\n",
       "      <th>total positive</th>\n",
       "      <th>total currently positive</th>\n",
       "      <th>recovered</th>\n",
       "      <th>self-isolation</th>\n",
       "      <th>total hospitalized</th>\n",
       "      <th>intensive care</th>\n",
       "      <th>fatalities</th>\n",
       "    </tr>\n",
       "  </thead>\n",
       "  <tbody>\n",
       "    <tr>\n",
       "      <th>31</th>\n",
       "      <td>22.306265</td>\n",
       "      <td>17.175262</td>\n",
       "      <td>2.869606</td>\n",
       "      <td>9.319227</td>\n",
       "      <td>7.856035</td>\n",
       "      <td>1.000388</td>\n",
       "      <td>2.261397</td>\n",
       "    </tr>\n",
       "  </tbody>\n",
       "</table>\n",
       "</div>"
      ],
      "text/plain": [
       "    total positive  total currently positive  recovered  self-isolation  \\\n",
       "31       22.306265                 17.175262   2.869606        9.319227   \n",
       "\n",
       "    total hospitalized  intensive care  fatalities  \n",
       "31            7.856035        1.000388    2.261397  "
      ]
     },
     "execution_count": 209,
     "metadata": {},
     "output_type": "execute_result"
    }
   ],
   "source": [
    "perc"
   ]
  },
  {
   "cell_type": "markdown",
   "metadata": {},
   "source": [
    "## Analysis on regional level"
   ]
  },
  {
   "cell_type": "code",
   "execution_count": 225,
   "metadata": {
    "scrolled": true
   },
   "outputs": [],
   "source": [
    "da_daily_region[\"percentage of active [%]\"] = round(100*da_daily_region[\n",
    "                                    \"total currently positive\"]/latest.loc[ind,\"total currently positive\"],2)\n",
    "da_daily_region[\"percentage of total positive [%]\"] = round(\n",
    "                                    100*da_daily_region[\"total positive\"]/latest.loc[ind,\"total positive\"],2)"
   ]
  },
  {
   "cell_type": "code",
   "execution_count": 226,
   "metadata": {},
   "outputs": [],
   "source": [
    "summary_daily_region = da_daily_region[[\"region\",\"total tested\",\"total positive\",\"total currently positive\",\n",
    "                 \"percentage of active [%]\",\n",
    "                 \"percentage of total positive [%]\"]].sort_values(\n",
    "                 by=\"total currently positive\", ascending=False).head(4)"
   ]
  },
  {
   "cell_type": "code",
   "execution_count": 212,
   "metadata": {},
   "outputs": [
    {
     "data": {
      "application/vnd.plotly.v1+json": {
       "config": {
        "plotlyServerURL": "https://plot.ly"
       },
       "data": [
        {
         "branchvalues": "total",
         "customdata": [
          [
           946,
           860,
           23,
           63
          ],
          [
           134,
           133,
           0,
           1
          ],
          [
           393,
           372,
           7,
           14
          ],
          [
           1310,
           1169,
           58,
           83
          ],
          [
           10816,
           8850,
           792,
           1174
          ],
          [
           1223,
           954,
           197,
           72
          ],
          [
           2096,
           1835,
           155,
           106
          ],
          [
           2567,
           2027,
           260,
           280
          ],
          [
           34889,
           22189,
           7839,
           4861
          ],
          [
           3114,
           2795,
           9,
           310
          ],
          [
           103,
           81,
           14,
           8
          ],
          [
           906,
           791,
           67,
           48
          ],
          [
           1297,
           1094,
           117,
           86
          ],
          [
           6534,
           5950,
           135,
           449
          ],
          [
           1182,
           1095,
           22,
           65
          ],
          [
           494,
           462,
           13,
           19
          ],
          [
           1164,
           1095,
           36,
           33
          ],
          [
           3226,
           2973,
           95,
           158
          ],
          [
           802,
           770,
           12,
           20
          ],
          [
           408,
           378,
           2,
           28
          ],
          [
           6935,
           6140,
           508,
           287
          ]
         ],
         "domain": {
          "x": [
           0,
           1
          ],
          "y": [
           0,
           1
          ]
         },
         "hoverlabel": {
          "namelength": 0
         },
         "hovertemplate": "total positive=%{value}<br>total currently positive=%{customdata[1]}<br>recovered=%{customdata[2]}<br>fatalities=%{customdata[3]}<br>labels=%{label}<br>parent=%{parent}<br>id=%{id}",
         "ids": [
          "Abruzzo",
          "Basilicata",
          "Calabria",
          "Campania",
          "Emilia Romagna",
          "Friuli Venezia Giulia",
          "Lazio",
          "Liguria",
          "Lombardia",
          "Marche",
          "Molise",
          "P.A. Bolzano",
          "P.A. Trento",
          "Piemonte",
          "Puglia",
          "Sardegna",
          "Sicilia",
          "Toscana",
          "Umbria",
          "Valle d'Aosta",
          "Veneto"
         ],
         "labels": [
          "Abruzzo",
          "Basilicata",
          "Calabria",
          "Campania",
          "Emilia Romagna",
          "Friuli Venezia Giulia",
          "Lazio",
          "Liguria",
          "Lombardia",
          "Marche",
          "Molise",
          "P.A. Bolzano",
          "P.A. Trento",
          "Piemonte",
          "Puglia",
          "Sardegna",
          "Sicilia",
          "Toscana",
          "Umbria",
          "Valle d'Aosta",
          "Veneto"
         ],
         "name": "",
         "parents": [
          "",
          "",
          "",
          "",
          "",
          "",
          "",
          "",
          "",
          "",
          "",
          "",
          "",
          "",
          "",
          "",
          "",
          "",
          "",
          "",
          ""
         ],
         "type": "treemap",
         "values": [
          946,
          134,
          393,
          1310,
          10816,
          1223,
          2096,
          2567,
          34889,
          3114,
          103,
          906,
          1297,
          6534,
          1182,
          494,
          1164,
          3226,
          802,
          408,
          6935
         ]
        }
       ],
       "layout": {
        "legend": {
         "tracegroupgap": 0
        },
        "template": {
         "data": {
          "bar": [
           {
            "error_x": {
             "color": "#2a3f5f"
            },
            "error_y": {
             "color": "#2a3f5f"
            },
            "marker": {
             "line": {
              "color": "#E5ECF6",
              "width": 0.5
             }
            },
            "type": "bar"
           }
          ],
          "barpolar": [
           {
            "marker": {
             "line": {
              "color": "#E5ECF6",
              "width": 0.5
             }
            },
            "type": "barpolar"
           }
          ],
          "carpet": [
           {
            "aaxis": {
             "endlinecolor": "#2a3f5f",
             "gridcolor": "white",
             "linecolor": "white",
             "minorgridcolor": "white",
             "startlinecolor": "#2a3f5f"
            },
            "baxis": {
             "endlinecolor": "#2a3f5f",
             "gridcolor": "white",
             "linecolor": "white",
             "minorgridcolor": "white",
             "startlinecolor": "#2a3f5f"
            },
            "type": "carpet"
           }
          ],
          "choropleth": [
           {
            "colorbar": {
             "outlinewidth": 0,
             "ticks": ""
            },
            "type": "choropleth"
           }
          ],
          "contour": [
           {
            "colorbar": {
             "outlinewidth": 0,
             "ticks": ""
            },
            "colorscale": [
             [
              0,
              "#0d0887"
             ],
             [
              0.1111111111111111,
              "#46039f"
             ],
             [
              0.2222222222222222,
              "#7201a8"
             ],
             [
              0.3333333333333333,
              "#9c179e"
             ],
             [
              0.4444444444444444,
              "#bd3786"
             ],
             [
              0.5555555555555556,
              "#d8576b"
             ],
             [
              0.6666666666666666,
              "#ed7953"
             ],
             [
              0.7777777777777778,
              "#fb9f3a"
             ],
             [
              0.8888888888888888,
              "#fdca26"
             ],
             [
              1,
              "#f0f921"
             ]
            ],
            "type": "contour"
           }
          ],
          "contourcarpet": [
           {
            "colorbar": {
             "outlinewidth": 0,
             "ticks": ""
            },
            "type": "contourcarpet"
           }
          ],
          "heatmap": [
           {
            "colorbar": {
             "outlinewidth": 0,
             "ticks": ""
            },
            "colorscale": [
             [
              0,
              "#0d0887"
             ],
             [
              0.1111111111111111,
              "#46039f"
             ],
             [
              0.2222222222222222,
              "#7201a8"
             ],
             [
              0.3333333333333333,
              "#9c179e"
             ],
             [
              0.4444444444444444,
              "#bd3786"
             ],
             [
              0.5555555555555556,
              "#d8576b"
             ],
             [
              0.6666666666666666,
              "#ed7953"
             ],
             [
              0.7777777777777778,
              "#fb9f3a"
             ],
             [
              0.8888888888888888,
              "#fdca26"
             ],
             [
              1,
              "#f0f921"
             ]
            ],
            "type": "heatmap"
           }
          ],
          "heatmapgl": [
           {
            "colorbar": {
             "outlinewidth": 0,
             "ticks": ""
            },
            "colorscale": [
             [
              0,
              "#0d0887"
             ],
             [
              0.1111111111111111,
              "#46039f"
             ],
             [
              0.2222222222222222,
              "#7201a8"
             ],
             [
              0.3333333333333333,
              "#9c179e"
             ],
             [
              0.4444444444444444,
              "#bd3786"
             ],
             [
              0.5555555555555556,
              "#d8576b"
             ],
             [
              0.6666666666666666,
              "#ed7953"
             ],
             [
              0.7777777777777778,
              "#fb9f3a"
             ],
             [
              0.8888888888888888,
              "#fdca26"
             ],
             [
              1,
              "#f0f921"
             ]
            ],
            "type": "heatmapgl"
           }
          ],
          "histogram": [
           {
            "marker": {
             "colorbar": {
              "outlinewidth": 0,
              "ticks": ""
             }
            },
            "type": "histogram"
           }
          ],
          "histogram2d": [
           {
            "colorbar": {
             "outlinewidth": 0,
             "ticks": ""
            },
            "colorscale": [
             [
              0,
              "#0d0887"
             ],
             [
              0.1111111111111111,
              "#46039f"
             ],
             [
              0.2222222222222222,
              "#7201a8"
             ],
             [
              0.3333333333333333,
              "#9c179e"
             ],
             [
              0.4444444444444444,
              "#bd3786"
             ],
             [
              0.5555555555555556,
              "#d8576b"
             ],
             [
              0.6666666666666666,
              "#ed7953"
             ],
             [
              0.7777777777777778,
              "#fb9f3a"
             ],
             [
              0.8888888888888888,
              "#fdca26"
             ],
             [
              1,
              "#f0f921"
             ]
            ],
            "type": "histogram2d"
           }
          ],
          "histogram2dcontour": [
           {
            "colorbar": {
             "outlinewidth": 0,
             "ticks": ""
            },
            "colorscale": [
             [
              0,
              "#0d0887"
             ],
             [
              0.1111111111111111,
              "#46039f"
             ],
             [
              0.2222222222222222,
              "#7201a8"
             ],
             [
              0.3333333333333333,
              "#9c179e"
             ],
             [
              0.4444444444444444,
              "#bd3786"
             ],
             [
              0.5555555555555556,
              "#d8576b"
             ],
             [
              0.6666666666666666,
              "#ed7953"
             ],
             [
              0.7777777777777778,
              "#fb9f3a"
             ],
             [
              0.8888888888888888,
              "#fdca26"
             ],
             [
              1,
              "#f0f921"
             ]
            ],
            "type": "histogram2dcontour"
           }
          ],
          "mesh3d": [
           {
            "colorbar": {
             "outlinewidth": 0,
             "ticks": ""
            },
            "type": "mesh3d"
           }
          ],
          "parcoords": [
           {
            "line": {
             "colorbar": {
              "outlinewidth": 0,
              "ticks": ""
             }
            },
            "type": "parcoords"
           }
          ],
          "pie": [
           {
            "automargin": true,
            "type": "pie"
           }
          ],
          "scatter": [
           {
            "marker": {
             "colorbar": {
              "outlinewidth": 0,
              "ticks": ""
             }
            },
            "type": "scatter"
           }
          ],
          "scatter3d": [
           {
            "line": {
             "colorbar": {
              "outlinewidth": 0,
              "ticks": ""
             }
            },
            "marker": {
             "colorbar": {
              "outlinewidth": 0,
              "ticks": ""
             }
            },
            "type": "scatter3d"
           }
          ],
          "scattercarpet": [
           {
            "marker": {
             "colorbar": {
              "outlinewidth": 0,
              "ticks": ""
             }
            },
            "type": "scattercarpet"
           }
          ],
          "scattergeo": [
           {
            "marker": {
             "colorbar": {
              "outlinewidth": 0,
              "ticks": ""
             }
            },
            "type": "scattergeo"
           }
          ],
          "scattergl": [
           {
            "marker": {
             "colorbar": {
              "outlinewidth": 0,
              "ticks": ""
             }
            },
            "type": "scattergl"
           }
          ],
          "scattermapbox": [
           {
            "marker": {
             "colorbar": {
              "outlinewidth": 0,
              "ticks": ""
             }
            },
            "type": "scattermapbox"
           }
          ],
          "scatterpolar": [
           {
            "marker": {
             "colorbar": {
              "outlinewidth": 0,
              "ticks": ""
             }
            },
            "type": "scatterpolar"
           }
          ],
          "scatterpolargl": [
           {
            "marker": {
             "colorbar": {
              "outlinewidth": 0,
              "ticks": ""
             }
            },
            "type": "scatterpolargl"
           }
          ],
          "scatterternary": [
           {
            "marker": {
             "colorbar": {
              "outlinewidth": 0,
              "ticks": ""
             }
            },
            "type": "scatterternary"
           }
          ],
          "surface": [
           {
            "colorbar": {
             "outlinewidth": 0,
             "ticks": ""
            },
            "colorscale": [
             [
              0,
              "#0d0887"
             ],
             [
              0.1111111111111111,
              "#46039f"
             ],
             [
              0.2222222222222222,
              "#7201a8"
             ],
             [
              0.3333333333333333,
              "#9c179e"
             ],
             [
              0.4444444444444444,
              "#bd3786"
             ],
             [
              0.5555555555555556,
              "#d8576b"
             ],
             [
              0.6666666666666666,
              "#ed7953"
             ],
             [
              0.7777777777777778,
              "#fb9f3a"
             ],
             [
              0.8888888888888888,
              "#fdca26"
             ],
             [
              1,
              "#f0f921"
             ]
            ],
            "type": "surface"
           }
          ],
          "table": [
           {
            "cells": {
             "fill": {
              "color": "#EBF0F8"
             },
             "line": {
              "color": "white"
             }
            },
            "header": {
             "fill": {
              "color": "#C8D4E3"
             },
             "line": {
              "color": "white"
             }
            },
            "type": "table"
           }
          ]
         },
         "layout": {
          "annotationdefaults": {
           "arrowcolor": "#2a3f5f",
           "arrowhead": 0,
           "arrowwidth": 1
          },
          "coloraxis": {
           "colorbar": {
            "outlinewidth": 0,
            "ticks": ""
           }
          },
          "colorscale": {
           "diverging": [
            [
             0,
             "#8e0152"
            ],
            [
             0.1,
             "#c51b7d"
            ],
            [
             0.2,
             "#de77ae"
            ],
            [
             0.3,
             "#f1b6da"
            ],
            [
             0.4,
             "#fde0ef"
            ],
            [
             0.5,
             "#f7f7f7"
            ],
            [
             0.6,
             "#e6f5d0"
            ],
            [
             0.7,
             "#b8e186"
            ],
            [
             0.8,
             "#7fbc41"
            ],
            [
             0.9,
             "#4d9221"
            ],
            [
             1,
             "#276419"
            ]
           ],
           "sequential": [
            [
             0,
             "#0d0887"
            ],
            [
             0.1111111111111111,
             "#46039f"
            ],
            [
             0.2222222222222222,
             "#7201a8"
            ],
            [
             0.3333333333333333,
             "#9c179e"
            ],
            [
             0.4444444444444444,
             "#bd3786"
            ],
            [
             0.5555555555555556,
             "#d8576b"
            ],
            [
             0.6666666666666666,
             "#ed7953"
            ],
            [
             0.7777777777777778,
             "#fb9f3a"
            ],
            [
             0.8888888888888888,
             "#fdca26"
            ],
            [
             1,
             "#f0f921"
            ]
           ],
           "sequentialminus": [
            [
             0,
             "#0d0887"
            ],
            [
             0.1111111111111111,
             "#46039f"
            ],
            [
             0.2222222222222222,
             "#7201a8"
            ],
            [
             0.3333333333333333,
             "#9c179e"
            ],
            [
             0.4444444444444444,
             "#bd3786"
            ],
            [
             0.5555555555555556,
             "#d8576b"
            ],
            [
             0.6666666666666666,
             "#ed7953"
            ],
            [
             0.7777777777777778,
             "#fb9f3a"
            ],
            [
             0.8888888888888888,
             "#fdca26"
            ],
            [
             1,
             "#f0f921"
            ]
           ]
          },
          "colorway": [
           "#636efa",
           "#EF553B",
           "#00cc96",
           "#ab63fa",
           "#FFA15A",
           "#19d3f3",
           "#FF6692",
           "#B6E880",
           "#FF97FF",
           "#FECB52"
          ],
          "font": {
           "color": "#2a3f5f"
          },
          "geo": {
           "bgcolor": "white",
           "lakecolor": "white",
           "landcolor": "#E5ECF6",
           "showlakes": true,
           "showland": true,
           "subunitcolor": "white"
          },
          "hoverlabel": {
           "align": "left"
          },
          "hovermode": "closest",
          "mapbox": {
           "style": "light"
          },
          "paper_bgcolor": "white",
          "plot_bgcolor": "#E5ECF6",
          "polar": {
           "angularaxis": {
            "gridcolor": "white",
            "linecolor": "white",
            "ticks": ""
           },
           "bgcolor": "#E5ECF6",
           "radialaxis": {
            "gridcolor": "white",
            "linecolor": "white",
            "ticks": ""
           }
          },
          "scene": {
           "xaxis": {
            "backgroundcolor": "#E5ECF6",
            "gridcolor": "white",
            "gridwidth": 2,
            "linecolor": "white",
            "showbackground": true,
            "ticks": "",
            "zerolinecolor": "white"
           },
           "yaxis": {
            "backgroundcolor": "#E5ECF6",
            "gridcolor": "white",
            "gridwidth": 2,
            "linecolor": "white",
            "showbackground": true,
            "ticks": "",
            "zerolinecolor": "white"
           },
           "zaxis": {
            "backgroundcolor": "#E5ECF6",
            "gridcolor": "white",
            "gridwidth": 2,
            "linecolor": "white",
            "showbackground": true,
            "ticks": "",
            "zerolinecolor": "white"
           }
          },
          "shapedefaults": {
           "line": {
            "color": "#2a3f5f"
           }
          },
          "ternary": {
           "aaxis": {
            "gridcolor": "white",
            "linecolor": "white",
            "ticks": ""
           },
           "baxis": {
            "gridcolor": "white",
            "linecolor": "white",
            "ticks": ""
           },
           "bgcolor": "#E5ECF6",
           "caxis": {
            "gridcolor": "white",
            "linecolor": "white",
            "ticks": ""
           }
          },
          "title": {
           "x": 0.05
          },
          "xaxis": {
           "automargin": true,
           "gridcolor": "white",
           "linecolor": "white",
           "ticks": "",
           "title": {
            "standoff": 15
           },
           "zerolinecolor": "white",
           "zerolinewidth": 2
          },
          "yaxis": {
           "automargin": true,
           "gridcolor": "white",
           "linecolor": "white",
           "ticks": "",
           "title": {
            "standoff": 15
           },
           "zerolinecolor": "white",
           "zerolinewidth": 2
          }
         }
        },
        "title": {
         "text": "Regions with Active Cases in Italy: status 20200326"
        },
        "treemapcolorway": [
         "rgb(95, 70, 144)",
         "rgb(29, 105, 150)",
         "rgb(56, 166, 165)",
         "rgb(15, 133, 84)",
         "rgb(115, 175, 72)",
         "rgb(237, 173, 8)",
         "rgb(225, 124, 5)",
         "rgb(204, 80, 62)",
         "rgb(148, 52, 110)",
         "rgb(111, 64, 112)",
         "rgb(102, 102, 102)"
        ]
       }
      },
      "text/html": [
       "<div>\n",
       "        \n",
       "        \n",
       "            <div id=\"562d241a-0094-40e6-be62-fdadc7a3abe9\" class=\"plotly-graph-div\" style=\"height:525px; width:100%;\"></div>\n",
       "            <script type=\"text/javascript\">\n",
       "                require([\"plotly\"], function(Plotly) {\n",
       "                    window.PLOTLYENV=window.PLOTLYENV || {};\n",
       "                    \n",
       "                if (document.getElementById(\"562d241a-0094-40e6-be62-fdadc7a3abe9\")) {\n",
       "                    Plotly.newPlot(\n",
       "                        '562d241a-0094-40e6-be62-fdadc7a3abe9',\n",
       "                        [{\"branchvalues\": \"total\", \"customdata\": [[946, 860, 23, 63], [134, 133, 0, 1], [393, 372, 7, 14], [1310, 1169, 58, 83], [10816, 8850, 792, 1174], [1223, 954, 197, 72], [2096, 1835, 155, 106], [2567, 2027, 260, 280], [34889, 22189, 7839, 4861], [3114, 2795, 9, 310], [103, 81, 14, 8], [906, 791, 67, 48], [1297, 1094, 117, 86], [6534, 5950, 135, 449], [1182, 1095, 22, 65], [494, 462, 13, 19], [1164, 1095, 36, 33], [3226, 2973, 95, 158], [802, 770, 12, 20], [408, 378, 2, 28], [6935, 6140, 508, 287]], \"domain\": {\"x\": [0.0, 1.0], \"y\": [0.0, 1.0]}, \"hoverlabel\": {\"namelength\": 0}, \"hovertemplate\": \"total positive=%{value}<br>total currently positive=%{customdata[1]}<br>recovered=%{customdata[2]}<br>fatalities=%{customdata[3]}<br>labels=%{label}<br>parent=%{parent}<br>id=%{id}\", \"ids\": [\"Abruzzo\", \"Basilicata\", \"Calabria\", \"Campania\", \"Emilia Romagna\", \"Friuli Venezia Giulia\", \"Lazio\", \"Liguria\", \"Lombardia\", \"Marche\", \"Molise\", \"P.A. Bolzano\", \"P.A. Trento\", \"Piemonte\", \"Puglia\", \"Sardegna\", \"Sicilia\", \"Toscana\", \"Umbria\", \"Valle d'Aosta\", \"Veneto\"], \"labels\": [\"Abruzzo\", \"Basilicata\", \"Calabria\", \"Campania\", \"Emilia Romagna\", \"Friuli Venezia Giulia\", \"Lazio\", \"Liguria\", \"Lombardia\", \"Marche\", \"Molise\", \"P.A. Bolzano\", \"P.A. Trento\", \"Piemonte\", \"Puglia\", \"Sardegna\", \"Sicilia\", \"Toscana\", \"Umbria\", \"Valle d'Aosta\", \"Veneto\"], \"name\": \"\", \"parents\": [\"\", \"\", \"\", \"\", \"\", \"\", \"\", \"\", \"\", \"\", \"\", \"\", \"\", \"\", \"\", \"\", \"\", \"\", \"\", \"\", \"\"], \"type\": \"treemap\", \"values\": [946, 134, 393, 1310, 10816, 1223, 2096, 2567, 34889, 3114, 103, 906, 1297, 6534, 1182, 494, 1164, 3226, 802, 408, 6935]}],\n",
       "                        {\"legend\": {\"tracegroupgap\": 0}, \"template\": {\"data\": {\"bar\": [{\"error_x\": {\"color\": \"#2a3f5f\"}, \"error_y\": {\"color\": \"#2a3f5f\"}, \"marker\": {\"line\": {\"color\": \"#E5ECF6\", \"width\": 0.5}}, \"type\": \"bar\"}], \"barpolar\": [{\"marker\": {\"line\": {\"color\": \"#E5ECF6\", \"width\": 0.5}}, \"type\": \"barpolar\"}], \"carpet\": [{\"aaxis\": {\"endlinecolor\": \"#2a3f5f\", \"gridcolor\": \"white\", \"linecolor\": \"white\", \"minorgridcolor\": \"white\", \"startlinecolor\": \"#2a3f5f\"}, \"baxis\": {\"endlinecolor\": \"#2a3f5f\", \"gridcolor\": \"white\", \"linecolor\": \"white\", \"minorgridcolor\": \"white\", \"startlinecolor\": \"#2a3f5f\"}, \"type\": \"carpet\"}], \"choropleth\": [{\"colorbar\": {\"outlinewidth\": 0, \"ticks\": \"\"}, \"type\": \"choropleth\"}], \"contour\": [{\"colorbar\": {\"outlinewidth\": 0, \"ticks\": \"\"}, \"colorscale\": [[0.0, \"#0d0887\"], [0.1111111111111111, \"#46039f\"], [0.2222222222222222, \"#7201a8\"], [0.3333333333333333, \"#9c179e\"], [0.4444444444444444, \"#bd3786\"], [0.5555555555555556, \"#d8576b\"], [0.6666666666666666, \"#ed7953\"], [0.7777777777777778, \"#fb9f3a\"], [0.8888888888888888, \"#fdca26\"], [1.0, \"#f0f921\"]], \"type\": \"contour\"}], \"contourcarpet\": [{\"colorbar\": {\"outlinewidth\": 0, \"ticks\": \"\"}, \"type\": \"contourcarpet\"}], \"heatmap\": [{\"colorbar\": {\"outlinewidth\": 0, \"ticks\": \"\"}, \"colorscale\": [[0.0, \"#0d0887\"], [0.1111111111111111, \"#46039f\"], [0.2222222222222222, \"#7201a8\"], [0.3333333333333333, \"#9c179e\"], [0.4444444444444444, \"#bd3786\"], [0.5555555555555556, \"#d8576b\"], [0.6666666666666666, \"#ed7953\"], [0.7777777777777778, \"#fb9f3a\"], [0.8888888888888888, \"#fdca26\"], [1.0, \"#f0f921\"]], \"type\": \"heatmap\"}], \"heatmapgl\": [{\"colorbar\": {\"outlinewidth\": 0, \"ticks\": \"\"}, \"colorscale\": [[0.0, \"#0d0887\"], [0.1111111111111111, \"#46039f\"], [0.2222222222222222, \"#7201a8\"], [0.3333333333333333, \"#9c179e\"], [0.4444444444444444, \"#bd3786\"], [0.5555555555555556, \"#d8576b\"], [0.6666666666666666, \"#ed7953\"], [0.7777777777777778, \"#fb9f3a\"], [0.8888888888888888, \"#fdca26\"], [1.0, \"#f0f921\"]], \"type\": \"heatmapgl\"}], \"histogram\": [{\"marker\": {\"colorbar\": {\"outlinewidth\": 0, \"ticks\": \"\"}}, \"type\": \"histogram\"}], \"histogram2d\": [{\"colorbar\": {\"outlinewidth\": 0, \"ticks\": \"\"}, \"colorscale\": [[0.0, \"#0d0887\"], [0.1111111111111111, \"#46039f\"], [0.2222222222222222, \"#7201a8\"], [0.3333333333333333, \"#9c179e\"], [0.4444444444444444, \"#bd3786\"], [0.5555555555555556, \"#d8576b\"], [0.6666666666666666, \"#ed7953\"], [0.7777777777777778, \"#fb9f3a\"], [0.8888888888888888, \"#fdca26\"], [1.0, \"#f0f921\"]], \"type\": \"histogram2d\"}], \"histogram2dcontour\": [{\"colorbar\": {\"outlinewidth\": 0, \"ticks\": \"\"}, \"colorscale\": [[0.0, \"#0d0887\"], [0.1111111111111111, \"#46039f\"], [0.2222222222222222, \"#7201a8\"], [0.3333333333333333, \"#9c179e\"], [0.4444444444444444, \"#bd3786\"], [0.5555555555555556, \"#d8576b\"], [0.6666666666666666, \"#ed7953\"], [0.7777777777777778, \"#fb9f3a\"], [0.8888888888888888, \"#fdca26\"], [1.0, \"#f0f921\"]], \"type\": \"histogram2dcontour\"}], \"mesh3d\": [{\"colorbar\": {\"outlinewidth\": 0, \"ticks\": \"\"}, \"type\": \"mesh3d\"}], \"parcoords\": [{\"line\": {\"colorbar\": {\"outlinewidth\": 0, \"ticks\": \"\"}}, \"type\": \"parcoords\"}], \"pie\": [{\"automargin\": true, \"type\": \"pie\"}], \"scatter\": [{\"marker\": {\"colorbar\": {\"outlinewidth\": 0, \"ticks\": \"\"}}, \"type\": \"scatter\"}], \"scatter3d\": [{\"line\": {\"colorbar\": {\"outlinewidth\": 0, \"ticks\": \"\"}}, \"marker\": {\"colorbar\": {\"outlinewidth\": 0, \"ticks\": \"\"}}, \"type\": \"scatter3d\"}], \"scattercarpet\": [{\"marker\": {\"colorbar\": {\"outlinewidth\": 0, \"ticks\": \"\"}}, \"type\": \"scattercarpet\"}], \"scattergeo\": [{\"marker\": {\"colorbar\": {\"outlinewidth\": 0, \"ticks\": \"\"}}, \"type\": \"scattergeo\"}], \"scattergl\": [{\"marker\": {\"colorbar\": {\"outlinewidth\": 0, \"ticks\": \"\"}}, \"type\": \"scattergl\"}], \"scattermapbox\": [{\"marker\": {\"colorbar\": {\"outlinewidth\": 0, \"ticks\": \"\"}}, \"type\": \"scattermapbox\"}], \"scatterpolar\": [{\"marker\": {\"colorbar\": {\"outlinewidth\": 0, \"ticks\": \"\"}}, \"type\": \"scatterpolar\"}], \"scatterpolargl\": [{\"marker\": {\"colorbar\": {\"outlinewidth\": 0, \"ticks\": \"\"}}, \"type\": \"scatterpolargl\"}], \"scatterternary\": [{\"marker\": {\"colorbar\": {\"outlinewidth\": 0, \"ticks\": \"\"}}, \"type\": \"scatterternary\"}], \"surface\": [{\"colorbar\": {\"outlinewidth\": 0, \"ticks\": \"\"}, \"colorscale\": [[0.0, \"#0d0887\"], [0.1111111111111111, \"#46039f\"], [0.2222222222222222, \"#7201a8\"], [0.3333333333333333, \"#9c179e\"], [0.4444444444444444, \"#bd3786\"], [0.5555555555555556, \"#d8576b\"], [0.6666666666666666, \"#ed7953\"], [0.7777777777777778, \"#fb9f3a\"], [0.8888888888888888, \"#fdca26\"], [1.0, \"#f0f921\"]], \"type\": \"surface\"}], \"table\": [{\"cells\": {\"fill\": {\"color\": \"#EBF0F8\"}, \"line\": {\"color\": \"white\"}}, \"header\": {\"fill\": {\"color\": \"#C8D4E3\"}, \"line\": {\"color\": \"white\"}}, \"type\": \"table\"}]}, \"layout\": {\"annotationdefaults\": {\"arrowcolor\": \"#2a3f5f\", \"arrowhead\": 0, \"arrowwidth\": 1}, \"coloraxis\": {\"colorbar\": {\"outlinewidth\": 0, \"ticks\": \"\"}}, \"colorscale\": {\"diverging\": [[0, \"#8e0152\"], [0.1, \"#c51b7d\"], [0.2, \"#de77ae\"], [0.3, \"#f1b6da\"], [0.4, \"#fde0ef\"], [0.5, \"#f7f7f7\"], [0.6, \"#e6f5d0\"], [0.7, \"#b8e186\"], [0.8, \"#7fbc41\"], [0.9, \"#4d9221\"], [1, \"#276419\"]], \"sequential\": [[0.0, \"#0d0887\"], [0.1111111111111111, \"#46039f\"], [0.2222222222222222, \"#7201a8\"], [0.3333333333333333, \"#9c179e\"], [0.4444444444444444, \"#bd3786\"], [0.5555555555555556, \"#d8576b\"], [0.6666666666666666, \"#ed7953\"], [0.7777777777777778, \"#fb9f3a\"], [0.8888888888888888, \"#fdca26\"], [1.0, \"#f0f921\"]], \"sequentialminus\": [[0.0, \"#0d0887\"], [0.1111111111111111, \"#46039f\"], [0.2222222222222222, \"#7201a8\"], [0.3333333333333333, \"#9c179e\"], [0.4444444444444444, \"#bd3786\"], [0.5555555555555556, \"#d8576b\"], [0.6666666666666666, \"#ed7953\"], [0.7777777777777778, \"#fb9f3a\"], [0.8888888888888888, \"#fdca26\"], [1.0, \"#f0f921\"]]}, \"colorway\": [\"#636efa\", \"#EF553B\", \"#00cc96\", \"#ab63fa\", \"#FFA15A\", \"#19d3f3\", \"#FF6692\", \"#B6E880\", \"#FF97FF\", \"#FECB52\"], \"font\": {\"color\": \"#2a3f5f\"}, \"geo\": {\"bgcolor\": \"white\", \"lakecolor\": \"white\", \"landcolor\": \"#E5ECF6\", \"showlakes\": true, \"showland\": true, \"subunitcolor\": \"white\"}, \"hoverlabel\": {\"align\": \"left\"}, \"hovermode\": \"closest\", \"mapbox\": {\"style\": \"light\"}, \"paper_bgcolor\": \"white\", \"plot_bgcolor\": \"#E5ECF6\", \"polar\": {\"angularaxis\": {\"gridcolor\": \"white\", \"linecolor\": \"white\", \"ticks\": \"\"}, \"bgcolor\": \"#E5ECF6\", \"radialaxis\": {\"gridcolor\": \"white\", \"linecolor\": \"white\", \"ticks\": \"\"}}, \"scene\": {\"xaxis\": {\"backgroundcolor\": \"#E5ECF6\", \"gridcolor\": \"white\", \"gridwidth\": 2, \"linecolor\": \"white\", \"showbackground\": true, \"ticks\": \"\", \"zerolinecolor\": \"white\"}, \"yaxis\": {\"backgroundcolor\": \"#E5ECF6\", \"gridcolor\": \"white\", \"gridwidth\": 2, \"linecolor\": \"white\", \"showbackground\": true, \"ticks\": \"\", \"zerolinecolor\": \"white\"}, \"zaxis\": {\"backgroundcolor\": \"#E5ECF6\", \"gridcolor\": \"white\", \"gridwidth\": 2, \"linecolor\": \"white\", \"showbackground\": true, \"ticks\": \"\", \"zerolinecolor\": \"white\"}}, \"shapedefaults\": {\"line\": {\"color\": \"#2a3f5f\"}}, \"ternary\": {\"aaxis\": {\"gridcolor\": \"white\", \"linecolor\": \"white\", \"ticks\": \"\"}, \"baxis\": {\"gridcolor\": \"white\", \"linecolor\": \"white\", \"ticks\": \"\"}, \"bgcolor\": \"#E5ECF6\", \"caxis\": {\"gridcolor\": \"white\", \"linecolor\": \"white\", \"ticks\": \"\"}}, \"title\": {\"x\": 0.05}, \"xaxis\": {\"automargin\": true, \"gridcolor\": \"white\", \"linecolor\": \"white\", \"ticks\": \"\", \"title\": {\"standoff\": 15}, \"zerolinecolor\": \"white\", \"zerolinewidth\": 2}, \"yaxis\": {\"automargin\": true, \"gridcolor\": \"white\", \"linecolor\": \"white\", \"ticks\": \"\", \"title\": {\"standoff\": 15}, \"zerolinecolor\": \"white\", \"zerolinewidth\": 2}}}, \"title\": {\"text\": \"Regions with Active Cases in Italy: status 20200326\"}, \"treemapcolorway\": [\"rgb(95, 70, 144)\", \"rgb(29, 105, 150)\", \"rgb(56, 166, 165)\", \"rgb(15, 133, 84)\", \"rgb(115, 175, 72)\", \"rgb(237, 173, 8)\", \"rgb(225, 124, 5)\", \"rgb(204, 80, 62)\", \"rgb(148, 52, 110)\", \"rgb(111, 64, 112)\", \"rgb(102, 102, 102)\"]},\n",
       "                        {\"responsive\": true}\n",
       "                    ).then(function(){\n",
       "                            \n",
       "var gd = document.getElementById('562d241a-0094-40e6-be62-fdadc7a3abe9');\n",
       "var x = new MutationObserver(function (mutations, observer) {{\n",
       "        var display = window.getComputedStyle(gd).display;\n",
       "        if (!display || display === 'none') {{\n",
       "            console.log([gd, 'removed!']);\n",
       "            Plotly.purge(gd);\n",
       "            observer.disconnect();\n",
       "        }}\n",
       "}});\n",
       "\n",
       "// Listen for the removal of the full notebook cells\n",
       "var notebookContainer = gd.closest('#notebook-container');\n",
       "if (notebookContainer) {{\n",
       "    x.observe(notebookContainer, {childList: true});\n",
       "}}\n",
       "\n",
       "// Listen for the clearing of the current output cell\n",
       "var outputEl = gd.closest('.output');\n",
       "if (outputEl) {{\n",
       "    x.observe(outputEl, {childList: true});\n",
       "}}\n",
       "\n",
       "                        })\n",
       "                };\n",
       "                });\n",
       "            </script>\n",
       "        </div>"
      ]
     },
     "metadata": {},
     "output_type": "display_data"
    }
   ],
   "source": [
    "fig = px.treemap(da_daily_region,\n",
    "                 path=['region'],\n",
    "                 values= da_daily_region['total positive'],\n",
    "                 title='Regions with Active Cases in Italy: status {}'.format(ieri),\n",
    "                 hover_data=['total positive', 'total currently positive', 'recovered','fatalities'],\n",
    "                 color_discrete_sequence=px.colors.qualitative.Prism)\n",
    "fig.show()"
   ]
  },
  {
   "cell_type": "markdown",
   "metadata": {},
   "source": [
    "Summary data per country is shown if you point on each country's block."
   ]
  },
  {
   "cell_type": "markdown",
   "metadata": {},
   "source": [
    "Lombardia is the region with the bigest share of cases of those currently active. \n",
    "<br>As the outbreak hit Lombardia first, the number of fatalities and recovered cases are higher, explaining the lower number of currently cases in comparison to the total of cases. \n",
    "<br>In the other regions, the outbreak started more recently, therefore the actual positive and total positive in those regions are very close to each other."
   ]
  },
  {
   "cell_type": "code",
   "execution_count": 213,
   "metadata": {},
   "outputs": [],
   "source": [
    "top_italy = da_daily_region.sort_values(by=\"total currently positive\", ascending=False)[\"region\"].head(4)"
   ]
  },
  {
   "cell_type": "code",
   "execution_count": 214,
   "metadata": {},
   "outputs": [],
   "source": [
    "lomb_active_time = da_region[da_region[\"region\"]==\"Lombardia\"][[\"date\",\"total currently positive\",\"fatalities\",\"recovered\"]]"
   ]
  },
  {
   "cell_type": "code",
   "execution_count": 229,
   "metadata": {},
   "outputs": [
    {
     "data": {
      "text/plain": [
       "<function matplotlib.pyplot.show(*args, **kw)>"
      ]
     },
     "execution_count": 229,
     "metadata": {},
     "output_type": "execute_result"
    },
    {
     "data": {
      "image/png": "[encoded data removed]",
      "text/plain": [
       "<Figure size 1152x576 with 1 Axes>"
      ]
     },
     "metadata": {
      "needs_background": "light"
     },
     "output_type": "display_data"
    }
   ],
   "source": [
    "plt.figure(figsize=(16,8))\n",
    "plt.title(\"Active numbers in Lombardia\", size=\"x-large\")\n",
    "rng = lomb_active_time[\"date\"]\n",
    "rng = [datetime.datetime.strptime(x,'%Y-%m-%dT%H:%M:%S').strftime(\"%b %d\") for x in rng]\n",
    "lomb_active_time[\"date\"] = rng\n",
    "sns.lineplot(x=lomb_active_time[\"date\"], y=lomb_active_time[\"total currently positive\"], \n",
    "             label = \"Total active\", marker = \"o\")\n",
    "sns.lineplot(x=lomb_active_time[\"date\"], y=lomb_active_time[\"fatalities\"], \n",
    "             label = \"Fatalities\", marker = \"o\")\n",
    "sns.lineplot(x=lomb_active_time[\"date\"], y=lomb_active_time[\"recovered\"], \n",
    "             label = \"Recovered\", marker = \"o\")\n",
    "plt.xticks(\n",
    "    rotation=45, \n",
    "    horizontalalignment='right',\n",
    "    fontweight='light'  \n",
    ")\n",
    "plt.axvline(x=\"Mar 09\", ls=\"-.\", c=\"red\", label = \"Countrywide lockdown date\")\n",
    "plt.legend(fontsize=\"medium\")\n",
    "plt.show"
   ]
  },
  {
   "cell_type": "markdown",
   "metadata": {},
   "source": [
    "### Top four regions with most active cases"
   ]
  },
  {
   "cell_type": "code",
   "execution_count": 233,
   "metadata": {},
   "outputs": [
    {
     "data": {
      "text/html": [
       "<div>\n",
       "<style scoped>\n",
       "    .dataframe tbody tr th:only-of-type {\n",
       "        vertical-align: middle;\n",
       "    }\n",
       "\n",
       "    .dataframe tbody tr th {\n",
       "        vertical-align: top;\n",
       "    }\n",
       "\n",
       "    .dataframe thead th {\n",
       "        text-align: right;\n",
       "    }\n",
       "</style>\n",
       "<table border=\"1\" class=\"dataframe\">\n",
       "  <thead>\n",
       "    <tr style=\"text-align: right;\">\n",
       "      <th></th>\n",
       "      <th>region</th>\n",
       "      <th>total tested</th>\n",
       "      <th>total positive</th>\n",
       "      <th>total currently positive</th>\n",
       "      <th>percentage of active [%]</th>\n",
       "      <th>percentage of total positive [%]</th>\n",
       "    </tr>\n",
       "  </thead>\n",
       "  <tbody>\n",
       "    <tr>\n",
       "      <th>9</th>\n",
       "      <td>Lombardia</td>\n",
       "      <td>87713</td>\n",
       "      <td>34889</td>\n",
       "      <td>22189</td>\n",
       "      <td>35.78</td>\n",
       "      <td>43.32</td>\n",
       "    </tr>\n",
       "    <tr>\n",
       "      <th>5</th>\n",
       "      <td>Emilia Romagna</td>\n",
       "      <td>42395</td>\n",
       "      <td>10816</td>\n",
       "      <td>8850</td>\n",
       "      <td>14.27</td>\n",
       "      <td>13.43</td>\n",
       "    </tr>\n",
       "    <tr>\n",
       "      <th>20</th>\n",
       "      <td>Veneto</td>\n",
       "      <td>79759</td>\n",
       "      <td>6935</td>\n",
       "      <td>6140</td>\n",
       "      <td>9.90</td>\n",
       "      <td>8.61</td>\n",
       "    </tr>\n",
       "    <tr>\n",
       "      <th>12</th>\n",
       "      <td>Piemonte</td>\n",
       "      <td>18054</td>\n",
       "      <td>6534</td>\n",
       "      <td>5950</td>\n",
       "      <td>9.59</td>\n",
       "      <td>8.11</td>\n",
       "    </tr>\n",
       "  </tbody>\n",
       "</table>\n",
       "</div>"
      ],
      "text/plain": [
       "            region  total tested  total positive  total currently positive  \\\n",
       "9        Lombardia         87713           34889                     22189   \n",
       "5   Emilia Romagna         42395           10816                      8850   \n",
       "20          Veneto         79759            6935                      6140   \n",
       "12        Piemonte         18054            6534                      5950   \n",
       "\n",
       "    percentage of active [%]  percentage of total positive [%]  \n",
       "9                      35.78                             43.32  \n",
       "5                      14.27                             13.43  \n",
       "20                      9.90                              8.61  \n",
       "12                      9.59                              8.11  "
      ]
     },
     "execution_count": 233,
     "metadata": {},
     "output_type": "execute_result"
    }
   ],
   "source": [
    "summary_daily_region"
   ]
  },
  {
   "cell_type": "code",
   "execution_count": 259,
   "metadata": {},
   "outputs": [],
   "source": [
    "top_four_italy = summary_daily_region[\"region\"]"
   ]
  },
  {
   "cell_type": "code",
   "execution_count": 263,
   "metadata": {},
   "outputs": [],
   "source": [
    "top_four_italy = top_four_italy.reset_index(drop=True)"
   ]
  },
  {
   "cell_type": "code",
   "execution_count": 277,
   "metadata": {},
   "outputs": [
    {
     "data": {
      "text/plain": [
       "'Emilia Romagna'"
      ]
     },
     "execution_count": 277,
     "metadata": {},
     "output_type": "execute_result"
    }
   ],
   "source": [
    "top_four_italy[1]"
   ]
  },
  {
   "cell_type": "code",
   "execution_count": 309,
   "metadata": {},
   "outputs": [],
   "source": [
    "reg_1 = da_region[da_region[\"denominazione_regione\"] == top_four_italy[0]]\n",
    "reg_2 = da_region[da_region[\"denominazione_regione\"] == top_four_italy[1]]\n",
    "reg_3 = da_region[da_region[\"denominazione_regione\"] == top_four_italy[2]]\n",
    "reg_4 = da_region[da_region[\"denominazione_regione\"] == top_four_italy[3]]"
   ]
  },
  {
   "cell_type": "code",
   "execution_count": 310,
   "metadata": {},
   "outputs": [
    {
     "data": {
      "text/html": [
       "<div>\n",
       "<style scoped>\n",
       "    .dataframe tbody tr th:only-of-type {\n",
       "        vertical-align: middle;\n",
       "    }\n",
       "\n",
       "    .dataframe tbody tr th {\n",
       "        vertical-align: top;\n",
       "    }\n",
       "\n",
       "    .dataframe thead th {\n",
       "        text-align: right;\n",
       "    }\n",
       "</style>\n",
       "<table border=\"1\" class=\"dataframe\">\n",
       "  <thead>\n",
       "    <tr style=\"text-align: right;\">\n",
       "      <th></th>\n",
       "      <th>data</th>\n",
       "      <th>totale_attualmente_positivi</th>\n",
       "    </tr>\n",
       "  </thead>\n",
       "  <tbody>\n",
       "    <tr>\n",
       "      <th>12</th>\n",
       "      <td>2020-02-24T18:00:00</td>\n",
       "      <td>3</td>\n",
       "    </tr>\n",
       "    <tr>\n",
       "      <th>33</th>\n",
       "      <td>2020-02-25T18:00:00</td>\n",
       "      <td>3</td>\n",
       "    </tr>\n",
       "    <tr>\n",
       "      <th>54</th>\n",
       "      <td>2020-02-26T18:00:00</td>\n",
       "      <td>3</td>\n",
       "    </tr>\n",
       "    <tr>\n",
       "      <th>75</th>\n",
       "      <td>2020-02-27T18:00:00</td>\n",
       "      <td>2</td>\n",
       "    </tr>\n",
       "    <tr>\n",
       "      <th>96</th>\n",
       "      <td>2020-02-28T18:00:00</td>\n",
       "      <td>11</td>\n",
       "    </tr>\n",
       "  </tbody>\n",
       "</table>\n",
       "</div>"
      ],
      "text/plain": [
       "                   data  totale_attualmente_positivi\n",
       "12  2020-02-24T18:00:00                            3\n",
       "33  2020-02-25T18:00:00                            3\n",
       "54  2020-02-26T18:00:00                            3\n",
       "75  2020-02-27T18:00:00                            2\n",
       "96  2020-02-28T18:00:00                           11"
      ]
     },
     "execution_count": 310,
     "metadata": {},
     "output_type": "execute_result"
    }
   ],
   "source": [
    "reg_4[[\"data\",\"totale_attualmente_positivi\"]].head()"
   ]
  },
  {
   "cell_type": "code",
   "execution_count": 311,
   "metadata": {},
   "outputs": [],
   "source": [
    "def time_formatter(da):\n",
    "    rng = da[\"data\"]\n",
    "    rng = [datetime.datetime.strptime(x,'%Y-%m-%dT%H:%M:%S').strftime(\"%b %d\") for x in rng]\n",
    "    da[\"data\"] = rng\n",
    "    return da"
   ]
  },
  {
   "cell_type": "code",
   "execution_count": 312,
   "metadata": {},
   "outputs": [],
   "source": [
    "reg_1 = time_formatter(reg_1)\n",
    "reg_2 = time_formatter(reg_2)\n",
    "reg_3 = time_formatter(reg_3)\n",
    "reg_4 = time_formatter(reg_4)"
   ]
  },
  {
   "cell_type": "code",
   "execution_count": 315,
   "metadata": {},
   "outputs": [
    {
     "data": {
      "image/png": "[encoded data removed]",
      "text/plain": [
       "<Figure size 1152x720 with 4 Axes>"
      ]
     },
     "metadata": {
      "needs_background": "light"
     },
     "output_type": "display_data"
    }
   ],
   "source": [
    "fig, ax = plt.subplots(2, 2, figsize=(16,10), sharey=True)\n",
    "\n",
    "\n",
    "def plot_top4_it(da,num,xcol, ycol, title):\n",
    "    ax[num].plot(da[xcol],da[ycol], lw=3)\n",
    "    ax[num].set_title(title)\n",
    "    ax[num].xaxis.set_major_locator(plt.AutoLocator())\n",
    "    ax[num].grid(True)\n",
    "    \n",
    "plot_top4_it(reg_1, (0,0), \"data\", \"totale_attualmente_positivi\", 'Active cases in {}'.format(top_four_italy[0]))\n",
    "plot_top4_it(reg_2, (0,1), \"data\", \"totale_attualmente_positivi\", 'Active cases in {}'.format(top_four_italy[1]))\n",
    "plot_top4_it(reg_3, (1,0), \"data\", \"totale_attualmente_positivi\", 'Active cases in {}'.format(top_four_italy[2]))\n",
    "plot_top4_it(reg_4, (1,1), \"data\", \"totale_attualmente_positivi\", 'Active cases in {}'.format(top_four_italy[3]))\n",
    "fig.suptitle('Active cases over time in the top four Italian regions by numbers', fontsize=16)\n",
    "\n",
    "plt.show()"
   ]
  },
  {
   "cell_type": "code",
   "execution_count": null,
   "metadata": {},
   "outputs": [],
   "source": []
  }
 ],
 "metadata": {
  "kernelspec": {
   "display_name": "Python 3",
   "language": "python",
   "name": "python3"
  },
  "language_info": {
   "codemirror_mode": {
    "name": "ipython",
    "version": 3
   },
   "file_extension": ".py",
   "mimetype": "text/x-python",
   "name": "python",
   "nbconvert_exporter": "python",
   "pygments_lexer": "ipython3",
   "version": "3.8.2"
  }
 },
 "nbformat": 4,
 "nbformat_minor": 4
}
