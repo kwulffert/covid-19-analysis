{
 "cells": [
  {
   "cell_type": "code",
   "execution_count": 351,
   "metadata": {},
   "outputs": [],
   "source": [
    "import pandas as pd\n",
    "pd.plotting.register_matplotlib_converters()\n",
    "import matplotlib.pyplot as plt\n",
    "import matplotlib.dates as mdate\n",
    "%matplotlib inline\n",
    "import seaborn as sns\n",
    "import plotly.express as px\n",
    "from plotly.subplots import make_subplots\n",
    "import plotly.graph_objects as go\n",
    "import chart_studio.plotly as py\n",
    "import numpy as np\n",
    "import datetime as datetime\n",
    "from datetime import date, timedelta\n",
    "import requests\n",
    "import io\n",
    "import folium\n",
    "from folium import Choropleth, Circle, Marker\n",
    "from folium.plugins import HeatMap, MarkerCluster\n",
    "from IPython.display import Markdown as md\n",
    "import math\n",
    "# Function for displaying the map\n",
    "def embed_map(m, file_name):\n",
    "    from IPython.display import IFrame\n",
    "    m.save(file_name)\n",
    "    return IFrame(file_name, width='100%', height='700px')"
   ]
  },
  {
   "cell_type": "markdown",
   "metadata": {},
   "source": [
    "We define a function to get the raw data from the corresponding url and retruning it as a dataframe.\n",
    "<br>This function allows us to get the latest updates."
   ]
  },
  {
   "cell_type": "code",
   "execution_count": 352,
   "metadata": {},
   "outputs": [],
   "source": [
    "def get_raw_data(url):\n",
    "    req = requests.get(url).content\n",
    "    return pd.read_csv(io.StringIO(req.decode('utf-8')))"
   ]
  },
  {
   "cell_type": "markdown",
   "metadata": {},
   "source": [
    "# Worldwide Analysis"
   ]
  },
  {
   "cell_type": "markdown",
   "metadata": {},
   "source": [
    "Import the latest reports from CSSE at Johns Hopkins University.\n",
    "<br> Date of the latest data to be gathered is \"yesterday\" to ensure the data is available as the files are updated daily at midnight.\n",
    "<br> We use the date variable \"yesterday\" to build the urls dynamically."
   ]
  },
  {
   "cell_type": "code",
   "execution_count": 353,
   "metadata": {},
   "outputs": [],
   "source": [
    "yesterday = date.today() - timedelta(days=1)\n",
    "yesterday = yesterday.strftime(\"%m-%d-%Y\") "
   ]
  },
  {
   "cell_type": "code",
   "execution_count": 354,
   "metadata": {},
   "outputs": [],
   "source": [
    "world_url = \"https://raw.githubusercontent.com/CSSEGISandData/COVID-19/master/csse_covid_19_data/csse_covid_19_daily_reports/{}.csv\".format(yesterday)\n",
    "confirmed_w_url = \"https://raw.githubusercontent.com/CSSEGISandData/COVID-19/master/csse_covid_19_data/csse_covid_19_time_series/time_series_19-covid-Confirmed.csv\"\n",
    "fatalities_w_url = \"https://raw.githubusercontent.com/CSSEGISandData/COVID-19/master/csse_covid_19_data/csse_covid_19_time_series/time_series_19-covid-Deaths.csv\"\n",
    "recovered_w_url = \"https://raw.githubusercontent.com/CSSEGISandData/COVID-19/master/csse_covid_19_data/csse_covid_19_time_series/time_series_19-covid-Recovered.csv\"\n",
    "da_world = get_raw_data(world_url)\n",
    "da_confirmed_w = get_raw_data(confirmed_w_url)\n",
    "da_fatalities_w = get_raw_data(fatalities_w_url)\n",
    "da_recovered_w = get_raw_data(recovered_w_url)"
   ]
  },
  {
   "cell_type": "markdown",
   "metadata": {},
   "source": [
    "First look at the overall data. "
   ]
  },
  {
   "cell_type": "code",
   "execution_count": 355,
   "metadata": {},
   "outputs": [
    {
     "data": {
      "text/html": [
       "<div>\n",
       "<style scoped>\n",
       "    .dataframe tbody tr th:only-of-type {\n",
       "        vertical-align: middle;\n",
       "    }\n",
       "\n",
       "    .dataframe tbody tr th {\n",
       "        vertical-align: top;\n",
       "    }\n",
       "\n",
       "    .dataframe thead th {\n",
       "        text-align: right;\n",
       "    }\n",
       "</style>\n",
       "<table border=\"1\" class=\"dataframe\">\n",
       "  <thead>\n",
       "    <tr style=\"text-align: right;\">\n",
       "      <th></th>\n",
       "      <th>Province/State</th>\n",
       "      <th>Country/Region</th>\n",
       "      <th>Last Update</th>\n",
       "      <th>Confirmed</th>\n",
       "      <th>Deaths</th>\n",
       "      <th>Recovered</th>\n",
       "      <th>Latitude</th>\n",
       "      <th>Longitude</th>\n",
       "    </tr>\n",
       "  </thead>\n",
       "  <tbody>\n",
       "    <tr>\n",
       "      <th>0</th>\n",
       "      <td>Hubei</td>\n",
       "      <td>China</td>\n",
       "      <td>2020-03-21T10:13:08</td>\n",
       "      <td>67800</td>\n",
       "      <td>3139</td>\n",
       "      <td>58946</td>\n",
       "      <td>30.9756</td>\n",
       "      <td>112.2707</td>\n",
       "    </tr>\n",
       "    <tr>\n",
       "      <th>1</th>\n",
       "      <td>NaN</td>\n",
       "      <td>Italy</td>\n",
       "      <td>2020-03-21T17:43:03</td>\n",
       "      <td>53578</td>\n",
       "      <td>4825</td>\n",
       "      <td>6072</td>\n",
       "      <td>41.8719</td>\n",
       "      <td>12.5674</td>\n",
       "    </tr>\n",
       "    <tr>\n",
       "      <th>2</th>\n",
       "      <td>NaN</td>\n",
       "      <td>Spain</td>\n",
       "      <td>2020-03-21T13:13:30</td>\n",
       "      <td>25374</td>\n",
       "      <td>1375</td>\n",
       "      <td>2125</td>\n",
       "      <td>40.4637</td>\n",
       "      <td>-3.7492</td>\n",
       "    </tr>\n",
       "    <tr>\n",
       "      <th>3</th>\n",
       "      <td>NaN</td>\n",
       "      <td>Germany</td>\n",
       "      <td>2020-03-21T20:43:02</td>\n",
       "      <td>22213</td>\n",
       "      <td>84</td>\n",
       "      <td>233</td>\n",
       "      <td>51.1657</td>\n",
       "      <td>10.4515</td>\n",
       "    </tr>\n",
       "    <tr>\n",
       "      <th>4</th>\n",
       "      <td>NaN</td>\n",
       "      <td>Iran</td>\n",
       "      <td>2020-03-21T11:13:12</td>\n",
       "      <td>20610</td>\n",
       "      <td>1556</td>\n",
       "      <td>7635</td>\n",
       "      <td>32.4279</td>\n",
       "      <td>53.6880</td>\n",
       "    </tr>\n",
       "  </tbody>\n",
       "</table>\n",
       "</div>"
      ],
      "text/plain": [
       "  Province/State Country/Region          Last Update  Confirmed  Deaths  \\\n",
       "0          Hubei          China  2020-03-21T10:13:08      67800    3139   \n",
       "1            NaN          Italy  2020-03-21T17:43:03      53578    4825   \n",
       "2            NaN          Spain  2020-03-21T13:13:30      25374    1375   \n",
       "3            NaN        Germany  2020-03-21T20:43:02      22213      84   \n",
       "4            NaN           Iran  2020-03-21T11:13:12      20610    1556   \n",
       "\n",
       "   Recovered  Latitude  Longitude  \n",
       "0      58946   30.9756   112.2707  \n",
       "1       6072   41.8719    12.5674  \n",
       "2       2125   40.4637    -3.7492  \n",
       "3        233   51.1657    10.4515  \n",
       "4       7635   32.4279    53.6880  "
      ]
     },
     "execution_count": 355,
     "metadata": {},
     "output_type": "execute_result"
    }
   ],
   "source": [
    "da_world.head(5)"
   ]
  },
  {
   "cell_type": "markdown",
   "metadata": {},
   "source": [
    "We clean up the data and consolidate the names of countries with several variations or the article after the name."
   ]
  },
  {
   "cell_type": "markdown",
   "metadata": {},
   "source": [
    "We rename the entries for South Korea."
   ]
  },
  {
   "cell_type": "code",
   "execution_count": 356,
   "metadata": {},
   "outputs": [],
   "source": [
    "da_world[\"Country/Region\"] = da_world[\"Country/Region\"].replace(\"Korea, South\",\"South Korea\")\n",
    "da_confirmed_w[\"Country/Region\"] = da_confirmed_w[\"Country/Region\"].replace(\"Korea, South\",\"South Korea\")\n",
    "da_fatalities_w[\"Country/Region\"] = da_fatalities_w[\"Country/Region\"].replace(\"Korea, South\",\"South Korea\")\n",
    "da_recovered_w[\"Country/Region\"] = da_recovered_w[\"Country/Region\"].replace(\"Korea, South\",\"South Korea\")"
   ]
  },
  {
   "cell_type": "markdown",
   "metadata": {},
   "source": [
    "Consolidate the name of Republic of Congo for all possible variants."
   ]
  },
  {
   "cell_type": "code",
   "execution_count": 444,
   "metadata": {},
   "outputs": [
    {
     "data": {
      "text/html": [
       "<div>\n",
       "<style scoped>\n",
       "    .dataframe tbody tr th:only-of-type {\n",
       "        vertical-align: middle;\n",
       "    }\n",
       "\n",
       "    .dataframe tbody tr th {\n",
       "        vertical-align: top;\n",
       "    }\n",
       "\n",
       "    .dataframe thead th {\n",
       "        text-align: right;\n",
       "    }\n",
       "</style>\n",
       "<table border=\"1\" class=\"dataframe\">\n",
       "  <thead>\n",
       "    <tr style=\"text-align: right;\">\n",
       "      <th></th>\n",
       "      <th>Province/State</th>\n",
       "      <th>Country/Region</th>\n",
       "      <th>Last Update</th>\n",
       "      <th>Confirmed</th>\n",
       "      <th>Deaths</th>\n",
       "      <th>Recovered</th>\n",
       "      <th>Latitude</th>\n",
       "      <th>Longitude</th>\n",
       "      <th>Active</th>\n",
       "    </tr>\n",
       "  </thead>\n",
       "  <tbody>\n",
       "    <tr>\n",
       "      <th>191</th>\n",
       "      <td>NaN</td>\n",
       "      <td>Republic of the Congo</td>\n",
       "      <td>2020-03-21T12:43:08</td>\n",
       "      <td>23</td>\n",
       "      <td>1</td>\n",
       "      <td>0</td>\n",
       "      <td>-4.0383</td>\n",
       "      <td>21.7587</td>\n",
       "      <td>22</td>\n",
       "    </tr>\n",
       "    <tr>\n",
       "      <th>246</th>\n",
       "      <td>NaN</td>\n",
       "      <td>Republic of the Congo</td>\n",
       "      <td>2020-03-19T20:13:56</td>\n",
       "      <td>3</td>\n",
       "      <td>0</td>\n",
       "      <td>0</td>\n",
       "      <td>-0.2280</td>\n",
       "      <td>15.8277</td>\n",
       "      <td>3</td>\n",
       "    </tr>\n",
       "    <tr>\n",
       "      <th>301</th>\n",
       "      <td>NaN</td>\n",
       "      <td>Republic of the Congo</td>\n",
       "      <td>2020-03-17T21:33:03</td>\n",
       "      <td>0</td>\n",
       "      <td>0</td>\n",
       "      <td>0</td>\n",
       "      <td>-1.4400</td>\n",
       "      <td>15.5560</td>\n",
       "      <td>0</td>\n",
       "    </tr>\n",
       "  </tbody>\n",
       "</table>\n",
       "</div>"
      ],
      "text/plain": [
       "    Province/State         Country/Region          Last Update  Confirmed  \\\n",
       "191            NaN  Republic of the Congo  2020-03-21T12:43:08         23   \n",
       "246            NaN  Republic of the Congo  2020-03-19T20:13:56          3   \n",
       "301            NaN  Republic of the Congo  2020-03-17T21:33:03          0   \n",
       "\n",
       "     Deaths  Recovered  Latitude  Longitude  Active  \n",
       "191       1          0   -4.0383    21.7587      22  \n",
       "246       0          0   -0.2280    15.8277       3  \n",
       "301       0          0   -1.4400    15.5560       0  "
      ]
     },
     "execution_count": 444,
     "metadata": {},
     "output_type": "execute_result"
    }
   ],
   "source": [
    "list_congo = da_world[da_world[\"Country/Region\"].str.contains(\"Congo\")].index\n",
    "for x in list_congo:\n",
    "    da_world.loc[x,\"Country/Region\"] = \"Republic of the Congo\"\n",
    "    da_confirmed_w.loc[x,\"Country/Region\"] = \"Republic of the Congo\"\n",
    "    da_fatalities_w.loc[x,\"Country/Region\"] = \"Republic of the Congo\"\n",
    "    da_recovered_w.loc[x,\"Country/Region\"] = \"Republic of the Congo\"\n",
    "da_world[da_world[\"Country/Region\"].str.contains(\"Congo\")]"
   ]
  },
  {
   "cell_type": "code",
   "execution_count": 445,
   "metadata": {},
   "outputs": [
    {
     "data": {
      "text/html": [
       "<div>\n",
       "<style scoped>\n",
       "    .dataframe tbody tr th:only-of-type {\n",
       "        vertical-align: middle;\n",
       "    }\n",
       "\n",
       "    .dataframe tbody tr th {\n",
       "        vertical-align: top;\n",
       "    }\n",
       "\n",
       "    .dataframe thead th {\n",
       "        text-align: right;\n",
       "    }\n",
       "</style>\n",
       "<table border=\"1\" class=\"dataframe\">\n",
       "  <thead>\n",
       "    <tr style=\"text-align: right;\">\n",
       "      <th></th>\n",
       "      <th>Province/State</th>\n",
       "      <th>Country/Region</th>\n",
       "      <th>Last Update</th>\n",
       "      <th>Confirmed</th>\n",
       "      <th>Deaths</th>\n",
       "      <th>Recovered</th>\n",
       "      <th>Latitude</th>\n",
       "      <th>Longitude</th>\n",
       "      <th>Active</th>\n",
       "    </tr>\n",
       "  </thead>\n",
       "  <tbody>\n",
       "    <tr>\n",
       "      <th>279</th>\n",
       "      <td>NaN</td>\n",
       "      <td>The Gambia</td>\n",
       "      <td>2020-03-18T14:13:56</td>\n",
       "      <td>1</td>\n",
       "      <td>0</td>\n",
       "      <td>0</td>\n",
       "      <td>13.4432</td>\n",
       "      <td>-15.3101</td>\n",
       "      <td>1</td>\n",
       "    </tr>\n",
       "    <tr>\n",
       "      <th>303</th>\n",
       "      <td>NaN</td>\n",
       "      <td>The Gambia</td>\n",
       "      <td>2020-03-18T14:13:56</td>\n",
       "      <td>0</td>\n",
       "      <td>0</td>\n",
       "      <td>0</td>\n",
       "      <td>13.4667</td>\n",
       "      <td>-16.6000</td>\n",
       "      <td>0</td>\n",
       "    </tr>\n",
       "  </tbody>\n",
       "</table>\n",
       "</div>"
      ],
      "text/plain": [
       "    Province/State Country/Region          Last Update  Confirmed  Deaths  \\\n",
       "279            NaN     The Gambia  2020-03-18T14:13:56          1       0   \n",
       "303            NaN     The Gambia  2020-03-18T14:13:56          0       0   \n",
       "\n",
       "     Recovered  Latitude  Longitude  Active  \n",
       "279          0   13.4432   -15.3101       1  \n",
       "303          0   13.4667   -16.6000       0  "
      ]
     },
     "execution_count": 445,
     "metadata": {},
     "output_type": "execute_result"
    }
   ],
   "source": [
    "list_gambia = da_world[da_world[\"Country/Region\"].str.contains(\"Gambia\")].index\n",
    "for x in list_gambia:\n",
    "    da_world.loc[x,\"Country/Region\"] = \"The Gambia\"\n",
    "    da_confirmed_w.loc[x,\"Country/Region\"] = \"The Gambia\"\n",
    "    da_fatalities_w.loc[x,\"Country/Region\"] = \"The Gambia\"\n",
    "    da_recovered_w.loc[x,\"Country/Region\"] = \"The Gambia\"\n",
    "da_world[da_world[\"Country/Region\"].str.contains(\"Gambia\")]"
   ]
  },
  {
   "cell_type": "markdown",
   "metadata": {},
   "source": [
    "We add a column for the active positive cases. \n",
    "<br>Our main interest is to see how the numbers of active cases are changing. "
   ]
  },
  {
   "cell_type": "code",
   "execution_count": 446,
   "metadata": {},
   "outputs": [],
   "source": [
    "da_world[\"Active\"] = da_world[\"Confirmed\"] - da_world[\"Recovered\"] - da_world[\"Deaths\"]"
   ]
  },
  {
   "cell_type": "markdown",
   "metadata": {},
   "source": [
    "## Global numbers in a nutshell"
   ]
  },
  {
   "cell_type": "code",
   "execution_count": 447,
   "metadata": {},
   "outputs": [
    {
     "data": {
      "text/plain": [
       "Confirmed    304528\n",
       "Active       199879\n",
       "Recovered     91676\n",
       "Deaths        12973\n",
       "dtype: int64"
      ]
     },
     "execution_count": 447,
     "metadata": {},
     "output_type": "execute_result"
    }
   ],
   "source": [
    "total_w = da_world[[\"Confirmed\",\"Active\",\"Recovered\",\"Deaths\"]].sum()\n",
    "total_w"
   ]
  },
  {
   "cell_type": "markdown",
   "metadata": {},
   "source": [
    "We group the dataset by countries to have a total value per nation and list the top five countries with active cases."
   ]
  },
  {
   "cell_type": "code",
   "execution_count": 448,
   "metadata": {},
   "outputs": [
    {
     "data": {
      "text/html": [
       "<div>\n",
       "<style scoped>\n",
       "    .dataframe tbody tr th:only-of-type {\n",
       "        vertical-align: middle;\n",
       "    }\n",
       "\n",
       "    .dataframe tbody tr th {\n",
       "        vertical-align: top;\n",
       "    }\n",
       "\n",
       "    .dataframe thead th {\n",
       "        text-align: right;\n",
       "    }\n",
       "</style>\n",
       "<table border=\"1\" class=\"dataframe\">\n",
       "  <thead>\n",
       "    <tr style=\"text-align: right;\">\n",
       "      <th></th>\n",
       "      <th>Confirmed</th>\n",
       "      <th>Active</th>\n",
       "      <th>Recovered</th>\n",
       "      <th>Deaths</th>\n",
       "    </tr>\n",
       "    <tr>\n",
       "      <th>Country/Region</th>\n",
       "      <th></th>\n",
       "      <th></th>\n",
       "      <th></th>\n",
       "      <th></th>\n",
       "    </tr>\n",
       "  </thead>\n",
       "  <tbody>\n",
       "    <tr>\n",
       "      <th>Italy</th>\n",
       "      <td>53578</td>\n",
       "      <td>42681</td>\n",
       "      <td>6072</td>\n",
       "      <td>4825</td>\n",
       "    </tr>\n",
       "    <tr>\n",
       "      <th>US</th>\n",
       "      <td>25493</td>\n",
       "      <td>25015</td>\n",
       "      <td>171</td>\n",
       "      <td>307</td>\n",
       "    </tr>\n",
       "    <tr>\n",
       "      <th>Germany</th>\n",
       "      <td>22213</td>\n",
       "      <td>21896</td>\n",
       "      <td>233</td>\n",
       "      <td>84</td>\n",
       "    </tr>\n",
       "    <tr>\n",
       "      <th>Spain</th>\n",
       "      <td>25374</td>\n",
       "      <td>21874</td>\n",
       "      <td>2125</td>\n",
       "      <td>1375</td>\n",
       "    </tr>\n",
       "    <tr>\n",
       "      <th>France</th>\n",
       "      <td>14308</td>\n",
       "      <td>13734</td>\n",
       "      <td>12</td>\n",
       "      <td>562</td>\n",
       "    </tr>\n",
       "  </tbody>\n",
       "</table>\n",
       "</div>"
      ],
      "text/plain": [
       "                Confirmed  Active  Recovered  Deaths\n",
       "Country/Region                                      \n",
       "Italy               53578   42681       6072    4825\n",
       "US                  25493   25015        171     307\n",
       "Germany             22213   21896        233      84\n",
       "Spain               25374   21874       2125    1375\n",
       "France              14308   13734         12     562"
      ]
     },
     "execution_count": 448,
     "metadata": {},
     "output_type": "execute_result"
    }
   ],
   "source": [
    "total_countries = da_world.groupby(\"Country/Region\")[[\"Confirmed\",\"Active\",\"Recovered\",\"Deaths\"]].sum(\n",
    "              ).sort_values(by=\"Active\",ascending=False)\n",
    "total_countries.head()"
   ]
  },
  {
   "cell_type": "markdown",
   "metadata": {},
   "source": [
    "We add the geographical coordinates for each country to build a worlwide map."
   ]
  },
  {
   "cell_type": "code",
   "execution_count": 449,
   "metadata": {},
   "outputs": [
    {
     "data": {
      "text/html": [
       "<div>\n",
       "<style scoped>\n",
       "    .dataframe tbody tr th:only-of-type {\n",
       "        vertical-align: middle;\n",
       "    }\n",
       "\n",
       "    .dataframe tbody tr th {\n",
       "        vertical-align: top;\n",
       "    }\n",
       "\n",
       "    .dataframe thead th {\n",
       "        text-align: right;\n",
       "    }\n",
       "</style>\n",
       "<table border=\"1\" class=\"dataframe\">\n",
       "  <thead>\n",
       "    <tr style=\"text-align: right;\">\n",
       "      <th></th>\n",
       "      <th>Confirmed</th>\n",
       "      <th>Active</th>\n",
       "      <th>Recovered</th>\n",
       "      <th>Deaths</th>\n",
       "      <th>lat</th>\n",
       "      <th>long</th>\n",
       "    </tr>\n",
       "    <tr>\n",
       "      <th>Country/Region</th>\n",
       "      <th></th>\n",
       "      <th></th>\n",
       "      <th></th>\n",
       "      <th></th>\n",
       "      <th></th>\n",
       "      <th></th>\n",
       "    </tr>\n",
       "  </thead>\n",
       "  <tbody>\n",
       "    <tr>\n",
       "      <th>Italy</th>\n",
       "      <td>53578</td>\n",
       "      <td>42681</td>\n",
       "      <td>6072</td>\n",
       "      <td>4825</td>\n",
       "      <td>NaN</td>\n",
       "      <td>NaN</td>\n",
       "    </tr>\n",
       "    <tr>\n",
       "      <th>US</th>\n",
       "      <td>25493</td>\n",
       "      <td>25015</td>\n",
       "      <td>171</td>\n",
       "      <td>307</td>\n",
       "      <td>NaN</td>\n",
       "      <td>NaN</td>\n",
       "    </tr>\n",
       "    <tr>\n",
       "      <th>Germany</th>\n",
       "      <td>22213</td>\n",
       "      <td>21896</td>\n",
       "      <td>233</td>\n",
       "      <td>84</td>\n",
       "      <td>NaN</td>\n",
       "      <td>NaN</td>\n",
       "    </tr>\n",
       "    <tr>\n",
       "      <th>Spain</th>\n",
       "      <td>25374</td>\n",
       "      <td>21874</td>\n",
       "      <td>2125</td>\n",
       "      <td>1375</td>\n",
       "      <td>NaN</td>\n",
       "      <td>NaN</td>\n",
       "    </tr>\n",
       "    <tr>\n",
       "      <th>France</th>\n",
       "      <td>14308</td>\n",
       "      <td>13734</td>\n",
       "      <td>12</td>\n",
       "      <td>562</td>\n",
       "      <td>NaN</td>\n",
       "      <td>NaN</td>\n",
       "    </tr>\n",
       "  </tbody>\n",
       "</table>\n",
       "</div>"
      ],
      "text/plain": [
       "                Confirmed  Active  Recovered  Deaths  lat  long\n",
       "Country/Region                                                 \n",
       "Italy               53578   42681       6072    4825  NaN   NaN\n",
       "US                  25493   25015        171     307  NaN   NaN\n",
       "Germany             22213   21896        233      84  NaN   NaN\n",
       "Spain               25374   21874       2125    1375  NaN   NaN\n",
       "France              14308   13734         12     562  NaN   NaN"
      ]
     },
     "execution_count": 449,
     "metadata": {},
     "output_type": "execute_result"
    }
   ],
   "source": [
    "total_countries[\"lat\"]= np.nan\n",
    "total_countries[\"long\"]= np.nan\n",
    "total_countries.head()"
   ]
  },
  {
   "cell_type": "code",
   "execution_count": 450,
   "metadata": {},
   "outputs": [
    {
     "data": {
      "text/plain": [
       "175"
      ]
     },
     "execution_count": 450,
     "metadata": {},
     "output_type": "execute_result"
    }
   ],
   "source": [
    "total_countries[\"lat\"]= np.nan\n",
    "total_countries[\"long\"]= np.nan\n",
    "total_countries = total_countries.reset_index()\n",
    "len(total_countries)"
   ]
  },
  {
   "cell_type": "code",
   "execution_count": 451,
   "metadata": {},
   "outputs": [
    {
     "data": {
      "text/plain": [
       "0            Italy\n",
       "1               US\n",
       "2          Germany\n",
       "3            Spain\n",
       "4           France\n",
       "          ...     \n",
       "170           Guam\n",
       "171       Guernsey\n",
       "172         Jersey\n",
       "173          Nepal\n",
       "174    Puerto Rico\n",
       "Name: Country/Region, Length: 175, dtype: object"
      ]
     },
     "execution_count": 451,
     "metadata": {},
     "output_type": "execute_result"
    }
   ],
   "source": [
    "countries = total_countries[\"Country/Region\"]\n",
    "countries"
   ]
  },
  {
   "cell_type": "markdown",
   "metadata": {},
   "source": [
    "We gather the longitude and latitude per country from the da_world dataset.\n",
    "<br>As there are several regions for some countries, we drop duplicate values of countries and keep the first one as reference for the geographical coordinates.The final length of the resulting dataframe single_countries shall match the length of total_countries."
   ]
  },
  {
   "cell_type": "code",
   "execution_count": 452,
   "metadata": {},
   "outputs": [
    {
     "data": {
      "text/plain": [
       "175"
      ]
     },
     "execution_count": 452,
     "metadata": {},
     "output_type": "execute_result"
    }
   ],
   "source": [
    "single_countries = da_world.drop_duplicates(subset=\"Country/Region\", keep=\"first\")\n",
    "single_countries = single_countries[[\"Country/Region\",\"Latitude\",\"Longitude\"]]\n",
    "len(single_countries)"
   ]
  },
  {
   "cell_type": "code",
   "execution_count": 453,
   "metadata": {},
   "outputs": [
    {
     "data": {
      "text/html": [
       "<div>\n",
       "<style scoped>\n",
       "    .dataframe tbody tr th:only-of-type {\n",
       "        vertical-align: middle;\n",
       "    }\n",
       "\n",
       "    .dataframe tbody tr th {\n",
       "        vertical-align: top;\n",
       "    }\n",
       "\n",
       "    .dataframe thead th {\n",
       "        text-align: right;\n",
       "    }\n",
       "</style>\n",
       "<table border=\"1\" class=\"dataframe\">\n",
       "  <thead>\n",
       "    <tr style=\"text-align: right;\">\n",
       "      <th></th>\n",
       "      <th>Country/Region</th>\n",
       "      <th>Confirmed</th>\n",
       "      <th>Active</th>\n",
       "      <th>Recovered</th>\n",
       "      <th>Deaths</th>\n",
       "      <th>lat</th>\n",
       "      <th>long</th>\n",
       "    </tr>\n",
       "  </thead>\n",
       "  <tbody>\n",
       "    <tr>\n",
       "      <th>0</th>\n",
       "      <td>Italy</td>\n",
       "      <td>53578</td>\n",
       "      <td>42681</td>\n",
       "      <td>6072</td>\n",
       "      <td>4825</td>\n",
       "      <td>NaN</td>\n",
       "      <td>NaN</td>\n",
       "    </tr>\n",
       "    <tr>\n",
       "      <th>1</th>\n",
       "      <td>US</td>\n",
       "      <td>25493</td>\n",
       "      <td>25015</td>\n",
       "      <td>171</td>\n",
       "      <td>307</td>\n",
       "      <td>NaN</td>\n",
       "      <td>NaN</td>\n",
       "    </tr>\n",
       "    <tr>\n",
       "      <th>2</th>\n",
       "      <td>Germany</td>\n",
       "      <td>22213</td>\n",
       "      <td>21896</td>\n",
       "      <td>233</td>\n",
       "      <td>84</td>\n",
       "      <td>NaN</td>\n",
       "      <td>NaN</td>\n",
       "    </tr>\n",
       "    <tr>\n",
       "      <th>3</th>\n",
       "      <td>Spain</td>\n",
       "      <td>25374</td>\n",
       "      <td>21874</td>\n",
       "      <td>2125</td>\n",
       "      <td>1375</td>\n",
       "      <td>NaN</td>\n",
       "      <td>NaN</td>\n",
       "    </tr>\n",
       "    <tr>\n",
       "      <th>4</th>\n",
       "      <td>France</td>\n",
       "      <td>14308</td>\n",
       "      <td>13734</td>\n",
       "      <td>12</td>\n",
       "      <td>562</td>\n",
       "      <td>NaN</td>\n",
       "      <td>NaN</td>\n",
       "    </tr>\n",
       "  </tbody>\n",
       "</table>\n",
       "</div>"
      ],
      "text/plain": [
       "  Country/Region  Confirmed  Active  Recovered  Deaths  lat  long\n",
       "0          Italy      53578   42681       6072    4825  NaN   NaN\n",
       "1             US      25493   25015        171     307  NaN   NaN\n",
       "2        Germany      22213   21896        233      84  NaN   NaN\n",
       "3          Spain      25374   21874       2125    1375  NaN   NaN\n",
       "4         France      14308   13734         12     562  NaN   NaN"
      ]
     },
     "execution_count": 453,
     "metadata": {},
     "output_type": "execute_result"
    }
   ],
   "source": [
    "total_countries.head()"
   ]
  },
  {
   "cell_type": "code",
   "execution_count": 454,
   "metadata": {},
   "outputs": [
    {
     "data": {
      "text/html": [
       "<div>\n",
       "<style scoped>\n",
       "    .dataframe tbody tr th:only-of-type {\n",
       "        vertical-align: middle;\n",
       "    }\n",
       "\n",
       "    .dataframe tbody tr th {\n",
       "        vertical-align: top;\n",
       "    }\n",
       "\n",
       "    .dataframe thead th {\n",
       "        text-align: right;\n",
       "    }\n",
       "</style>\n",
       "<table border=\"1\" class=\"dataframe\">\n",
       "  <thead>\n",
       "    <tr style=\"text-align: right;\">\n",
       "      <th></th>\n",
       "      <th>Country/Region</th>\n",
       "      <th>Latitude</th>\n",
       "      <th>Longitude</th>\n",
       "    </tr>\n",
       "  </thead>\n",
       "  <tbody>\n",
       "    <tr>\n",
       "      <th>0</th>\n",
       "      <td>China</td>\n",
       "      <td>30.9756</td>\n",
       "      <td>112.2707</td>\n",
       "    </tr>\n",
       "    <tr>\n",
       "      <th>1</th>\n",
       "      <td>Italy</td>\n",
       "      <td>41.8719</td>\n",
       "      <td>12.5674</td>\n",
       "    </tr>\n",
       "    <tr>\n",
       "      <th>2</th>\n",
       "      <td>Spain</td>\n",
       "      <td>40.4637</td>\n",
       "      <td>-3.7492</td>\n",
       "    </tr>\n",
       "    <tr>\n",
       "      <th>3</th>\n",
       "      <td>Germany</td>\n",
       "      <td>51.1657</td>\n",
       "      <td>10.4515</td>\n",
       "    </tr>\n",
       "    <tr>\n",
       "      <th>4</th>\n",
       "      <td>Iran</td>\n",
       "      <td>32.4279</td>\n",
       "      <td>53.6880</td>\n",
       "    </tr>\n",
       "  </tbody>\n",
       "</table>\n",
       "</div>"
      ],
      "text/plain": [
       "  Country/Region  Latitude  Longitude\n",
       "0          China   30.9756   112.2707\n",
       "1          Italy   41.8719    12.5674\n",
       "2          Spain   40.4637    -3.7492\n",
       "3        Germany   51.1657    10.4515\n",
       "4           Iran   32.4279    53.6880"
      ]
     },
     "execution_count": 454,
     "metadata": {},
     "output_type": "execute_result"
    }
   ],
   "source": [
    "single_countries.head()"
   ]
  },
  {
   "cell_type": "code",
   "execution_count": 455,
   "metadata": {
    "scrolled": false
   },
   "outputs": [
    {
     "name": "stdout",
     "output_type": "stream",
     "text": [
      "Guinea\n",
      "Niger\n"
     ]
    }
   ],
   "source": [
    "for x in range(len(countries)-1):\n",
    "    #print(single_countries[single_countries[\"Country/Region\"].str.contains(\n",
    "    #                            countries[x]) == True][[\"Latitude\",\"Longitude\"]].to_numpy())\n",
    "    location_shape = (single_countries[single_countries[\"Country/Region\"].str.contains(\n",
    "                                 countries[x]) == True][[\"Latitude\",\"Longitude\"]].to_numpy()).shape\n",
    "    #print(countries[x],location_shape)\n",
    "    if location_shape != (1,2):\n",
    "        print(countries[x])\n",
    "        total_countries.loc[x,[\"lat\",\"long\"]] = np.nan\n",
    "    else:\n",
    "        total_countries.loc[x,[\"lat\"]]= single_countries[single_countries[\"Country/Region\"].str.contains(\n",
    "                                 countries[x]) == True][\"Latitude\"].to_numpy()\n",
    "        total_countries.loc[x,[\"long\"]]=single_countries[single_countries[\"Country/Region\"].str.contains(\n",
    "                                 countries[x]) == True][\"Longitude\"].to_numpy()"
   ]
  },
  {
   "cell_type": "code",
   "execution_count": 456,
   "metadata": {},
   "outputs": [],
   "source": [
    "total_countries.loc[\"Gambia\",\"lat\"] = 9.9456\n",
    "total_countries.loc[\"Gambia\",\"long\"] = 9.6966\n",
    "total_countries.loc[\"Niger\",\"lat\"] = 17.6078\n",
    "total_countries.loc[\"Niger\",\"long\"] = 8.0817\n",
    "total_countries.loc[\"Puerto Rico\",\"lat\"] = 18.2208\n",
    "total_countries.loc[\"Puerto Rico\",\"long\"] = 66.5901"
   ]
  },
  {
   "cell_type": "code",
   "execution_count": 534,
   "metadata": {},
   "outputs": [
    {
     "data": {
      "text/html": [
       "<div>\n",
       "<style scoped>\n",
       "    .dataframe tbody tr th:only-of-type {\n",
       "        vertical-align: middle;\n",
       "    }\n",
       "\n",
       "    .dataframe tbody tr th {\n",
       "        vertical-align: top;\n",
       "    }\n",
       "\n",
       "    .dataframe thead th {\n",
       "        text-align: right;\n",
       "    }\n",
       "</style>\n",
       "<table border=\"1\" class=\"dataframe\">\n",
       "  <thead>\n",
       "    <tr style=\"text-align: right;\">\n",
       "      <th></th>\n",
       "      <th>Country/Region</th>\n",
       "      <th>Confirmed</th>\n",
       "      <th>Active</th>\n",
       "      <th>Recovered</th>\n",
       "      <th>Deaths</th>\n",
       "      <th>lat</th>\n",
       "      <th>long</th>\n",
       "    </tr>\n",
       "  </thead>\n",
       "  <tbody>\n",
       "    <tr>\n",
       "      <th>0</th>\n",
       "      <td>Italy</td>\n",
       "      <td>53578.0</td>\n",
       "      <td>42681.0</td>\n",
       "      <td>6072.0</td>\n",
       "      <td>4825.0</td>\n",
       "      <td>41.8719</td>\n",
       "      <td>12.5674</td>\n",
       "    </tr>\n",
       "    <tr>\n",
       "      <th>1</th>\n",
       "      <td>US</td>\n",
       "      <td>25493.0</td>\n",
       "      <td>25015.0</td>\n",
       "      <td>171.0</td>\n",
       "      <td>307.0</td>\n",
       "      <td>42.1657</td>\n",
       "      <td>-74.9481</td>\n",
       "    </tr>\n",
       "    <tr>\n",
       "      <th>2</th>\n",
       "      <td>Germany</td>\n",
       "      <td>22213.0</td>\n",
       "      <td>21896.0</td>\n",
       "      <td>233.0</td>\n",
       "      <td>84.0</td>\n",
       "      <td>51.1657</td>\n",
       "      <td>10.4515</td>\n",
       "    </tr>\n",
       "    <tr>\n",
       "      <th>3</th>\n",
       "      <td>Spain</td>\n",
       "      <td>25374.0</td>\n",
       "      <td>21874.0</td>\n",
       "      <td>2125.0</td>\n",
       "      <td>1375.0</td>\n",
       "      <td>40.4637</td>\n",
       "      <td>-3.7492</td>\n",
       "    </tr>\n",
       "    <tr>\n",
       "      <th>4</th>\n",
       "      <td>France</td>\n",
       "      <td>14308.0</td>\n",
       "      <td>13734.0</td>\n",
       "      <td>12.0</td>\n",
       "      <td>562.0</td>\n",
       "      <td>46.2276</td>\n",
       "      <td>2.2137</td>\n",
       "    </tr>\n",
       "  </tbody>\n",
       "</table>\n",
       "</div>"
      ],
      "text/plain": [
       "  Country/Region  Confirmed   Active  Recovered  Deaths      lat     long\n",
       "0          Italy    53578.0  42681.0     6072.0  4825.0  41.8719  12.5674\n",
       "1             US    25493.0  25015.0      171.0   307.0  42.1657 -74.9481\n",
       "2        Germany    22213.0  21896.0      233.0    84.0  51.1657  10.4515\n",
       "3          Spain    25374.0  21874.0     2125.0  1375.0  40.4637  -3.7492\n",
       "4         France    14308.0  13734.0       12.0   562.0  46.2276   2.2137"
      ]
     },
     "execution_count": 534,
     "metadata": {},
     "output_type": "execute_result"
    }
   ],
   "source": [
    "total_countries.head()"
   ]
  },
  {
   "cell_type": "code",
   "execution_count": 535,
   "metadata": {},
   "outputs": [
    {
     "data": {
      "text/plain": [
       "True"
      ]
     },
     "execution_count": 535,
     "metadata": {},
     "output_type": "execute_result"
    }
   ],
   "source": [
    "total_countries[[\"lat\",\"long\"]].isnull().values.any()"
   ]
  },
  {
   "cell_type": "markdown",
   "metadata": {},
   "source": [
    "We create a map where each country with active casesis labeled as follows:\n",
    "Blue circle: less than 1000 reported active cases.\n",
    "Orange circle: more than 1000 and less than 10000 reported active cases.\n",
    "Red circle: more than 10000 reported active cases."
   ]
  },
  {
   "cell_type": "code",
   "execution_count": 536,
   "metadata": {},
   "outputs": [
    {
     "data": {
      "text/plain": [
       "False"
      ]
     },
     "execution_count": 536,
     "metadata": {},
     "output_type": "execute_result"
    }
   ],
   "source": [
    "np.isnan(total_countries.loc[0]['lat'])"
   ]
  },
  {
   "cell_type": "code",
   "execution_count": 537,
   "metadata": {
    "scrolled": true
   },
   "outputs": [
    {
     "data": {
      "text/html": [
       "\n",
       "        <iframe\n",
       "            width=\"100%\"\n",
       "            height=\"700px\"\n",
       "            src=\"world_map.html\"\n",
       "            frameborder=\"0\"\n",
       "            allowfullscreen\n",
       "        ></iframe>\n",
       "        "
      ],
      "text/plain": [
       "<IPython.lib.display.IFrame at 0x12b325240>"
      ]
     },
     "execution_count": 537,
     "metadata": {},
     "output_type": "execute_result"
    }
   ],
   "source": [
    "world_map = folium.Map(location=[41.8719, 12.5674], tiles='cartodbpositron', zoom_start=2.5)\n",
    "def color_producer(val):\n",
    "    if val < 1000:\n",
    "        return 'blue'\n",
    "    elif val < 10000:\n",
    "        return 'orange'\n",
    "    else:\n",
    "        return 'red'\n",
    "\n",
    "for i in range(0,len(total_countries)):\n",
    "    if not(np.isnan(total_countries.iloc[i]['lat']) or np.isnan(\n",
    "            total_countries.iloc[i]['long'])):\n",
    "        folium.Circle(       \n",
    "        location=[total_countries.iloc[i]['lat'], total_countries.iloc[i]['long']],\n",
    "        popup=(\"Confirmed cases: \" + str(total_countries.iloc[i][\"Confirmed\"])+\"<br>\"\n",
    "               \"Active cases: \" + str(total_countries.iloc[i][\"Active\"])+\"<br>\"\n",
    "               \"Recovered: \" + str(total_countries.iloc[i][\"Recovered\"])+\"<br>\"\n",
    "               \"Deaths: \" + str(total_countries.iloc[i][\"Deaths\"])),\n",
    "        radius=(total_countries.iloc[i]['Active']*2000000)/total_countries['Active'].sum(), \n",
    "        color=color_producer(total_countries.iloc[i]['Active']),\n",
    "        fill_color=color_producer(total_countries.iloc[i]['Active']),\n",
    "        title='Covid-19 active cases worldwide').add_to(world_map)     \n",
    "embed_map(world_map, 'world_map.html')"
   ]
  },
  {
   "cell_type": "markdown",
   "metadata": {},
   "source": [
    "Summary data per country is shown if you click on each country's circle."
   ]
  },
  {
   "cell_type": "markdown",
   "metadata": {},
   "source": [
    "## Top 15 countries by number of active cases"
   ]
  },
  {
   "cell_type": "markdown",
   "metadata": {},
   "source": [
    "We list the fifteen countries with most active cases.\n",
    "<br>As of 18.03.20, China is on the 5th place. \n",
    "<br>Although it has the biggest number of confirmed cases the rate of recovered case is high and the the new cases are going down drastically. \n",
    "<br> We also calculate the death rate vs confirmed positive cases and include it in the column \"Death rate\"."
   ]
  },
  {
   "cell_type": "code",
   "execution_count": 461,
   "metadata": {},
   "outputs": [
    {
     "name": "stderr",
     "output_type": "stream",
     "text": [
      "/git/github.com/kwulffert/covid-19-analysis/.venv/lib/python3.6/site-packages/ipykernel_launcher.py:2: SettingWithCopyWarning:\n",
      "\n",
      "\n",
      "A value is trying to be set on a copy of a slice from a DataFrame.\n",
      "Try using .loc[row_indexer,col_indexer] = value instead\n",
      "\n",
      "See the caveats in the documentation: https://pandas.pydata.org/pandas-docs/stable/user_guide/indexing.html#returning-a-view-versus-a-copy\n",
      "\n"
     ]
    },
    {
     "data": {
      "text/html": [
       "<div>\n",
       "<style scoped>\n",
       "    .dataframe tbody tr th:only-of-type {\n",
       "        vertical-align: middle;\n",
       "    }\n",
       "\n",
       "    .dataframe tbody tr th {\n",
       "        vertical-align: top;\n",
       "    }\n",
       "\n",
       "    .dataframe thead th {\n",
       "        text-align: right;\n",
       "    }\n",
       "</style>\n",
       "<table border=\"1\" class=\"dataframe\">\n",
       "  <thead>\n",
       "    <tr style=\"text-align: right;\">\n",
       "      <th></th>\n",
       "      <th>Country/Region</th>\n",
       "      <th>Confirmed</th>\n",
       "      <th>Active</th>\n",
       "      <th>Recovered</th>\n",
       "      <th>Deaths</th>\n",
       "      <th>lat</th>\n",
       "      <th>long</th>\n",
       "      <th>Death rate [%]</th>\n",
       "    </tr>\n",
       "  </thead>\n",
       "  <tbody>\n",
       "    <tr>\n",
       "      <th>0</th>\n",
       "      <td>Italy</td>\n",
       "      <td>53578.0</td>\n",
       "      <td>42681.0</td>\n",
       "      <td>6072.0</td>\n",
       "      <td>4825.0</td>\n",
       "      <td>41.8719</td>\n",
       "      <td>12.5674</td>\n",
       "      <td>9.01</td>\n",
       "    </tr>\n",
       "    <tr>\n",
       "      <th>1</th>\n",
       "      <td>US</td>\n",
       "      <td>25493.0</td>\n",
       "      <td>25015.0</td>\n",
       "      <td>171.0</td>\n",
       "      <td>307.0</td>\n",
       "      <td>42.1657</td>\n",
       "      <td>-74.9481</td>\n",
       "      <td>1.20</td>\n",
       "    </tr>\n",
       "    <tr>\n",
       "      <th>2</th>\n",
       "      <td>Germany</td>\n",
       "      <td>22213.0</td>\n",
       "      <td>21896.0</td>\n",
       "      <td>233.0</td>\n",
       "      <td>84.0</td>\n",
       "      <td>51.1657</td>\n",
       "      <td>10.4515</td>\n",
       "      <td>0.38</td>\n",
       "    </tr>\n",
       "    <tr>\n",
       "      <th>3</th>\n",
       "      <td>Spain</td>\n",
       "      <td>25374.0</td>\n",
       "      <td>21874.0</td>\n",
       "      <td>2125.0</td>\n",
       "      <td>1375.0</td>\n",
       "      <td>40.4637</td>\n",
       "      <td>-3.7492</td>\n",
       "      <td>5.42</td>\n",
       "    </tr>\n",
       "    <tr>\n",
       "      <th>4</th>\n",
       "      <td>France</td>\n",
       "      <td>14308.0</td>\n",
       "      <td>13734.0</td>\n",
       "      <td>12.0</td>\n",
       "      <td>562.0</td>\n",
       "      <td>46.2276</td>\n",
       "      <td>2.2137</td>\n",
       "      <td>3.93</td>\n",
       "    </tr>\n",
       "    <tr>\n",
       "      <th>5</th>\n",
       "      <td>Iran</td>\n",
       "      <td>20610.0</td>\n",
       "      <td>11419.0</td>\n",
       "      <td>7635.0</td>\n",
       "      <td>1556.0</td>\n",
       "      <td>32.4279</td>\n",
       "      <td>53.6880</td>\n",
       "      <td>7.55</td>\n",
       "    </tr>\n",
       "    <tr>\n",
       "      <th>6</th>\n",
       "      <td>South Korea</td>\n",
       "      <td>8799.0</td>\n",
       "      <td>7157.0</td>\n",
       "      <td>1540.0</td>\n",
       "      <td>102.0</td>\n",
       "      <td>35.9078</td>\n",
       "      <td>127.7669</td>\n",
       "      <td>1.16</td>\n",
       "    </tr>\n",
       "    <tr>\n",
       "      <th>7</th>\n",
       "      <td>Switzerland</td>\n",
       "      <td>6575.0</td>\n",
       "      <td>6485.0</td>\n",
       "      <td>15.0</td>\n",
       "      <td>75.0</td>\n",
       "      <td>46.8182</td>\n",
       "      <td>8.2275</td>\n",
       "      <td>1.14</td>\n",
       "    </tr>\n",
       "    <tr>\n",
       "      <th>8</th>\n",
       "      <td>China</td>\n",
       "      <td>81305.0</td>\n",
       "      <td>6189.0</td>\n",
       "      <td>71857.0</td>\n",
       "      <td>3259.0</td>\n",
       "      <td>30.9756</td>\n",
       "      <td>112.2707</td>\n",
       "      <td>4.01</td>\n",
       "    </tr>\n",
       "    <tr>\n",
       "      <th>9</th>\n",
       "      <td>United Kingdom</td>\n",
       "      <td>5067.0</td>\n",
       "      <td>4766.0</td>\n",
       "      <td>67.0</td>\n",
       "      <td>234.0</td>\n",
       "      <td>55.3781</td>\n",
       "      <td>-3.4360</td>\n",
       "      <td>4.62</td>\n",
       "    </tr>\n",
       "    <tr>\n",
       "      <th>10</th>\n",
       "      <td>Netherlands</td>\n",
       "      <td>3640.0</td>\n",
       "      <td>3501.0</td>\n",
       "      <td>2.0</td>\n",
       "      <td>137.0</td>\n",
       "      <td>52.1326</td>\n",
       "      <td>5.2913</td>\n",
       "      <td>3.76</td>\n",
       "    </tr>\n",
       "    <tr>\n",
       "      <th>11</th>\n",
       "      <td>Austria</td>\n",
       "      <td>2814.0</td>\n",
       "      <td>2797.0</td>\n",
       "      <td>9.0</td>\n",
       "      <td>8.0</td>\n",
       "      <td>47.5162</td>\n",
       "      <td>14.5501</td>\n",
       "      <td>0.28</td>\n",
       "    </tr>\n",
       "    <tr>\n",
       "      <th>12</th>\n",
       "      <td>Belgium</td>\n",
       "      <td>2815.0</td>\n",
       "      <td>2485.0</td>\n",
       "      <td>263.0</td>\n",
       "      <td>67.0</td>\n",
       "      <td>50.5039</td>\n",
       "      <td>4.4699</td>\n",
       "      <td>2.38</td>\n",
       "    </tr>\n",
       "    <tr>\n",
       "      <th>13</th>\n",
       "      <td>Norway</td>\n",
       "      <td>2118.0</td>\n",
       "      <td>2110.0</td>\n",
       "      <td>1.0</td>\n",
       "      <td>7.0</td>\n",
       "      <td>60.4720</td>\n",
       "      <td>8.4689</td>\n",
       "      <td>0.33</td>\n",
       "    </tr>\n",
       "    <tr>\n",
       "      <th>14</th>\n",
       "      <td>Sweden</td>\n",
       "      <td>1763.0</td>\n",
       "      <td>1727.0</td>\n",
       "      <td>16.0</td>\n",
       "      <td>20.0</td>\n",
       "      <td>60.1282</td>\n",
       "      <td>18.6435</td>\n",
       "      <td>1.13</td>\n",
       "    </tr>\n",
       "  </tbody>\n",
       "</table>\n",
       "</div>"
      ],
      "text/plain": [
       "    Country/Region  Confirmed   Active  Recovered  Deaths      lat      long  \\\n",
       "0            Italy    53578.0  42681.0     6072.0  4825.0  41.8719   12.5674   \n",
       "1               US    25493.0  25015.0      171.0   307.0  42.1657  -74.9481   \n",
       "2          Germany    22213.0  21896.0      233.0    84.0  51.1657   10.4515   \n",
       "3            Spain    25374.0  21874.0     2125.0  1375.0  40.4637   -3.7492   \n",
       "4           France    14308.0  13734.0       12.0   562.0  46.2276    2.2137   \n",
       "5             Iran    20610.0  11419.0     7635.0  1556.0  32.4279   53.6880   \n",
       "6      South Korea     8799.0   7157.0     1540.0   102.0  35.9078  127.7669   \n",
       "7      Switzerland     6575.0   6485.0       15.0    75.0  46.8182    8.2275   \n",
       "8            China    81305.0   6189.0    71857.0  3259.0  30.9756  112.2707   \n",
       "9   United Kingdom     5067.0   4766.0       67.0   234.0  55.3781   -3.4360   \n",
       "10     Netherlands     3640.0   3501.0        2.0   137.0  52.1326    5.2913   \n",
       "11         Austria     2814.0   2797.0        9.0     8.0  47.5162   14.5501   \n",
       "12         Belgium     2815.0   2485.0      263.0    67.0  50.5039    4.4699   \n",
       "13          Norway     2118.0   2110.0        1.0     7.0  60.4720    8.4689   \n",
       "14          Sweden     1763.0   1727.0       16.0    20.0  60.1282   18.6435   \n",
       "\n",
       "    Death rate [%]  \n",
       "0             9.01  \n",
       "1             1.20  \n",
       "2             0.38  \n",
       "3             5.42  \n",
       "4             3.93  \n",
       "5             7.55  \n",
       "6             1.16  \n",
       "7             1.14  \n",
       "8             4.01  \n",
       "9             4.62  \n",
       "10            3.76  \n",
       "11            0.28  \n",
       "12            2.38  \n",
       "13            0.33  \n",
       "14            1.13  "
      ]
     },
     "execution_count": 461,
     "metadata": {},
     "output_type": "execute_result"
    }
   ],
   "source": [
    "top_fifteen = total_countries.head(15)\n",
    "top_fifteen[\"Death rate [%]\"] = round(100*top_fifteen[\"Deaths\"]/ top_fifteen[\"Confirmed\"],2)\n",
    "top_fifteen"
   ]
  },
  {
   "cell_type": "markdown",
   "metadata": {},
   "source": [
    "The value of death rate can be interpreted from several perspective. \n",
    "<br>Italy has the hightest death rate and tests are done massively. \n",
    "<br>Most of the fatalities have been elderly people and people with health preconditions. \n",
    "<br>Italy is the second country in the world after Japan with the oldest population.\n",
    "<br>In contrast UK has a higher death rate than France, South Korea, US and Switzerlad but this value is difficult to compare as in the UK testing has been limited only to people going to hospital and showing symptons. The UK goverment estimates that there might be up to 5k active cases at the moment(status 17.03.2020)."
   ]
  },
  {
   "cell_type": "code",
   "execution_count": 532,
   "metadata": {
    "scrolled": true
   },
   "outputs": [
    {
     "data": {
      "application/vnd.plotly.v1+json": {
       "config": {
        "plotlyServerURL": "https://plot.ly"
       },
       "data": [
        {
         "branchvalues": "total",
         "customdata": [
          [
           2814,
           2797,
           9,
           8,
           0.28
          ],
          [
           2815,
           2485,
           263,
           67,
           2.38
          ],
          [
           81305,
           6189,
           71857,
           3259,
           4.01
          ],
          [
           14308,
           13734,
           12,
           562,
           3.93
          ],
          [
           22213,
           21896,
           233,
           84,
           0.38
          ],
          [
           20610,
           11419,
           7635,
           1556,
           7.55
          ],
          [
           53578,
           42681,
           6072,
           4825,
           9.01
          ],
          [
           3640,
           3501,
           2,
           137,
           3.76
          ],
          [
           2118,
           2110,
           1,
           7,
           0.33
          ],
          [
           8799,
           7157,
           1540,
           102,
           1.16
          ],
          [
           25374,
           21874,
           2125,
           1375,
           5.42
          ],
          [
           1763,
           1727,
           16,
           20,
           1.13
          ],
          [
           6575,
           6485,
           15,
           75,
           1.14
          ],
          [
           25493,
           25015,
           171,
           307,
           1.2
          ],
          [
           5067,
           4766,
           67,
           234,
           4.62
          ]
         ],
         "domain": {
          "x": [
           0,
           1
          ],
          "y": [
           0,
           1
          ]
         },
         "hoverlabel": {
          "namelength": 0
         },
         "hovertemplate": "Confirmed=%{customdata[0]}<br>Active=%{value}<br>Recovered=%{customdata[2]}<br>Deaths=%{customdata[3]}<br>Death rate [%]=%{customdata[4]}<br>labels=%{label}<br>parent=%{parent}<br>id=%{id}",
         "ids": [
          "Austria",
          "Belgium",
          "China",
          "France",
          "Germany",
          "Iran",
          "Italy",
          "Netherlands",
          "Norway",
          "South Korea",
          "Spain",
          "Sweden",
          "Switzerland",
          "US",
          "United Kingdom"
         ],
         "labels": [
          "Austria",
          "Belgium",
          "China",
          "France",
          "Germany",
          "Iran",
          "Italy",
          "Netherlands",
          "Norway",
          "South Korea",
          "Spain",
          "Sweden",
          "Switzerland",
          "US",
          "United Kingdom"
         ],
         "name": "",
         "parents": [
          "",
          "",
          "",
          "",
          "",
          "",
          "",
          "",
          "",
          "",
          "",
          "",
          "",
          "",
          ""
         ],
         "type": "treemap",
         "values": [
          2797,
          2485,
          6189,
          13734,
          21896,
          11419,
          42681,
          3501,
          2110,
          7157,
          21874,
          1727,
          6485,
          25015,
          4766
         ]
        }
       ],
       "layout": {
        "legend": {
         "tracegroupgap": 0
        },
        "template": {
         "data": {
          "bar": [
           {
            "error_x": {
             "color": "#2a3f5f"
            },
            "error_y": {
             "color": "#2a3f5f"
            },
            "marker": {
             "line": {
              "color": "#E5ECF6",
              "width": 0.5
             }
            },
            "type": "bar"
           }
          ],
          "barpolar": [
           {
            "marker": {
             "line": {
              "color": "#E5ECF6",
              "width": 0.5
             }
            },
            "type": "barpolar"
           }
          ],
          "carpet": [
           {
            "aaxis": {
             "endlinecolor": "#2a3f5f",
             "gridcolor": "white",
             "linecolor": "white",
             "minorgridcolor": "white",
             "startlinecolor": "#2a3f5f"
            },
            "baxis": {
             "endlinecolor": "#2a3f5f",
             "gridcolor": "white",
             "linecolor": "white",
             "minorgridcolor": "white",
             "startlinecolor": "#2a3f5f"
            },
            "type": "carpet"
           }
          ],
          "choropleth": [
           {
            "colorbar": {
             "outlinewidth": 0,
             "ticks": ""
            },
            "type": "choropleth"
           }
          ],
          "contour": [
           {
            "colorbar": {
             "outlinewidth": 0,
             "ticks": ""
            },
            "colorscale": [
             [
              0,
              "#0d0887"
             ],
             [
              0.1111111111111111,
              "#46039f"
             ],
             [
              0.2222222222222222,
              "#7201a8"
             ],
             [
              0.3333333333333333,
              "#9c179e"
             ],
             [
              0.4444444444444444,
              "#bd3786"
             ],
             [
              0.5555555555555556,
              "#d8576b"
             ],
             [
              0.6666666666666666,
              "#ed7953"
             ],
             [
              0.7777777777777778,
              "#fb9f3a"
             ],
             [
              0.8888888888888888,
              "#fdca26"
             ],
             [
              1,
              "#f0f921"
             ]
            ],
            "type": "contour"
           }
          ],
          "contourcarpet": [
           {
            "colorbar": {
             "outlinewidth": 0,
             "ticks": ""
            },
            "type": "contourcarpet"
           }
          ],
          "heatmap": [
           {
            "colorbar": {
             "outlinewidth": 0,
             "ticks": ""
            },
            "colorscale": [
             [
              0,
              "#0d0887"
             ],
             [
              0.1111111111111111,
              "#46039f"
             ],
             [
              0.2222222222222222,
              "#7201a8"
             ],
             [
              0.3333333333333333,
              "#9c179e"
             ],
             [
              0.4444444444444444,
              "#bd3786"
             ],
             [
              0.5555555555555556,
              "#d8576b"
             ],
             [
              0.6666666666666666,
              "#ed7953"
             ],
             [
              0.7777777777777778,
              "#fb9f3a"
             ],
             [
              0.8888888888888888,
              "#fdca26"
             ],
             [
              1,
              "#f0f921"
             ]
            ],
            "type": "heatmap"
           }
          ],
          "heatmapgl": [
           {
            "colorbar": {
             "outlinewidth": 0,
             "ticks": ""
            },
            "colorscale": [
             [
              0,
              "#0d0887"
             ],
             [
              0.1111111111111111,
              "#46039f"
             ],
             [
              0.2222222222222222,
              "#7201a8"
             ],
             [
              0.3333333333333333,
              "#9c179e"
             ],
             [
              0.4444444444444444,
              "#bd3786"
             ],
             [
              0.5555555555555556,
              "#d8576b"
             ],
             [
              0.6666666666666666,
              "#ed7953"
             ],
             [
              0.7777777777777778,
              "#fb9f3a"
             ],
             [
              0.8888888888888888,
              "#fdca26"
             ],
             [
              1,
              "#f0f921"
             ]
            ],
            "type": "heatmapgl"
           }
          ],
          "histogram": [
           {
            "marker": {
             "colorbar": {
              "outlinewidth": 0,
              "ticks": ""
             }
            },
            "type": "histogram"
           }
          ],
          "histogram2d": [
           {
            "colorbar": {
             "outlinewidth": 0,
             "ticks": ""
            },
            "colorscale": [
             [
              0,
              "#0d0887"
             ],
             [
              0.1111111111111111,
              "#46039f"
             ],
             [
              0.2222222222222222,
              "#7201a8"
             ],
             [
              0.3333333333333333,
              "#9c179e"
             ],
             [
              0.4444444444444444,
              "#bd3786"
             ],
             [
              0.5555555555555556,
              "#d8576b"
             ],
             [
              0.6666666666666666,
              "#ed7953"
             ],
             [
              0.7777777777777778,
              "#fb9f3a"
             ],
             [
              0.8888888888888888,
              "#fdca26"
             ],
             [
              1,
              "#f0f921"
             ]
            ],
            "type": "histogram2d"
           }
          ],
          "histogram2dcontour": [
           {
            "colorbar": {
             "outlinewidth": 0,
             "ticks": ""
            },
            "colorscale": [
             [
              0,
              "#0d0887"
             ],
             [
              0.1111111111111111,
              "#46039f"
             ],
             [
              0.2222222222222222,
              "#7201a8"
             ],
             [
              0.3333333333333333,
              "#9c179e"
             ],
             [
              0.4444444444444444,
              "#bd3786"
             ],
             [
              0.5555555555555556,
              "#d8576b"
             ],
             [
              0.6666666666666666,
              "#ed7953"
             ],
             [
              0.7777777777777778,
              "#fb9f3a"
             ],
             [
              0.8888888888888888,
              "#fdca26"
             ],
             [
              1,
              "#f0f921"
             ]
            ],
            "type": "histogram2dcontour"
           }
          ],
          "mesh3d": [
           {
            "colorbar": {
             "outlinewidth": 0,
             "ticks": ""
            },
            "type": "mesh3d"
           }
          ],
          "parcoords": [
           {
            "line": {
             "colorbar": {
              "outlinewidth": 0,
              "ticks": ""
             }
            },
            "type": "parcoords"
           }
          ],
          "pie": [
           {
            "automargin": true,
            "type": "pie"
           }
          ],
          "scatter": [
           {
            "marker": {
             "colorbar": {
              "outlinewidth": 0,
              "ticks": ""
             }
            },
            "type": "scatter"
           }
          ],
          "scatter3d": [
           {
            "line": {
             "colorbar": {
              "outlinewidth": 0,
              "ticks": ""
             }
            },
            "marker": {
             "colorbar": {
              "outlinewidth": 0,
              "ticks": ""
             }
            },
            "type": "scatter3d"
           }
          ],
          "scattercarpet": [
           {
            "marker": {
             "colorbar": {
              "outlinewidth": 0,
              "ticks": ""
             }
            },
            "type": "scattercarpet"
           }
          ],
          "scattergeo": [
           {
            "marker": {
             "colorbar": {
              "outlinewidth": 0,
              "ticks": ""
             }
            },
            "type": "scattergeo"
           }
          ],
          "scattergl": [
           {
            "marker": {
             "colorbar": {
              "outlinewidth": 0,
              "ticks": ""
             }
            },
            "type": "scattergl"
           }
          ],
          "scattermapbox": [
           {
            "marker": {
             "colorbar": {
              "outlinewidth": 0,
              "ticks": ""
             }
            },
            "type": "scattermapbox"
           }
          ],
          "scatterpolar": [
           {
            "marker": {
             "colorbar": {
              "outlinewidth": 0,
              "ticks": ""
             }
            },
            "type": "scatterpolar"
           }
          ],
          "scatterpolargl": [
           {
            "marker": {
             "colorbar": {
              "outlinewidth": 0,
              "ticks": ""
             }
            },
            "type": "scatterpolargl"
           }
          ],
          "scatterternary": [
           {
            "marker": {
             "colorbar": {
              "outlinewidth": 0,
              "ticks": ""
             }
            },
            "type": "scatterternary"
           }
          ],
          "surface": [
           {
            "colorbar": {
             "outlinewidth": 0,
             "ticks": ""
            },
            "colorscale": [
             [
              0,
              "#0d0887"
             ],
             [
              0.1111111111111111,
              "#46039f"
             ],
             [
              0.2222222222222222,
              "#7201a8"
             ],
             [
              0.3333333333333333,
              "#9c179e"
             ],
             [
              0.4444444444444444,
              "#bd3786"
             ],
             [
              0.5555555555555556,
              "#d8576b"
             ],
             [
              0.6666666666666666,
              "#ed7953"
             ],
             [
              0.7777777777777778,
              "#fb9f3a"
             ],
             [
              0.8888888888888888,
              "#fdca26"
             ],
             [
              1,
              "#f0f921"
             ]
            ],
            "type": "surface"
           }
          ],
          "table": [
           {
            "cells": {
             "fill": {
              "color": "#EBF0F8"
             },
             "line": {
              "color": "white"
             }
            },
            "header": {
             "fill": {
              "color": "#C8D4E3"
             },
             "line": {
              "color": "white"
             }
            },
            "type": "table"
           }
          ]
         },
         "layout": {
          "annotationdefaults": {
           "arrowcolor": "#2a3f5f",
           "arrowhead": 0,
           "arrowwidth": 1
          },
          "coloraxis": {
           "colorbar": {
            "outlinewidth": 0,
            "ticks": ""
           }
          },
          "colorscale": {
           "diverging": [
            [
             0,
             "#8e0152"
            ],
            [
             0.1,
             "#c51b7d"
            ],
            [
             0.2,
             "#de77ae"
            ],
            [
             0.3,
             "#f1b6da"
            ],
            [
             0.4,
             "#fde0ef"
            ],
            [
             0.5,
             "#f7f7f7"
            ],
            [
             0.6,
             "#e6f5d0"
            ],
            [
             0.7,
             "#b8e186"
            ],
            [
             0.8,
             "#7fbc41"
            ],
            [
             0.9,
             "#4d9221"
            ],
            [
             1,
             "#276419"
            ]
           ],
           "sequential": [
            [
             0,
             "#0d0887"
            ],
            [
             0.1111111111111111,
             "#46039f"
            ],
            [
             0.2222222222222222,
             "#7201a8"
            ],
            [
             0.3333333333333333,
             "#9c179e"
            ],
            [
             0.4444444444444444,
             "#bd3786"
            ],
            [
             0.5555555555555556,
             "#d8576b"
            ],
            [
             0.6666666666666666,
             "#ed7953"
            ],
            [
             0.7777777777777778,
             "#fb9f3a"
            ],
            [
             0.8888888888888888,
             "#fdca26"
            ],
            [
             1,
             "#f0f921"
            ]
           ],
           "sequentialminus": [
            [
             0,
             "#0d0887"
            ],
            [
             0.1111111111111111,
             "#46039f"
            ],
            [
             0.2222222222222222,
             "#7201a8"
            ],
            [
             0.3333333333333333,
             "#9c179e"
            ],
            [
             0.4444444444444444,
             "#bd3786"
            ],
            [
             0.5555555555555556,
             "#d8576b"
            ],
            [
             0.6666666666666666,
             "#ed7953"
            ],
            [
             0.7777777777777778,
             "#fb9f3a"
            ],
            [
             0.8888888888888888,
             "#fdca26"
            ],
            [
             1,
             "#f0f921"
            ]
           ]
          },
          "colorway": [
           "#636efa",
           "#EF553B",
           "#00cc96",
           "#ab63fa",
           "#FFA15A",
           "#19d3f3",
           "#FF6692",
           "#B6E880",
           "#FF97FF",
           "#FECB52"
          ],
          "font": {
           "color": "#2a3f5f"
          },
          "geo": {
           "bgcolor": "white",
           "lakecolor": "white",
           "landcolor": "#E5ECF6",
           "showlakes": true,
           "showland": true,
           "subunitcolor": "white"
          },
          "hoverlabel": {
           "align": "left"
          },
          "hovermode": "closest",
          "mapbox": {
           "style": "light"
          },
          "paper_bgcolor": "white",
          "plot_bgcolor": "#E5ECF6",
          "polar": {
           "angularaxis": {
            "gridcolor": "white",
            "linecolor": "white",
            "ticks": ""
           },
           "bgcolor": "#E5ECF6",
           "radialaxis": {
            "gridcolor": "white",
            "linecolor": "white",
            "ticks": ""
           }
          },
          "scene": {
           "xaxis": {
            "backgroundcolor": "#E5ECF6",
            "gridcolor": "white",
            "gridwidth": 2,
            "linecolor": "white",
            "showbackground": true,
            "ticks": "",
            "zerolinecolor": "white"
           },
           "yaxis": {
            "backgroundcolor": "#E5ECF6",
            "gridcolor": "white",
            "gridwidth": 2,
            "linecolor": "white",
            "showbackground": true,
            "ticks": "",
            "zerolinecolor": "white"
           },
           "zaxis": {
            "backgroundcolor": "#E5ECF6",
            "gridcolor": "white",
            "gridwidth": 2,
            "linecolor": "white",
            "showbackground": true,
            "ticks": "",
            "zerolinecolor": "white"
           }
          },
          "shapedefaults": {
           "line": {
            "color": "#2a3f5f"
           }
          },
          "ternary": {
           "aaxis": {
            "gridcolor": "white",
            "linecolor": "white",
            "ticks": ""
           },
           "baxis": {
            "gridcolor": "white",
            "linecolor": "white",
            "ticks": ""
           },
           "bgcolor": "#E5ECF6",
           "caxis": {
            "gridcolor": "white",
            "linecolor": "white",
            "ticks": ""
           }
          },
          "title": {
           "x": 0.05
          },
          "xaxis": {
           "automargin": true,
           "gridcolor": "white",
           "linecolor": "white",
           "ticks": "",
           "title": {
            "standoff": 15
           },
           "zerolinecolor": "white",
           "zerolinewidth": 2
          },
          "yaxis": {
           "automargin": true,
           "gridcolor": "white",
           "linecolor": "white",
           "ticks": "",
           "title": {
            "standoff": 15
           },
           "zerolinecolor": "white",
           "zerolinewidth": 2
          }
         }
        },
        "title": {
         "text": "Top 15 Countries with Active Cases: status 03-21-2020"
        },
        "treemapcolorway": [
         "rgb(95, 70, 144)",
         "rgb(29, 105, 150)",
         "rgb(56, 166, 165)",
         "rgb(15, 133, 84)",
         "rgb(115, 175, 72)",
         "rgb(237, 173, 8)",
         "rgb(225, 124, 5)",
         "rgb(204, 80, 62)",
         "rgb(148, 52, 110)",
         "rgb(111, 64, 112)",
         "rgb(102, 102, 102)"
        ]
       }
      },
      "text/html": [
       "<div>\n",
       "        \n",
       "        \n",
       "            <div id=\"da71957a-83f2-4811-8c45-0a89fd0a09a7\" class=\"plotly-graph-div\" style=\"height:525px; width:100%;\"></div>\n",
       "            <script type=\"text/javascript\">\n",
       "                require([\"plotly\"], function(Plotly) {\n",
       "                    window.PLOTLYENV=window.PLOTLYENV || {};\n",
       "                    \n",
       "                if (document.getElementById(\"da71957a-83f2-4811-8c45-0a89fd0a09a7\")) {\n",
       "                    Plotly.newPlot(\n",
       "                        'da71957a-83f2-4811-8c45-0a89fd0a09a7',\n",
       "                        [{\"branchvalues\": \"total\", \"customdata\": [[2814.0, 2797.0, 9.0, 8.0, 0.28], [2815.0, 2485.0, 263.0, 67.0, 2.38], [81305.0, 6189.0, 71857.0, 3259.0, 4.01], [14308.0, 13734.0, 12.0, 562.0, 3.93], [22213.0, 21896.0, 233.0, 84.0, 0.38], [20610.0, 11419.0, 7635.0, 1556.0, 7.55], [53578.0, 42681.0, 6072.0, 4825.0, 9.01], [3640.0, 3501.0, 2.0, 137.0, 3.76], [2118.0, 2110.0, 1.0, 7.0, 0.33], [8799.0, 7157.0, 1540.0, 102.0, 1.16], [25374.0, 21874.0, 2125.0, 1375.0, 5.42], [1763.0, 1727.0, 16.0, 20.0, 1.13], [6575.0, 6485.0, 15.0, 75.0, 1.14], [25493.0, 25015.0, 171.0, 307.0, 1.2], [5067.0, 4766.0, 67.0, 234.0, 4.62]], \"domain\": {\"x\": [0.0, 1.0], \"y\": [0.0, 1.0]}, \"hoverlabel\": {\"namelength\": 0}, \"hovertemplate\": \"Confirmed=%{customdata[0]}<br>Active=%{value}<br>Recovered=%{customdata[2]}<br>Deaths=%{customdata[3]}<br>Death rate [%]=%{customdata[4]}<br>labels=%{label}<br>parent=%{parent}<br>id=%{id}\", \"ids\": [\"Austria\", \"Belgium\", \"China\", \"France\", \"Germany\", \"Iran\", \"Italy\", \"Netherlands\", \"Norway\", \"South Korea\", \"Spain\", \"Sweden\", \"Switzerland\", \"US\", \"United Kingdom\"], \"labels\": [\"Austria\", \"Belgium\", \"China\", \"France\", \"Germany\", \"Iran\", \"Italy\", \"Netherlands\", \"Norway\", \"South Korea\", \"Spain\", \"Sweden\", \"Switzerland\", \"US\", \"United Kingdom\"], \"name\": \"\", \"parents\": [\"\", \"\", \"\", \"\", \"\", \"\", \"\", \"\", \"\", \"\", \"\", \"\", \"\", \"\", \"\"], \"type\": \"treemap\", \"values\": [2797.0, 2485.0, 6189.0, 13734.0, 21896.0, 11419.0, 42681.0, 3501.0, 2110.0, 7157.0, 21874.0, 1727.0, 6485.0, 25015.0, 4766.0]}],\n",
       "                        {\"legend\": {\"tracegroupgap\": 0}, \"template\": {\"data\": {\"bar\": [{\"error_x\": {\"color\": \"#2a3f5f\"}, \"error_y\": {\"color\": \"#2a3f5f\"}, \"marker\": {\"line\": {\"color\": \"#E5ECF6\", \"width\": 0.5}}, \"type\": \"bar\"}], \"barpolar\": [{\"marker\": {\"line\": {\"color\": \"#E5ECF6\", \"width\": 0.5}}, \"type\": \"barpolar\"}], \"carpet\": [{\"aaxis\": {\"endlinecolor\": \"#2a3f5f\", \"gridcolor\": \"white\", \"linecolor\": \"white\", \"minorgridcolor\": \"white\", \"startlinecolor\": \"#2a3f5f\"}, \"baxis\": {\"endlinecolor\": \"#2a3f5f\", \"gridcolor\": \"white\", \"linecolor\": \"white\", \"minorgridcolor\": \"white\", \"startlinecolor\": \"#2a3f5f\"}, \"type\": \"carpet\"}], \"choropleth\": [{\"colorbar\": {\"outlinewidth\": 0, \"ticks\": \"\"}, \"type\": \"choropleth\"}], \"contour\": [{\"colorbar\": {\"outlinewidth\": 0, \"ticks\": \"\"}, \"colorscale\": [[0.0, \"#0d0887\"], [0.1111111111111111, \"#46039f\"], [0.2222222222222222, \"#7201a8\"], [0.3333333333333333, \"#9c179e\"], [0.4444444444444444, \"#bd3786\"], [0.5555555555555556, \"#d8576b\"], [0.6666666666666666, \"#ed7953\"], [0.7777777777777778, \"#fb9f3a\"], [0.8888888888888888, \"#fdca26\"], [1.0, \"#f0f921\"]], \"type\": \"contour\"}], \"contourcarpet\": [{\"colorbar\": {\"outlinewidth\": 0, \"ticks\": \"\"}, \"type\": \"contourcarpet\"}], \"heatmap\": [{\"colorbar\": {\"outlinewidth\": 0, \"ticks\": \"\"}, \"colorscale\": [[0.0, \"#0d0887\"], [0.1111111111111111, \"#46039f\"], [0.2222222222222222, \"#7201a8\"], [0.3333333333333333, \"#9c179e\"], [0.4444444444444444, \"#bd3786\"], [0.5555555555555556, \"#d8576b\"], [0.6666666666666666, \"#ed7953\"], [0.7777777777777778, \"#fb9f3a\"], [0.8888888888888888, \"#fdca26\"], [1.0, \"#f0f921\"]], \"type\": \"heatmap\"}], \"heatmapgl\": [{\"colorbar\": {\"outlinewidth\": 0, \"ticks\": \"\"}, \"colorscale\": [[0.0, \"#0d0887\"], [0.1111111111111111, \"#46039f\"], [0.2222222222222222, \"#7201a8\"], [0.3333333333333333, \"#9c179e\"], [0.4444444444444444, \"#bd3786\"], [0.5555555555555556, \"#d8576b\"], [0.6666666666666666, \"#ed7953\"], [0.7777777777777778, \"#fb9f3a\"], [0.8888888888888888, \"#fdca26\"], [1.0, \"#f0f921\"]], \"type\": \"heatmapgl\"}], \"histogram\": [{\"marker\": {\"colorbar\": {\"outlinewidth\": 0, \"ticks\": \"\"}}, \"type\": \"histogram\"}], \"histogram2d\": [{\"colorbar\": {\"outlinewidth\": 0, \"ticks\": \"\"}, \"colorscale\": [[0.0, \"#0d0887\"], [0.1111111111111111, \"#46039f\"], [0.2222222222222222, \"#7201a8\"], [0.3333333333333333, \"#9c179e\"], [0.4444444444444444, \"#bd3786\"], [0.5555555555555556, \"#d8576b\"], [0.6666666666666666, \"#ed7953\"], [0.7777777777777778, \"#fb9f3a\"], [0.8888888888888888, \"#fdca26\"], [1.0, \"#f0f921\"]], \"type\": \"histogram2d\"}], \"histogram2dcontour\": [{\"colorbar\": {\"outlinewidth\": 0, \"ticks\": \"\"}, \"colorscale\": [[0.0, \"#0d0887\"], [0.1111111111111111, \"#46039f\"], [0.2222222222222222, \"#7201a8\"], [0.3333333333333333, \"#9c179e\"], [0.4444444444444444, \"#bd3786\"], [0.5555555555555556, \"#d8576b\"], [0.6666666666666666, \"#ed7953\"], [0.7777777777777778, \"#fb9f3a\"], [0.8888888888888888, \"#fdca26\"], [1.0, \"#f0f921\"]], \"type\": \"histogram2dcontour\"}], \"mesh3d\": [{\"colorbar\": {\"outlinewidth\": 0, \"ticks\": \"\"}, \"type\": \"mesh3d\"}], \"parcoords\": [{\"line\": {\"colorbar\": {\"outlinewidth\": 0, \"ticks\": \"\"}}, \"type\": \"parcoords\"}], \"pie\": [{\"automargin\": true, \"type\": \"pie\"}], \"scatter\": [{\"marker\": {\"colorbar\": {\"outlinewidth\": 0, \"ticks\": \"\"}}, \"type\": \"scatter\"}], \"scatter3d\": [{\"line\": {\"colorbar\": {\"outlinewidth\": 0, \"ticks\": \"\"}}, \"marker\": {\"colorbar\": {\"outlinewidth\": 0, \"ticks\": \"\"}}, \"type\": \"scatter3d\"}], \"scattercarpet\": [{\"marker\": {\"colorbar\": {\"outlinewidth\": 0, \"ticks\": \"\"}}, \"type\": \"scattercarpet\"}], \"scattergeo\": [{\"marker\": {\"colorbar\": {\"outlinewidth\": 0, \"ticks\": \"\"}}, \"type\": \"scattergeo\"}], \"scattergl\": [{\"marker\": {\"colorbar\": {\"outlinewidth\": 0, \"ticks\": \"\"}}, \"type\": \"scattergl\"}], \"scattermapbox\": [{\"marker\": {\"colorbar\": {\"outlinewidth\": 0, \"ticks\": \"\"}}, \"type\": \"scattermapbox\"}], \"scatterpolar\": [{\"marker\": {\"colorbar\": {\"outlinewidth\": 0, \"ticks\": \"\"}}, \"type\": \"scatterpolar\"}], \"scatterpolargl\": [{\"marker\": {\"colorbar\": {\"outlinewidth\": 0, \"ticks\": \"\"}}, \"type\": \"scatterpolargl\"}], \"scatterternary\": [{\"marker\": {\"colorbar\": {\"outlinewidth\": 0, \"ticks\": \"\"}}, \"type\": \"scatterternary\"}], \"surface\": [{\"colorbar\": {\"outlinewidth\": 0, \"ticks\": \"\"}, \"colorscale\": [[0.0, \"#0d0887\"], [0.1111111111111111, \"#46039f\"], [0.2222222222222222, \"#7201a8\"], [0.3333333333333333, \"#9c179e\"], [0.4444444444444444, \"#bd3786\"], [0.5555555555555556, \"#d8576b\"], [0.6666666666666666, \"#ed7953\"], [0.7777777777777778, \"#fb9f3a\"], [0.8888888888888888, \"#fdca26\"], [1.0, \"#f0f921\"]], \"type\": \"surface\"}], \"table\": [{\"cells\": {\"fill\": {\"color\": \"#EBF0F8\"}, \"line\": {\"color\": \"white\"}}, \"header\": {\"fill\": {\"color\": \"#C8D4E3\"}, \"line\": {\"color\": \"white\"}}, \"type\": \"table\"}]}, \"layout\": {\"annotationdefaults\": {\"arrowcolor\": \"#2a3f5f\", \"arrowhead\": 0, \"arrowwidth\": 1}, \"coloraxis\": {\"colorbar\": {\"outlinewidth\": 0, \"ticks\": \"\"}}, \"colorscale\": {\"diverging\": [[0, \"#8e0152\"], [0.1, \"#c51b7d\"], [0.2, \"#de77ae\"], [0.3, \"#f1b6da\"], [0.4, \"#fde0ef\"], [0.5, \"#f7f7f7\"], [0.6, \"#e6f5d0\"], [0.7, \"#b8e186\"], [0.8, \"#7fbc41\"], [0.9, \"#4d9221\"], [1, \"#276419\"]], \"sequential\": [[0.0, \"#0d0887\"], [0.1111111111111111, \"#46039f\"], [0.2222222222222222, \"#7201a8\"], [0.3333333333333333, \"#9c179e\"], [0.4444444444444444, \"#bd3786\"], [0.5555555555555556, \"#d8576b\"], [0.6666666666666666, \"#ed7953\"], [0.7777777777777778, \"#fb9f3a\"], [0.8888888888888888, \"#fdca26\"], [1.0, \"#f0f921\"]], \"sequentialminus\": [[0.0, \"#0d0887\"], [0.1111111111111111, \"#46039f\"], [0.2222222222222222, \"#7201a8\"], [0.3333333333333333, \"#9c179e\"], [0.4444444444444444, \"#bd3786\"], [0.5555555555555556, \"#d8576b\"], [0.6666666666666666, \"#ed7953\"], [0.7777777777777778, \"#fb9f3a\"], [0.8888888888888888, \"#fdca26\"], [1.0, \"#f0f921\"]]}, \"colorway\": [\"#636efa\", \"#EF553B\", \"#00cc96\", \"#ab63fa\", \"#FFA15A\", \"#19d3f3\", \"#FF6692\", \"#B6E880\", \"#FF97FF\", \"#FECB52\"], \"font\": {\"color\": \"#2a3f5f\"}, \"geo\": {\"bgcolor\": \"white\", \"lakecolor\": \"white\", \"landcolor\": \"#E5ECF6\", \"showlakes\": true, \"showland\": true, \"subunitcolor\": \"white\"}, \"hoverlabel\": {\"align\": \"left\"}, \"hovermode\": \"closest\", \"mapbox\": {\"style\": \"light\"}, \"paper_bgcolor\": \"white\", \"plot_bgcolor\": \"#E5ECF6\", \"polar\": {\"angularaxis\": {\"gridcolor\": \"white\", \"linecolor\": \"white\", \"ticks\": \"\"}, \"bgcolor\": \"#E5ECF6\", \"radialaxis\": {\"gridcolor\": \"white\", \"linecolor\": \"white\", \"ticks\": \"\"}}, \"scene\": {\"xaxis\": {\"backgroundcolor\": \"#E5ECF6\", \"gridcolor\": \"white\", \"gridwidth\": 2, \"linecolor\": \"white\", \"showbackground\": true, \"ticks\": \"\", \"zerolinecolor\": \"white\"}, \"yaxis\": {\"backgroundcolor\": \"#E5ECF6\", \"gridcolor\": \"white\", \"gridwidth\": 2, \"linecolor\": \"white\", \"showbackground\": true, \"ticks\": \"\", \"zerolinecolor\": \"white\"}, \"zaxis\": {\"backgroundcolor\": \"#E5ECF6\", \"gridcolor\": \"white\", \"gridwidth\": 2, \"linecolor\": \"white\", \"showbackground\": true, \"ticks\": \"\", \"zerolinecolor\": \"white\"}}, \"shapedefaults\": {\"line\": {\"color\": \"#2a3f5f\"}}, \"ternary\": {\"aaxis\": {\"gridcolor\": \"white\", \"linecolor\": \"white\", \"ticks\": \"\"}, \"baxis\": {\"gridcolor\": \"white\", \"linecolor\": \"white\", \"ticks\": \"\"}, \"bgcolor\": \"#E5ECF6\", \"caxis\": {\"gridcolor\": \"white\", \"linecolor\": \"white\", \"ticks\": \"\"}}, \"title\": {\"x\": 0.05}, \"xaxis\": {\"automargin\": true, \"gridcolor\": \"white\", \"linecolor\": \"white\", \"ticks\": \"\", \"title\": {\"standoff\": 15}, \"zerolinecolor\": \"white\", \"zerolinewidth\": 2}, \"yaxis\": {\"automargin\": true, \"gridcolor\": \"white\", \"linecolor\": \"white\", \"ticks\": \"\", \"title\": {\"standoff\": 15}, \"zerolinecolor\": \"white\", \"zerolinewidth\": 2}}}, \"title\": {\"text\": \"Top 15 Countries with Active Cases: status 03-21-2020\"}, \"treemapcolorway\": [\"rgb(95, 70, 144)\", \"rgb(29, 105, 150)\", \"rgb(56, 166, 165)\", \"rgb(15, 133, 84)\", \"rgb(115, 175, 72)\", \"rgb(237, 173, 8)\", \"rgb(225, 124, 5)\", \"rgb(204, 80, 62)\", \"rgb(148, 52, 110)\", \"rgb(111, 64, 112)\", \"rgb(102, 102, 102)\"]},\n",
       "                        {\"responsive\": true}\n",
       "                    ).then(function(){\n",
       "                            \n",
       "var gd = document.getElementById('da71957a-83f2-4811-8c45-0a89fd0a09a7');\n",
       "var x = new MutationObserver(function (mutations, observer) {{\n",
       "        var display = window.getComputedStyle(gd).display;\n",
       "        if (!display || display === 'none') {{\n",
       "            console.log([gd, 'removed!']);\n",
       "            Plotly.purge(gd);\n",
       "            observer.disconnect();\n",
       "        }}\n",
       "}});\n",
       "\n",
       "// Listen for the removal of the full notebook cells\n",
       "var notebookContainer = gd.closest('#notebook-container');\n",
       "if (notebookContainer) {{\n",
       "    x.observe(notebookContainer, {childList: true});\n",
       "}}\n",
       "\n",
       "// Listen for the clearing of the current output cell\n",
       "var outputEl = gd.closest('.output');\n",
       "if (outputEl) {{\n",
       "    x.observe(outputEl, {childList: true});\n",
       "}}\n",
       "\n",
       "                        })\n",
       "                };\n",
       "                });\n",
       "            </script>\n",
       "        </div>"
      ]
     },
     "metadata": {},
     "output_type": "display_data"
    }
   ],
   "source": [
    "fig = px.treemap(top_fifteen,\n",
    "                 path=['Country/Region'],\n",
    "                 values=top_fifteen['Active'],\n",
    "                 title='Top 15 Countries with Active Cases: status {}'.format(yesterday),\n",
    "                 hover_data=['Confirmed', 'Active', 'Recovered','Deaths','Death rate [%]'],\n",
    "                 color_discrete_sequence=px.colors.qualitative.Prism)\n",
    "fig.show()"
   ]
  },
  {
   "cell_type": "markdown",
   "metadata": {},
   "source": [
    "Summary data per country is shown if you point with the mouse on each country's block."
   ]
  },
  {
   "cell_type": "markdown",
   "metadata": {},
   "source": [
    "## Time trends for top four countries by number cases"
   ]
  },
  {
   "cell_type": "code",
   "execution_count": 487,
   "metadata": {},
   "outputs": [
    {
     "data": {
      "text/plain": [
       "0      Italy\n",
       "1         US\n",
       "2    Germany\n",
       "3      Spain\n",
       "Name: Country/Region, dtype: object"
      ]
     },
     "execution_count": 487,
     "metadata": {},
     "output_type": "execute_result"
    }
   ],
   "source": [
    "top_four = top_fifteen[\"Country/Region\"][0:4]\n",
    "top_four"
   ]
  },
  {
   "cell_type": "markdown",
   "metadata": {},
   "source": [
    "We check the shape of the datasets for worldwide confimed, recovered and fatalities and group them by country to avoid several entries per country. "
   ]
  },
  {
   "cell_type": "code",
   "execution_count": 488,
   "metadata": {},
   "outputs": [
    {
     "data": {
      "text/html": [
       "<div>\n",
       "<style scoped>\n",
       "    .dataframe tbody tr th:only-of-type {\n",
       "        vertical-align: middle;\n",
       "    }\n",
       "\n",
       "    .dataframe tbody tr th {\n",
       "        vertical-align: top;\n",
       "    }\n",
       "\n",
       "    .dataframe thead th {\n",
       "        text-align: right;\n",
       "    }\n",
       "</style>\n",
       "<table border=\"1\" class=\"dataframe\">\n",
       "  <thead>\n",
       "    <tr style=\"text-align: right;\">\n",
       "      <th></th>\n",
       "      <th>Country/Region</th>\n",
       "      <th>Confirmed</th>\n",
       "      <th>Active</th>\n",
       "      <th>Recovered</th>\n",
       "      <th>Deaths</th>\n",
       "      <th>lat</th>\n",
       "      <th>long</th>\n",
       "      <th>Death rate [%]</th>\n",
       "    </tr>\n",
       "  </thead>\n",
       "  <tbody>\n",
       "    <tr>\n",
       "      <th>0</th>\n",
       "      <td>Italy</td>\n",
       "      <td>53578.0</td>\n",
       "      <td>42681.0</td>\n",
       "      <td>6072.0</td>\n",
       "      <td>4825.0</td>\n",
       "      <td>41.8719</td>\n",
       "      <td>12.5674</td>\n",
       "      <td>9.01</td>\n",
       "    </tr>\n",
       "    <tr>\n",
       "      <th>1</th>\n",
       "      <td>US</td>\n",
       "      <td>25493.0</td>\n",
       "      <td>25015.0</td>\n",
       "      <td>171.0</td>\n",
       "      <td>307.0</td>\n",
       "      <td>42.1657</td>\n",
       "      <td>-74.9481</td>\n",
       "      <td>1.20</td>\n",
       "    </tr>\n",
       "    <tr>\n",
       "      <th>2</th>\n",
       "      <td>Germany</td>\n",
       "      <td>22213.0</td>\n",
       "      <td>21896.0</td>\n",
       "      <td>233.0</td>\n",
       "      <td>84.0</td>\n",
       "      <td>51.1657</td>\n",
       "      <td>10.4515</td>\n",
       "      <td>0.38</td>\n",
       "    </tr>\n",
       "    <tr>\n",
       "      <th>3</th>\n",
       "      <td>Spain</td>\n",
       "      <td>25374.0</td>\n",
       "      <td>21874.0</td>\n",
       "      <td>2125.0</td>\n",
       "      <td>1375.0</td>\n",
       "      <td>40.4637</td>\n",
       "      <td>-3.7492</td>\n",
       "      <td>5.42</td>\n",
       "    </tr>\n",
       "    <tr>\n",
       "      <th>4</th>\n",
       "      <td>France</td>\n",
       "      <td>14308.0</td>\n",
       "      <td>13734.0</td>\n",
       "      <td>12.0</td>\n",
       "      <td>562.0</td>\n",
       "      <td>46.2276</td>\n",
       "      <td>2.2137</td>\n",
       "      <td>3.93</td>\n",
       "    </tr>\n",
       "  </tbody>\n",
       "</table>\n",
       "</div>"
      ],
      "text/plain": [
       "  Country/Region  Confirmed   Active  Recovered  Deaths      lat     long  \\\n",
       "0          Italy    53578.0  42681.0     6072.0  4825.0  41.8719  12.5674   \n",
       "1             US    25493.0  25015.0      171.0   307.0  42.1657 -74.9481   \n",
       "2        Germany    22213.0  21896.0      233.0    84.0  51.1657  10.4515   \n",
       "3          Spain    25374.0  21874.0     2125.0  1375.0  40.4637  -3.7492   \n",
       "4         France    14308.0  13734.0       12.0   562.0  46.2276   2.2137   \n",
       "\n",
       "   Death rate [%]  \n",
       "0            9.01  \n",
       "1            1.20  \n",
       "2            0.38  \n",
       "3            5.42  \n",
       "4            3.93  "
      ]
     },
     "execution_count": 488,
     "metadata": {},
     "output_type": "execute_result"
    }
   ],
   "source": [
    "top_fifteen.head()"
   ]
  },
  {
   "cell_type": "code",
   "execution_count": 489,
   "metadata": {},
   "outputs": [
    {
     "name": "stdout",
     "output_type": "stream",
     "text": [
      "Shape of worldwide confirmed cases table: (482, 64)\n",
      "Shape of worldwide fatalities table: (482, 64)\n",
      "Shape of worldwide recovered table: (482, 64)\n"
     ]
    }
   ],
   "source": [
    "print(\"Shape of worldwide confirmed cases table: {}\".format(da_confirmed_w.shape))\n",
    "print(\"Shape of worldwide fatalities table: {}\".format(da_fatalities_w.shape))\n",
    "print(\"Shape of worldwide recovered table: {}\".format(da_recovered_w.shape))"
   ]
  },
  {
   "cell_type": "code",
   "execution_count": 490,
   "metadata": {},
   "outputs": [
    {
     "name": "stdout",
     "output_type": "stream",
     "text": [
      "Length of unique country values for worldwide confirmed cases: 167\n",
      "Length of unique country values for worldwide fatalities: 167\n",
      "Length of unique country values for worldwide recovered: 167\n"
     ]
    }
   ],
   "source": [
    "da_conf_grouped = da_confirmed_w.groupby(\"Country/Region\")\n",
    "da_fat_grouped = da_fatalities_w.groupby(\"Country/Region\")\n",
    "da_rec_grouped = da_recovered_w.groupby(\"Country/Region\")\n",
    "print(\"Length of unique country values for worldwide confirmed cases: {}\".format(len(da_conf_grouped)))\n",
    "print(\"Length of unique country values for worldwide fatalities: {}\".format(len(da_fat_grouped)))\n",
    "print(\"Length of unique country values for worldwide recovered: {}\".format(len(da_rec_grouped)))"
   ]
  },
  {
   "cell_type": "code",
   "execution_count": 491,
   "metadata": {},
   "outputs": [],
   "source": [
    "def top_four_filter(da, top_four, status):\n",
    "    da_filter = pd.DataFrame([da.get_group(x).drop(\n",
    "                            [\"Province/State\", \"Lat\", \"Long\"], axis=1).sum() for x in top_four])\n",
    "    \n",
    "    for x in range(len(da_filter)):\n",
    "        if \"China\" in da_filter.iloc[x,0]:\n",
    "            da_filter.iloc[x,0]=\"China\"\n",
    "        if \"US\" in da_filter.iloc[x,0]:\n",
    "            da_filter.iloc[x,0]=\"US\"\n",
    "            \n",
    "    da_filter[\"Country/Region\"]=da_filter[\"Country/Region\"] + \" \" +status\n",
    "    return da_filter"
   ]
  },
  {
   "cell_type": "markdown",
   "metadata": {},
   "source": [
    "Add China and South Korea to the list for comparison reasons."
   ]
  },
  {
   "cell_type": "code",
   "execution_count": 492,
   "metadata": {},
   "outputs": [
    {
     "data": {
      "text/plain": [
       "0          Italy\n",
       "1             US\n",
       "2        Germany\n",
       "3          Spain\n",
       "4          China\n",
       "5    South Korea\n",
       "dtype: object"
      ]
     },
     "execution_count": 492,
     "metadata": {},
     "output_type": "execute_result"
    }
   ],
   "source": [
    "comparison_countries = pd.Series([\"China\",\"South Korea\"])\n",
    "top_four =top_four.append(comparison_countries, ignore_index=True)\n",
    "top_four"
   ]
  },
  {
   "cell_type": "code",
   "execution_count": 493,
   "metadata": {},
   "outputs": [],
   "source": [
    "comparison_countries = pd.Series([\"China\",\"South Korea\"])\n",
    "top_four.append(comparison_countries)\n",
    "top_four_all = top_four_filter(da_conf_grouped, top_four, \"confirmed\").append(\n",
    "               top_four_filter(da_fat_grouped, top_four, \"fatalities\").append(\n",
    "              top_four_filter(da_rec_grouped, top_four, \"recovered\")))"
   ]
  },
  {
   "cell_type": "code",
   "execution_count": 494,
   "metadata": {},
   "outputs": [],
   "source": [
    "top_four_all = top_four_all.T\n",
    "top_four_all.columns = top_four_all.iloc[0]\n",
    "top_four_all = top_four_all.drop(top_four_all.index[0])\n",
    "top_four_all = top_four_all.reset_index()\n",
    "top_four_all = top_four_all.rename(columns={\"index\":\"Date\"})"
   ]
  },
  {
   "cell_type": "code",
   "execution_count": 495,
   "metadata": {},
   "outputs": [
    {
     "data": {
      "text/html": [
       "<div>\n",
       "<style scoped>\n",
       "    .dataframe tbody tr th:only-of-type {\n",
       "        vertical-align: middle;\n",
       "    }\n",
       "\n",
       "    .dataframe tbody tr th {\n",
       "        vertical-align: top;\n",
       "    }\n",
       "\n",
       "    .dataframe thead th {\n",
       "        text-align: right;\n",
       "    }\n",
       "</style>\n",
       "<table border=\"1\" class=\"dataframe\">\n",
       "  <thead>\n",
       "    <tr style=\"text-align: right;\">\n",
       "      <th>Country/Region</th>\n",
       "      <th>Date</th>\n",
       "      <th>Italy confirmed</th>\n",
       "      <th>US confirmed</th>\n",
       "      <th>Germany confirmed</th>\n",
       "      <th>Spain confirmed</th>\n",
       "      <th>China confirmed</th>\n",
       "      <th>South Korea confirmed</th>\n",
       "      <th>Italy fatalities</th>\n",
       "      <th>US fatalities</th>\n",
       "      <th>Germany fatalities</th>\n",
       "      <th>Spain fatalities</th>\n",
       "      <th>China fatalities</th>\n",
       "      <th>South Korea fatalities</th>\n",
       "      <th>Italy recovered</th>\n",
       "      <th>US recovered</th>\n",
       "      <th>Germany recovered</th>\n",
       "      <th>Spain recovered</th>\n",
       "      <th>China recovered</th>\n",
       "      <th>South Korea recovered</th>\n",
       "    </tr>\n",
       "  </thead>\n",
       "  <tbody>\n",
       "    <tr>\n",
       "      <th>55</th>\n",
       "      <td>3/17/20</td>\n",
       "      <td>31506</td>\n",
       "      <td>6421</td>\n",
       "      <td>9257</td>\n",
       "      <td>11748</td>\n",
       "      <td>81058</td>\n",
       "      <td>8320</td>\n",
       "      <td>2503</td>\n",
       "      <td>108</td>\n",
       "      <td>24</td>\n",
       "      <td>533</td>\n",
       "      <td>3230</td>\n",
       "      <td>81</td>\n",
       "      <td>2941</td>\n",
       "      <td>17</td>\n",
       "      <td>67</td>\n",
       "      <td>1028</td>\n",
       "      <td>68798</td>\n",
       "      <td>1407</td>\n",
       "    </tr>\n",
       "    <tr>\n",
       "      <th>56</th>\n",
       "      <td>3/18/20</td>\n",
       "      <td>35713</td>\n",
       "      <td>7783</td>\n",
       "      <td>12327</td>\n",
       "      <td>13910</td>\n",
       "      <td>81102</td>\n",
       "      <td>8413</td>\n",
       "      <td>2978</td>\n",
       "      <td>118</td>\n",
       "      <td>28</td>\n",
       "      <td>623</td>\n",
       "      <td>3241</td>\n",
       "      <td>84</td>\n",
       "      <td>4025</td>\n",
       "      <td>0</td>\n",
       "      <td>105</td>\n",
       "      <td>1081</td>\n",
       "      <td>69755</td>\n",
       "      <td>1540</td>\n",
       "    </tr>\n",
       "    <tr>\n",
       "      <th>57</th>\n",
       "      <td>3/19/20</td>\n",
       "      <td>41035</td>\n",
       "      <td>13677</td>\n",
       "      <td>15320</td>\n",
       "      <td>17963</td>\n",
       "      <td>81156</td>\n",
       "      <td>8565</td>\n",
       "      <td>3405</td>\n",
       "      <td>200</td>\n",
       "      <td>44</td>\n",
       "      <td>830</td>\n",
       "      <td>3249</td>\n",
       "      <td>91</td>\n",
       "      <td>4440</td>\n",
       "      <td>0</td>\n",
       "      <td>113</td>\n",
       "      <td>1107</td>\n",
       "      <td>70535</td>\n",
       "      <td>1540</td>\n",
       "    </tr>\n",
       "    <tr>\n",
       "      <th>58</th>\n",
       "      <td>3/20/20</td>\n",
       "      <td>47021</td>\n",
       "      <td>19100</td>\n",
       "      <td>19848</td>\n",
       "      <td>20410</td>\n",
       "      <td>81250</td>\n",
       "      <td>8652</td>\n",
       "      <td>4032</td>\n",
       "      <td>244</td>\n",
       "      <td>67</td>\n",
       "      <td>1043</td>\n",
       "      <td>3253</td>\n",
       "      <td>94</td>\n",
       "      <td>4440</td>\n",
       "      <td>0</td>\n",
       "      <td>180</td>\n",
       "      <td>1588</td>\n",
       "      <td>71266</td>\n",
       "      <td>1540</td>\n",
       "    </tr>\n",
       "    <tr>\n",
       "      <th>59</th>\n",
       "      <td>3/21/20</td>\n",
       "      <td>53578</td>\n",
       "      <td>25489</td>\n",
       "      <td>22213</td>\n",
       "      <td>25374</td>\n",
       "      <td>81305</td>\n",
       "      <td>8799</td>\n",
       "      <td>4825</td>\n",
       "      <td>307</td>\n",
       "      <td>84</td>\n",
       "      <td>1375</td>\n",
       "      <td>3259</td>\n",
       "      <td>102</td>\n",
       "      <td>6072</td>\n",
       "      <td>0</td>\n",
       "      <td>233</td>\n",
       "      <td>2125</td>\n",
       "      <td>71857</td>\n",
       "      <td>1540</td>\n",
       "    </tr>\n",
       "  </tbody>\n",
       "</table>\n",
       "</div>"
      ],
      "text/plain": [
       "Country/Region     Date Italy confirmed US confirmed Germany confirmed  \\\n",
       "55              3/17/20           31506         6421              9257   \n",
       "56              3/18/20           35713         7783             12327   \n",
       "57              3/19/20           41035        13677             15320   \n",
       "58              3/20/20           47021        19100             19848   \n",
       "59              3/21/20           53578        25489             22213   \n",
       "\n",
       "Country/Region Spain confirmed China confirmed South Korea confirmed  \\\n",
       "55                       11748           81058                  8320   \n",
       "56                       13910           81102                  8413   \n",
       "57                       17963           81156                  8565   \n",
       "58                       20410           81250                  8652   \n",
       "59                       25374           81305                  8799   \n",
       "\n",
       "Country/Region Italy fatalities US fatalities Germany fatalities  \\\n",
       "55                         2503           108                 24   \n",
       "56                         2978           118                 28   \n",
       "57                         3405           200                 44   \n",
       "58                         4032           244                 67   \n",
       "59                         4825           307                 84   \n",
       "\n",
       "Country/Region Spain fatalities China fatalities South Korea fatalities  \\\n",
       "55                          533             3230                     81   \n",
       "56                          623             3241                     84   \n",
       "57                          830             3249                     91   \n",
       "58                         1043             3253                     94   \n",
       "59                         1375             3259                    102   \n",
       "\n",
       "Country/Region Italy recovered US recovered Germany recovered Spain recovered  \\\n",
       "55                        2941           17                67            1028   \n",
       "56                        4025            0               105            1081   \n",
       "57                        4440            0               113            1107   \n",
       "58                        4440            0               180            1588   \n",
       "59                        6072            0               233            2125   \n",
       "\n",
       "Country/Region China recovered South Korea recovered  \n",
       "55                       68798                  1407  \n",
       "56                       69755                  1540  \n",
       "57                       70535                  1540  \n",
       "58                       71266                  1540  \n",
       "59                       71857                  1540  "
      ]
     },
     "execution_count": 495,
     "metadata": {},
     "output_type": "execute_result"
    }
   ],
   "source": [
    "top_four_all.tail(5)"
   ]
  },
  {
   "cell_type": "code",
   "execution_count": 496,
   "metadata": {},
   "outputs": [
    {
     "data": {
      "text/html": [
       "<div>\n",
       "<style scoped>\n",
       "    .dataframe tbody tr th:only-of-type {\n",
       "        vertical-align: middle;\n",
       "    }\n",
       "\n",
       "    .dataframe tbody tr th {\n",
       "        vertical-align: top;\n",
       "    }\n",
       "\n",
       "    .dataframe thead th {\n",
       "        text-align: right;\n",
       "    }\n",
       "</style>\n",
       "<table border=\"1\" class=\"dataframe\">\n",
       "  <thead>\n",
       "    <tr style=\"text-align: right;\">\n",
       "      <th>Country/Region</th>\n",
       "      <th>Date</th>\n",
       "      <th>Italy confirmed</th>\n",
       "      <th>US confirmed</th>\n",
       "      <th>Germany confirmed</th>\n",
       "      <th>Spain confirmed</th>\n",
       "      <th>China confirmed</th>\n",
       "      <th>South Korea confirmed</th>\n",
       "      <th>Italy fatalities</th>\n",
       "      <th>US fatalities</th>\n",
       "      <th>Germany fatalities</th>\n",
       "      <th>...</th>\n",
       "      <th>Germany recovered</th>\n",
       "      <th>Spain recovered</th>\n",
       "      <th>China recovered</th>\n",
       "      <th>South Korea recovered</th>\n",
       "      <th>Italy active</th>\n",
       "      <th>US active</th>\n",
       "      <th>Germany active</th>\n",
       "      <th>Spain active</th>\n",
       "      <th>China active</th>\n",
       "      <th>South Korea active</th>\n",
       "    </tr>\n",
       "  </thead>\n",
       "  <tbody>\n",
       "    <tr>\n",
       "      <th>55</th>\n",
       "      <td>3/17/20</td>\n",
       "      <td>31506</td>\n",
       "      <td>6421</td>\n",
       "      <td>9257</td>\n",
       "      <td>11748</td>\n",
       "      <td>81058</td>\n",
       "      <td>8320</td>\n",
       "      <td>2503</td>\n",
       "      <td>108</td>\n",
       "      <td>24</td>\n",
       "      <td>...</td>\n",
       "      <td>67</td>\n",
       "      <td>1028</td>\n",
       "      <td>68798</td>\n",
       "      <td>1407</td>\n",
       "      <td>26062</td>\n",
       "      <td>6296</td>\n",
       "      <td>9166</td>\n",
       "      <td>10187</td>\n",
       "      <td>9030</td>\n",
       "      <td>6832</td>\n",
       "    </tr>\n",
       "    <tr>\n",
       "      <th>56</th>\n",
       "      <td>3/18/20</td>\n",
       "      <td>35713</td>\n",
       "      <td>7783</td>\n",
       "      <td>12327</td>\n",
       "      <td>13910</td>\n",
       "      <td>81102</td>\n",
       "      <td>8413</td>\n",
       "      <td>2978</td>\n",
       "      <td>118</td>\n",
       "      <td>28</td>\n",
       "      <td>...</td>\n",
       "      <td>105</td>\n",
       "      <td>1081</td>\n",
       "      <td>69755</td>\n",
       "      <td>1540</td>\n",
       "      <td>28710</td>\n",
       "      <td>7665</td>\n",
       "      <td>12194</td>\n",
       "      <td>12206</td>\n",
       "      <td>8106</td>\n",
       "      <td>6789</td>\n",
       "    </tr>\n",
       "    <tr>\n",
       "      <th>57</th>\n",
       "      <td>3/19/20</td>\n",
       "      <td>41035</td>\n",
       "      <td>13677</td>\n",
       "      <td>15320</td>\n",
       "      <td>17963</td>\n",
       "      <td>81156</td>\n",
       "      <td>8565</td>\n",
       "      <td>3405</td>\n",
       "      <td>200</td>\n",
       "      <td>44</td>\n",
       "      <td>...</td>\n",
       "      <td>113</td>\n",
       "      <td>1107</td>\n",
       "      <td>70535</td>\n",
       "      <td>1540</td>\n",
       "      <td>33190</td>\n",
       "      <td>13477</td>\n",
       "      <td>15163</td>\n",
       "      <td>16026</td>\n",
       "      <td>7372</td>\n",
       "      <td>6934</td>\n",
       "    </tr>\n",
       "    <tr>\n",
       "      <th>58</th>\n",
       "      <td>3/20/20</td>\n",
       "      <td>47021</td>\n",
       "      <td>19100</td>\n",
       "      <td>19848</td>\n",
       "      <td>20410</td>\n",
       "      <td>81250</td>\n",
       "      <td>8652</td>\n",
       "      <td>4032</td>\n",
       "      <td>244</td>\n",
       "      <td>67</td>\n",
       "      <td>...</td>\n",
       "      <td>180</td>\n",
       "      <td>1588</td>\n",
       "      <td>71266</td>\n",
       "      <td>1540</td>\n",
       "      <td>38549</td>\n",
       "      <td>18856</td>\n",
       "      <td>19601</td>\n",
       "      <td>17779</td>\n",
       "      <td>6731</td>\n",
       "      <td>7018</td>\n",
       "    </tr>\n",
       "    <tr>\n",
       "      <th>59</th>\n",
       "      <td>3/21/20</td>\n",
       "      <td>53578</td>\n",
       "      <td>25489</td>\n",
       "      <td>22213</td>\n",
       "      <td>25374</td>\n",
       "      <td>81305</td>\n",
       "      <td>8799</td>\n",
       "      <td>4825</td>\n",
       "      <td>307</td>\n",
       "      <td>84</td>\n",
       "      <td>...</td>\n",
       "      <td>233</td>\n",
       "      <td>2125</td>\n",
       "      <td>71857</td>\n",
       "      <td>1540</td>\n",
       "      <td>42681</td>\n",
       "      <td>25182</td>\n",
       "      <td>21896</td>\n",
       "      <td>21874</td>\n",
       "      <td>6189</td>\n",
       "      <td>7157</td>\n",
       "    </tr>\n",
       "  </tbody>\n",
       "</table>\n",
       "<p>5 rows × 25 columns</p>\n",
       "</div>"
      ],
      "text/plain": [
       "Country/Region     Date Italy confirmed US confirmed Germany confirmed  \\\n",
       "55              3/17/20           31506         6421              9257   \n",
       "56              3/18/20           35713         7783             12327   \n",
       "57              3/19/20           41035        13677             15320   \n",
       "58              3/20/20           47021        19100             19848   \n",
       "59              3/21/20           53578        25489             22213   \n",
       "\n",
       "Country/Region Spain confirmed China confirmed South Korea confirmed  \\\n",
       "55                       11748           81058                  8320   \n",
       "56                       13910           81102                  8413   \n",
       "57                       17963           81156                  8565   \n",
       "58                       20410           81250                  8652   \n",
       "59                       25374           81305                  8799   \n",
       "\n",
       "Country/Region Italy fatalities US fatalities Germany fatalities  ...  \\\n",
       "55                         2503           108                 24  ...   \n",
       "56                         2978           118                 28  ...   \n",
       "57                         3405           200                 44  ...   \n",
       "58                         4032           244                 67  ...   \n",
       "59                         4825           307                 84  ...   \n",
       "\n",
       "Country/Region Germany recovered Spain recovered China recovered  \\\n",
       "55                            67            1028           68798   \n",
       "56                           105            1081           69755   \n",
       "57                           113            1107           70535   \n",
       "58                           180            1588           71266   \n",
       "59                           233            2125           71857   \n",
       "\n",
       "Country/Region South Korea recovered Italy active US active Germany active  \\\n",
       "55                              1407        26062      6296           9166   \n",
       "56                              1540        28710      7665          12194   \n",
       "57                              1540        33190     13477          15163   \n",
       "58                              1540        38549     18856          19601   \n",
       "59                              1540        42681     25182          21896   \n",
       "\n",
       "Country/Region Spain active China active South Korea active  \n",
       "55                    10187         9030               6832  \n",
       "56                    12206         8106               6789  \n",
       "57                    16026         7372               6934  \n",
       "58                    17779         6731               7018  \n",
       "59                    21874         6189               7157  \n",
       "\n",
       "[5 rows x 25 columns]"
      ]
     },
     "execution_count": 496,
     "metadata": {},
     "output_type": "execute_result"
    }
   ],
   "source": [
    "for x in top_four:\n",
    "    top_four_all[x + \" active\"] = top_four_all[x+\" confirmed\"] - top_four_all[\n",
    "        x+\" recovered\"] - top_four_all[x+\" fatalities\"]\n",
    "top_four_all.tail()"
   ]
  },
  {
   "cell_type": "code",
   "execution_count": 497,
   "metadata": {
    "scrolled": false
   },
   "outputs": [
    {
     "data": {
      "image/png": "[encoded data removed]",
      "text/plain": [
       "<Figure size 1152x720 with 4 Axes>"
      ]
     },
     "metadata": {
      "needs_background": "light"
     },
     "output_type": "display_data"
    }
   ],
   "source": [
    "fig, ax = plt.subplots(2, 2, figsize=(16,10))\n",
    "\n",
    "def plot_top4(da,num,xcol, ycol, title):\n",
    "    ax[num].plot(da[xcol],da[ycol], lw=3)\n",
    "    ax[num].set_title(title)\n",
    "    ax[num].xaxis.set_major_locator(plt.MaxNLocator(10))\n",
    "    ax[num].grid(True)\n",
    "    \n",
    "plot_top4(top_four_all, (0,0), \"Date\", top_four[0] + ' active', 'Active cases in {}'.format(top_four[0]))\n",
    "plot_top4(top_four_all, (0,1), \"Date\", top_four[1] + ' active', 'Active cases in {}'.format(top_four[1]))\n",
    "plot_top4(top_four_all, (1,0), \"Date\", top_four[2] + ' active', 'Active cases in {}'.format(top_four[2]))\n",
    "plot_top4(top_four_all, (1,1), \"Date\", top_four[3] + ' active', 'Active cases in {}'.format(top_four[3]))\n",
    "fig.suptitle('Active cases over time in the top four countries by numbers', fontsize=16)\n",
    "\n",
    "plt.show()"
   ]
  },
  {
   "cell_type": "markdown",
   "metadata": {},
   "source": [
    "As on 18.03, all of the top four countries with the most active cases are still in a steep slope of growth of cases with the exception of Iran, whose growth slope is getting gentler. "
   ]
  },
  {
   "cell_type": "markdown",
   "metadata": {},
   "source": [
    "We compare the curves above with the one from China, the country with the most reported cases so far but with a declining number of new positive cases. \n",
    "<br> We added also the graph from South Korea where the active cases are starting to drop since mif March.\n",
    "<br> In both countries the peak of active cases shows in the graphs around a month since the curve starting to get up in the data of significant numbers of cases. Both countries took strict measures to content the spread of the virus including lockdowns of hotspots, social distancing, self-isolation and closing of public places and schools."
   ]
  },
  {
   "cell_type": "code",
   "execution_count": 498,
   "metadata": {},
   "outputs": [
    {
     "data": {
      "image/png": "[encoded data removed]",
      "text/plain": [
       "<Figure size 1152x360 with 2 Axes>"
      ]
     },
     "metadata": {
      "needs_background": "light"
     },
     "output_type": "display_data"
    }
   ],
   "source": [
    "fig, ax = plt.subplots(1, 2, figsize=(16,5))\n",
    "plot_top4(top_four_all, 0, \"Date\", 'China active', 'Active cases in China')\n",
    "plot_top4(top_four_all, 1, \"Date\", 'South Korea active', 'Active cases in South Korea')\n",
    "fig.suptitle('Active cases over time in China and South Korea', fontsize=16)\n",
    "\n",
    "plt.show()"
   ]
  },
  {
   "cell_type": "markdown",
   "metadata": {},
   "source": [
    "# Country Analysis - Italy"
   ]
  },
  {
   "cell_type": "markdown",
   "metadata": {},
   "source": [
    "Import the latest reports from the Presidenza del Consiglio dei Ministri - Dipartimento della Protezione Civile. \n",
    "<br>Date of the latest data to be gathered is yesterday to ensure the data is available as the files are updated daily at midnight. \n",
    "<br>We use the date variable \"ieri\" to build the urls dynamically. The date format used in the Italian repository differs from the one used by the CSSE at Johns Hopkins University, this is why we need to build it."
   ]
  },
  {
   "cell_type": "code",
   "execution_count": 499,
   "metadata": {},
   "outputs": [],
   "source": [
    "ieri = date.today() - timedelta(days=1)\n",
    "ieri = ieri.strftime(\"%Y%m%d\")"
   ]
  },
  {
   "cell_type": "code",
   "execution_count": 500,
   "metadata": {},
   "outputs": [],
   "source": [
    "nat_url = \"https://raw.githubusercontent.com/pcm-dpc/COVID-19/master/dati-andamento-nazionale/dpc-covid19-ita-andamento-nazionale.csv\"\n",
    "reg_url = \"https://raw.githubusercontent.com/pcm-dpc/COVID-19/master/dati-regioni/dpc-covid19-ita-regioni.csv\"\n",
    "reg_daily_url = \"https://raw.githubusercontent.com/pcm-dpc/COVID-19/master/dati-regioni/dpc-covid19-ita-regioni-{}.csv\".format(ieri)\n",
    "prov_url = \"https://raw.githubusercontent.com/pcm-dpc/COVID-19/master/dati-province/dpc-covid19-ita-province.csv\" \n",
    "da_national = get_raw_data(nat_url)\n",
    "da_region = get_raw_data(reg_url)\n",
    "da_daily_region = get_raw_data(reg_daily_url)\n",
    "da_province = get_raw_data(prov_url)"
   ]
  },
  {
   "cell_type": "markdown",
   "metadata": {},
   "source": [
    "We rename the columns to translate them to English."
   ]
  },
  {
   "cell_type": "code",
   "execution_count": 501,
   "metadata": {},
   "outputs": [
    {
     "data": {
      "text/plain": [
       "Index(['data', 'stato', 'ricoverati_con_sintomi', 'terapia_intensiva',\n",
       "       'totale_ospedalizzati', 'isolamento_domiciliare',\n",
       "       'totale_attualmente_positivi', 'nuovi_attualmente_positivi',\n",
       "       'dimessi_guariti', 'deceduti', 'totale_casi', 'tamponi'],\n",
       "      dtype='object')"
      ]
     },
     "execution_count": 501,
     "metadata": {},
     "output_type": "execute_result"
    }
   ],
   "source": [
    "da_national.columns"
   ]
  },
  {
   "cell_type": "code",
   "execution_count": 502,
   "metadata": {},
   "outputs": [
    {
     "data": {
      "text/html": [
       "<div>\n",
       "<style scoped>\n",
       "    .dataframe tbody tr th:only-of-type {\n",
       "        vertical-align: middle;\n",
       "    }\n",
       "\n",
       "    .dataframe tbody tr th {\n",
       "        vertical-align: top;\n",
       "    }\n",
       "\n",
       "    .dataframe thead th {\n",
       "        text-align: right;\n",
       "    }\n",
       "</style>\n",
       "<table border=\"1\" class=\"dataframe\">\n",
       "  <thead>\n",
       "    <tr style=\"text-align: right;\">\n",
       "      <th></th>\n",
       "      <th>timestamp</th>\n",
       "      <th>state</th>\n",
       "      <th>hospitalized with symptoms</th>\n",
       "      <th>intensive care</th>\n",
       "      <th>total hospitalized</th>\n",
       "      <th>self-isolation</th>\n",
       "      <th>total currently positive</th>\n",
       "      <th>new positive</th>\n",
       "      <th>recovered</th>\n",
       "      <th>fatalities</th>\n",
       "      <th>total positive</th>\n",
       "      <th>total tested</th>\n",
       "    </tr>\n",
       "  </thead>\n",
       "  <tbody>\n",
       "    <tr>\n",
       "      <th>0</th>\n",
       "      <td>2020-02-24 18:00:00</td>\n",
       "      <td>ITA</td>\n",
       "      <td>101</td>\n",
       "      <td>26</td>\n",
       "      <td>127</td>\n",
       "      <td>94</td>\n",
       "      <td>221</td>\n",
       "      <td>221</td>\n",
       "      <td>1</td>\n",
       "      <td>7</td>\n",
       "      <td>229</td>\n",
       "      <td>4324</td>\n",
       "    </tr>\n",
       "    <tr>\n",
       "      <th>1</th>\n",
       "      <td>2020-02-25 18:00:00</td>\n",
       "      <td>ITA</td>\n",
       "      <td>114</td>\n",
       "      <td>35</td>\n",
       "      <td>150</td>\n",
       "      <td>162</td>\n",
       "      <td>311</td>\n",
       "      <td>90</td>\n",
       "      <td>1</td>\n",
       "      <td>10</td>\n",
       "      <td>322</td>\n",
       "      <td>8623</td>\n",
       "    </tr>\n",
       "  </tbody>\n",
       "</table>\n",
       "</div>"
      ],
      "text/plain": [
       "             timestamp state  hospitalized with symptoms  intensive care  \\\n",
       "0  2020-02-24 18:00:00   ITA                         101              26   \n",
       "1  2020-02-25 18:00:00   ITA                         114              35   \n",
       "\n",
       "   total hospitalized  self-isolation  total currently positive  new positive  \\\n",
       "0                 127              94                       221           221   \n",
       "1                 150             162                       311            90   \n",
       "\n",
       "   recovered  fatalities  total positive  total tested  \n",
       "0          1           7             229          4324  \n",
       "1          1          10             322          8623  "
      ]
     },
     "execution_count": 502,
     "metadata": {},
     "output_type": "execute_result"
    }
   ],
   "source": [
    "da_national = da_national.rename(columns={'data':\"timestamp\", 'stato':\"state\", \n",
    "                            'ricoverati_con_sintomi':\"hospitalized with symptoms\", \n",
    "                            'terapia_intensiva':\"intensive care\",\n",
    "                            'totale_ospedalizzati':\"total hospitalized\",\n",
    "                            'isolamento_domiciliare':\"self-isolation\",\n",
    "                            'totale_attualmente_positivi':\"total currently positive\", \n",
    "                            'nuovi_attualmente_positivi':\"new positive\",\n",
    "                            'dimessi_guariti':\"recovered\", \n",
    "                            'deceduti':\"fatalities\", \n",
    "                            'totale_casi':\"total positive\", \n",
    "                            'tamponi':\"total tested\"})\n",
    "da_national.head(2)"
   ]
  },
  {
   "cell_type": "code",
   "execution_count": 503,
   "metadata": {},
   "outputs": [
    {
     "data": {
      "text/html": [
       "<div>\n",
       "<style scoped>\n",
       "    .dataframe tbody tr th:only-of-type {\n",
       "        vertical-align: middle;\n",
       "    }\n",
       "\n",
       "    .dataframe tbody tr th {\n",
       "        vertical-align: top;\n",
       "    }\n",
       "\n",
       "    .dataframe thead th {\n",
       "        text-align: right;\n",
       "    }\n",
       "</style>\n",
       "<table border=\"1\" class=\"dataframe\">\n",
       "  <thead>\n",
       "    <tr style=\"text-align: right;\">\n",
       "      <th></th>\n",
       "      <th>date</th>\n",
       "      <th>state</th>\n",
       "      <th>regional code</th>\n",
       "      <th>region</th>\n",
       "      <th>lat</th>\n",
       "      <th>long</th>\n",
       "      <th>hospitalized with symptoms</th>\n",
       "      <th>intensive care</th>\n",
       "      <th>total hospitalized</th>\n",
       "      <th>self-isolation</th>\n",
       "      <th>total currently positive</th>\n",
       "      <th>new positive</th>\n",
       "      <th>recovered</th>\n",
       "      <th>fatalities</th>\n",
       "      <th>total positive</th>\n",
       "      <th>total tested</th>\n",
       "    </tr>\n",
       "  </thead>\n",
       "  <tbody>\n",
       "    <tr>\n",
       "      <th>0</th>\n",
       "      <td>2020-02-24 18:00:00</td>\n",
       "      <td>ITA</td>\n",
       "      <td>13</td>\n",
       "      <td>Abruzzo</td>\n",
       "      <td>42.351222</td>\n",
       "      <td>13.398438</td>\n",
       "      <td>0</td>\n",
       "      <td>0</td>\n",
       "      <td>0</td>\n",
       "      <td>0</td>\n",
       "      <td>0</td>\n",
       "      <td>0</td>\n",
       "      <td>0</td>\n",
       "      <td>0</td>\n",
       "      <td>0</td>\n",
       "      <td>5</td>\n",
       "    </tr>\n",
       "    <tr>\n",
       "      <th>1</th>\n",
       "      <td>2020-02-24 18:00:00</td>\n",
       "      <td>ITA</td>\n",
       "      <td>17</td>\n",
       "      <td>Basilicata</td>\n",
       "      <td>40.639471</td>\n",
       "      <td>15.805148</td>\n",
       "      <td>0</td>\n",
       "      <td>0</td>\n",
       "      <td>0</td>\n",
       "      <td>0</td>\n",
       "      <td>0</td>\n",
       "      <td>0</td>\n",
       "      <td>0</td>\n",
       "      <td>0</td>\n",
       "      <td>0</td>\n",
       "      <td>0</td>\n",
       "    </tr>\n",
       "  </tbody>\n",
       "</table>\n",
       "</div>"
      ],
      "text/plain": [
       "                  date state  regional code      region        lat       long  \\\n",
       "0  2020-02-24 18:00:00   ITA             13     Abruzzo  42.351222  13.398438   \n",
       "1  2020-02-24 18:00:00   ITA             17  Basilicata  40.639471  15.805148   \n",
       "\n",
       "   hospitalized with symptoms  intensive care  total hospitalized  \\\n",
       "0                           0               0                   0   \n",
       "1                           0               0                   0   \n",
       "\n",
       "   self-isolation  total currently positive  new positive  recovered  \\\n",
       "0               0                         0             0          0   \n",
       "1               0                         0             0          0   \n",
       "\n",
       "   fatalities  total positive  total tested  \n",
       "0           0               0             5  \n",
       "1           0               0             0  "
      ]
     },
     "execution_count": 503,
     "metadata": {},
     "output_type": "execute_result"
    }
   ],
   "source": [
    "da_region = da_region.rename(columns={'data':\"date\", 'stato':\"state\", 'codice_regione':\"regional code\", \n",
    "                          'denominazione_regione':\"region\", 'ricoverati_con_sintomi':\"hospitalized with symptoms\", \n",
    "                          'terapia_intensiva':\"intensive care\",'totale_ospedalizzati':\"total hospitalized\", \n",
    "                          'isolamento_domiciliare':\"self-isolation\", \n",
    "                          'totale_attualmente_positivi':\"total currently positive\", \n",
    "                          'nuovi_attualmente_positivi':\"new positive\",'dimessi_guariti':\"recovered\", \n",
    "                          'deceduti':\"fatalities\", 'totale_casi':\"total positive\", 'tamponi':\"total tested\"})\n",
    "da_region.head(2)"
   ]
  },
  {
   "cell_type": "code",
   "execution_count": 504,
   "metadata": {},
   "outputs": [
    {
     "data": {
      "text/html": [
       "<div>\n",
       "<style scoped>\n",
       "    .dataframe tbody tr th:only-of-type {\n",
       "        vertical-align: middle;\n",
       "    }\n",
       "\n",
       "    .dataframe tbody tr th {\n",
       "        vertical-align: top;\n",
       "    }\n",
       "\n",
       "    .dataframe thead th {\n",
       "        text-align: right;\n",
       "    }\n",
       "</style>\n",
       "<table border=\"1\" class=\"dataframe\">\n",
       "  <thead>\n",
       "    <tr style=\"text-align: right;\">\n",
       "      <th></th>\n",
       "      <th>date</th>\n",
       "      <th>state</th>\n",
       "      <th>regional code</th>\n",
       "      <th>region</th>\n",
       "      <th>lat</th>\n",
       "      <th>long</th>\n",
       "      <th>hospitalized with symptoms</th>\n",
       "      <th>intensive care</th>\n",
       "      <th>total hospitalized</th>\n",
       "      <th>self-isolation</th>\n",
       "      <th>total currently positive</th>\n",
       "      <th>new positive</th>\n",
       "      <th>recovered</th>\n",
       "      <th>fatalities</th>\n",
       "      <th>total positive</th>\n",
       "      <th>total tested</th>\n",
       "    </tr>\n",
       "  </thead>\n",
       "  <tbody>\n",
       "    <tr>\n",
       "      <th>0</th>\n",
       "      <td>2020-03-21 17:00:00</td>\n",
       "      <td>ITA</td>\n",
       "      <td>13</td>\n",
       "      <td>Abruzzo</td>\n",
       "      <td>42.351222</td>\n",
       "      <td>13.398438</td>\n",
       "      <td>185</td>\n",
       "      <td>44</td>\n",
       "      <td>229</td>\n",
       "      <td>265</td>\n",
       "      <td>494</td>\n",
       "      <td>72</td>\n",
       "      <td>13</td>\n",
       "      <td>22</td>\n",
       "      <td>529</td>\n",
       "      <td>3035</td>\n",
       "    </tr>\n",
       "    <tr>\n",
       "      <th>1</th>\n",
       "      <td>2020-03-21 17:00:00</td>\n",
       "      <td>ITA</td>\n",
       "      <td>17</td>\n",
       "      <td>Basilicata</td>\n",
       "      <td>40.639471</td>\n",
       "      <td>15.805148</td>\n",
       "      <td>12</td>\n",
       "      <td>7</td>\n",
       "      <td>19</td>\n",
       "      <td>47</td>\n",
       "      <td>66</td>\n",
       "      <td>14</td>\n",
       "      <td>0</td>\n",
       "      <td>0</td>\n",
       "      <td>66</td>\n",
       "      <td>522</td>\n",
       "    </tr>\n",
       "  </tbody>\n",
       "</table>\n",
       "</div>"
      ],
      "text/plain": [
       "                  date state  regional code      region        lat       long  \\\n",
       "0  2020-03-21 17:00:00   ITA             13     Abruzzo  42.351222  13.398438   \n",
       "1  2020-03-21 17:00:00   ITA             17  Basilicata  40.639471  15.805148   \n",
       "\n",
       "   hospitalized with symptoms  intensive care  total hospitalized  \\\n",
       "0                         185              44                 229   \n",
       "1                          12               7                  19   \n",
       "\n",
       "   self-isolation  total currently positive  new positive  recovered  \\\n",
       "0             265                       494            72         13   \n",
       "1              47                        66            14          0   \n",
       "\n",
       "   fatalities  total positive  total tested  \n",
       "0          22             529          3035  \n",
       "1           0              66           522  "
      ]
     },
     "execution_count": 504,
     "metadata": {},
     "output_type": "execute_result"
    }
   ],
   "source": [
    "da_daily_region = da_daily_region.rename(columns={'data':\"date\", 'stato':\"state\", 'codice_regione':\"regional code\", \n",
    "                          'denominazione_regione':\"region\", 'ricoverati_con_sintomi':\"hospitalized with symptoms\", \n",
    "                          'terapia_intensiva':\"intensive care\",'totale_ospedalizzati':\"total hospitalized\", \n",
    "                          'isolamento_domiciliare':\"self-isolation\", \n",
    "                          'totale_attualmente_positivi':\"total currently positive\", \n",
    "                          'nuovi_attualmente_positivi':\"new positive\",'dimessi_guariti':\"recovered\", \n",
    "                          'deceduti':\"fatalities\", 'totale_casi':\"total positive\", 'tamponi':\"total tested\"})\n",
    "da_daily_region.head(2)"
   ]
  },
  {
   "cell_type": "markdown",
   "metadata": {},
   "source": [
    "## Time trends on national level "
   ]
  },
  {
   "cell_type": "code",
   "execution_count": 505,
   "metadata": {},
   "outputs": [
    {
     "data": {
      "text/plain": [
       "<function matplotlib.pyplot.show(*args, **kw)>"
      ]
     },
     "execution_count": 505,
     "metadata": {},
     "output_type": "execute_result"
    },
    {
     "data": {
      "image/png": "[encoded data removed]",
      "text/plain": [
       "<Figure size 1152x576 with 1 Axes>"
      ]
     },
     "metadata": {
      "needs_background": "light"
     },
     "output_type": "display_data"
    }
   ],
   "source": [
    "plt.figure(figsize=(16,8))\n",
    "plt.title(\"Cumulative numbers on national level\", size=\"x-large\")\n",
    "rng = da_national[\"timestamp\"]\n",
    "rng = [datetime.datetime.strptime(x,'%Y-%m-%d %H:%M:%S').strftime(\"%b %d\") for x in rng]\n",
    "da_national[\"date\"] = rng\n",
    "sns.lineplot(x=da_national[\"date\"], y=da_national[\"total positive\"], \n",
    "             label = \"Total positive\", marker = \"o\")\n",
    "sns.lineplot(x=da_national[\"date\"], y=da_national[\"total currently positive\"], \n",
    "             label = \"Total currently positive\", marker = \"o\")\n",
    "sns.lineplot(x=da_national[\"date\"], y=da_national[\"fatalities\"], \n",
    "             label = \"Total fatalities\", marker = \"o\", color = \"red\")\n",
    "sns.lineplot(x=da_national[\"date\"], y=da_national[\"total hospitalized\"], \n",
    "             label = \"Total hospitalized\", marker = \"o\", color=\"violet\")\n",
    "sns.lineplot(x=da_national[\"date\"], y=da_national[\"intensive care\"], \n",
    "             label = \"Total in ICU\", marker = \"o\", color=\"blue\").set(xlabel = \"Date\", ylabel = \"Count\")\n",
    "plt.xticks(\n",
    "    rotation=45, \n",
    "    horizontalalignment='right',\n",
    "    fontweight='light'  \n",
    ")\n",
    "plt.axvline(x=\"Mar 09\", ls=\"-.\", c=\"red\", label = \"Countrywide lockdown date\")\n",
    "plt.legend(fontsize=\"medium\")\n",
    "plt.show"
   ]
  },
  {
   "cell_type": "markdown",
   "metadata": {},
   "source": [
    "Active cases keep growing rapidly on national level. Following the trends from China and South Korea, we could infere that this behaviour is expected until at least one month since the countrywide lockdown."
   ]
  },
  {
   "cell_type": "markdown",
   "metadata": {},
   "source": [
    "## Country numbers in a nutshell"
   ]
  },
  {
   "cell_type": "code",
   "execution_count": 507,
   "metadata": {},
   "outputs": [
    {
     "data": {
      "text/html": [
       "<div>\n",
       "<style scoped>\n",
       "    .dataframe tbody tr th:only-of-type {\n",
       "        vertical-align: middle;\n",
       "    }\n",
       "\n",
       "    .dataframe tbody tr th {\n",
       "        vertical-align: top;\n",
       "    }\n",
       "\n",
       "    .dataframe thead th {\n",
       "        text-align: right;\n",
       "    }\n",
       "</style>\n",
       "<table border=\"1\" class=\"dataframe\">\n",
       "  <thead>\n",
       "    <tr style=\"text-align: right;\">\n",
       "      <th></th>\n",
       "      <th>total tested</th>\n",
       "      <th>total positive</th>\n",
       "      <th>total currently positive</th>\n",
       "      <th>recovered</th>\n",
       "      <th>self-isolation</th>\n",
       "      <th>total hospitalized</th>\n",
       "      <th>intensive care</th>\n",
       "      <th>fatalities</th>\n",
       "      <th>death rate [%]</th>\n",
       "    </tr>\n",
       "  </thead>\n",
       "  <tbody>\n",
       "    <tr>\n",
       "      <th>26</th>\n",
       "      <td>233222</td>\n",
       "      <td>53578</td>\n",
       "      <td>42681</td>\n",
       "      <td>6072</td>\n",
       "      <td>22116</td>\n",
       "      <td>20565</td>\n",
       "      <td>2857</td>\n",
       "      <td>4825</td>\n",
       "      <td>9.005562</td>\n",
       "    </tr>\n",
       "  </tbody>\n",
       "</table>\n",
       "</div>"
      ],
      "text/plain": [
       "    total tested  total positive  total currently positive  recovered  \\\n",
       "26        233222           53578                     42681       6072   \n",
       "\n",
       "    self-isolation  total hospitalized  intensive care  fatalities  \\\n",
       "26           22116               20565            2857        4825   \n",
       "\n",
       "    death rate [%]  \n",
       "26        9.005562  "
      ]
     },
     "execution_count": 507,
     "metadata": {},
     "output_type": "execute_result"
    }
   ],
   "source": [
    "latest = da_national.loc[:,['total tested','total positive', 'total currently positive',\n",
    "                            'recovered','self-isolation','total hospitalized',\n",
    "                            'intensive care','fatalities']].tail(1)\n",
    "latest[\"death rate [%]\"] = 100*latest[\"fatalities\"]/latest[\"total positive\"]\n",
    "latest.head()"
   ]
  },
  {
   "cell_type": "code",
   "execution_count": 523,
   "metadata": {},
   "outputs": [],
   "source": [
    "ind = len(da_national) -1\n",
    "perc = latest.drop([\"total tested\",\"death rate [%]\"], axis=1)\n",
    "perc = 100*perc/latest.loc[ind,\"total tested\"]"
   ]
  },
  {
   "cell_type": "code",
   "execution_count": 524,
   "metadata": {},
   "outputs": [
    {
     "data": {
      "image/png": "[encoded data removed]",
      "text/plain": [
       "<Figure size 720x360 with 1 Axes>"
      ]
     },
     "metadata": {
      "needs_background": "light"
     },
     "output_type": "display_data"
    }
   ],
   "source": [
    "fig, ax = plt.subplots(figsize=(10,5))\n",
    "plt.title(\"Percentage of categories vs total number of tested ({} people)\".format(latest.loc[ind,\"total tested\"]), \n",
    "          size=\"large\")\n",
    "ax = sns.barplot(data=perc, \n",
    "     orient=\"h\",\n",
    "     palette = 'hls').set(xlabel = \"Percentage [%]\")"
   ]
  },
  {
   "cell_type": "markdown",
   "metadata": {},
   "source": [
    "From all tested population we have the following figures in terms of percentage: "
   ]
  },
  {
   "cell_type": "code",
   "execution_count": 525,
   "metadata": {},
   "outputs": [
    {
     "data": {
      "text/html": [
       "<div>\n",
       "<style scoped>\n",
       "    .dataframe tbody tr th:only-of-type {\n",
       "        vertical-align: middle;\n",
       "    }\n",
       "\n",
       "    .dataframe tbody tr th {\n",
       "        vertical-align: top;\n",
       "    }\n",
       "\n",
       "    .dataframe thead th {\n",
       "        text-align: right;\n",
       "    }\n",
       "</style>\n",
       "<table border=\"1\" class=\"dataframe\">\n",
       "  <thead>\n",
       "    <tr style=\"text-align: right;\">\n",
       "      <th></th>\n",
       "      <th>total positive</th>\n",
       "      <th>total currently positive</th>\n",
       "      <th>recovered</th>\n",
       "      <th>self-isolation</th>\n",
       "      <th>total hospitalized</th>\n",
       "      <th>intensive care</th>\n",
       "      <th>fatalities</th>\n",
       "    </tr>\n",
       "  </thead>\n",
       "  <tbody>\n",
       "    <tr>\n",
       "      <th>26</th>\n",
       "      <td>22.972961</td>\n",
       "      <td>18.300589</td>\n",
       "      <td>2.603528</td>\n",
       "      <td>9.48281</td>\n",
       "      <td>8.817779</td>\n",
       "      <td>1.225013</td>\n",
       "      <td>2.068844</td>\n",
       "    </tr>\n",
       "  </tbody>\n",
       "</table>\n",
       "</div>"
      ],
      "text/plain": [
       "    total positive  total currently positive  recovered  self-isolation  \\\n",
       "26       22.972961                 18.300589   2.603528         9.48281   \n",
       "\n",
       "    total hospitalized  intensive care  fatalities  \n",
       "26            8.817779        1.225013    2.068844  "
      ]
     },
     "execution_count": 525,
     "metadata": {},
     "output_type": "execute_result"
    }
   ],
   "source": [
    "perc"
   ]
  },
  {
   "cell_type": "markdown",
   "metadata": {},
   "source": [
    "## Analysis on regional level"
   ]
  },
  {
   "cell_type": "code",
   "execution_count": 526,
   "metadata": {
    "scrolled": true
   },
   "outputs": [],
   "source": [
    "da_daily_region[\"percentage of active [%]\"] = round(100*da_daily_region[\n",
    "                                    \"total currently positive\"]/latest.loc[ind,\"total currently positive\"],2)\n",
    "da_daily_region[\"percentage of total positive [%]\"] = round(\n",
    "                                    100*da_daily_region[\"total positive\"]/latest.loc[ind,\"total positive\"],2)"
   ]
  },
  {
   "cell_type": "code",
   "execution_count": 527,
   "metadata": {},
   "outputs": [
    {
     "data": {
      "text/html": [
       "<div>\n",
       "<style scoped>\n",
       "    .dataframe tbody tr th:only-of-type {\n",
       "        vertical-align: middle;\n",
       "    }\n",
       "\n",
       "    .dataframe tbody tr th {\n",
       "        vertical-align: top;\n",
       "    }\n",
       "\n",
       "    .dataframe thead th {\n",
       "        text-align: right;\n",
       "    }\n",
       "</style>\n",
       "<table border=\"1\" class=\"dataframe\">\n",
       "  <thead>\n",
       "    <tr style=\"text-align: right;\">\n",
       "      <th></th>\n",
       "      <th>region</th>\n",
       "      <th>total tested</th>\n",
       "      <th>total positive</th>\n",
       "      <th>total currently positive</th>\n",
       "      <th>percentage of active [%]</th>\n",
       "      <th>percentage of total positive [%]</th>\n",
       "    </tr>\n",
       "  </thead>\n",
       "  <tbody>\n",
       "    <tr>\n",
       "      <th>9</th>\n",
       "      <td>Lombardia</td>\n",
       "      <td>66730</td>\n",
       "      <td>25515</td>\n",
       "      <td>17370</td>\n",
       "      <td>40.70</td>\n",
       "      <td>47.62</td>\n",
       "    </tr>\n",
       "    <tr>\n",
       "      <th>5</th>\n",
       "      <td>Emilia Romagna</td>\n",
       "      <td>24620</td>\n",
       "      <td>6705</td>\n",
       "      <td>5661</td>\n",
       "      <td>13.26</td>\n",
       "      <td>12.51</td>\n",
       "    </tr>\n",
       "    <tr>\n",
       "      <th>20</th>\n",
       "      <td>Veneto</td>\n",
       "      <td>53642</td>\n",
       "      <td>4617</td>\n",
       "      <td>4214</td>\n",
       "      <td>9.87</td>\n",
       "      <td>8.62</td>\n",
       "    </tr>\n",
       "    <tr>\n",
       "      <th>12</th>\n",
       "      <td>Piemonte</td>\n",
       "      <td>10701</td>\n",
       "      <td>3752</td>\n",
       "      <td>3506</td>\n",
       "      <td>8.21</td>\n",
       "      <td>7.00</td>\n",
       "    </tr>\n",
       "  </tbody>\n",
       "</table>\n",
       "</div>"
      ],
      "text/plain": [
       "            region  total tested  total positive  total currently positive  \\\n",
       "9        Lombardia         66730           25515                     17370   \n",
       "5   Emilia Romagna         24620            6705                      5661   \n",
       "20          Veneto         53642            4617                      4214   \n",
       "12        Piemonte         10701            3752                      3506   \n",
       "\n",
       "    percentage of active [%]  percentage of total positive [%]  \n",
       "9                      40.70                             47.62  \n",
       "5                      13.26                             12.51  \n",
       "20                      9.87                              8.62  \n",
       "12                      8.21                              7.00  "
      ]
     },
     "execution_count": 527,
     "metadata": {},
     "output_type": "execute_result"
    }
   ],
   "source": [
    "da_daily_region[[\"region\",\"total tested\",\"total positive\",\"total currently positive\",\n",
    "                 \"percentage of active [%]\",\n",
    "                 \"percentage of total positive [%]\"]].sort_values(\n",
    "                 by=\"total currently positive\", ascending=False).head(4)"
   ]
  },
  {
   "cell_type": "code",
   "execution_count": 528,
   "metadata": {},
   "outputs": [
    {
     "data": {
      "application/vnd.plotly.v1+json": {
       "config": {
        "plotlyServerURL": "https://plot.ly"
       },
       "data": [
        {
         "branchvalues": "total",
         "customdata": [
          [
           529,
           494,
           13,
           22
          ],
          [
           66,
           66,
           0,
           0
          ],
          [
           235,
           225,
           5,
           5
          ],
          [
           844,
           793,
           29,
           22
          ],
          [
           6705,
           5661,
           329,
           715
          ],
          [
           790,
           666,
           82,
           42
          ],
          [
           1190,
           1086,
           54,
           50
          ],
          [
           1436,
           1159,
           125,
           152
          ],
          [
           25515,
           17370,
           5050,
           3095
          ],
          [
           2153,
           1997,
           2,
           154
          ],
          [
           61,
           47,
           7,
           7
          ],
          [
           621,
           600,
           1,
           20
          ],
          [
           782,
           720,
           34,
           28
          ],
          [
           3752,
           3506,
           8,
           238
          ],
          [
           675,
           642,
           4,
           29
          ],
          [
           330,
           321,
           5,
           4
          ],
          [
           490,
           458,
           26,
           6
          ],
          [
           2012,
           1905,
           35,
           72
          ],
          [
           462,
           447,
           5,
           10
          ],
          [
           313,
           304,
           1,
           8
          ],
          [
           4617,
           4214,
           257,
           146
          ]
         ],
         "domain": {
          "x": [
           0,
           1
          ],
          "y": [
           0,
           1
          ]
         },
         "hoverlabel": {
          "namelength": 0
         },
         "hovertemplate": "total positive=%{value}<br>total currently positive=%{customdata[1]}<br>recovered=%{customdata[2]}<br>fatalities=%{customdata[3]}<br>labels=%{label}<br>parent=%{parent}<br>id=%{id}",
         "ids": [
          "Abruzzo",
          "Basilicata",
          "Calabria",
          "Campania",
          "Emilia Romagna",
          "Friuli Venezia Giulia",
          "Lazio",
          "Liguria",
          "Lombardia",
          "Marche",
          "Molise",
          "P.A. Bolzano",
          "P.A. Trento",
          "Piemonte",
          "Puglia",
          "Sardegna",
          "Sicilia",
          "Toscana",
          "Umbria",
          "Valle d'Aosta",
          "Veneto"
         ],
         "labels": [
          "Abruzzo",
          "Basilicata",
          "Calabria",
          "Campania",
          "Emilia Romagna",
          "Friuli Venezia Giulia",
          "Lazio",
          "Liguria",
          "Lombardia",
          "Marche",
          "Molise",
          "P.A. Bolzano",
          "P.A. Trento",
          "Piemonte",
          "Puglia",
          "Sardegna",
          "Sicilia",
          "Toscana",
          "Umbria",
          "Valle d'Aosta",
          "Veneto"
         ],
         "name": "",
         "parents": [
          "",
          "",
          "",
          "",
          "",
          "",
          "",
          "",
          "",
          "",
          "",
          "",
          "",
          "",
          "",
          "",
          "",
          "",
          "",
          "",
          ""
         ],
         "type": "treemap",
         "values": [
          529,
          66,
          235,
          844,
          6705,
          790,
          1190,
          1436,
          25515,
          2153,
          61,
          621,
          782,
          3752,
          675,
          330,
          490,
          2012,
          462,
          313,
          4617
         ]
        }
       ],
       "layout": {
        "legend": {
         "tracegroupgap": 0
        },
        "template": {
         "data": {
          "bar": [
           {
            "error_x": {
             "color": "#2a3f5f"
            },
            "error_y": {
             "color": "#2a3f5f"
            },
            "marker": {
             "line": {
              "color": "#E5ECF6",
              "width": 0.5
             }
            },
            "type": "bar"
           }
          ],
          "barpolar": [
           {
            "marker": {
             "line": {
              "color": "#E5ECF6",
              "width": 0.5
             }
            },
            "type": "barpolar"
           }
          ],
          "carpet": [
           {
            "aaxis": {
             "endlinecolor": "#2a3f5f",
             "gridcolor": "white",
             "linecolor": "white",
             "minorgridcolor": "white",
             "startlinecolor": "#2a3f5f"
            },
            "baxis": {
             "endlinecolor": "#2a3f5f",
             "gridcolor": "white",
             "linecolor": "white",
             "minorgridcolor": "white",
             "startlinecolor": "#2a3f5f"
            },
            "type": "carpet"
           }
          ],
          "choropleth": [
           {
            "colorbar": {
             "outlinewidth": 0,
             "ticks": ""
            },
            "type": "choropleth"
           }
          ],
          "contour": [
           {
            "colorbar": {
             "outlinewidth": 0,
             "ticks": ""
            },
            "colorscale": [
             [
              0,
              "#0d0887"
             ],
             [
              0.1111111111111111,
              "#46039f"
             ],
             [
              0.2222222222222222,
              "#7201a8"
             ],
             [
              0.3333333333333333,
              "#9c179e"
             ],
             [
              0.4444444444444444,
              "#bd3786"
             ],
             [
              0.5555555555555556,
              "#d8576b"
             ],
             [
              0.6666666666666666,
              "#ed7953"
             ],
             [
              0.7777777777777778,
              "#fb9f3a"
             ],
             [
              0.8888888888888888,
              "#fdca26"
             ],
             [
              1,
              "#f0f921"
             ]
            ],
            "type": "contour"
           }
          ],
          "contourcarpet": [
           {
            "colorbar": {
             "outlinewidth": 0,
             "ticks": ""
            },
            "type": "contourcarpet"
           }
          ],
          "heatmap": [
           {
            "colorbar": {
             "outlinewidth": 0,
             "ticks": ""
            },
            "colorscale": [
             [
              0,
              "#0d0887"
             ],
             [
              0.1111111111111111,
              "#46039f"
             ],
             [
              0.2222222222222222,
              "#7201a8"
             ],
             [
              0.3333333333333333,
              "#9c179e"
             ],
             [
              0.4444444444444444,
              "#bd3786"
             ],
             [
              0.5555555555555556,
              "#d8576b"
             ],
             [
              0.6666666666666666,
              "#ed7953"
             ],
             [
              0.7777777777777778,
              "#fb9f3a"
             ],
             [
              0.8888888888888888,
              "#fdca26"
             ],
             [
              1,
              "#f0f921"
             ]
            ],
            "type": "heatmap"
           }
          ],
          "heatmapgl": [
           {
            "colorbar": {
             "outlinewidth": 0,
             "ticks": ""
            },
            "colorscale": [
             [
              0,
              "#0d0887"
             ],
             [
              0.1111111111111111,
              "#46039f"
             ],
             [
              0.2222222222222222,
              "#7201a8"
             ],
             [
              0.3333333333333333,
              "#9c179e"
             ],
             [
              0.4444444444444444,
              "#bd3786"
             ],
             [
              0.5555555555555556,
              "#d8576b"
             ],
             [
              0.6666666666666666,
              "#ed7953"
             ],
             [
              0.7777777777777778,
              "#fb9f3a"
             ],
             [
              0.8888888888888888,
              "#fdca26"
             ],
             [
              1,
              "#f0f921"
             ]
            ],
            "type": "heatmapgl"
           }
          ],
          "histogram": [
           {
            "marker": {
             "colorbar": {
              "outlinewidth": 0,
              "ticks": ""
             }
            },
            "type": "histogram"
           }
          ],
          "histogram2d": [
           {
            "colorbar": {
             "outlinewidth": 0,
             "ticks": ""
            },
            "colorscale": [
             [
              0,
              "#0d0887"
             ],
             [
              0.1111111111111111,
              "#46039f"
             ],
             [
              0.2222222222222222,
              "#7201a8"
             ],
             [
              0.3333333333333333,
              "#9c179e"
             ],
             [
              0.4444444444444444,
              "#bd3786"
             ],
             [
              0.5555555555555556,
              "#d8576b"
             ],
             [
              0.6666666666666666,
              "#ed7953"
             ],
             [
              0.7777777777777778,
              "#fb9f3a"
             ],
             [
              0.8888888888888888,
              "#fdca26"
             ],
             [
              1,
              "#f0f921"
             ]
            ],
            "type": "histogram2d"
           }
          ],
          "histogram2dcontour": [
           {
            "colorbar": {
             "outlinewidth": 0,
             "ticks": ""
            },
            "colorscale": [
             [
              0,
              "#0d0887"
             ],
             [
              0.1111111111111111,
              "#46039f"
             ],
             [
              0.2222222222222222,
              "#7201a8"
             ],
             [
              0.3333333333333333,
              "#9c179e"
             ],
             [
              0.4444444444444444,
              "#bd3786"
             ],
             [
              0.5555555555555556,
              "#d8576b"
             ],
             [
              0.6666666666666666,
              "#ed7953"
             ],
             [
              0.7777777777777778,
              "#fb9f3a"
             ],
             [
              0.8888888888888888,
              "#fdca26"
             ],
             [
              1,
              "#f0f921"
             ]
            ],
            "type": "histogram2dcontour"
           }
          ],
          "mesh3d": [
           {
            "colorbar": {
             "outlinewidth": 0,
             "ticks": ""
            },
            "type": "mesh3d"
           }
          ],
          "parcoords": [
           {
            "line": {
             "colorbar": {
              "outlinewidth": 0,
              "ticks": ""
             }
            },
            "type": "parcoords"
           }
          ],
          "pie": [
           {
            "automargin": true,
            "type": "pie"
           }
          ],
          "scatter": [
           {
            "marker": {
             "colorbar": {
              "outlinewidth": 0,
              "ticks": ""
             }
            },
            "type": "scatter"
           }
          ],
          "scatter3d": [
           {
            "line": {
             "colorbar": {
              "outlinewidth": 0,
              "ticks": ""
             }
            },
            "marker": {
             "colorbar": {
              "outlinewidth": 0,
              "ticks": ""
             }
            },
            "type": "scatter3d"
           }
          ],
          "scattercarpet": [
           {
            "marker": {
             "colorbar": {
              "outlinewidth": 0,
              "ticks": ""
             }
            },
            "type": "scattercarpet"
           }
          ],
          "scattergeo": [
           {
            "marker": {
             "colorbar": {
              "outlinewidth": 0,
              "ticks": ""
             }
            },
            "type": "scattergeo"
           }
          ],
          "scattergl": [
           {
            "marker": {
             "colorbar": {
              "outlinewidth": 0,
              "ticks": ""
             }
            },
            "type": "scattergl"
           }
          ],
          "scattermapbox": [
           {
            "marker": {
             "colorbar": {
              "outlinewidth": 0,
              "ticks": ""
             }
            },
            "type": "scattermapbox"
           }
          ],
          "scatterpolar": [
           {
            "marker": {
             "colorbar": {
              "outlinewidth": 0,
              "ticks": ""
             }
            },
            "type": "scatterpolar"
           }
          ],
          "scatterpolargl": [
           {
            "marker": {
             "colorbar": {
              "outlinewidth": 0,
              "ticks": ""
             }
            },
            "type": "scatterpolargl"
           }
          ],
          "scatterternary": [
           {
            "marker": {
             "colorbar": {
              "outlinewidth": 0,
              "ticks": ""
             }
            },
            "type": "scatterternary"
           }
          ],
          "surface": [
           {
            "colorbar": {
             "outlinewidth": 0,
             "ticks": ""
            },
            "colorscale": [
             [
              0,
              "#0d0887"
             ],
             [
              0.1111111111111111,
              "#46039f"
             ],
             [
              0.2222222222222222,
              "#7201a8"
             ],
             [
              0.3333333333333333,
              "#9c179e"
             ],
             [
              0.4444444444444444,
              "#bd3786"
             ],
             [
              0.5555555555555556,
              "#d8576b"
             ],
             [
              0.6666666666666666,
              "#ed7953"
             ],
             [
              0.7777777777777778,
              "#fb9f3a"
             ],
             [
              0.8888888888888888,
              "#fdca26"
             ],
             [
              1,
              "#f0f921"
             ]
            ],
            "type": "surface"
           }
          ],
          "table": [
           {
            "cells": {
             "fill": {
              "color": "#EBF0F8"
             },
             "line": {
              "color": "white"
             }
            },
            "header": {
             "fill": {
              "color": "#C8D4E3"
             },
             "line": {
              "color": "white"
             }
            },
            "type": "table"
           }
          ]
         },
         "layout": {
          "annotationdefaults": {
           "arrowcolor": "#2a3f5f",
           "arrowhead": 0,
           "arrowwidth": 1
          },
          "coloraxis": {
           "colorbar": {
            "outlinewidth": 0,
            "ticks": ""
           }
          },
          "colorscale": {
           "diverging": [
            [
             0,
             "#8e0152"
            ],
            [
             0.1,
             "#c51b7d"
            ],
            [
             0.2,
             "#de77ae"
            ],
            [
             0.3,
             "#f1b6da"
            ],
            [
             0.4,
             "#fde0ef"
            ],
            [
             0.5,
             "#f7f7f7"
            ],
            [
             0.6,
             "#e6f5d0"
            ],
            [
             0.7,
             "#b8e186"
            ],
            [
             0.8,
             "#7fbc41"
            ],
            [
             0.9,
             "#4d9221"
            ],
            [
             1,
             "#276419"
            ]
           ],
           "sequential": [
            [
             0,
             "#0d0887"
            ],
            [
             0.1111111111111111,
             "#46039f"
            ],
            [
             0.2222222222222222,
             "#7201a8"
            ],
            [
             0.3333333333333333,
             "#9c179e"
            ],
            [
             0.4444444444444444,
             "#bd3786"
            ],
            [
             0.5555555555555556,
             "#d8576b"
            ],
            [
             0.6666666666666666,
             "#ed7953"
            ],
            [
             0.7777777777777778,
             "#fb9f3a"
            ],
            [
             0.8888888888888888,
             "#fdca26"
            ],
            [
             1,
             "#f0f921"
            ]
           ],
           "sequentialminus": [
            [
             0,
             "#0d0887"
            ],
            [
             0.1111111111111111,
             "#46039f"
            ],
            [
             0.2222222222222222,
             "#7201a8"
            ],
            [
             0.3333333333333333,
             "#9c179e"
            ],
            [
             0.4444444444444444,
             "#bd3786"
            ],
            [
             0.5555555555555556,
             "#d8576b"
            ],
            [
             0.6666666666666666,
             "#ed7953"
            ],
            [
             0.7777777777777778,
             "#fb9f3a"
            ],
            [
             0.8888888888888888,
             "#fdca26"
            ],
            [
             1,
             "#f0f921"
            ]
           ]
          },
          "colorway": [
           "#636efa",
           "#EF553B",
           "#00cc96",
           "#ab63fa",
           "#FFA15A",
           "#19d3f3",
           "#FF6692",
           "#B6E880",
           "#FF97FF",
           "#FECB52"
          ],
          "font": {
           "color": "#2a3f5f"
          },
          "geo": {
           "bgcolor": "white",
           "lakecolor": "white",
           "landcolor": "#E5ECF6",
           "showlakes": true,
           "showland": true,
           "subunitcolor": "white"
          },
          "hoverlabel": {
           "align": "left"
          },
          "hovermode": "closest",
          "mapbox": {
           "style": "light"
          },
          "paper_bgcolor": "white",
          "plot_bgcolor": "#E5ECF6",
          "polar": {
           "angularaxis": {
            "gridcolor": "white",
            "linecolor": "white",
            "ticks": ""
           },
           "bgcolor": "#E5ECF6",
           "radialaxis": {
            "gridcolor": "white",
            "linecolor": "white",
            "ticks": ""
           }
          },
          "scene": {
           "xaxis": {
            "backgroundcolor": "#E5ECF6",
            "gridcolor": "white",
            "gridwidth": 2,
            "linecolor": "white",
            "showbackground": true,
            "ticks": "",
            "zerolinecolor": "white"
           },
           "yaxis": {
            "backgroundcolor": "#E5ECF6",
            "gridcolor": "white",
            "gridwidth": 2,
            "linecolor": "white",
            "showbackground": true,
            "ticks": "",
            "zerolinecolor": "white"
           },
           "zaxis": {
            "backgroundcolor": "#E5ECF6",
            "gridcolor": "white",
            "gridwidth": 2,
            "linecolor": "white",
            "showbackground": true,
            "ticks": "",
            "zerolinecolor": "white"
           }
          },
          "shapedefaults": {
           "line": {
            "color": "#2a3f5f"
           }
          },
          "ternary": {
           "aaxis": {
            "gridcolor": "white",
            "linecolor": "white",
            "ticks": ""
           },
           "baxis": {
            "gridcolor": "white",
            "linecolor": "white",
            "ticks": ""
           },
           "bgcolor": "#E5ECF6",
           "caxis": {
            "gridcolor": "white",
            "linecolor": "white",
            "ticks": ""
           }
          },
          "title": {
           "x": 0.05
          },
          "xaxis": {
           "automargin": true,
           "gridcolor": "white",
           "linecolor": "white",
           "ticks": "",
           "title": {
            "standoff": 15
           },
           "zerolinecolor": "white",
           "zerolinewidth": 2
          },
          "yaxis": {
           "automargin": true,
           "gridcolor": "white",
           "linecolor": "white",
           "ticks": "",
           "title": {
            "standoff": 15
           },
           "zerolinecolor": "white",
           "zerolinewidth": 2
          }
         }
        },
        "title": {
         "text": "Regions with Active Cases in Italy: status 20200321"
        },
        "treemapcolorway": [
         "rgb(95, 70, 144)",
         "rgb(29, 105, 150)",
         "rgb(56, 166, 165)",
         "rgb(15, 133, 84)",
         "rgb(115, 175, 72)",
         "rgb(237, 173, 8)",
         "rgb(225, 124, 5)",
         "rgb(204, 80, 62)",
         "rgb(148, 52, 110)",
         "rgb(111, 64, 112)",
         "rgb(102, 102, 102)"
        ]
       }
      },
      "text/html": [
       "<div>\n",
       "        \n",
       "        \n",
       "            <div id=\"f6bb8b52-903b-43c0-9fd0-2a02773b977d\" class=\"plotly-graph-div\" style=\"height:525px; width:100%;\"></div>\n",
       "            <script type=\"text/javascript\">\n",
       "                require([\"plotly\"], function(Plotly) {\n",
       "                    window.PLOTLYENV=window.PLOTLYENV || {};\n",
       "                    \n",
       "                if (document.getElementById(\"f6bb8b52-903b-43c0-9fd0-2a02773b977d\")) {\n",
       "                    Plotly.newPlot(\n",
       "                        'f6bb8b52-903b-43c0-9fd0-2a02773b977d',\n",
       "                        [{\"branchvalues\": \"total\", \"customdata\": [[529, 494, 13, 22], [66, 66, 0, 0], [235, 225, 5, 5], [844, 793, 29, 22], [6705, 5661, 329, 715], [790, 666, 82, 42], [1190, 1086, 54, 50], [1436, 1159, 125, 152], [25515, 17370, 5050, 3095], [2153, 1997, 2, 154], [61, 47, 7, 7], [621, 600, 1, 20], [782, 720, 34, 28], [3752, 3506, 8, 238], [675, 642, 4, 29], [330, 321, 5, 4], [490, 458, 26, 6], [2012, 1905, 35, 72], [462, 447, 5, 10], [313, 304, 1, 8], [4617, 4214, 257, 146]], \"domain\": {\"x\": [0.0, 1.0], \"y\": [0.0, 1.0]}, \"hoverlabel\": {\"namelength\": 0}, \"hovertemplate\": \"total positive=%{value}<br>total currently positive=%{customdata[1]}<br>recovered=%{customdata[2]}<br>fatalities=%{customdata[3]}<br>labels=%{label}<br>parent=%{parent}<br>id=%{id}\", \"ids\": [\"Abruzzo\", \"Basilicata\", \"Calabria\", \"Campania\", \"Emilia Romagna\", \"Friuli Venezia Giulia\", \"Lazio\", \"Liguria\", \"Lombardia\", \"Marche\", \"Molise\", \"P.A. Bolzano\", \"P.A. Trento\", \"Piemonte\", \"Puglia\", \"Sardegna\", \"Sicilia\", \"Toscana\", \"Umbria\", \"Valle d'Aosta\", \"Veneto\"], \"labels\": [\"Abruzzo\", \"Basilicata\", \"Calabria\", \"Campania\", \"Emilia Romagna\", \"Friuli Venezia Giulia\", \"Lazio\", \"Liguria\", \"Lombardia\", \"Marche\", \"Molise\", \"P.A. Bolzano\", \"P.A. Trento\", \"Piemonte\", \"Puglia\", \"Sardegna\", \"Sicilia\", \"Toscana\", \"Umbria\", \"Valle d'Aosta\", \"Veneto\"], \"name\": \"\", \"parents\": [\"\", \"\", \"\", \"\", \"\", \"\", \"\", \"\", \"\", \"\", \"\", \"\", \"\", \"\", \"\", \"\", \"\", \"\", \"\", \"\", \"\"], \"type\": \"treemap\", \"values\": [529, 66, 235, 844, 6705, 790, 1190, 1436, 25515, 2153, 61, 621, 782, 3752, 675, 330, 490, 2012, 462, 313, 4617]}],\n",
       "                        {\"legend\": {\"tracegroupgap\": 0}, \"template\": {\"data\": {\"bar\": [{\"error_x\": {\"color\": \"#2a3f5f\"}, \"error_y\": {\"color\": \"#2a3f5f\"}, \"marker\": {\"line\": {\"color\": \"#E5ECF6\", \"width\": 0.5}}, \"type\": \"bar\"}], \"barpolar\": [{\"marker\": {\"line\": {\"color\": \"#E5ECF6\", \"width\": 0.5}}, \"type\": \"barpolar\"}], \"carpet\": [{\"aaxis\": {\"endlinecolor\": \"#2a3f5f\", \"gridcolor\": \"white\", \"linecolor\": \"white\", \"minorgridcolor\": \"white\", \"startlinecolor\": \"#2a3f5f\"}, \"baxis\": {\"endlinecolor\": \"#2a3f5f\", \"gridcolor\": \"white\", \"linecolor\": \"white\", \"minorgridcolor\": \"white\", \"startlinecolor\": \"#2a3f5f\"}, \"type\": \"carpet\"}], \"choropleth\": [{\"colorbar\": {\"outlinewidth\": 0, \"ticks\": \"\"}, \"type\": \"choropleth\"}], \"contour\": [{\"colorbar\": {\"outlinewidth\": 0, \"ticks\": \"\"}, \"colorscale\": [[0.0, \"#0d0887\"], [0.1111111111111111, \"#46039f\"], [0.2222222222222222, \"#7201a8\"], [0.3333333333333333, \"#9c179e\"], [0.4444444444444444, \"#bd3786\"], [0.5555555555555556, \"#d8576b\"], [0.6666666666666666, \"#ed7953\"], [0.7777777777777778, \"#fb9f3a\"], [0.8888888888888888, \"#fdca26\"], [1.0, \"#f0f921\"]], \"type\": \"contour\"}], \"contourcarpet\": [{\"colorbar\": {\"outlinewidth\": 0, \"ticks\": \"\"}, \"type\": \"contourcarpet\"}], \"heatmap\": [{\"colorbar\": {\"outlinewidth\": 0, \"ticks\": \"\"}, \"colorscale\": [[0.0, \"#0d0887\"], [0.1111111111111111, \"#46039f\"], [0.2222222222222222, \"#7201a8\"], [0.3333333333333333, \"#9c179e\"], [0.4444444444444444, \"#bd3786\"], [0.5555555555555556, \"#d8576b\"], [0.6666666666666666, \"#ed7953\"], [0.7777777777777778, \"#fb9f3a\"], [0.8888888888888888, \"#fdca26\"], [1.0, \"#f0f921\"]], \"type\": \"heatmap\"}], \"heatmapgl\": [{\"colorbar\": {\"outlinewidth\": 0, \"ticks\": \"\"}, \"colorscale\": [[0.0, \"#0d0887\"], [0.1111111111111111, \"#46039f\"], [0.2222222222222222, \"#7201a8\"], [0.3333333333333333, \"#9c179e\"], [0.4444444444444444, \"#bd3786\"], [0.5555555555555556, \"#d8576b\"], [0.6666666666666666, \"#ed7953\"], [0.7777777777777778, \"#fb9f3a\"], [0.8888888888888888, \"#fdca26\"], [1.0, \"#f0f921\"]], \"type\": \"heatmapgl\"}], \"histogram\": [{\"marker\": {\"colorbar\": {\"outlinewidth\": 0, \"ticks\": \"\"}}, \"type\": \"histogram\"}], \"histogram2d\": [{\"colorbar\": {\"outlinewidth\": 0, \"ticks\": \"\"}, \"colorscale\": [[0.0, \"#0d0887\"], [0.1111111111111111, \"#46039f\"], [0.2222222222222222, \"#7201a8\"], [0.3333333333333333, \"#9c179e\"], [0.4444444444444444, \"#bd3786\"], [0.5555555555555556, \"#d8576b\"], [0.6666666666666666, \"#ed7953\"], [0.7777777777777778, \"#fb9f3a\"], [0.8888888888888888, \"#fdca26\"], [1.0, \"#f0f921\"]], \"type\": \"histogram2d\"}], \"histogram2dcontour\": [{\"colorbar\": {\"outlinewidth\": 0, \"ticks\": \"\"}, \"colorscale\": [[0.0, \"#0d0887\"], [0.1111111111111111, \"#46039f\"], [0.2222222222222222, \"#7201a8\"], [0.3333333333333333, \"#9c179e\"], [0.4444444444444444, \"#bd3786\"], [0.5555555555555556, \"#d8576b\"], [0.6666666666666666, \"#ed7953\"], [0.7777777777777778, \"#fb9f3a\"], [0.8888888888888888, \"#fdca26\"], [1.0, \"#f0f921\"]], \"type\": \"histogram2dcontour\"}], \"mesh3d\": [{\"colorbar\": {\"outlinewidth\": 0, \"ticks\": \"\"}, \"type\": \"mesh3d\"}], \"parcoords\": [{\"line\": {\"colorbar\": {\"outlinewidth\": 0, \"ticks\": \"\"}}, \"type\": \"parcoords\"}], \"pie\": [{\"automargin\": true, \"type\": \"pie\"}], \"scatter\": [{\"marker\": {\"colorbar\": {\"outlinewidth\": 0, \"ticks\": \"\"}}, \"type\": \"scatter\"}], \"scatter3d\": [{\"line\": {\"colorbar\": {\"outlinewidth\": 0, \"ticks\": \"\"}}, \"marker\": {\"colorbar\": {\"outlinewidth\": 0, \"ticks\": \"\"}}, \"type\": \"scatter3d\"}], \"scattercarpet\": [{\"marker\": {\"colorbar\": {\"outlinewidth\": 0, \"ticks\": \"\"}}, \"type\": \"scattercarpet\"}], \"scattergeo\": [{\"marker\": {\"colorbar\": {\"outlinewidth\": 0, \"ticks\": \"\"}}, \"type\": \"scattergeo\"}], \"scattergl\": [{\"marker\": {\"colorbar\": {\"outlinewidth\": 0, \"ticks\": \"\"}}, \"type\": \"scattergl\"}], \"scattermapbox\": [{\"marker\": {\"colorbar\": {\"outlinewidth\": 0, \"ticks\": \"\"}}, \"type\": \"scattermapbox\"}], \"scatterpolar\": [{\"marker\": {\"colorbar\": {\"outlinewidth\": 0, \"ticks\": \"\"}}, \"type\": \"scatterpolar\"}], \"scatterpolargl\": [{\"marker\": {\"colorbar\": {\"outlinewidth\": 0, \"ticks\": \"\"}}, \"type\": \"scatterpolargl\"}], \"scatterternary\": [{\"marker\": {\"colorbar\": {\"outlinewidth\": 0, \"ticks\": \"\"}}, \"type\": \"scatterternary\"}], \"surface\": [{\"colorbar\": {\"outlinewidth\": 0, \"ticks\": \"\"}, \"colorscale\": [[0.0, \"#0d0887\"], [0.1111111111111111, \"#46039f\"], [0.2222222222222222, \"#7201a8\"], [0.3333333333333333, \"#9c179e\"], [0.4444444444444444, \"#bd3786\"], [0.5555555555555556, \"#d8576b\"], [0.6666666666666666, \"#ed7953\"], [0.7777777777777778, \"#fb9f3a\"], [0.8888888888888888, \"#fdca26\"], [1.0, \"#f0f921\"]], \"type\": \"surface\"}], \"table\": [{\"cells\": {\"fill\": {\"color\": \"#EBF0F8\"}, \"line\": {\"color\": \"white\"}}, \"header\": {\"fill\": {\"color\": \"#C8D4E3\"}, \"line\": {\"color\": \"white\"}}, \"type\": \"table\"}]}, \"layout\": {\"annotationdefaults\": {\"arrowcolor\": \"#2a3f5f\", \"arrowhead\": 0, \"arrowwidth\": 1}, \"coloraxis\": {\"colorbar\": {\"outlinewidth\": 0, \"ticks\": \"\"}}, \"colorscale\": {\"diverging\": [[0, \"#8e0152\"], [0.1, \"#c51b7d\"], [0.2, \"#de77ae\"], [0.3, \"#f1b6da\"], [0.4, \"#fde0ef\"], [0.5, \"#f7f7f7\"], [0.6, \"#e6f5d0\"], [0.7, \"#b8e186\"], [0.8, \"#7fbc41\"], [0.9, \"#4d9221\"], [1, \"#276419\"]], \"sequential\": [[0.0, \"#0d0887\"], [0.1111111111111111, \"#46039f\"], [0.2222222222222222, \"#7201a8\"], [0.3333333333333333, \"#9c179e\"], [0.4444444444444444, \"#bd3786\"], [0.5555555555555556, \"#d8576b\"], [0.6666666666666666, \"#ed7953\"], [0.7777777777777778, \"#fb9f3a\"], [0.8888888888888888, \"#fdca26\"], [1.0, \"#f0f921\"]], \"sequentialminus\": [[0.0, \"#0d0887\"], [0.1111111111111111, \"#46039f\"], [0.2222222222222222, \"#7201a8\"], [0.3333333333333333, \"#9c179e\"], [0.4444444444444444, \"#bd3786\"], [0.5555555555555556, \"#d8576b\"], [0.6666666666666666, \"#ed7953\"], [0.7777777777777778, \"#fb9f3a\"], [0.8888888888888888, \"#fdca26\"], [1.0, \"#f0f921\"]]}, \"colorway\": [\"#636efa\", \"#EF553B\", \"#00cc96\", \"#ab63fa\", \"#FFA15A\", \"#19d3f3\", \"#FF6692\", \"#B6E880\", \"#FF97FF\", \"#FECB52\"], \"font\": {\"color\": \"#2a3f5f\"}, \"geo\": {\"bgcolor\": \"white\", \"lakecolor\": \"white\", \"landcolor\": \"#E5ECF6\", \"showlakes\": true, \"showland\": true, \"subunitcolor\": \"white\"}, \"hoverlabel\": {\"align\": \"left\"}, \"hovermode\": \"closest\", \"mapbox\": {\"style\": \"light\"}, \"paper_bgcolor\": \"white\", \"plot_bgcolor\": \"#E5ECF6\", \"polar\": {\"angularaxis\": {\"gridcolor\": \"white\", \"linecolor\": \"white\", \"ticks\": \"\"}, \"bgcolor\": \"#E5ECF6\", \"radialaxis\": {\"gridcolor\": \"white\", \"linecolor\": \"white\", \"ticks\": \"\"}}, \"scene\": {\"xaxis\": {\"backgroundcolor\": \"#E5ECF6\", \"gridcolor\": \"white\", \"gridwidth\": 2, \"linecolor\": \"white\", \"showbackground\": true, \"ticks\": \"\", \"zerolinecolor\": \"white\"}, \"yaxis\": {\"backgroundcolor\": \"#E5ECF6\", \"gridcolor\": \"white\", \"gridwidth\": 2, \"linecolor\": \"white\", \"showbackground\": true, \"ticks\": \"\", \"zerolinecolor\": \"white\"}, \"zaxis\": {\"backgroundcolor\": \"#E5ECF6\", \"gridcolor\": \"white\", \"gridwidth\": 2, \"linecolor\": \"white\", \"showbackground\": true, \"ticks\": \"\", \"zerolinecolor\": \"white\"}}, \"shapedefaults\": {\"line\": {\"color\": \"#2a3f5f\"}}, \"ternary\": {\"aaxis\": {\"gridcolor\": \"white\", \"linecolor\": \"white\", \"ticks\": \"\"}, \"baxis\": {\"gridcolor\": \"white\", \"linecolor\": \"white\", \"ticks\": \"\"}, \"bgcolor\": \"#E5ECF6\", \"caxis\": {\"gridcolor\": \"white\", \"linecolor\": \"white\", \"ticks\": \"\"}}, \"title\": {\"x\": 0.05}, \"xaxis\": {\"automargin\": true, \"gridcolor\": \"white\", \"linecolor\": \"white\", \"ticks\": \"\", \"title\": {\"standoff\": 15}, \"zerolinecolor\": \"white\", \"zerolinewidth\": 2}, \"yaxis\": {\"automargin\": true, \"gridcolor\": \"white\", \"linecolor\": \"white\", \"ticks\": \"\", \"title\": {\"standoff\": 15}, \"zerolinecolor\": \"white\", \"zerolinewidth\": 2}}}, \"title\": {\"text\": \"Regions with Active Cases in Italy: status 20200321\"}, \"treemapcolorway\": [\"rgb(95, 70, 144)\", \"rgb(29, 105, 150)\", \"rgb(56, 166, 165)\", \"rgb(15, 133, 84)\", \"rgb(115, 175, 72)\", \"rgb(237, 173, 8)\", \"rgb(225, 124, 5)\", \"rgb(204, 80, 62)\", \"rgb(148, 52, 110)\", \"rgb(111, 64, 112)\", \"rgb(102, 102, 102)\"]},\n",
       "                        {\"responsive\": true}\n",
       "                    ).then(function(){\n",
       "                            \n",
       "var gd = document.getElementById('f6bb8b52-903b-43c0-9fd0-2a02773b977d');\n",
       "var x = new MutationObserver(function (mutations, observer) {{\n",
       "        var display = window.getComputedStyle(gd).display;\n",
       "        if (!display || display === 'none') {{\n",
       "            console.log([gd, 'removed!']);\n",
       "            Plotly.purge(gd);\n",
       "            observer.disconnect();\n",
       "        }}\n",
       "}});\n",
       "\n",
       "// Listen for the removal of the full notebook cells\n",
       "var notebookContainer = gd.closest('#notebook-container');\n",
       "if (notebookContainer) {{\n",
       "    x.observe(notebookContainer, {childList: true});\n",
       "}}\n",
       "\n",
       "// Listen for the clearing of the current output cell\n",
       "var outputEl = gd.closest('.output');\n",
       "if (outputEl) {{\n",
       "    x.observe(outputEl, {childList: true});\n",
       "}}\n",
       "\n",
       "                        })\n",
       "                };\n",
       "                });\n",
       "            </script>\n",
       "        </div>"
      ]
     },
     "metadata": {},
     "output_type": "display_data"
    }
   ],
   "source": [
    "fig = px.treemap(da_daily_region,\n",
    "                 path=['region'],\n",
    "                 values= da_daily_region['total positive'],\n",
    "                 title='Regions with Active Cases in Italy: status {}'.format(ieri),\n",
    "                 hover_data=['total positive', 'total currently positive', 'recovered','fatalities'],\n",
    "                 color_discrete_sequence=px.colors.qualitative.Prism)\n",
    "fig.show()"
   ]
  },
  {
   "cell_type": "markdown",
   "metadata": {},
   "source": [
    "Lombardia is the region with the bigest share of cases of those currently active. \n",
    "<br>As the outbreak hit Lombardia first, the number of fatalities and recovered cases are higher, explaining the lower number of currently cases in comparison to the total of cases. \n",
    "<br>In the other regions, the outbreak started more recently, therefore the actual positive and total positive in those regions are very close to each other."
   ]
  },
  {
   "cell_type": "code",
   "execution_count": 529,
   "metadata": {},
   "outputs": [],
   "source": [
    "top_italy = da_daily_region.sort_values(by=\"total currently positive\", ascending=False)[\"region\"].head(4)"
   ]
  },
  {
   "cell_type": "code",
   "execution_count": 530,
   "metadata": {},
   "outputs": [],
   "source": [
    "lomb_active_time = da_region[da_region[\"region\"]==\"Lombardia\"][[\"date\",\"total currently positive\",\"fatalities\",\"recovered\"]]"
   ]
  },
  {
   "cell_type": "code",
   "execution_count": 531,
   "metadata": {},
   "outputs": [
    {
     "data": {
      "text/plain": [
       "<function matplotlib.pyplot.show(*args, **kw)>"
      ]
     },
     "execution_count": 531,
     "metadata": {},
     "output_type": "execute_result"
    },
    {
     "data": {
      "image/png": "[encoded data removed]",
      "text/plain": [
       "<Figure size 1152x576 with 1 Axes>"
      ]
     },
     "metadata": {
      "needs_background": "light"
     },
     "output_type": "display_data"
    }
   ],
   "source": [
    "plt.figure(figsize=(16,8))\n",
    "plt.title(\"Active numbers in Lombardia\", size=\"x-large\")\n",
    "rng = lomb_active_time[\"date\"]\n",
    "rng = [datetime.datetime.strptime(x,'%Y-%m-%d %H:%M:%S').strftime(\"%b %d\") for x in rng]\n",
    "lomb_active_time[\"date\"] = rng\n",
    "sns.lineplot(x=lomb_active_time[\"date\"], y=lomb_active_time[\"total currently positive\"], \n",
    "             label = \"Total active\", marker = \"o\")\n",
    "sns.lineplot(x=lomb_active_time[\"date\"], y=lomb_active_time[\"fatalities\"], \n",
    "             label = \"Fatalities\", marker = \"o\")\n",
    "sns.lineplot(x=lomb_active_time[\"date\"], y=lomb_active_time[\"recovered\"], \n",
    "             label = \"Recovered\", marker = \"o\")\n",
    "plt.xticks(\n",
    "    rotation=45, \n",
    "    horizontalalignment='right',\n",
    "    fontweight='light'  \n",
    ")\n",
    "plt.axvline(x=\"Mar 09\", ls=\"-.\", c=\"red\", label = \"Countrywide lockdown date\")\n",
    "plt.legend(fontsize=\"medium\")\n",
    "plt.show"
   ]
  },
  {
   "cell_type": "code",
   "execution_count": null,
   "metadata": {},
   "outputs": [],
   "source": []
  }
 ],
 "metadata": {
  "kernelspec": {
   "display_name": "Python 3",
   "language": "python",
   "name": "python3"
  },
  "language_info": {
   "codemirror_mode": {
    "name": "ipython",
    "version": 3
   },
   "file_extension": ".py",
   "mimetype": "text/x-python",
   "name": "python",
   "nbconvert_exporter": "python",
   "pygments_lexer": "ipython3",
   "version": "3.6.4"
  }
 },
 "nbformat": 4,
 "nbformat_minor": 4
}
